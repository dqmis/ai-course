{
 "cells": [
  {
   "cell_type": "code",
   "execution_count": 9,
   "metadata": {},
   "outputs": [],
   "source": [
    "import pandas as pd\n",
    "import glob\n",
    "import json"
   ]
  },
  {
   "cell_type": "code",
   "execution_count": 27,
   "metadata": {},
   "outputs": [],
   "source": [
    "def parse_info(filename):\n",
    "    with open(filename, \"r\") as f:\n",
    "        data = json.load(f)\n",
    "        title = data['cells'][0]['source'][0].split(\"# \")[-1].strip()\n",
    "        date = filename.split(\"/\")[-1].split(\".\")[0]\n",
    "        return {\n",
    "            \"title\": title, \"date\": date\n",
    "        }"
   ]
  },
  {
   "cell_type": "code",
   "execution_count": 37,
   "metadata": {},
   "outputs": [],
   "source": [
    "for topic in [\"1_intro_to_python\", \"2_numpy\", \"3_machine_learning\", \"4_deep_learning\"]:\n",
    "    info = []\n",
    "\n",
    "    for file in glob.glob(f\"./topics/{topic}/*.ipynb\"):\n",
    "        info.append(parse_info(file))\n",
    "    \n",
    "    pd.DataFrame(info).sort_values(by=[\"date\"]).to_csv(f\"./topics/{topic}/info.csv\", index=False)"
   ]
  }
 ],
 "metadata": {
  "kernelspec": {
   "display_name": ".venv",
   "language": "python",
   "name": "python3"
  },
  "language_info": {
   "codemirror_mode": {
    "name": "ipython",
    "version": 3
   },
   "file_extension": ".py",
   "mimetype": "text/x-python",
   "name": "python",
   "nbconvert_exporter": "python",
   "pygments_lexer": "ipython3",
   "version": "3.9.13"
  },
  "orig_nbformat": 4
 },
 "nbformat": 4,
 "nbformat_minor": 2
}
