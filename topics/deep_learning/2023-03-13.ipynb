{
 "cells": [
  {
   "cell_type": "code",
   "execution_count": 1,
   "metadata": {},
   "outputs": [
    {
     "name": "stderr",
     "output_type": "stream",
     "text": [
      "/Users/dqmis/github/code_academy_ai_course/.venv/lib/python3.9/site-packages/tqdm/auto.py:22: TqdmWarning: IProgress not found. Please update jupyter and ipywidgets. See https://ipywidgets.readthedocs.io/en/stable/user_install.html\n",
      "  from .autonotebook import tqdm as notebook_tqdm\n"
     ]
    }
   ],
   "source": [
    "import torch\n",
    "import torch.nn.functional as F\n",
    "import matplotlib.pyplot as plt  # for making figures\n",
    "import requests\n",
    "from sklearn.model_selection import train_test_split\n",
    "from abc import ABC, abstractmethod\n",
    "\n",
    "from typing import List, Tuple, Dict\n",
    "\n",
    "%matplotlib inline"
   ]
  },
  {
   "cell_type": "code",
   "execution_count": 3,
   "metadata": {},
   "outputs": [
    {
     "data": {
      "text/plain": [
       "<torch._C.Generator at 0x11094b450>"
      ]
     },
     "execution_count": 3,
     "metadata": {},
     "output_type": "execute_result"
    }
   ],
   "source": [
    "torch.manual_seed(\"42\")"
   ]
  },
  {
   "cell_type": "code",
   "execution_count": 10,
   "metadata": {},
   "outputs": [
    {
     "data": {
      "text/plain": [
       "['emma', 'olivia', 'ava', 'isabella', 'sophia', 'charlotte', 'mia', 'amelia']"
      ]
     },
     "execution_count": 10,
     "metadata": {},
     "output_type": "execute_result"
    }
   ],
   "source": [
    "# read in all the words\n",
    "words = requests.get(\n",
    "    \"https://raw.githubusercontent.com/karpathy/makemore/master/names.txt\"\n",
    ").text.splitlines()\n",
    "words[:8]"
   ]
  },
  {
   "cell_type": "code",
   "execution_count": 22,
   "metadata": {},
   "outputs": [],
   "source": [
    "def build_dataset(\n",
    "    words: List[str], stoi: Dict[str, int], block_size: int = 3\n",
    ") -> Tuple[torch.Tensor, torch.Tensor]:\n",
    "    X, Y = [], []\n",
    "\n",
    "    for w in words:\n",
    "        context = [0] * block_size\n",
    "        for ch in w + \".\":\n",
    "            ix = stoi[ch]\n",
    "            X.append(context)\n",
    "            Y.append(ix)\n",
    "            context = context[1:] + [ix]\n",
    "\n",
    "    X = torch.tensor(X)\n",
    "    Y = torch.tensor(Y)\n",
    "    print(X.shape, Y.shape)\n",
    "    return X, Y"
   ]
  },
  {
   "cell_type": "code",
   "execution_count": 11,
   "metadata": {},
   "outputs": [
    {
     "name": "stdout",
     "output_type": "stream",
     "text": [
      "{1: 'a', 2: 'b', 3: 'c', 4: 'd', 5: 'e', 6: 'f', 7: 'g', 8: 'h', 9: 'i', 10: 'j', 11: 'k', 12: 'l', 13: 'm', 14: 'n', 15: 'o', 16: 'p', 17: 'q', 18: 'r', 19: 's', 20: 't', 21: 'u', 22: 'v', 23: 'w', 24: 'x', 25: 'y', 26: 'z', 0: '.'}\n",
      "27\n"
     ]
    }
   ],
   "source": [
    "# build the vocabulary of characters and mappings to/from integers\n",
    "chars = sorted(list(set(\"\".join(words))))\n",
    "stoi = {s: i + 1 for i, s in enumerate(chars)}\n",
    "stoi[\".\"] = 0\n",
    "itos = {i: s for s, i in stoi.items()}\n",
    "vocab_size = len(itos)\n",
    "print(itos)\n",
    "print(vocab_size)"
   ]
  },
  {
   "cell_type": "code",
   "execution_count": 25,
   "metadata": {},
   "outputs": [
    {
     "name": "stdout",
     "output_type": "stream",
     "text": [
      "torch.Size([182497, 3]) torch.Size([182497])\n",
      "torch.Size([22882, 3]) torch.Size([22882])\n",
      "torch.Size([22767, 3]) torch.Size([22767])\n"
     ]
    }
   ],
   "source": [
    "block_size = 3\n",
    "\n",
    "words_train, words_test = train_test_split(words, test_size=0.2, random_state=42)\n",
    "words_val, words_test = train_test_split(words_test, test_size=0.5, random_state=42)\n",
    "\n",
    "Xtr, Ytr = build_dataset(words_train, stoi=stoi, block_size=block_size)\n",
    "Xval, Yval = build_dataset(words_val, stoi=stoi, block_size=block_size)\n",
    "Xtest, Ytest = build_dataset(words_test, stoi=stoi, block_size=block_size)"
   ]
  },
  {
   "cell_type": "code",
   "execution_count": 26,
   "metadata": {},
   "outputs": [
    {
     "name": "stdout",
     "output_type": "stream",
     "text": [
      "... --> i\n",
      "..i --> n\n",
      ".in --> d\n",
      "ind --> i\n",
      "ndi --> a\n",
      "dia --> h\n",
      "iah --> .\n",
      "... --> m\n",
      "..m --> e\n",
      ".me --> l\n",
      "mel --> a\n",
      "ela --> .\n",
      "... --> k\n",
      "..k --> y\n",
      ".ky --> l\n",
      "kyl --> e\n",
      "yle --> .\n",
      "... --> e\n",
      "..e --> r\n",
      ".er --> i\n"
     ]
    }
   ],
   "source": [
    "for x, y in zip(Xtr[:20], Ytr[:20]):\n",
    "    print(\"\".join(itos[ix.item()] for ix in x), \"-->\", itos[y.item()])"
   ]
  },
  {
   "cell_type": "code",
   "execution_count": 5,
   "metadata": {},
   "outputs": [],
   "source": [
    "# --- BASE ---\n",
    "class Module(ABC):\n",
    "    @abstractmethod\n",
    "    def forward(x: torch.Tensor) -> torch.Tensor:\n",
    "        raise NotImplementedError  \n",
    "    \n",
    "    def __call__(self, x: torch.Tensor) -> torch.Tensor:\n",
    "        return self.forward(x)\n",
    "\n",
    "    @property\n",
    "    def out(self) -> torch.Tensor:\n",
    "        return self._out\n",
    "\n",
    "    @property\n",
    "    def parameters(self) -> List[torch.Tensor]:\n",
    "        return []\n",
    "\n",
    "# --- LINEAR LAYER ---\n",
    "\n",
    "class Linear(Module):\n",
    "    def __init__(self, fan_in: int, fan_out: int, bias: bool = True) -> None:\n",
    "        self._weight = torch.randn(fan_in, fan_out) / fan_in**0.5\n",
    "        self._bias = torch.zeros(fan_out) if bias else None\n",
    "\n",
    "    @property\n",
    "    def weight(self) -> torch.Tensor:\n",
    "        return self._weight\n",
    "\n",
    "    @weight.setter\n",
    "    def weight(self, x: torch.Tensor) -> None:\n",
    "        self._weight = x\n",
    "    \n",
    "    @property\n",
    "    def bias(self) -> torch.Tensor:\n",
    "        return self._bias\n",
    "\n",
    "    def forward(self, x: torch.Tensor) -> torch.Tensor:\n",
    "        # hprebn = embcat @ W1 + b1 # hidden layer pre-activation\n",
    "        self._out = x @ self._weight\n",
    "        if self._bias is not None:\n",
    "            self._out += self.bias\n",
    "        return self._out\n",
    "\n",
    "    @property\n",
    "    def parameters(self) -> List[torch.Tensor]:\n",
    "        return [self.weight] + ([self.bias] if self.bias is not None else [])\n",
    "\n",
    "\n",
    "# --- ACTIVATION ---\n",
    "\n",
    "class Tanh(Module):\n",
    "    def forward(self, x: torch.Tensor) -> torch.Tensor:\n",
    "        self._out = torch.tanh(x)\n",
    "        return self._out\n",
    "\n",
    "# --- BATCH NORM ---\n",
    "\n",
    "\n",
    "class BatchNorm1d(Module):\n",
    "    def __init__(self, fan_in: int, eps: float = 1e-5, momentum: float = 1e-1) -> None:\n",
    "        self._eps = eps\n",
    "        self._momentum = momentum\n",
    "        self._training = True\n",
    "        # parameters\n",
    "        self._gamma = torch.ones(fan_in)\n",
    "        self._beta = torch.zeros(fan_in)\n",
    "        # buffers\n",
    "        self._running_mean = torch.zeros(fan_in)\n",
    "        self._running_var = torch.ones(fan_in)\n",
    "    \n",
    "    @property\n",
    "    def training(self) -> bool:\n",
    "        return self._training\n",
    "\n",
    "    @training.setter\n",
    "    def training(self, value: bool) -> None:\n",
    "        self._training = value\n",
    "\n",
    "    \n",
    "    def forward(self, x: torch.Tensor) -> torch.Tensor:\n",
    "        if self._training:\n",
    "            if x.dim == 2:\n",
    "                dim = 0\n",
    "            elif x.dim == 3:\n",
    "                dim = (0, 1)\n",
    "            xmean = x.mean(dim=dim, keepdim=True)\n",
    "            xvar = x.var(dim=dim, keepdim=True)\n",
    "        else:\n",
    "            xmean = self._running_mean\n",
    "            xvar = self._running_var\n",
    "\n",
    "        xhat = (x - xmean) / torch.sqrt(xvar + self._eps)\n",
    "        self._out = self._gamma * xhat + self._beta\n",
    "\n",
    "        # updating buffers \n",
    "        if self._training:\n",
    "            self._running_mean = self._momentum * xmean + (1 - self._momentum) * self._running_mean\n",
    "            self._running_var = self._momentum * xvar + (1 - self._momentum) * self._running_var\n",
    "\n",
    "        return self._out\n",
    "\n",
    "    @property\n",
    "    def parameters(self) -> List[torch.Tensor]:\n",
    "        return [self._gamma, self._beta]\n",
    "\n",
    "# --- EMBEDDING ---\n",
    "\n",
    "class Embedding(Module):\n",
    "    def __init__(self, vocab_size: int, embedding_size: int) -> None:\n",
    "        self._embedding = torch.randn(vocab_size, embedding_size)\n",
    "\n",
    "    def forward(self, x: torch.Tensor) -> torch.Tensor:\n",
    "        self._out = self._embedding[x]\n",
    "        return self._out\n",
    "\n",
    "    @property\n",
    "    def parameters(self) -> List[torch.Tensor]:\n",
    "        return [self._embedding]\n",
    "    \n",
    "# --- FLATTEN ---\n",
    "class Flatten(Module):\n",
    "    def forward(self, x: torch.Tensor) -> torch.Tensor:\n",
    "        self._out = x.view(x.shape[0], -1)\n",
    "        return self._out\n",
    "    \n",
    "class FlattenConsecutive(Module):\n",
    "    def __init__(self, n: int = 1) -> None:\n",
    "        self._n = n\n",
    "\n",
    "    def forward(self, x: torch.Tensor) -> torch.Tensor:\n",
    "        B, T, C = x.shape\n",
    "        x = x.view(B, T // self._n, C * self._n)\n",
    "        if x.shape[1] == 1:\n",
    "            x = x.squeeze(1)\n",
    "\n",
    "        self._out = x\n",
    "        return self._out\n",
    "\n",
    "\n",
    "# --- SEQUENTIAL ---\n",
    "class Sequential(Module):\n",
    "    def __init__(self, *layers: Module) -> None:\n",
    "        self._layers = list(layers)\n",
    "\n",
    "    def forward(self, x: torch.Tensor) -> torch.Tensor:\n",
    "        for layer in self._layers:\n",
    "            x = layer(x)\n",
    "        self._out = x\n",
    "        return x\n",
    "\n",
    "    @property\n",
    "    def layers(self) -> List[Module]:\n",
    "        return self._layers\n",
    "\n",
    "    @property\n",
    "    def parameters(self) -> List[torch.Tensor]:\n",
    "        return [p for layer in self._layers for p in layer.parameters]"
   ]
  },
  {
   "cell_type": "code",
   "execution_count": 6,
   "metadata": {},
   "outputs": [],
   "source": [
    "n_embd = 10\n",
    "n_hidden = 68\n",
    "\n",
    "super_block = Sequential(\n",
    "  FlattenConsecutive(2),\n",
    "  Linear(n_hidden, n_hidden, bias=False),\n",
    "  BatchNorm1d(n_hidden),\n",
    "  Tanh(),\n",
    ")"
   ]
  },
  {
   "cell_type": "code",
   "execution_count": 14,
   "metadata": {},
   "outputs": [
    {
     "name": "stdout",
     "output_type": "stream",
     "text": [
      "68\n"
     ]
    }
   ],
   "source": [
    "print(sum(p.nelement() for p in super_block.parameters[2])) "
   ]
  },
  {
   "cell_type": "code",
   "execution_count": 233,
   "metadata": {},
   "outputs": [
    {
     "name": "stdout",
     "output_type": "stream",
     "text": [
      "22397\n"
     ]
    }
   ],
   "source": [
    "\n",
    "\n",
    "model = Sequential(\n",
    "    Embedding(vocab_size, n_embd),\n",
    "    FlattenConsecutive(2), Linear(n_embd * 2, n_hidden, bias=False), BatchNorm1d(n_hidden), Tanh(),\n",
    "    FlattenConsecutive(2), Linear(n_hidden * 2, n_hidden, bias=False), BatchNorm1d(n_hidden), Tanh(),\n",
    "    FlattenConsecutive(2), Linear(n_hidden * 2, n_hidden, bias=False), BatchNorm1d(n_hidden), Tanh(),\n",
    "    Linear(n_hidden, vocab_size)\n",
    ")\n",
    "\n",
    "with torch.no_grad():\n",
    "    model.layers[-1].weight *= 0.1\n",
    "\n",
    "parameters = model.parameters\n",
    "print(sum(p.nelement() for p in parameters)) # number of parameters in total\n",
    "for p in parameters:\n",
    "  p.requires_grad = True"
   ]
  },
  {
   "cell_type": "code",
   "execution_count": 234,
   "metadata": {},
   "outputs": [
    {
     "name": "stdout",
     "output_type": "stream",
     "text": [
      "      0/ 200000 loss: 3.282\n",
      "  10000/ 200000 loss: 2.171\n",
      "  20000/ 200000 loss: 1.905\n",
      "  30000/ 200000 loss: 2.135\n",
      "  40000/ 200000 loss: 2.289\n",
      "  50000/ 200000 loss: 1.923\n",
      "  60000/ 200000 loss: 2.021\n",
      "  70000/ 200000 loss: 2.193\n",
      "  80000/ 200000 loss: 1.985\n",
      "  90000/ 200000 loss: 2.079\n",
      " 100000/ 200000 loss: 2.271\n",
      " 110000/ 200000 loss: 2.483\n",
      " 120000/ 200000 loss: 2.050\n",
      " 130000/ 200000 loss: 1.918\n",
      " 140000/ 200000 loss: 2.085\n",
      " 150000/ 200000 loss: 1.990\n",
      " 160000/ 200000 loss: 1.632\n",
      " 170000/ 200000 loss: 1.820\n",
      " 180000/ 200000 loss: 2.048\n",
      " 190000/ 200000 loss: 1.917\n"
     ]
    }
   ],
   "source": [
    "max_steps = 200000\n",
    "batch_size = 32\n",
    "lossi = []\n",
    "\n",
    "for i in range(max_steps):\n",
    "    ix = torch.randint(0, Xtr.shape[0], (batch_size,))\n",
    "    Xb, Yb = Xtr[ix], Ytr[ix]\n",
    "\n",
    "    logits = model(Xb)\n",
    "    loss = F.cross_entropy(logits, Yb)\n",
    "\n",
    "    for p in parameters:\n",
    "        p.grad = None\n",
    "    loss.backward()\n",
    "\n",
    "    lr = 1e-1 if i < 150000 else 1e-2\n",
    "    for p in parameters:\n",
    "        p.data -= lr * p.grad\n",
    "\n",
    "    if i % 10000 == 0:\n",
    "        print(f\"{i:7d}/{max_steps:7d} loss: {loss.item():.3f}\")\n",
    "\n",
    "    lossi.append(loss.item())"
   ]
  },
  {
   "cell_type": "code",
   "execution_count": 235,
   "metadata": {},
   "outputs": [
    {
     "data": {
      "text/plain": [
       "[<matplotlib.lines.Line2D at 0x35d29f610>]"
      ]
     },
     "execution_count": 235,
     "metadata": {},
     "output_type": "execute_result"
    },
    {
     "data": {
      "image/png": "[encoded data removed]",
      "text/plain": [
       "<Figure size 640x480 with 1 Axes>"
      ]
     },
     "metadata": {},
     "output_type": "display_data"
    }
   ],
   "source": [
    "smoothing_gain = 1000\n",
    "plt.plot(torch.tensor(lossi).view(-1, smoothing_gain).mean(dim=1))"
   ]
  },
  {
   "cell_type": "code",
   "execution_count": 236,
   "metadata": {},
   "outputs": [],
   "source": [
    "for layer in model.layers:\n",
    "    layer.training = False"
   ]
  },
  {
   "cell_type": "code",
   "execution_count": 237,
   "metadata": {},
   "outputs": [
    {
     "name": "stdout",
     "output_type": "stream",
     "text": [
      "train 1.9454091787338257\n",
      "valid 2.020329236984253\n",
      "test 2.0401713848114014\n"
     ]
    }
   ],
   "source": [
    "@torch.no_grad()\n",
    "def split_loss(split):\n",
    "    x, y = {\n",
    "        'train': (Xtr, Ytr),\n",
    "        'valid': (Xval, Yval),\n",
    "        'test': (Xtest, Ytest),\n",
    "    }[split]\n",
    "    logits = model(x)\n",
    "    loss = F.cross_entropy(logits, y)\n",
    "    print(split, loss.item())\n",
    "\n",
    "split_loss('train')\n",
    "split_loss('valid')\n",
    "split_loss('test')"
   ]
  },
  {
   "cell_type": "code",
   "execution_count": 238,
   "metadata": {},
   "outputs": [
    {
     "name": "stdout",
     "output_type": "stream",
     "text": [
      "valiah.\n",
      "jariah.\n",
      "lendill.\n",
      "diak.\n",
      "brayan.\n",
      "viily.\n",
      "janettri.\n",
      "kienna.\n",
      "mestoniel.\n",
      "maiirah.\n",
      "ashawa.\n",
      "khani.\n",
      "steven.\n",
      "marvik.\n",
      "sharce.\n",
      "jladeson.\n",
      "nahiri.\n",
      "ashlins.\n",
      "graleigh.\n",
      "anushaun.\n"
     ]
    }
   ],
   "source": [
    "for _ in range(20):\n",
    "    \n",
    "    out = []\n",
    "    context = [0] * block_size\n",
    "    while True:\n",
    "      logits = model(torch.tensor(context).view(1, -1))\n",
    "      probs = F.softmax(logits, dim=1)\n",
    "      ix = torch.multinomial(probs, num_samples=1).item()\n",
    "      context = context[1:] + [ix]\n",
    "      out.append(ix)\n",
    "      if ix == 0:\n",
    "        break\n",
    "    \n",
    "    print(''.join(itos[i] for i in out))"
   ]
  },
  {
   "cell_type": "code",
   "execution_count": 157,
   "metadata": {},
   "outputs": [
    {
     "name": "stdout",
     "output_type": "stream",
     "text": [
      "torch.Size([182497, 8]) torch.Size([182497])\n",
      "torch.Size([22882, 8]) torch.Size([22882])\n",
      "torch.Size([22767, 8]) torch.Size([22767])\n"
     ]
    }
   ],
   "source": [
    "block_size = 8\n",
    "\n",
    "words_train, words_test = train_test_split(words, test_size=0.2, random_state=42)\n",
    "words_val, words_test = train_test_split(words_test, test_size=0.5, random_state=42)\n",
    "\n",
    "Xtr, Ytr = build_dataset(words_train, stoi=stoi, block_size=block_size)\n",
    "Xval, Yval = build_dataset(words_val, stoi=stoi, block_size=block_size)\n",
    "Xtest, Ytest = build_dataset(words_test, stoi=stoi, block_size=block_size)"
   ]
  },
  {
   "cell_type": "code",
   "execution_count": 158,
   "metadata": {},
   "outputs": [
    {
     "name": "stdout",
     "output_type": "stream",
     "text": [
      "22097\n"
     ]
    }
   ],
   "source": [
    "n_embd = 10\n",
    "n_hidden = 200 \n",
    "\n",
    "model = Sequential([\n",
    "    Embedding(vocab_size, n_embd),\n",
    "    Flatten(),\n",
    "    Linear(n_embd * block_size, n_hidden, bias=False),\n",
    "    BatchNorm1d(n_hidden),\n",
    "    Tanh(),\n",
    "    Linear(n_hidden, vocab_size),\n",
    "])\n",
    "\n",
    "parameters = model.parameters\n",
    "print(sum(p.nelement() for p in parameters)) # number of parameters in total\n",
    "for p in parameters:\n",
    "  p.requires_grad = True"
   ]
  },
  {
   "cell_type": "code",
   "execution_count": 159,
   "metadata": {},
   "outputs": [
    {
     "name": "stdout",
     "output_type": "stream",
     "text": [
      "torch.Size([4, 8])\n"
     ]
    },
    {
     "data": {
      "text/plain": [
       "tensor([[ 0,  0,  0,  0,  0,  0,  0,  0],\n",
       "        [ 0,  0,  0,  0,  0, 18,  5, 25],\n",
       "        [ 0,  0,  0, 12,  5, 14, 14,  1],\n",
       "        [ 0,  0, 16, 18,  5, 19,  3, 15]])"
      ]
     },
     "execution_count": 159,
     "metadata": {},
     "output_type": "execute_result"
    }
   ],
   "source": [
    "ix = torch.randint(0, Xtr.shape[0], (4,))\n",
    "Xb, Yb = Xtr[ix], Ytr[ix]\n",
    "logits = model(Xb)\n",
    "print(Xb.shape)\n",
    "Xb"
   ]
  },
  {
   "cell_type": "code",
   "execution_count": 161,
   "metadata": {},
   "outputs": [
    {
     "data": {
      "text/plain": [
       "torch.Size([4, 27])"
      ]
     },
     "execution_count": 161,
     "metadata": {},
     "output_type": "execute_result"
    }
   ],
   "source": [
    "logits.shape"
   ]
  },
  {
   "cell_type": "code",
   "execution_count": 162,
   "metadata": {},
   "outputs": [
    {
     "data": {
      "text/plain": [
       "torch.Size([4, 8, 10])"
      ]
     },
     "execution_count": 162,
     "metadata": {},
     "output_type": "execute_result"
    }
   ],
   "source": [
    "model.layers[0].out.shape"
   ]
  },
  {
   "cell_type": "code",
   "execution_count": 163,
   "metadata": {},
   "outputs": [
    {
     "data": {
      "text/plain": [
       "torch.Size([4, 80])"
      ]
     },
     "execution_count": 163,
     "metadata": {},
     "output_type": "execute_result"
    }
   ],
   "source": [
    "model.layers[1].out.shape"
   ]
  },
  {
   "cell_type": "code",
   "execution_count": 164,
   "metadata": {},
   "outputs": [
    {
     "data": {
      "text/plain": [
       "torch.Size([4, 200])"
      ]
     },
     "execution_count": 164,
     "metadata": {},
     "output_type": "execute_result"
    }
   ],
   "source": [
    "model.layers[2].out.shape"
   ]
  },
  {
   "cell_type": "code",
   "execution_count": 166,
   "metadata": {},
   "outputs": [
    {
     "data": {
      "text/plain": [
       "[1, 3, 5, 7, 9]"
      ]
     },
     "execution_count": 166,
     "metadata": {},
     "output_type": "execute_result"
    }
   ],
   "source": [
    "list(range(10))[1::2]"
   ]
  },
  {
   "cell_type": "code",
   "execution_count": 167,
   "metadata": {},
   "outputs": [
    {
     "data": {
      "text/plain": [
       "[0, 2, 4, 6, 8]"
      ]
     },
     "execution_count": 167,
     "metadata": {},
     "output_type": "execute_result"
    }
   ],
   "source": [
    "list(range(10))[0::2]"
   ]
  },
  {
   "cell_type": "code",
   "execution_count": 172,
   "metadata": {},
   "outputs": [],
   "source": [
    "e = torch.randn(4, 8, 10)"
   ]
  },
  {
   "cell_type": "code",
   "execution_count": 182,
   "metadata": {},
   "outputs": [
    {
     "data": {
      "text/plain": [
       "torch.Size([4, 4, 20])"
      ]
     },
     "execution_count": 182,
     "metadata": {},
     "output_type": "execute_result"
    }
   ],
   "source": [
    "explicit = torch.cat([e[:, ::2, :], e[:, 1::2, :]], dim=2)\n",
    "explicit.shape"
   ]
  },
  {
   "cell_type": "code",
   "execution_count": 185,
   "metadata": {},
   "outputs": [
    {
     "data": {
      "text/plain": [
       "tensor(True)"
      ]
     },
     "execution_count": 185,
     "metadata": {},
     "output_type": "execute_result"
    }
   ],
   "source": [
    "(e.view(4, 4, 20) == explicit).all()"
   ]
  }
 ],
 "metadata": {
  "kernelspec": {
   "display_name": ".venv",
   "language": "python",
   "name": "python3"
  },
  "language_info": {
   "codemirror_mode": {
    "name": "ipython",
    "version": 3
   },
   "file_extension": ".py",
   "mimetype": "text/x-python",
   "name": "python",
   "nbconvert_exporter": "python",
   "pygments_lexer": "ipython3",
   "version": "3.9.13"
  },
  "orig_nbformat": 4
 },
 "nbformat": 4,
 "nbformat_minor": 2
}
