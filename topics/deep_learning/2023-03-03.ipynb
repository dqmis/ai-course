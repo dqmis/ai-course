{
 "cells": [
  {
   "cell_type": "code",
   "execution_count": 203,
   "metadata": {},
   "outputs": [],
   "source": [
    "from sklearn import datasets\n",
    "from sklearn.preprocessing import StandardScaler\n",
    "\n",
    "from sklearn.utils import shuffle\n",
    "\n",
    "import torch\n",
    "\n",
    "from typing import Tuple, List\n",
    "\n",
    "import matplotlib.pyplot as plt\n",
    "\n",
    "from sklearn.metrics import classification_report, accuracy_score\n",
    "\n",
    "from torch.utils.data import Dataset, DataLoader\n",
    "\n",
    "from sklearn.linear_model import LogisticRegression\n",
    "\n",
    "import pytorch_lightning as pl\n",
    "\n",
    "from time import time\n",
    "\n",
    "from pytorch_lightning.loggers import WandbLogger"
   ]
  },
  {
   "attachments": {},
   "cell_type": "markdown",
   "metadata": {},
   "source": [
    "# Writing stuff with bare torch"
   ]
  },
  {
   "cell_type": "code",
   "execution_count": 2,
   "metadata": {},
   "outputs": [],
   "source": [
    "# loading and shuffling the data\n",
    "iris_dataset = datasets.load_iris()\n",
    "x, y = iris_dataset.data, iris_dataset.target\n",
    "x, y = shuffle(x, y, random_state=42)"
   ]
  },
  {
   "cell_type": "code",
   "execution_count": 3,
   "metadata": {},
   "outputs": [],
   "source": [
    "# scaling the data\n",
    "sc = StandardScaler()\n",
    "x = sc.fit_transform(x)"
   ]
  },
  {
   "cell_type": "code",
   "execution_count": 23,
   "metadata": {},
   "outputs": [
    {
     "name": "stderr",
     "output_type": "stream",
     "text": [
      "/var/folders/3t/wmv3mchd6w99pw9syrlwn5kh0000gq/T/ipykernel_65594/2759068454.py:2: UserWarning: To copy construct from a tensor, it is recommended to use sourceTensor.clone().detach() or sourceTensor.clone().detach().requires_grad_(True), rather than torch.tensor(sourceTensor).\n",
      "  x = torch.tensor(x, dtype=torch.float32)\n",
      "/var/folders/3t/wmv3mchd6w99pw9syrlwn5kh0000gq/T/ipykernel_65594/2759068454.py:3: UserWarning: To copy construct from a tensor, it is recommended to use sourceTensor.clone().detach() or sourceTensor.clone().detach().requires_grad_(True), rather than torch.tensor(sourceTensor).\n",
      "  y = torch.tensor(y, dtype=torch.int64)\n"
     ]
    },
    {
     "data": {
      "text/plain": [
       "(torch.Size([150, 4]), torch.Size([150]))"
      ]
     },
     "execution_count": 23,
     "metadata": {},
     "output_type": "execute_result"
    }
   ],
   "source": [
    "# converting the data to tensors\n",
    "x = torch.tensor(x, dtype=torch.float32)\n",
    "y = torch.tensor(y, dtype=torch.int64)\n",
    "\n",
    "x.shape, y.shape"
   ]
  },
  {
   "cell_type": "code",
   "execution_count": 58,
   "metadata": {},
   "outputs": [],
   "source": [
    "# constructing the model\n",
    "\n",
    "N_CLASSES = 4\n",
    "N_FEATURES = 4\n",
    "\n",
    "g = torch.Generator().manual_seed(42) \n",
    "\n",
    "## Model parameters\n",
    "W = torch.randn(N_FEATURES, N_CLASSES, requires_grad=True, generator=g)\n",
    "b = torch.randn(N_CLASSES, requires_grad=True, generator=g)\n",
    "\n",
    "params = [W, b]"
   ]
  },
  {
   "cell_type": "code",
   "execution_count": 64,
   "metadata": {},
   "outputs": [
    {
     "name": "stdout",
     "output_type": "stream",
     "text": [
      "Epoch 0: 0.1313977837562561\n",
      "Epoch 100: 0.1298086792230606\n",
      "Epoch 200: 0.12833267450332642\n",
      "Epoch 300: 0.12695850431919098\n",
      "Epoch 400: 0.1256764531135559\n",
      "Epoch 500: 0.12447767704725266\n",
      "Epoch 600: 0.12335468083620071\n",
      "Epoch 700: 0.12230078876018524\n",
      "Epoch 800: 0.12130998820066452\n",
      "Epoch 900: 0.12037653475999832\n"
     ]
    }
   ],
   "source": [
    "lossi: List[float] = []\n",
    "\n",
    "def split_data_into_batches(x: torch.Tensor, y: torch.Tensor, batch_size: int = 32) -> Tuple[torch.Tensor, torch.Tensor]:\n",
    "    x, y = shuffle(x, y, random_state=42)\n",
    "    x_batches = torch.split(x, batch_size)\n",
    "    y_batches = torch.split(y, batch_size)\n",
    "    return (x_batches, y_batches)\n",
    "\n",
    "# constructing the training loop\n",
    "EPOCHS_COUNT = 1000\n",
    "LEARNING_RATE = 0.01\n",
    "BATCH_SIZE = 32\n",
    "\n",
    "for i in range(EPOCHS_COUNT):\n",
    "    # constructing the batches\n",
    "    for x_batch, y_batch in zip(*split_data_into_batches(x, y)):\n",
    "        logits = x_batch @ W + b\n",
    "\n",
    "        for p in params:\n",
    "            p.grad = None\n",
    "        \n",
    "        loss = torch.nn.functional.cross_entropy(logits, y_batch)\n",
    "\n",
    "        loss.backward()\n",
    "\n",
    "\n",
    "\n",
    "        for p in params:\n",
    "            p.data -= LEARNING_RATE * p.grad\n",
    "    lossi.append(loss.item())\n",
    "    if i % 100 == 0:\n",
    "        print(f\"Epoch {i}: {loss}\")"
   ]
  },
  {
   "cell_type": "code",
   "execution_count": 65,
   "metadata": {},
   "outputs": [
    {
     "data": {
      "text/plain": [
       "Text(0, 0.5, 'Loss')"
      ]
     },
     "execution_count": 65,
     "metadata": {},
     "output_type": "execute_result"
    },
    {
     "data": {
      "image/png": "[encoded data removed]",
      "text/plain": [
       "<Figure size 640x480 with 1 Axes>"
      ]
     },
     "metadata": {},
     "output_type": "display_data"
    }
   ],
   "source": [
    "plt.plot(lossi)\n",
    "plt.title(\"Training loss\")\n",
    "plt.xlabel(\"Step\")\n",
    "plt.ylabel(\"Loss\")"
   ]
  },
  {
   "cell_type": "code",
   "execution_count": 78,
   "metadata": {},
   "outputs": [],
   "source": [
    "# getting the predictions\n",
    "\n",
    "logits = x @ W + b\n",
    "probs = torch.nn.functional.softmax(logits, dim=1)\n",
    "y_pred = torch.argmax(probs, dim=1)"
   ]
  },
  {
   "cell_type": "code",
   "execution_count": 79,
   "metadata": {},
   "outputs": [
    {
     "name": "stdout",
     "output_type": "stream",
     "text": [
      "              precision    recall  f1-score   support\n",
      "\n",
      "           0       1.00      1.00      1.00        50\n",
      "           1       0.96      0.94      0.95        50\n",
      "           2       0.94      0.96      0.95        50\n",
      "\n",
      "    accuracy                           0.97       150\n",
      "   macro avg       0.97      0.97      0.97       150\n",
      "weighted avg       0.97      0.97      0.97       150\n",
      "\n",
      "0.9666666666666667\n"
     ]
    }
   ],
   "source": [
    "# checking the accuracy\n",
    "print(classification_report(y, y_pred))\n",
    "print(accuracy_score(y, y_pred))"
   ]
  },
  {
   "cell_type": "code",
   "execution_count": 80,
   "metadata": {},
   "outputs": [
    {
     "name": "stdout",
     "output_type": "stream",
     "text": [
      "              precision    recall  f1-score   support\n",
      "\n",
      "           0       1.00      1.00      1.00        50\n",
      "           1       0.98      0.94      0.96        50\n",
      "           2       0.94      0.98      0.96        50\n",
      "\n",
      "    accuracy                           0.97       150\n",
      "   macro avg       0.97      0.97      0.97       150\n",
      "weighted avg       0.97      0.97      0.97       150\n",
      "\n",
      "0.9733333333333334\n"
     ]
    }
   ],
   "source": [
    "# checking the logistic regression\n",
    "\n",
    "logreg = LogisticRegression()\n",
    "logreg.fit(x, y)\n",
    "y_pred = logreg.predict(x)\n",
    "print(classification_report(y, y_pred))\n",
    "print(accuracy_score(y, y_pred))\n"
   ]
  },
  {
   "attachments": {},
   "cell_type": "markdown",
   "metadata": {},
   "source": [
    "## Implementing binary classification"
   ]
  },
  {
   "cell_type": "code",
   "execution_count": 138,
   "metadata": {},
   "outputs": [],
   "source": [
    "# loading and shuffling the data\n",
    "iris_dataset = datasets.load_iris()\n",
    "x, y = iris_dataset.data, iris_dataset.target\n",
    "x = x[:100]\n",
    "y = y[:100]\n",
    "x, y = shuffle(x, y, random_state=42)"
   ]
  },
  {
   "cell_type": "code",
   "execution_count": 139,
   "metadata": {},
   "outputs": [],
   "source": [
    "# scaling the data\n",
    "sc = StandardScaler()\n",
    "x = sc.fit_transform(x)"
   ]
  },
  {
   "cell_type": "code",
   "execution_count": 140,
   "metadata": {},
   "outputs": [
    {
     "data": {
      "text/plain": [
       "(torch.Size([100, 4]), torch.Size([100]))"
      ]
     },
     "execution_count": 140,
     "metadata": {},
     "output_type": "execute_result"
    }
   ],
   "source": [
    "# converting the data to tensors\n",
    "x = torch.tensor(x, dtype=torch.float32)\n",
    "y = torch.tensor(y, dtype=torch.float32)\n",
    "\n",
    "x.shape, y.shape"
   ]
  },
  {
   "cell_type": "code",
   "execution_count": 141,
   "metadata": {},
   "outputs": [],
   "source": [
    "# constructing the model\n",
    "\n",
    "N_CLASSES = 1\n",
    "N_FEATURES = 4\n",
    "\n",
    "g = torch.Generator().manual_seed(42) \n",
    "\n",
    "## Model parameters\n",
    "W = torch.randn(N_FEATURES, N_CLASSES, requires_grad=True, generator=g)\n",
    "b = torch.randn(N_CLASSES, requires_grad=True, generator=g)\n",
    "\n",
    "params = [W, b]"
   ]
  },
  {
   "cell_type": "code",
   "execution_count": 144,
   "metadata": {},
   "outputs": [
    {
     "name": "stderr",
     "output_type": "stream",
     "text": [
      "/Users/dqmis/github/code_academy_ai_course/.venv/lib/python3.9/site-packages/torch/nn/functional.py:1967: UserWarning: nn.functional.sigmoid is deprecated. Use torch.sigmoid instead.\n",
      "  warnings.warn(\"nn.functional.sigmoid is deprecated. Use torch.sigmoid instead.\")\n"
     ]
    },
    {
     "name": "stdout",
     "output_type": "stream",
     "text": [
      "Epoch 0: 0.4973945915699005\n",
      "Epoch 100: 0.08856496959924698\n",
      "Epoch 200: 0.04850699380040169\n",
      "Epoch 300: 0.0347980372607708\n",
      "Epoch 400: 0.027835438027977943\n",
      "Epoch 500: 0.023549729958176613\n",
      "Epoch 600: 0.02059999294579029\n",
      "Epoch 700: 0.018418805673718452\n",
      "Epoch 800: 0.016724668443202972\n",
      "Epoch 900: 0.015361283905804157\n"
     ]
    }
   ],
   "source": [
    "lossi: List[float] = []\n",
    "\n",
    "def split_data_into_batches(x: torch.Tensor, y: torch.Tensor, batch_size: int = 32) -> Tuple[torch.Tensor, torch.Tensor]:\n",
    "    x, y = shuffle(x, y, random_state=42)\n",
    "    x_batches = torch.split(x, batch_size)\n",
    "    y_batches = torch.split(y, batch_size)\n",
    "    return (x_batches, y_batches)\n",
    "\n",
    "# constructing the training loop\n",
    "EPOCHS_COUNT = 1000\n",
    "LEARNING_RATE = 0.01\n",
    "BATCH_SIZE = 16\n",
    "\n",
    "for i in range(EPOCHS_COUNT):\n",
    "    # constructing the batches\n",
    "    for x_batch, y_batch in zip(*split_data_into_batches(x, y)):\n",
    "        logits = x_batch @ W + b\n",
    "        probs = torch.nn.functional.sigmoid(logits)\n",
    "\n",
    "        for p in params:\n",
    "            p.grad = None\n",
    "        loss = torch.nn.functional.binary_cross_entropy(probs.view(-1), y_batch)\n",
    "\n",
    "        loss.backward()\n",
    "\n",
    "\n",
    "        for p in params:\n",
    "            p.data -= LEARNING_RATE * p.grad\n",
    "    lossi.append(loss.item())\n",
    "    if i % 100 == 0:\n",
    "        print(f\"Epoch {i}: {loss}\")"
   ]
  },
  {
   "cell_type": "code",
   "execution_count": 145,
   "metadata": {},
   "outputs": [
    {
     "data": {
      "text/plain": [
       "Text(0, 0.5, 'Loss')"
      ]
     },
     "execution_count": 145,
     "metadata": {},
     "output_type": "execute_result"
    },
    {
     "data": {
      "image/png": "[encoded data removed]",
      "text/plain": [
       "<Figure size 640x480 with 1 Axes>"
      ]
     },
     "metadata": {},
     "output_type": "display_data"
    }
   ],
   "source": [
    "plt.plot(lossi)\n",
    "plt.title(\"Training loss\")\n",
    "plt.xlabel(\"Step\")\n",
    "plt.ylabel(\"Loss\")"
   ]
  },
  {
   "cell_type": "code",
   "execution_count": 146,
   "metadata": {},
   "outputs": [],
   "source": [
    "# getting the predictions\n",
    "\n",
    "logits = x @ W + b\n",
    "probs = torch.nn.functional.sigmoid(logits)\n",
    "y_pred =(probs > 0.5).int().view(-1).tolist()"
   ]
  },
  {
   "cell_type": "code",
   "execution_count": 147,
   "metadata": {},
   "outputs": [
    {
     "name": "stdout",
     "output_type": "stream",
     "text": [
      "              precision    recall  f1-score   support\n",
      "\n",
      "         0.0       1.00      1.00      1.00        50\n",
      "         1.0       1.00      1.00      1.00        50\n",
      "\n",
      "    accuracy                           1.00       100\n",
      "   macro avg       1.00      1.00      1.00       100\n",
      "weighted avg       1.00      1.00      1.00       100\n",
      "\n",
      "1.0\n"
     ]
    }
   ],
   "source": [
    "# checking the accuracy\n",
    "print(classification_report(y, y_pred))\n",
    "print(accuracy_score(y, y_pred))"
   ]
  },
  {
   "cell_type": "code",
   "execution_count": 148,
   "metadata": {},
   "outputs": [
    {
     "name": "stdout",
     "output_type": "stream",
     "text": [
      "              precision    recall  f1-score   support\n",
      "\n",
      "         0.0       1.00      1.00      1.00        50\n",
      "         1.0       1.00      1.00      1.00        50\n",
      "\n",
      "    accuracy                           1.00       100\n",
      "   macro avg       1.00      1.00      1.00       100\n",
      "weighted avg       1.00      1.00      1.00       100\n",
      "\n",
      "1.0\n"
     ]
    }
   ],
   "source": [
    "# checking the logistic regression\n",
    "\n",
    "logreg = LogisticRegression()\n",
    "logreg.fit(x, y)\n",
    "y_pred = logreg.predict(x)\n",
    "print(classification_report(y, y_pred))\n",
    "print(accuracy_score(y, y_pred))\n"
   ]
  },
  {
   "attachments": {},
   "cell_type": "markdown",
   "metadata": {},
   "source": [
    "# Writing same stuff with torch.Module"
   ]
  },
  {
   "cell_type": "code",
   "execution_count": 156,
   "metadata": {},
   "outputs": [],
   "source": [
    "# definig the iris dataset\n",
    "\n",
    "class IrisDataset(Dataset):\n",
    "    def __init__(self):\n",
    "        iris_data = datasets.load_iris()\n",
    "        self.x = iris_data.data\n",
    "        self.y = iris_data.target\n",
    "\n",
    "        self._scaler = StandardScaler()\n",
    "        self._scaler.fit(self.x)\n",
    "\n",
    "    def __len__(self):\n",
    "        return len(self.x)\n",
    "\n",
    "    def __getitem__(self, idx):\n",
    "        x_scaled = self._scaler.transform(self.x[idx].reshape(1, -1))[0]\n",
    "        return x_scaled, self.y[idx]"
   ]
  },
  {
   "cell_type": "code",
   "execution_count": 169,
   "metadata": {},
   "outputs": [],
   "source": [
    "LEARNING_RATE = 0.01\n",
    "BATCH_SIZE = 32\n",
    "\n",
    "## Model parameters\n",
    "l1 = torch.nn.Linear(4, 4, dtype=torch.float64)\n",
    "optimizer = torch.optim.SGD(l1.parameters(), lr=0.01, momentum=0.9)"
   ]
  },
  {
   "cell_type": "code",
   "execution_count": 170,
   "metadata": {},
   "outputs": [],
   "source": [
    "dataset = IrisDataset()\n",
    "\n",
    "dataloader = DataLoader(dataset, batch_size=BATCH_SIZE, shuffle=True)"
   ]
  },
  {
   "cell_type": "code",
   "execution_count": 171,
   "metadata": {},
   "outputs": [
    {
     "name": "stdout",
     "output_type": "stream",
     "text": [
      "Epoch 0: 1.1681102995430268\n",
      "Epoch 100: 0.18478613936761432\n",
      "Epoch 200: 0.15108114006982418\n",
      "Epoch 300: 0.12051445495266706\n",
      "Epoch 400: 0.10178242188881806\n",
      "Epoch 500: 0.06162039707941394\n",
      "Epoch 600: 0.08114879209873836\n",
      "Epoch 700: 0.10771376643983373\n",
      "Epoch 800: 0.0627352267123836\n",
      "Epoch 900: 0.03846148208439135\n"
     ]
    }
   ],
   "source": [
    "lossi: List[float] = []\n",
    "\n",
    "# constructing the training loop\n",
    "EPOCHS_COUNT = 1000\n",
    "\n",
    "for i in range(EPOCHS_COUNT):\n",
    "    # constructing the batches\n",
    "    for x_batch, y_batch in dataloader:\n",
    "        logits = l1(x_batch)\n",
    "\n",
    "        loss = torch.nn.functional.cross_entropy(logits, y_batch)\n",
    "\n",
    "        optimizer.zero_grad()\n",
    "        loss.backward()\n",
    "        optimizer.step()\n",
    "        \n",
    "    lossi.append(loss.item())\n",
    "    if i % 100 == 0:\n",
    "        print(f\"Epoch {i}: {loss}\")"
   ]
  },
  {
   "cell_type": "code",
   "execution_count": 172,
   "metadata": {},
   "outputs": [
    {
     "data": {
      "text/plain": [
       "Text(0, 0.5, 'Loss')"
      ]
     },
     "execution_count": 172,
     "metadata": {},
     "output_type": "execute_result"
    },
    {
     "data": {
      "image/png": "[encoded data removed]",
      "text/plain": [
       "<Figure size 640x480 with 1 Axes>"
      ]
     },
     "metadata": {},
     "output_type": "display_data"
    }
   ],
   "source": [
    "plt.plot(lossi)\n",
    "plt.title(\"Training loss\")\n",
    "plt.xlabel(\"Step\")\n",
    "plt.ylabel(\"Loss\")"
   ]
  },
  {
   "cell_type": "code",
   "execution_count": 181,
   "metadata": {},
   "outputs": [],
   "source": [
    "# getting the predictions\n",
    "\n",
    "y_pred = []\n",
    "y_true = []\n",
    "\n",
    "for x_batch, y_batch in dataloader:\n",
    "    logits = l1(x_batch)\n",
    "    probs = torch.nn.functional.softmax(logits, dim=1)\n",
    "    y_pred.extend(torch.argmax(probs, dim=1).tolist())\n",
    "    y_true.extend(y_batch.tolist())"
   ]
  },
  {
   "cell_type": "code",
   "execution_count": 182,
   "metadata": {},
   "outputs": [
    {
     "name": "stdout",
     "output_type": "stream",
     "text": [
      "              precision    recall  f1-score   support\n",
      "\n",
      "           0       1.00      1.00      1.00        50\n",
      "           1       0.98      0.94      0.96        50\n",
      "           2       0.94      0.98      0.96        50\n",
      "\n",
      "    accuracy                           0.97       150\n",
      "   macro avg       0.97      0.97      0.97       150\n",
      "weighted avg       0.97      0.97      0.97       150\n",
      "\n",
      "0.9733333333333334\n"
     ]
    }
   ],
   "source": [
    "# checking the accuracy\n",
    "print(classification_report(y_true, y_pred))\n",
    "print(accuracy_score(y_true, y_pred))"
   ]
  },
  {
   "attachments": {},
   "cell_type": "markdown",
   "metadata": {},
   "source": [
    "# Rewriting all with Pytorch Lightning"
   ]
  },
  {
   "cell_type": "code",
   "execution_count": 206,
   "metadata": {},
   "outputs": [],
   "source": [
    "# defining the model\n",
    "\n",
    "class IrisModel(pl.LightningModule):\n",
    "    def __init__(self):\n",
    "        super().__init__()\n",
    "        self.l1 = torch.nn.Linear(4, 4, dtype=torch.float64)\n",
    "\n",
    "    def forward(self, x):\n",
    "        x = self.l1(x)\n",
    "        return x\n",
    "\n",
    "    def configure_optimizers(self):\n",
    "        return torch.optim.SGD(self.parameters(), lr=0.01, momentum=0.9)\n",
    "    \n",
    "    def training_step(self, batch, batch_idx):\n",
    "        x, y = batch\n",
    "        logits = self(x)\n",
    "        loss = torch.nn.functional.cross_entropy(logits, y)\n",
    "        self.log(\"train_loss\", loss)\n",
    "        return loss\n",
    "\n",
    "    def validation_step(self, batch, batch_idx):\n",
    "        x, y = batch\n",
    "        logits = self(x)\n",
    "        loss = torch.nn.functional.cross_entropy(logits, y)"
   ]
  },
  {
   "cell_type": "code",
   "execution_count": 199,
   "metadata": {},
   "outputs": [],
   "source": [
    "LEARNING_RATE = 0.01\n",
    "BATCH_SIZE = 32"
   ]
  },
  {
   "cell_type": "code",
   "execution_count": 207,
   "metadata": {},
   "outputs": [],
   "source": [
    "dataset = IrisDataset()\n",
    "dataloader = DataLoader(dataset, batch_size=BATCH_SIZE, shuffle=True)"
   ]
  },
  {
   "cell_type": "code",
   "execution_count": 208,
   "metadata": {},
   "outputs": [
    {
     "name": "stderr",
     "output_type": "stream",
     "text": [
      "/Users/dqmis/github/code_academy_ai_course/.venv/lib/python3.9/site-packages/pytorch_lightning/loggers/wandb.py:395: UserWarning: There is a wandb run already in progress and newly created instances of `WandbLogger` will reuse this run. If this is not desired, call `wandb.finish()` before instantiating `WandbLogger`.\n",
      "  rank_zero_warn(\n"
     ]
    }
   ],
   "source": [
    "wandb_logger = WandbLogger(project=\"codeacademy2\", name=f\"iris_model_{int(time())}\", log_model=True)"
   ]
  },
  {
   "cell_type": "code",
   "execution_count": 209,
   "metadata": {},
   "outputs": [
    {
     "name": "stderr",
     "output_type": "stream",
     "text": [
      "GPU available: True (mps), used: False\n",
      "TPU available: False, using: 0 TPU cores\n",
      "IPU available: False, using: 0 IPUs\n",
      "HPU available: False, using: 0 HPUs\n",
      "/Users/dqmis/github/code_academy_ai_course/.venv/lib/python3.9/site-packages/pytorch_lightning/trainer/setup.py:201: UserWarning: MPS available but not used. Set `accelerator` and `devices` using `Trainer(accelerator='mps', devices=1)`.\n",
      "  rank_zero_warn(\n"
     ]
    }
   ],
   "source": [
    "# constructing the training loop\n",
    "\n",
    "model = IrisModel()\n",
    "trainer = pl.Trainer(max_epochs=1000, logger=wandb_logger)"
   ]
  },
  {
   "cell_type": "code",
   "execution_count": 210,
   "metadata": {},
   "outputs": [
    {
     "name": "stderr",
     "output_type": "stream",
     "text": [
      "/Users/dqmis/github/code_academy_ai_course/.venv/lib/python3.9/site-packages/pytorch_lightning/trainer/configuration_validator.py:108: PossibleUserWarning: You defined a `validation_step` but have no `val_dataloader`. Skipping val loop.\n",
      "  rank_zero_warn(\n",
      "\n",
      "  | Name | Type   | Params\n",
      "--------------------------------\n",
      "0 | l1   | Linear | 20    \n",
      "--------------------------------\n",
      "20        Trainable params\n",
      "0         Non-trainable params\n",
      "20        Total params\n",
      "0.000     Total estimated model params size (MB)\n",
      "/Users/dqmis/github/code_academy_ai_course/.venv/lib/python3.9/site-packages/pytorch_lightning/trainer/connectors/data_connector.py:224: PossibleUserWarning: The dataloader, train_dataloader, does not have many workers which may be a bottleneck. Consider increasing the value of the `num_workers` argument` (try 10 which is the number of cpus on this machine) in the `DataLoader` init to improve performance.\n",
      "  rank_zero_warn(\n",
      "/Users/dqmis/github/code_academy_ai_course/.venv/lib/python3.9/site-packages/pytorch_lightning/trainer/trainer.py:1609: PossibleUserWarning: The number of training batches (5) is smaller than the logging interval Trainer(log_every_n_steps=50). Set a lower value for log_every_n_steps if you want to see logs for the training epoch.\n",
      "  rank_zero_warn(\n"
     ]
    },
    {
     "name": "stdout",
     "output_type": "stream",
     "text": [
      "Epoch 999: 100%|██████████| 5/5 [00:00<00:00, 232.52it/s, loss=0.0648, v_num=2crd]"
     ]
    },
    {
     "name": "stderr",
     "output_type": "stream",
     "text": [
      "`Trainer.fit` stopped: `max_epochs=1000` reached.\n"
     ]
    },
    {
     "name": "stdout",
     "output_type": "stream",
     "text": [
      "Epoch 999: 100%|██████████| 5/5 [00:00<00:00, 196.57it/s, loss=0.0648, v_num=2crd]\n"
     ]
    }
   ],
   "source": [
    "trainer.fit(model, train_dataloaders=dataloader)"
   ]
  },
  {
   "cell_type": "code",
   "execution_count": 211,
   "metadata": {},
   "outputs": [],
   "source": [
    "# getting the predictions\n",
    "\n",
    "y_pred = []\n",
    "y_true = []\n",
    "\n",
    "for x_batch, y_batch in dataloader:\n",
    "    logits = model.forward(x_batch)\n",
    "    probs = torch.nn.functional.softmax(logits, dim=1)\n",
    "    y_pred.extend(torch.argmax(probs, dim=1).tolist())\n",
    "    y_true.extend(y_batch.tolist())"
   ]
  },
  {
   "cell_type": "code",
   "execution_count": 212,
   "metadata": {},
   "outputs": [
    {
     "name": "stdout",
     "output_type": "stream",
     "text": [
      "              precision    recall  f1-score   support\n",
      "\n",
      "           0       1.00      1.00      1.00        50\n",
      "           1       0.98      0.96      0.97        50\n",
      "           2       0.96      0.98      0.97        50\n",
      "\n",
      "    accuracy                           0.98       150\n",
      "   macro avg       0.98      0.98      0.98       150\n",
      "weighted avg       0.98      0.98      0.98       150\n",
      "\n",
      "0.98\n"
     ]
    }
   ],
   "source": [
    "# checking the accuracy\n",
    "print(classification_report(y_true, y_pred))\n",
    "print(accuracy_score(y_true, y_pred))"
   ]
  }
 ],
 "metadata": {
  "kernelspec": {
   "display_name": ".venv",
   "language": "python",
   "name": "python3"
  },
  "language_info": {
   "codemirror_mode": {
    "name": "ipython",
    "version": 3
   },
   "file_extension": ".py",
   "mimetype": "text/x-python",
   "name": "python",
   "nbconvert_exporter": "python",
   "pygments_lexer": "ipython3",
   "version": "3.9.13"
  },
  "orig_nbformat": 4,
  "vscode": {
   "interpreter": {
    "hash": "de17c4b867480f2f8bc5d2be08a00cb2e02a1ee18bda207b764c3905e0b438fb"
   }
  }
 },
 "nbformat": 4,
 "nbformat_minor": 2
}
