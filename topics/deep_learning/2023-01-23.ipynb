{
 "cells": [
  {
   "attachments": {},
   "cell_type": "markdown",
   "metadata": {},
   "source": [
    "# 2023-01-23\n",
    "## Building Micrograd\n",
    "https://github.com/karpathy/micrograd"
   ]
  },
  {
   "cell_type": "code",
   "execution_count": 203,
   "metadata": {},
   "outputs": [],
   "source": [
    "from __future__ import annotations\n",
    "import math\n",
    "from typing import Callable, Union, Optional, Tuple, List, Set\n",
    "\n",
    "import graphviz\n",
    "import matplotlib.pyplot as plt\n",
    "import numpy as np"
   ]
  },
  {
   "cell_type": "code",
   "execution_count": 79,
   "metadata": {},
   "outputs": [],
   "source": [
    "from graphviz import Digraph\n",
    "\n",
    "\n",
    "def trace(root):\n",
    "    # builds a set of all nodes and edges in a graph\n",
    "    nodes, edges = set(), set()\n",
    "\n",
    "    def build(v):\n",
    "        if v not in nodes:\n",
    "            nodes.add(v)\n",
    "            for child in v._prev:\n",
    "                edges.add((child, v))\n",
    "                build(child)\n",
    "\n",
    "    build(root)\n",
    "    return nodes, edges\n",
    "\n",
    "\n",
    "def draw_dot(root):\n",
    "    dot = Digraph(format=\"svg\", graph_attr={\"rankdir\": \"LR\"})  # LR = left to right\n",
    "\n",
    "    nodes, edges = trace(root)\n",
    "    for n in nodes:\n",
    "        uid = str(id(n))\n",
    "        # for any value in the graph, create a rectangular ('record') node for it\n",
    "        dot.node(\n",
    "            name=uid,\n",
    "            label=\"{ %s | data %.4f | grad %.4f}\" % (n.label, n.data, n.grad),\n",
    "            shape=\"record\",\n",
    "        )\n",
    "        if n._op:\n",
    "            # if this value is a result of some operation, create an op node for it\n",
    "            dot.node(name=uid + n._op, label=n._op)\n",
    "            # and connect this node to it\n",
    "            dot.edge(uid + n._op, uid)\n",
    "\n",
    "    for n1, n2 in edges:\n",
    "        # connect n1 to the op node of n2\n",
    "        dot.edge(str(id(n1)), str(id(n2)) + n2._op)\n",
    "\n",
    "    return dot"
   ]
  },
  {
   "cell_type": "code",
   "execution_count": 80,
   "metadata": {},
   "outputs": [],
   "source": [
    "def f(x: float) -> float:\n",
    "    return 3 * x**2 - 4 * x + 5"
   ]
  },
  {
   "cell_type": "code",
   "execution_count": 81,
   "metadata": {},
   "outputs": [
    {
     "data": {
      "text/plain": [
       "20.0"
      ]
     },
     "execution_count": 81,
     "metadata": {},
     "output_type": "execute_result"
    }
   ],
   "source": [
    "f(3.0)"
   ]
  },
  {
   "cell_type": "code",
   "execution_count": 82,
   "metadata": {},
   "outputs": [
    {
     "data": {
      "text/plain": [
       "[<matplotlib.lines.Line2D at 0x7f4435cc64c0>]"
      ]
     },
     "execution_count": 82,
     "metadata": {},
     "output_type": "execute_result"
    },
    {
     "data": {
      "image/png": "[encoded data removed]",
      "text/plain": [
       "<Figure size 432x288 with 1 Axes>"
      ]
     },
     "metadata": {
      "needs_background": "light"
     },
     "output_type": "display_data"
    }
   ],
   "source": [
    "xs = np.arange(-5, 5, 0.25)\n",
    "ys = f(xs)\n",
    "plt.plot(xs, ys)"
   ]
  },
  {
   "attachments": {},
   "cell_type": "markdown",
   "metadata": {},
   "source": [
    "$L = lim_{h \\to 0} = \\frac{f(x+h) - f(x)}{h}$"
   ]
  },
  {
   "cell_type": "code",
   "execution_count": 83,
   "metadata": {},
   "outputs": [
    {
     "name": "stdout",
     "output_type": "stream",
     "text": [
      "f(x) 20.0\n",
      "f(x + h) 20.0000000014\n",
      "change 1.4000001158365194e-09\n",
      "Size of slope 14.000001158365194\n"
     ]
    }
   ],
   "source": [
    "x = 3.0\n",
    "h = 1e-10 # 0.001\n",
    "print(\"f(x)\", f(x)) \n",
    "print(\"f(x + h)\", f(x + h))\n",
    "print(\"change\", f(x + h) - f(x))\n",
    "print(\"Size of slope\", (f(x + h) - f(x)) / h)"
   ]
  },
  {
   "cell_type": "code",
   "execution_count": 84,
   "metadata": {},
   "outputs": [
    {
     "name": "stdout",
     "output_type": "stream",
     "text": [
      "f(x) 12\n",
      "f(x + h) 11.999999999\n",
      "change -1.000000082740371e-09\n",
      "Size of slope -10.00000082740371\n"
     ]
    }
   ],
   "source": [
    "x = -1\n",
    "h = 1e-10 # 0.001\n",
    "print(\"f(x)\", f(x)) \n",
    "print(\"f(x + h)\", f(x + h))\n",
    "print(\"change\", f(x + h) - f(x))\n",
    "print(\"Size of slope\", (f(x + h) - f(x)) / h)"
   ]
  },
  {
   "cell_type": "code",
   "execution_count": 85,
   "metadata": {},
   "outputs": [
    {
     "name": "stdout",
     "output_type": "stream",
     "text": [
      "f(x) 44\n",
      "f(x + h) 43.9999999978\n",
      "change -2.1999966293151374e-09\n",
      "Size of slope -21.999966293151374\n"
     ]
    }
   ],
   "source": [
    "x = -3\n",
    "h = 1e-10 # 0.001\n",
    "print(\"f(x)\", f(x)) \n",
    "print(\"f(x + h)\", f(x + h))\n",
    "print(\"change\", f(x + h) - f(x))\n",
    "print(\"Size of slope\", (f(x + h) - f(x)) / h)"
   ]
  },
  {
   "cell_type": "code",
   "execution_count": 86,
   "metadata": {},
   "outputs": [
    {
     "name": "stdout",
     "output_type": "stream",
     "text": [
      "4.0\n"
     ]
    }
   ],
   "source": [
    "a = 2.0\n",
    "b = -3.0\n",
    "c = 10.0\n",
    "\n",
    "d = a * b + c\n",
    "\n",
    "print(d)"
   ]
  },
  {
   "cell_type": "code",
   "execution_count": 87,
   "metadata": {},
   "outputs": [
    {
     "name": "stdout",
     "output_type": "stream",
     "text": [
      "4.0 3.9999999969999998\n",
      "-3.000000248221113\n"
     ]
    }
   ],
   "source": [
    "h = 1e-9\n",
    "\n",
    "a = 2.0\n",
    "b = -3.0\n",
    "c = 10.0\n",
    "\n",
    "d1 = a * b + c\n",
    "a += h\n",
    "d2 = a * b + c\n",
    "\n",
    "print(d1, d2)\n",
    "print((d2 - d1) / h)"
   ]
  },
  {
   "cell_type": "code",
   "execution_count": 88,
   "metadata": {},
   "outputs": [
    {
     "name": "stdout",
     "output_type": "stream",
     "text": [
      "4.0 4.000000002\n",
      "2.000000165480742\n"
     ]
    }
   ],
   "source": [
    "h = 1e-9\n",
    "\n",
    "a = 2.0\n",
    "b = -3.0\n",
    "c = 10.0\n",
    "\n",
    "d1 = a * b + c\n",
    "b += h\n",
    "d2 = a * b + c\n",
    "\n",
    "print(d1, d2)\n",
    "print((d2 - d1) / h)"
   ]
  },
  {
   "cell_type": "code",
   "execution_count": 89,
   "metadata": {},
   "outputs": [
    {
     "name": "stdout",
     "output_type": "stream",
     "text": [
      "4.0 4.000000001\n",
      "1.000000082740371\n"
     ]
    }
   ],
   "source": [
    "h = 1e-9\n",
    "\n",
    "a = 2.0\n",
    "b = -3.0\n",
    "c = 10.0\n",
    "\n",
    "d1 = a * b + c\n",
    "c += h\n",
    "d2 = a * b + c\n",
    "\n",
    "print(d1, d2)\n",
    "print((d2 - d1) / h)"
   ]
  },
  {
   "attachments": {},
   "cell_type": "markdown",
   "metadata": {},
   "source": [
    "```\n",
    "f(a) = a * -3 + 10\n",
    "f'(a) = -3\n",
    "\n",
    "((a+h)* b + c - (a*b +c)) / h = (ab + bh + c - ab - c) / h = bh / h = b\n",
    "```"
   ]
  },
  {
   "cell_type": "code",
   "execution_count": 204,
   "metadata": {},
   "outputs": [],
   "source": [
    "class Value:\n",
    "    def __init__(\n",
    "        self,\n",
    "        data: float,\n",
    "        _children: Optional[Tuple[Value]] = None,\n",
    "        _op: Optional[str] = None,\n",
    "        _label: Optional[str] = None\n",
    "    ) -> None:\n",
    "        self._data = data\n",
    "        self._prev = set(_children) if _children else set(())\n",
    "        self._op = _op if _op else \"\"\n",
    "        self._backward = lambda: None\n",
    "        self._label = _label if _label else \"\"\n",
    "\n",
    "        self._grad = 0.0\n",
    "\n",
    "    @property\n",
    "    def grad(self) -> float:\n",
    "        return self._grad\n",
    "    \n",
    "    @grad.setter\n",
    "    def grad(self, grad: float) -> None:\n",
    "        self._grad = grad\n",
    "    \n",
    "    @property\n",
    "    def label(self) -> str:\n",
    "        return self._label\n",
    "    \n",
    "    @label.setter\n",
    "    def label(self, label: str) -> None:\n",
    "        self._label = label\n",
    "\n",
    "    @property\n",
    "    def data(self) -> float:\n",
    "        return self._data\n",
    "    \n",
    "    @data.setter\n",
    "    def data(self, data: float) -> None:\n",
    "        self._data = data\n",
    "\n",
    "    # ---- PARSING DECORATOR ----\n",
    "\n",
    "    def _parse_to_value(func: Callable) -> Callable:\n",
    "        def wrapper(self, value: Union[float, Value]) -> Value:\n",
    "            parsed_value = value if isinstance(value, Value) else Value(value)\n",
    "            return func(self, parsed_value)\n",
    "        return wrapper\n",
    "    \n",
    "    # ---- MAGIC METHODS ----\n",
    "\n",
    "    def __repr__(self) -> str:\n",
    "        return f\"Value(data={self._data},label='{self._label}')\"\n",
    "\n",
    "    # ---- MATH FNS ----\n",
    "    @_parse_to_value \n",
    "    def __add__(self, other: Value) -> Value:\n",
    "        out = Value(self._data + other.data, (self, other), \"+\")\n",
    "        def _backward() -> None:\n",
    "            self._grad = 1.0 * out.grad\n",
    "            other._grad = 1.0 * out.grad\n",
    "\n",
    "        out._backward = _backward\n",
    "        return out\n",
    "\n",
    "    @_parse_to_value\n",
    "    def __mul__(self, other: Value) -> Value:\n",
    "        other = other if isinstance(other, Value) else Value(other)\n",
    "        out = Value(self._data * other.data, (self, other), \"*\")\n",
    "        def _backward() -> None:\n",
    "            self._grad = other.data * out.grad\n",
    "            other._grad = self._data * out.grad\n",
    "\n",
    "        out._backward = _backward\n",
    "\n",
    "        return out\n",
    "\n",
    "\n",
    "    def __radd__(self, other: Value) -> Value:\n",
    "        return self + other\n",
    "\n",
    "    def __rmul__(self, other: Value) -> Value:\n",
    "        return self * other\n",
    "\n",
    "    def __sub__(self, other: Value) -> Value:\n",
    "        return self + (-other)\n",
    "\n",
    "    def __neg__(self) -> Value:\n",
    "        return self * -1\n",
    "\n",
    "    # ---- ADDITIONAL OPS ----\n",
    "    def tanh(self) -> Value:\n",
    "        x = self._data\n",
    "        t = (math.exp(2 * x) - 1) / (math.exp(2 * x) + 1)\n",
    "        out = Value(t, (self, ), \"tanh\")\n",
    "        def _backward() -> None:\n",
    "            self._grad = (1 - t**2) * out.grad\n",
    "\n",
    "        out._backward = _backward\n",
    "\n",
    "        return out\n",
    "\n",
    "    # ---- BACKWARDS COMP ----\n",
    "    def backward(self):\n",
    "        topo: List[Value] = []\n",
    "        visited: Set[Value] = set()\n",
    "\n",
    "        def build_topo(v):\n",
    "            if v not in visited:\n",
    "                visited.add(v)\n",
    "                for child in v._prev:\n",
    "                    build_topo(child)\n",
    "                topo.append(v)\n",
    "\n",
    "        build_topo(self)\n",
    "\n",
    "        self._grad = 1.0\n",
    "        \n",
    "        for node in reversed(topo):\n",
    "            node._backward()"
   ]
  },
  {
   "cell_type": "code",
   "execution_count": 174,
   "metadata": {},
   "outputs": [
    {
     "data": {
      "text/plain": [
       "Value(data=12.0,label='')"
      ]
     },
     "execution_count": 174,
     "metadata": {},
     "output_type": "execute_result"
    }
   ],
   "source": [
    "Value(10.0) + Value(2.0)"
   ]
  },
  {
   "cell_type": "code",
   "execution_count": 175,
   "metadata": {},
   "outputs": [
    {
     "data": {
      "text/plain": [
       "Value(data=20.0,label='')"
      ]
     },
     "execution_count": 175,
     "metadata": {},
     "output_type": "execute_result"
    }
   ],
   "source": [
    "Value(10.0) * Value(2.0)"
   ]
  },
  {
   "cell_type": "code",
   "execution_count": 176,
   "metadata": {},
   "outputs": [
    {
     "data": {
      "text/plain": [
       "Value(data=20.0,label='')"
      ]
     },
     "execution_count": 176,
     "metadata": {},
     "output_type": "execute_result"
    }
   ],
   "source": [
    "Value(10.0) * 2.0"
   ]
  },
  {
   "cell_type": "code",
   "execution_count": 177,
   "metadata": {},
   "outputs": [
    {
     "data": {
      "text/plain": [
       "Value(data=8.0,label='')"
      ]
     },
     "execution_count": 177,
     "metadata": {},
     "output_type": "execute_result"
    }
   ],
   "source": [
    "Value(10.0) - Value(2.0)"
   ]
  },
  {
   "cell_type": "code",
   "execution_count": 178,
   "metadata": {},
   "outputs": [
    {
     "data": {
      "text/plain": [
       "Value(data=10.0,label='')"
      ]
     },
     "execution_count": 178,
     "metadata": {},
     "output_type": "execute_result"
    }
   ],
   "source": [
    "5 * Value(2.0)"
   ]
  },
  {
   "cell_type": "code",
   "execution_count": 179,
   "metadata": {},
   "outputs": [
    {
     "name": "stdout",
     "output_type": "stream",
     "text": [
      "{Value(data=3.0,label=''), Value(data=2.0,label='')} +  =  Value(data=5.0,label='')\n"
     ]
    }
   ],
   "source": [
    "res = Value(2.0) + Value(3.0)\n",
    "print(res._prev, res._op, \" = \", res)"
   ]
  },
  {
   "cell_type": "code",
   "execution_count": 180,
   "metadata": {},
   "outputs": [
    {
     "name": "stdout",
     "output_type": "stream",
     "text": [
      "Value(data=4.0,label='d')\n"
     ]
    },
    {
     "data": {
      "image/svg+xml": "<?xml version=\"1.0\" encoding=\"UTF-8\" standalone=\"no\"?>\n<!DOCTYPE svg PUBLIC \"-//W3C//DTD SVG 1.1//EN\"\n \"http://www.w3.org/Graphics/SVG/1.1/DTD/svg11.dtd\">\n<!-- Generated by graphviz version 2.30.1 (20201013.1554)\n -->\n<!-- Title: %3 Pages: 1 -->\n<svg width=\"828pt\" height=\"128pt\"\n viewBox=\"0.00 0.00 828.00 128.00\" xmlns=\"http://www.w3.org/2000/svg\" xmlns:xlink=\"http://www.w3.org/1999/xlink\">\n<g id=\"graph0\" class=\"graph\" transform=\"scale(1 1) rotate(0) translate(4 124)\">\n<title>%3</title>\n<polygon fill=\"white\" stroke=\"white\" points=\"-4,5 -4,-124 825,-124 825,5 -4,5\"/>\n<!-- 139930925356560 -->\n<g id=\"node1\" class=\"node\"><title>139930925356560</title>\n<polygon fill=\"none\" stroke=\"black\" points=\"0,-84 0,-120 190,-120 190,-84 0,-84\"/>\n<text text-anchor=\"middle\" x=\"11.5\" y=\"-98.3\" font-family=\"Times,serif\" font-size=\"14.00\">b</text>\n<polyline fill=\"none\" stroke=\"black\" points=\"23,-84 23,-120 \"/>\n<text text-anchor=\"middle\" x=\"65.5\" y=\"-98.3\" font-family=\"Times,serif\" font-size=\"14.00\">data &#45;3.0000</text>\n<polyline fill=\"none\" stroke=\"black\" points=\"108,-84 108,-120 \"/>\n<text text-anchor=\"middle\" x=\"149\" y=\"-98.3\" font-family=\"Times,serif\" font-size=\"14.00\">grad 0.0000</text>\n</g>\n<!-- 139930925358000* -->\n<g id=\"node7\" class=\"node\"><title>139930925358000*</title>\n<ellipse fill=\"none\" stroke=\"black\" cx=\"253\" cy=\"-74\" rx=\"27\" ry=\"18\"/>\n<text text-anchor=\"middle\" x=\"253\" y=\"-70.3\" font-family=\"Times,serif\" font-size=\"14.00\">*</text>\n</g>\n<!-- 139930925356560&#45;&gt;139930925358000* -->\n<g id=\"edge4\" class=\"edge\"><title>139930925356560&#45;&gt;139930925358000*</title>\n<path fill=\"none\" stroke=\"black\" d=\"M190.345,-85.0663C199.625,-83.4007 208.581,-81.7931 216.657,-80.3436\"/>\n<polygon fill=\"black\" stroke=\"black\" points=\"217.495,-83.7493 226.719,-78.5376 216.258,-76.8594 217.495,-83.7493\"/>\n</g>\n<!-- 139930925355168 -->\n<g id=\"node2\" class=\"node\"><title>139930925355168</title>\n<polygon fill=\"none\" stroke=\"black\" points=\"2.5,-29 2.5,-65 187.5,-65 187.5,-29 2.5,-29\"/>\n<text text-anchor=\"middle\" x=\"14\" y=\"-43.3\" font-family=\"Times,serif\" font-size=\"14.00\">a</text>\n<polyline fill=\"none\" stroke=\"black\" points=\"25.5,-29 25.5,-65 \"/>\n<text text-anchor=\"middle\" x=\"65.5\" y=\"-43.3\" font-family=\"Times,serif\" font-size=\"14.00\">data 2.0000</text>\n<polyline fill=\"none\" stroke=\"black\" points=\"105.5,-29 105.5,-65 \"/>\n<text text-anchor=\"middle\" x=\"146.5\" y=\"-43.3\" font-family=\"Times,serif\" font-size=\"14.00\">grad 0.0000</text>\n</g>\n<!-- 139930925355168&#45;&gt;139930925358000* -->\n<g id=\"edge3\" class=\"edge\"><title>139930925355168&#45;&gt;139930925358000*</title>\n<path fill=\"none\" stroke=\"black\" d=\"M187.648,-62.8622C197.945,-64.6443 207.914,-66.3697 216.807,-67.9089\"/>\n<polygon fill=\"black\" stroke=\"black\" points=\"216.258,-71.3658 226.708,-69.6226 217.452,-64.4684 216.258,-71.3658\"/>\n</g>\n<!-- 139930925358816 -->\n<g id=\"node3\" class=\"node\"><title>139930925358816</title>\n<polygon fill=\"none\" stroke=\"black\" points=\"316,-1 316,-37 508,-37 508,-1 316,-1\"/>\n<text text-anchor=\"middle\" x=\"327.5\" y=\"-15.3\" font-family=\"Times,serif\" font-size=\"14.00\">c</text>\n<polyline fill=\"none\" stroke=\"black\" points=\"339,-1 339,-37 \"/>\n<text text-anchor=\"middle\" x=\"382.5\" y=\"-15.3\" font-family=\"Times,serif\" font-size=\"14.00\">data 10.0000</text>\n<polyline fill=\"none\" stroke=\"black\" points=\"426,-1 426,-37 \"/>\n<text text-anchor=\"middle\" x=\"467\" y=\"-15.3\" font-family=\"Times,serif\" font-size=\"14.00\">grad 0.0000</text>\n</g>\n<!-- 139930925356368+ -->\n<g id=\"node5\" class=\"node\"><title>139930925356368+</title>\n<ellipse fill=\"none\" stroke=\"black\" cx=\"571\" cy=\"-46\" rx=\"27\" ry=\"18\"/>\n<text text-anchor=\"middle\" x=\"571\" y=\"-42.3\" font-family=\"Times,serif\" font-size=\"14.00\">+</text>\n</g>\n<!-- 139930925358816&#45;&gt;139930925356368+ -->\n<g id=\"edge6\" class=\"edge\"><title>139930925358816&#45;&gt;139930925356368+</title>\n<path fill=\"none\" stroke=\"black\" d=\"M508.4,-35.4064C517.686,-37.0034 526.642,-38.5435 534.712,-39.9313\"/>\n<polygon fill=\"black\" stroke=\"black\" points=\"534.316,-43.4145 544.764,-41.6601 535.502,-36.5158 534.316,-43.4145\"/>\n</g>\n<!-- 139930925356368 -->\n<g id=\"node4\" class=\"node\"><title>139930925356368</title>\n<polygon fill=\"none\" stroke=\"black\" points=\"634.5,-28 634.5,-64 819.5,-64 819.5,-28 634.5,-28\"/>\n<text text-anchor=\"middle\" x=\"646\" y=\"-42.3\" font-family=\"Times,serif\" font-size=\"14.00\">d</text>\n<polyline fill=\"none\" stroke=\"black\" points=\"657.5,-28 657.5,-64 \"/>\n<text text-anchor=\"middle\" x=\"697.5\" y=\"-42.3\" font-family=\"Times,serif\" font-size=\"14.00\">data 4.0000</text>\n<polyline fill=\"none\" stroke=\"black\" points=\"737.5,-28 737.5,-64 \"/>\n<text text-anchor=\"middle\" x=\"778.5\" y=\"-42.3\" font-family=\"Times,serif\" font-size=\"14.00\">grad 0.0000</text>\n</g>\n<!-- 139930925356368+&#45;&gt;139930925356368 -->\n<g id=\"edge1\" class=\"edge\"><title>139930925356368+&#45;&gt;139930925356368</title>\n<path fill=\"none\" stroke=\"black\" d=\"M598.124,-46C605.831,-46 614.768,-46 624.267,-46\"/>\n<polygon fill=\"black\" stroke=\"black\" points=\"624.341,-49.5001 634.341,-46 624.341,-42.5001 624.341,-49.5001\"/>\n</g>\n<!-- 139930925358000 -->\n<g id=\"node6\" class=\"node\"><title>139930925358000</title>\n<polygon fill=\"none\" stroke=\"black\" points=\"318.5,-56 318.5,-92 505.5,-92 505.5,-56 318.5,-56\"/>\n<text text-anchor=\"middle\" x=\"328.5\" y=\"-70.3\" font-family=\"Times,serif\" font-size=\"14.00\"> </text>\n<polyline fill=\"none\" stroke=\"black\" points=\"338.5,-56 338.5,-92 \"/>\n<text text-anchor=\"middle\" x=\"381\" y=\"-70.3\" font-family=\"Times,serif\" font-size=\"14.00\">data &#45;6.0000</text>\n<polyline fill=\"none\" stroke=\"black\" points=\"423.5,-56 423.5,-92 \"/>\n<text text-anchor=\"middle\" x=\"464.5\" y=\"-70.3\" font-family=\"Times,serif\" font-size=\"14.00\">grad 0.0000</text>\n</g>\n<!-- 139930925358000&#45;&gt;139930925356368+ -->\n<g id=\"edge5\" class=\"edge\"><title>139930925358000&#45;&gt;139930925356368+</title>\n<path fill=\"none\" stroke=\"black\" d=\"M505.689,-57.4695C515.996,-55.6313 525.965,-53.8533 534.854,-52.268\"/>\n<polygon fill=\"black\" stroke=\"black\" points=\"535.518,-55.705 544.748,-50.5035 534.289,-48.8137 535.518,-55.705\"/>\n</g>\n<!-- 139930925358000*&#45;&gt;139930925358000 -->\n<g id=\"edge2\" class=\"edge\"><title>139930925358000*&#45;&gt;139930925358000</title>\n<path fill=\"none\" stroke=\"black\" d=\"M280.278,-74C288.397,-74 297.879,-74 307.961,-74\"/>\n<polygon fill=\"black\" stroke=\"black\" points=\"308.215,-77.5001 318.215,-74 308.215,-70.5001 308.215,-77.5001\"/>\n</g>\n</g>\n</svg>\n",
      "text/plain": [
       "<graphviz.graphs.Digraph at 0x7f4435195910>"
      ]
     },
     "execution_count": 180,
     "metadata": {},
     "output_type": "execute_result"
    }
   ],
   "source": [
    "# Graph viz\n",
    "\n",
    "a = Value(2.0, _label=\"a\")\n",
    "b = Value(-3.0, _label=\"b\")\n",
    "c = Value(10.0, _label=\"c\")\n",
    "\n",
    "d = a * b + c\n",
    "\n",
    "d.label = \"d\"\n",
    "print(d)\n",
    "\n",
    "draw_dot(d)"
   ]
  },
  {
   "cell_type": "code",
   "execution_count": 181,
   "metadata": {},
   "outputs": [
    {
     "name": "stdout",
     "output_type": "stream",
     "text": [
      "Value(data=9.0,label='')\n"
     ]
    },
    {
     "ename": "TypeError",
     "evalue": "'Value' object is not callable",
     "output_type": "error",
     "traceback": [
      "\u001b[0;31m---------------------------------------------------------------------------\u001b[0m",
      "\u001b[0;31mTypeError\u001b[0m                                 Traceback (most recent call last)",
      "\u001b[0;32m<ipython-input-181-62ed795b7516>\u001b[0m in \u001b[0;36m<cell line: 4>\u001b[0;34m()\u001b[0m\n\u001b[1;32m      2\u001b[0m \u001b[0mf1\u001b[0m \u001b[0;34m=\u001b[0m \u001b[0mValue\u001b[0m\u001b[0;34m(\u001b[0m\u001b[0;36m3.0\u001b[0m\u001b[0;34m)\u001b[0m \u001b[0;34m*\u001b[0m \u001b[0mValue\u001b[0m\u001b[0;34m(\u001b[0m\u001b[0;36m2.0\u001b[0m\u001b[0;34m)\u001b[0m \u001b[0;34m*\u001b[0m \u001b[0mValue\u001b[0m\u001b[0;34m(\u001b[0m\u001b[0;36m2.0\u001b[0m\u001b[0;34m)\u001b[0m  \u001b[0;34m-\u001b[0m \u001b[0mValue\u001b[0m\u001b[0;34m(\u001b[0m\u001b[0;36m4.0\u001b[0m\u001b[0;34m)\u001b[0m \u001b[0;34m*\u001b[0m \u001b[0mValue\u001b[0m\u001b[0;34m(\u001b[0m\u001b[0;36m2.0\u001b[0m\u001b[0;34m)\u001b[0m \u001b[0;34m+\u001b[0m \u001b[0mValue\u001b[0m\u001b[0;34m(\u001b[0m\u001b[0;36m5.0\u001b[0m\u001b[0;34m)\u001b[0m\u001b[0;34m\u001b[0m\u001b[0;34m\u001b[0m\u001b[0m\n\u001b[1;32m      3\u001b[0m \u001b[0mprint\u001b[0m\u001b[0;34m(\u001b[0m\u001b[0mf1\u001b[0m\u001b[0;34m)\u001b[0m\u001b[0;34m\u001b[0m\u001b[0;34m\u001b[0m\u001b[0m\n\u001b[0;32m----> 4\u001b[0;31m \u001b[0mprint\u001b[0m\u001b[0;34m(\u001b[0m\u001b[0mf\u001b[0m\u001b[0;34m(\u001b[0m\u001b[0;36m2\u001b[0m\u001b[0;34m)\u001b[0m\u001b[0;34m)\u001b[0m\u001b[0;34m\u001b[0m\u001b[0;34m\u001b[0m\u001b[0m\n\u001b[0m\u001b[1;32m      5\u001b[0m \u001b[0;34m\u001b[0m\u001b[0m\n\u001b[1;32m      6\u001b[0m \u001b[0mdraw_dot\u001b[0m\u001b[0;34m(\u001b[0m\u001b[0mf1\u001b[0m\u001b[0;34m)\u001b[0m\u001b[0;34m\u001b[0m\u001b[0;34m\u001b[0m\u001b[0m\n",
      "\u001b[0;31mTypeError\u001b[0m: 'Value' object is not callable"
     ]
    }
   ],
   "source": [
    "\n",
    "# let's say x = 2.0\n",
    "f1 = Value(3.0) * Value(2.0) * Value(2.0)  - Value(4.0) * Value(2.0) + Value(5.0)\n",
    "print(f1)\n",
    "print(f(2))\n",
    "\n",
    "draw_dot(f1)"
   ]
  },
  {
   "cell_type": "code",
   "execution_count": null,
   "metadata": {},
   "outputs": [],
   "source": [
    "a = Value(2.0, _label=\"a\")\n",
    "b = Value(-3.0, _label=\"b\")\n",
    "c = Value(10.0, _label=\"c\")\n",
    "\n",
    "d = a * b + c\n",
    "\n",
    "d.label = \"d\"\n",
    "print(d)\n",
    "\n",
    "draw_dot(d)"
   ]
  },
  {
   "attachments": {},
   "cell_type": "markdown",
   "metadata": {},
   "source": [
    "```\n",
    "dd/da = (f((a + h) * b + c) - f(a * b + c)) / h = b\n",
    "\n",
    "dd/db = (f((a + h) * b + c) - f(a * b + c)) / h = a\n",
    "\n",
    "dd/dc = (f((a * b + c + h) - f(a * b + c)) / h = (ab + c + h - ab - c) / h = h / h = 1\n",
    "```"
   ]
  },
  {
   "cell_type": "code",
   "execution_count": null,
   "metadata": {},
   "outputs": [
    {
     "name": "stdout",
     "output_type": "stream",
     "text": [
      "Value(data=4.0,label='d')\n"
     ]
    },
    {
     "data": {
      "image/svg+xml": "<?xml version=\"1.0\" encoding=\"UTF-8\" standalone=\"no\"?>\n<!DOCTYPE svg PUBLIC \"-//W3C//DTD SVG 1.1//EN\"\n \"http://www.w3.org/Graphics/SVG/1.1/DTD/svg11.dtd\">\n<!-- Generated by graphviz version 2.30.1 (20201013.1554)\n -->\n<!-- Title: %3 Pages: 1 -->\n<svg width=\"828pt\" height=\"126pt\"\n viewBox=\"0.00 0.00 828.00 126.00\" xmlns=\"http://www.w3.org/2000/svg\" xmlns:xlink=\"http://www.w3.org/1999/xlink\">\n<g id=\"graph0\" class=\"graph\" transform=\"scale(1 1) rotate(0) translate(4 122)\">\n<title>%3</title>\n<polygon fill=\"white\" stroke=\"white\" points=\"-4,5 -4,-122 825,-122 825,5 -4,5\"/>\n<!-- 139930919686208 -->\n<g id=\"node1\" class=\"node\"><title>139930919686208</title>\n<polygon fill=\"none\" stroke=\"black\" points=\"634.5,-54 634.5,-90 819.5,-90 819.5,-54 634.5,-54\"/>\n<text text-anchor=\"middle\" x=\"646\" y=\"-68.3\" font-family=\"Times,serif\" font-size=\"14.00\">d</text>\n<polyline fill=\"none\" stroke=\"black\" points=\"657.5,-54 657.5,-90 \"/>\n<text text-anchor=\"middle\" x=\"697.5\" y=\"-68.3\" font-family=\"Times,serif\" font-size=\"14.00\">data 4.0000</text>\n<polyline fill=\"none\" stroke=\"black\" points=\"737.5,-54 737.5,-90 \"/>\n<text text-anchor=\"middle\" x=\"778.5\" y=\"-68.3\" font-family=\"Times,serif\" font-size=\"14.00\">grad 1.0000</text>\n</g>\n<!-- 139930919686208+ -->\n<g id=\"node2\" class=\"node\"><title>139930919686208+</title>\n<ellipse fill=\"none\" stroke=\"black\" cx=\"571\" cy=\"-72\" rx=\"27\" ry=\"18\"/>\n<text text-anchor=\"middle\" x=\"571\" y=\"-68.3\" font-family=\"Times,serif\" font-size=\"14.00\">+</text>\n</g>\n<!-- 139930919686208+&#45;&gt;139930919686208 -->\n<g id=\"edge1\" class=\"edge\"><title>139930919686208+&#45;&gt;139930919686208</title>\n<path fill=\"none\" stroke=\"black\" d=\"M598.124,-72C605.831,-72 614.768,-72 624.267,-72\"/>\n<polygon fill=\"black\" stroke=\"black\" points=\"624.341,-75.5001 634.341,-72 624.341,-68.5001 624.341,-75.5001\"/>\n</g>\n<!-- 139930919689808 -->\n<g id=\"node3\" class=\"node\"><title>139930919689808</title>\n<polygon fill=\"none\" stroke=\"black\" points=\"0.5,-55 0.5,-91 189.5,-91 189.5,-55 0.5,-55\"/>\n<text text-anchor=\"middle\" x=\"12\" y=\"-69.3\" font-family=\"Times,serif\" font-size=\"14.00\">a</text>\n<polyline fill=\"none\" stroke=\"black\" points=\"23.5,-55 23.5,-91 \"/>\n<text text-anchor=\"middle\" x=\"63.5\" y=\"-69.3\" font-family=\"Times,serif\" font-size=\"14.00\">data 2.0000</text>\n<polyline fill=\"none\" stroke=\"black\" points=\"103.5,-55 103.5,-91 \"/>\n<text text-anchor=\"middle\" x=\"146.5\" y=\"-69.3\" font-family=\"Times,serif\" font-size=\"14.00\">grad &#45;3.0000</text>\n</g>\n<!-- 139930919686640* -->\n<g id=\"node7\" class=\"node\"><title>139930919686640*</title>\n<ellipse fill=\"none\" stroke=\"black\" cx=\"253\" cy=\"-45\" rx=\"27\" ry=\"18\"/>\n<text text-anchor=\"middle\" x=\"253\" y=\"-41.3\" font-family=\"Times,serif\" font-size=\"14.00\">*</text>\n</g>\n<!-- 139930919689808&#45;&gt;139930919686640* -->\n<g id=\"edge6\" class=\"edge\"><title>139930919689808&#45;&gt;139930919686640*</title>\n<path fill=\"none\" stroke=\"black\" d=\"M189.896,-56.1468C199.424,-54.4366 208.622,-52.7858 216.887,-51.3023\"/>\n<polygon fill=\"black\" stroke=\"black\" points=\"217.588,-54.7325 226.813,-49.5208 216.352,-47.8426 217.588,-54.7325\"/>\n</g>\n<!-- 139930919689856 -->\n<g id=\"node4\" class=\"node\"><title>139930919689856</title>\n<polygon fill=\"none\" stroke=\"black\" points=\"316,-82 316,-118 508,-118 508,-82 316,-82\"/>\n<text text-anchor=\"middle\" x=\"327.5\" y=\"-96.3\" font-family=\"Times,serif\" font-size=\"14.00\">c</text>\n<polyline fill=\"none\" stroke=\"black\" points=\"339,-82 339,-118 \"/>\n<text text-anchor=\"middle\" x=\"382.5\" y=\"-96.3\" font-family=\"Times,serif\" font-size=\"14.00\">data 10.0000</text>\n<polyline fill=\"none\" stroke=\"black\" points=\"426,-82 426,-118 \"/>\n<text text-anchor=\"middle\" x=\"467\" y=\"-96.3\" font-family=\"Times,serif\" font-size=\"14.00\">grad 1.0000</text>\n</g>\n<!-- 139930919689856&#45;&gt;139930919686208+ -->\n<g id=\"edge3\" class=\"edge\"><title>139930919689856&#45;&gt;139930919686208+</title>\n<path fill=\"none\" stroke=\"black\" d=\"M508.4,-82.986C517.686,-81.3298 526.642,-79.7327 534.712,-78.2934\"/>\n<polygon fill=\"black\" stroke=\"black\" points=\"535.534,-81.7021 544.764,-76.5006 534.305,-74.8108 535.534,-81.7021\"/>\n</g>\n<!-- 139930919688320 -->\n<g id=\"node5\" class=\"node\"><title>139930919688320</title>\n<polygon fill=\"none\" stroke=\"black\" points=\"0,-0 0,-36 190,-36 190,-0 0,-0\"/>\n<text text-anchor=\"middle\" x=\"11.5\" y=\"-14.3\" font-family=\"Times,serif\" font-size=\"14.00\">b</text>\n<polyline fill=\"none\" stroke=\"black\" points=\"23,-0 23,-36 \"/>\n<text text-anchor=\"middle\" x=\"65.5\" y=\"-14.3\" font-family=\"Times,serif\" font-size=\"14.00\">data &#45;3.0000</text>\n<polyline fill=\"none\" stroke=\"black\" points=\"108,-0 108,-36 \"/>\n<text text-anchor=\"middle\" x=\"149\" y=\"-14.3\" font-family=\"Times,serif\" font-size=\"14.00\">grad 2.0000</text>\n</g>\n<!-- 139930919688320&#45;&gt;139930919686640* -->\n<g id=\"edge5\" class=\"edge\"><title>139930919688320&#45;&gt;139930919686640*</title>\n<path fill=\"none\" stroke=\"black\" d=\"M190.345,-34.3289C199.625,-35.935 208.581,-37.4852 216.657,-38.883\"/>\n<polygon fill=\"black\" stroke=\"black\" points=\"216.269,-42.3677 226.719,-40.6245 217.463,-35.4702 216.269,-42.3677\"/>\n</g>\n<!-- 139930919686640 -->\n<g id=\"node6\" class=\"node\"><title>139930919686640</title>\n<polygon fill=\"none\" stroke=\"black\" points=\"318.5,-27 318.5,-63 505.5,-63 505.5,-27 318.5,-27\"/>\n<text text-anchor=\"middle\" x=\"328.5\" y=\"-41.3\" font-family=\"Times,serif\" font-size=\"14.00\"> </text>\n<polyline fill=\"none\" stroke=\"black\" points=\"338.5,-27 338.5,-63 \"/>\n<text text-anchor=\"middle\" x=\"381\" y=\"-41.3\" font-family=\"Times,serif\" font-size=\"14.00\">data &#45;6.0000</text>\n<polyline fill=\"none\" stroke=\"black\" points=\"423.5,-27 423.5,-63 \"/>\n<text text-anchor=\"middle\" x=\"464.5\" y=\"-41.3\" font-family=\"Times,serif\" font-size=\"14.00\">grad 0.0000</text>\n</g>\n<!-- 139930919686640&#45;&gt;139930919686208+ -->\n<g id=\"edge4\" class=\"edge\"><title>139930919686640&#45;&gt;139930919686208+</title>\n<path fill=\"none\" stroke=\"black\" d=\"M505.689,-60.9402C515.996,-62.7127 525.965,-64.4272 534.854,-65.9558\"/>\n<polygon fill=\"black\" stroke=\"black\" points=\"534.299,-69.4117 544.748,-67.6573 535.486,-62.513 534.299,-69.4117\"/>\n</g>\n<!-- 139930919686640*&#45;&gt;139930919686640 -->\n<g id=\"edge2\" class=\"edge\"><title>139930919686640*&#45;&gt;139930919686640</title>\n<path fill=\"none\" stroke=\"black\" d=\"M280.278,-45C288.397,-45 297.879,-45 307.961,-45\"/>\n<polygon fill=\"black\" stroke=\"black\" points=\"308.215,-48.5001 318.215,-45 308.215,-41.5001 308.215,-48.5001\"/>\n</g>\n</g>\n</svg>\n",
      "text/plain": [
       "<graphviz.graphs.Digraph at 0x7f4434c2d5b0>"
      ]
     },
     "execution_count": 100,
     "metadata": {},
     "output_type": "execute_result"
    }
   ],
   "source": [
    "a = Value(2.0, _label=\"a\")\n",
    "b = Value(-3.0, _label=\"b\")\n",
    "c = Value(10.0, _label=\"c\")\n",
    "\n",
    "d = a * b + c\n",
    "\n",
    "d.label = \"d\"\n",
    "\n",
    "a.grad = -3.0\n",
    "b.grad = 2.0\n",
    "c.grad = 1.0\n",
    "\n",
    "'''\n",
    "(f(x) + h - f(x)) / h = 1\n",
    "'''\n",
    "d.grad = 1.0\n",
    "print(d)\n",
    "\n",
    "draw_dot(d)"
   ]
  },
  {
   "cell_type": "code",
   "execution_count": null,
   "metadata": {},
   "outputs": [
    {
     "name": "stdout",
     "output_type": "stream",
     "text": [
      "Value(data=-8.0,label='L')\n"
     ]
    },
    {
     "data": {
      "image/svg+xml": "<?xml version=\"1.0\" encoding=\"UTF-8\" standalone=\"no\"?>\n<!DOCTYPE svg PUBLIC \"-//W3C//DTD SVG 1.1//EN\"\n \"http://www.w3.org/Graphics/SVG/1.1/DTD/svg11.dtd\">\n<!-- Generated by graphviz version 2.30.1 (20201013.1554)\n -->\n<!-- Title: %3 Pages: 1 -->\n<svg width=\"1148pt\" height=\"153pt\"\n viewBox=\"0.00 0.00 1148.00 153.00\" xmlns=\"http://www.w3.org/2000/svg\" xmlns:xlink=\"http://www.w3.org/1999/xlink\">\n<g id=\"graph0\" class=\"graph\" transform=\"scale(1 1) rotate(0) translate(4 149)\">\n<title>%3</title>\n<polygon fill=\"white\" stroke=\"white\" points=\"-4,5 -4,-149 1145,-149 1145,5 -4,5\"/>\n<!-- 139930919531520 -->\n<g id=\"node1\" class=\"node\"><title>139930919531520</title>\n<polygon fill=\"none\" stroke=\"black\" points=\"635.5,-54 635.5,-90 820.5,-90 820.5,-54 635.5,-54\"/>\n<text text-anchor=\"middle\" x=\"647\" y=\"-68.3\" font-family=\"Times,serif\" font-size=\"14.00\">d</text>\n<polyline fill=\"none\" stroke=\"black\" points=\"658.5,-54 658.5,-90 \"/>\n<text text-anchor=\"middle\" x=\"698.5\" y=\"-68.3\" font-family=\"Times,serif\" font-size=\"14.00\">data 4.0000</text>\n<polyline fill=\"none\" stroke=\"black\" points=\"738.5,-54 738.5,-90 \"/>\n<text text-anchor=\"middle\" x=\"779.5\" y=\"-68.3\" font-family=\"Times,serif\" font-size=\"14.00\">grad 0.0000</text>\n</g>\n<!-- 139930919531472* -->\n<g id=\"node10\" class=\"node\"><title>139930919531472*</title>\n<ellipse fill=\"none\" stroke=\"black\" cx=\"885\" cy=\"-99\" rx=\"27\" ry=\"18\"/>\n<text text-anchor=\"middle\" x=\"885\" y=\"-95.3\" font-family=\"Times,serif\" font-size=\"14.00\">*</text>\n</g>\n<!-- 139930919531520&#45;&gt;139930919531472* -->\n<g id=\"edge5\" class=\"edge\"><title>139930919531520&#45;&gt;139930919531472*</title>\n<path fill=\"none\" stroke=\"black\" d=\"M820.508,-87.9402C830.48,-89.6772 840.132,-91.3585 848.773,-92.8637\"/>\n<polygon fill=\"black\" stroke=\"black\" points=\"848.314,-96.3364 858.766,-94.6045 849.515,-89.4402 848.314,-96.3364\"/>\n</g>\n<!-- 139930919531520+ -->\n<g id=\"node2\" class=\"node\"><title>139930919531520+</title>\n<ellipse fill=\"none\" stroke=\"black\" cx=\"571\" cy=\"-72\" rx=\"27\" ry=\"18\"/>\n<text text-anchor=\"middle\" x=\"571\" y=\"-68.3\" font-family=\"Times,serif\" font-size=\"14.00\">+</text>\n</g>\n<!-- 139930919531520+&#45;&gt;139930919531520 -->\n<g id=\"edge1\" class=\"edge\"><title>139930919531520+&#45;&gt;139930919531520</title>\n<path fill=\"none\" stroke=\"black\" d=\"M598.294,-72C606.261,-72 615.536,-72 625.388,-72\"/>\n<polygon fill=\"black\" stroke=\"black\" points=\"625.406,-75.5001 635.406,-72 625.406,-68.5001 625.406,-75.5001\"/>\n</g>\n<!-- 139930919531088 -->\n<g id=\"node3\" class=\"node\"><title>139930919531088</title>\n<polygon fill=\"none\" stroke=\"black\" points=\"634,-109 634,-145 822,-145 822,-109 634,-109\"/>\n<text text-anchor=\"middle\" x=\"644.5\" y=\"-123.3\" font-family=\"Times,serif\" font-size=\"14.00\">f</text>\n<polyline fill=\"none\" stroke=\"black\" points=\"655,-109 655,-145 \"/>\n<text text-anchor=\"middle\" x=\"697.5\" y=\"-123.3\" font-family=\"Times,serif\" font-size=\"14.00\">data &#45;2.0000</text>\n<polyline fill=\"none\" stroke=\"black\" points=\"740,-109 740,-145 \"/>\n<text text-anchor=\"middle\" x=\"781\" y=\"-123.3\" font-family=\"Times,serif\" font-size=\"14.00\">grad 0.0000</text>\n</g>\n<!-- 139930919531088&#45;&gt;139930919531472* -->\n<g id=\"edge8\" class=\"edge\"><title>139930919531088&#45;&gt;139930919531472*</title>\n<path fill=\"none\" stroke=\"black\" d=\"M822.295,-110.147C831.567,-108.472 840.525,-106.854 848.605,-105.394\"/>\n<polygon fill=\"black\" stroke=\"black\" points=\"849.457,-108.797 858.676,-103.575 848.213,-101.908 849.457,-108.797\"/>\n</g>\n<!-- 139930919531136 -->\n<g id=\"node4\" class=\"node\"><title>139930919531136</title>\n<polygon fill=\"none\" stroke=\"black\" points=\"2.5,-55 2.5,-91 187.5,-91 187.5,-55 2.5,-55\"/>\n<text text-anchor=\"middle\" x=\"14\" y=\"-69.3\" font-family=\"Times,serif\" font-size=\"14.00\">a</text>\n<polyline fill=\"none\" stroke=\"black\" points=\"25.5,-55 25.5,-91 \"/>\n<text text-anchor=\"middle\" x=\"65.5\" y=\"-69.3\" font-family=\"Times,serif\" font-size=\"14.00\">data 2.0000</text>\n<polyline fill=\"none\" stroke=\"black\" points=\"105.5,-55 105.5,-91 \"/>\n<text text-anchor=\"middle\" x=\"146.5\" y=\"-69.3\" font-family=\"Times,serif\" font-size=\"14.00\">grad 0.0000</text>\n</g>\n<!-- 139930919531280* -->\n<g id=\"node8\" class=\"node\"><title>139930919531280*</title>\n<ellipse fill=\"none\" stroke=\"black\" cx=\"253\" cy=\"-45\" rx=\"27\" ry=\"18\"/>\n<text text-anchor=\"middle\" x=\"253\" y=\"-41.3\" font-family=\"Times,serif\" font-size=\"14.00\">*</text>\n</g>\n<!-- 139930919531136&#45;&gt;139930919531280* -->\n<g id=\"edge4\" class=\"edge\"><title>139930919531136&#45;&gt;139930919531280*</title>\n<path fill=\"none\" stroke=\"black\" d=\"M187.648,-56.5503C197.945,-54.7022 207.914,-52.9129 216.807,-51.3167\"/>\n<polygon fill=\"black\" stroke=\"black\" points=\"217.484,-54.7512 226.708,-49.5395 216.247,-47.8613 217.484,-54.7512\"/>\n</g>\n<!-- 139930919531232 -->\n<g id=\"node5\" class=\"node\"><title>139930919531232</title>\n<polygon fill=\"none\" stroke=\"black\" points=\"316,-82 316,-118 508,-118 508,-82 316,-82\"/>\n<text text-anchor=\"middle\" x=\"327.5\" y=\"-96.3\" font-family=\"Times,serif\" font-size=\"14.00\">c</text>\n<polyline fill=\"none\" stroke=\"black\" points=\"339,-82 339,-118 \"/>\n<text text-anchor=\"middle\" x=\"382.5\" y=\"-96.3\" font-family=\"Times,serif\" font-size=\"14.00\">data 10.0000</text>\n<polyline fill=\"none\" stroke=\"black\" points=\"426,-82 426,-118 \"/>\n<text text-anchor=\"middle\" x=\"467\" y=\"-96.3\" font-family=\"Times,serif\" font-size=\"14.00\">grad 0.0000</text>\n</g>\n<!-- 139930919531232&#45;&gt;139930919531520+ -->\n<g id=\"edge6\" class=\"edge\"><title>139930919531232&#45;&gt;139930919531520+</title>\n<path fill=\"none\" stroke=\"black\" d=\"M508.4,-82.986C517.686,-81.3298 526.642,-79.7327 534.712,-78.2934\"/>\n<polygon fill=\"black\" stroke=\"black\" points=\"535.534,-81.7021 544.764,-76.5006 534.305,-74.8108 535.534,-81.7021\"/>\n</g>\n<!-- 139930937294080 -->\n<g id=\"node6\" class=\"node\"><title>139930937294080</title>\n<polygon fill=\"none\" stroke=\"black\" points=\"0,-0 0,-36 190,-36 190,-0 0,-0\"/>\n<text text-anchor=\"middle\" x=\"11.5\" y=\"-14.3\" font-family=\"Times,serif\" font-size=\"14.00\">b</text>\n<polyline fill=\"none\" stroke=\"black\" points=\"23,-0 23,-36 \"/>\n<text text-anchor=\"middle\" x=\"65.5\" y=\"-14.3\" font-family=\"Times,serif\" font-size=\"14.00\">data &#45;3.0000</text>\n<polyline fill=\"none\" stroke=\"black\" points=\"108,-0 108,-36 \"/>\n<text text-anchor=\"middle\" x=\"149\" y=\"-14.3\" font-family=\"Times,serif\" font-size=\"14.00\">grad 0.0000</text>\n</g>\n<!-- 139930937294080&#45;&gt;139930919531280* -->\n<g id=\"edge9\" class=\"edge\"><title>139930937294080&#45;&gt;139930919531280*</title>\n<path fill=\"none\" stroke=\"black\" d=\"M190.345,-34.3289C199.625,-35.935 208.581,-37.4852 216.657,-38.883\"/>\n<polygon fill=\"black\" stroke=\"black\" points=\"216.269,-42.3677 226.719,-40.6245 217.463,-35.4702 216.269,-42.3677\"/>\n</g>\n<!-- 139930919531280 -->\n<g id=\"node7\" class=\"node\"><title>139930919531280</title>\n<polygon fill=\"none\" stroke=\"black\" points=\"317,-27 317,-63 507,-63 507,-27 317,-27\"/>\n<text text-anchor=\"middle\" x=\"328.5\" y=\"-41.3\" font-family=\"Times,serif\" font-size=\"14.00\">e</text>\n<polyline fill=\"none\" stroke=\"black\" points=\"340,-27 340,-63 \"/>\n<text text-anchor=\"middle\" x=\"382.5\" y=\"-41.3\" font-family=\"Times,serif\" font-size=\"14.00\">data &#45;6.0000</text>\n<polyline fill=\"none\" stroke=\"black\" points=\"425,-27 425,-63 \"/>\n<text text-anchor=\"middle\" x=\"466\" y=\"-41.3\" font-family=\"Times,serif\" font-size=\"14.00\">grad 0.0000</text>\n</g>\n<!-- 139930919531280&#45;&gt;139930919531520+ -->\n<g id=\"edge7\" class=\"edge\"><title>139930919531280&#45;&gt;139930919531520+</title>\n<path fill=\"none\" stroke=\"black\" d=\"M507.047,-61.1736C516.781,-62.8478 526.184,-64.4647 534.622,-65.9159\"/>\n<polygon fill=\"black\" stroke=\"black\" points=\"534.299,-69.4117 544.748,-67.6573 535.486,-62.513 534.299,-69.4117\"/>\n</g>\n<!-- 139930919531280*&#45;&gt;139930919531280 -->\n<g id=\"edge2\" class=\"edge\"><title>139930919531280*&#45;&gt;139930919531280</title>\n<path fill=\"none\" stroke=\"black\" d=\"M280.278,-45C288.053,-45 297.078,-45 306.684,-45\"/>\n<polygon fill=\"black\" stroke=\"black\" points=\"306.876,-48.5001 316.876,-45 306.876,-41.5001 306.876,-48.5001\"/>\n</g>\n<!-- 139930919531472 -->\n<g id=\"node9\" class=\"node\"><title>139930919531472</title>\n<polygon fill=\"none\" stroke=\"black\" points=\"948,-81 948,-117 1140,-117 1140,-81 948,-81\"/>\n<text text-anchor=\"middle\" x=\"960.5\" y=\"-95.3\" font-family=\"Times,serif\" font-size=\"14.00\">L</text>\n<polyline fill=\"none\" stroke=\"black\" points=\"973,-81 973,-117 \"/>\n<text text-anchor=\"middle\" x=\"1015.5\" y=\"-95.3\" font-family=\"Times,serif\" font-size=\"14.00\">data &#45;8.0000</text>\n<polyline fill=\"none\" stroke=\"black\" points=\"1058,-81 1058,-117 \"/>\n<text text-anchor=\"middle\" x=\"1099\" y=\"-95.3\" font-family=\"Times,serif\" font-size=\"14.00\">grad 0.0000</text>\n</g>\n<!-- 139930919531472*&#45;&gt;139930919531472 -->\n<g id=\"edge3\" class=\"edge\"><title>139930919531472*&#45;&gt;139930919531472</title>\n<path fill=\"none\" stroke=\"black\" d=\"M912.278,-99C919.779,-99 928.443,-99 937.67,-99\"/>\n<polygon fill=\"black\" stroke=\"black\" points=\"937.874,-102.5 947.874,-99 937.874,-95.5001 937.874,-102.5\"/>\n</g>\n</g>\n</svg>\n",
      "text/plain": [
       "<graphviz.graphs.Digraph at 0x7f439668cdc0>"
      ]
     },
     "execution_count": 107,
     "metadata": {},
     "output_type": "execute_result"
    }
   ],
   "source": [
    "a = Value(2.0, _label=\"a\")\n",
    "b = Value(-3.0, _label=\"b\")\n",
    "c = Value(10, _label=\"c\")\n",
    "f = Value(-2.0, _label=\"f\")\n",
    "\n",
    "e = a * b\n",
    "e.label = \"e\"\n",
    "\n",
    "d = e + c\n",
    "d.label = \"d\"\n",
    "\n",
    "L = d * f\n",
    "L.label = \"L\"\n",
    "print(L)\n",
    "draw_dot(L)"
   ]
  },
  {
   "cell_type": "code",
   "execution_count": null,
   "metadata": {},
   "outputs": [],
   "source": [
    "'''\n",
    "L = f(f) = fd\n",
    "f'(f) = (f(x + h) - f(x)) / h = ((f+h) * d - (f * d)) / h = (fd + dh - fd) / h = dh / h = d\n",
    "'''\n",
    "L = f * 4"
   ]
  },
  {
   "attachments": {},
   "cell_type": "markdown",
   "metadata": {},
   "source": [
    "```\n",
    "d = c + e\n",
    "\n",
    "dd / dc = 1.0\n",
    "dd / de = 1.0\n",
    "\n",
    "\n",
    "dL / dc = (dL / dd) * (dd / dc)\n",
    "\n",
    "dL / dd = f = -2.0\n",
    "\n",
    "dL / dc = -2.0 * 1.0\n",
    "```\n",
    "\n",
    "\n",
    "```\n",
    "\n",
    "e = a * b\n",
    "d = c + e\n",
    "L = d * f\n",
    "\n",
    "\n",
    "dL / da = (dL / dd) * (dd / de) * (de / da) = -2.0 * 1.0 * -3.0 = 6.0\n",
    "\n",
    "dL / dd = f = -2.0\n",
    "dL / de = 1.0\n",
    "de / da = b = -3.0\n",
    "\n",
    "dL / db = (dL / dd) * (dd / de) * (de / db) = -2.0 * 1.0 * 2.0 = -4.0\n",
    "\n",
    "--- e = a * b ---\n",
    "de / db = a = 2.0 \n",
    "\n",
    "``"
   ]
  },
  {
   "cell_type": "code",
   "execution_count": null,
   "metadata": {},
   "outputs": [
    {
     "name": "stdout",
     "output_type": "stream",
     "text": [
      "Value(data=-8.0,label='L')\n"
     ]
    },
    {
     "data": {
      "image/svg+xml": "<?xml version=\"1.0\" encoding=\"UTF-8\" standalone=\"no\"?>\n<!DOCTYPE svg PUBLIC \"-//W3C//DTD SVG 1.1//EN\"\n \"http://www.w3.org/Graphics/SVG/1.1/DTD/svg11.dtd\">\n<!-- Generated by graphviz version 2.30.1 (20201013.1554)\n -->\n<!-- Title: %3 Pages: 1 -->\n<svg width=\"1158pt\" height=\"156pt\"\n viewBox=\"0.00 0.00 1158.00 156.00\" xmlns=\"http://www.w3.org/2000/svg\" xmlns:xlink=\"http://www.w3.org/1999/xlink\">\n<g id=\"graph0\" class=\"graph\" transform=\"scale(1 1) rotate(0) translate(4 152)\">\n<title>%3</title>\n<polygon fill=\"white\" stroke=\"white\" points=\"-4,5 -4,-152 1155,-152 1155,5 -4,5\"/>\n<!-- 139930919996816 -->\n<g id=\"node1\" class=\"node\"><title>139930919996816</title>\n<polygon fill=\"none\" stroke=\"black\" points=\"4.5,-112 4.5,-148 189.5,-148 189.5,-112 4.5,-112\"/>\n<text text-anchor=\"middle\" x=\"16\" y=\"-126.3\" font-family=\"Times,serif\" font-size=\"14.00\">a</text>\n<polyline fill=\"none\" stroke=\"black\" points=\"27.5,-112 27.5,-148 \"/>\n<text text-anchor=\"middle\" x=\"67.5\" y=\"-126.3\" font-family=\"Times,serif\" font-size=\"14.00\">data 2.0000</text>\n<polyline fill=\"none\" stroke=\"black\" points=\"107.5,-112 107.5,-148 \"/>\n<text text-anchor=\"middle\" x=\"148.5\" y=\"-126.3\" font-family=\"Times,serif\" font-size=\"14.00\">grad 6.0000</text>\n</g>\n<!-- 139930919686256* -->\n<g id=\"node3\" class=\"node\"><title>139930919686256*</title>\n<ellipse fill=\"none\" stroke=\"black\" cx=\"257\" cy=\"-102\" rx=\"27\" ry=\"18\"/>\n<text text-anchor=\"middle\" x=\"257\" y=\"-98.3\" font-family=\"Times,serif\" font-size=\"14.00\">*</text>\n</g>\n<!-- 139930919996816&#45;&gt;139930919686256* -->\n<g id=\"edge9\" class=\"edge\"><title>139930919996816&#45;&gt;139930919686256*</title>\n<path fill=\"none\" stroke=\"black\" d=\"M189.909,-113.712C200.761,-111.789 211.278,-109.925 220.613,-108.271\"/>\n<polygon fill=\"black\" stroke=\"black\" points=\"221.368,-111.692 230.604,-106.501 220.146,-104.799 221.368,-111.692\"/>\n</g>\n<!-- 139930919686256 -->\n<g id=\"node2\" class=\"node\"><title>139930919686256</title>\n<polygon fill=\"none\" stroke=\"black\" points=\"321,-84 321,-120 515,-120 515,-84 321,-84\"/>\n<text text-anchor=\"middle\" x=\"332.5\" y=\"-98.3\" font-family=\"Times,serif\" font-size=\"14.00\">e</text>\n<polyline fill=\"none\" stroke=\"black\" points=\"344,-84 344,-120 \"/>\n<text text-anchor=\"middle\" x=\"386.5\" y=\"-98.3\" font-family=\"Times,serif\" font-size=\"14.00\">data &#45;6.0000</text>\n<polyline fill=\"none\" stroke=\"black\" points=\"429,-84 429,-120 \"/>\n<text text-anchor=\"middle\" x=\"472\" y=\"-98.3\" font-family=\"Times,serif\" font-size=\"14.00\">grad &#45;2.0000</text>\n</g>\n<!-- 139930919686544+ -->\n<g id=\"node10\" class=\"node\"><title>139930919686544+</title>\n<ellipse fill=\"none\" stroke=\"black\" cx=\"579\" cy=\"-74\" rx=\"27\" ry=\"18\"/>\n<text text-anchor=\"middle\" x=\"579\" y=\"-70.3\" font-family=\"Times,serif\" font-size=\"14.00\">+</text>\n</g>\n<!-- 139930919686256&#45;&gt;139930919686544+ -->\n<g id=\"edge6\" class=\"edge\"><title>139930919686256&#45;&gt;139930919686544+</title>\n<path fill=\"none\" stroke=\"black\" d=\"M515.159,-85.0663C524.816,-83.3658 534.129,-81.7257 542.494,-80.2527\"/>\n<polygon fill=\"black\" stroke=\"black\" points=\"543.295,-83.6655 552.537,-78.4841 542.081,-76.7716 543.295,-83.6655\"/>\n</g>\n<!-- 139930919686256*&#45;&gt;139930919686256 -->\n<g id=\"edge1\" class=\"edge\"><title>139930919686256*&#45;&gt;139930919686256</title>\n<path fill=\"none\" stroke=\"black\" d=\"M284.256,-102C292.046,-102 301.098,-102 310.746,-102\"/>\n<polygon fill=\"black\" stroke=\"black\" points=\"310.987,-105.5 320.987,-102 310.987,-98.5001 310.987,-105.5\"/>\n</g>\n<!-- 139930919687360 -->\n<g id=\"node4\" class=\"node\"><title>139930919687360</title>\n<polygon fill=\"none\" stroke=\"black\" points=\"958,-28 958,-64 1150,-64 1150,-28 958,-28\"/>\n<text text-anchor=\"middle\" x=\"970.5\" y=\"-42.3\" font-family=\"Times,serif\" font-size=\"14.00\">L</text>\n<polyline fill=\"none\" stroke=\"black\" points=\"983,-28 983,-64 \"/>\n<text text-anchor=\"middle\" x=\"1025.5\" y=\"-42.3\" font-family=\"Times,serif\" font-size=\"14.00\">data &#45;8.0000</text>\n<polyline fill=\"none\" stroke=\"black\" points=\"1068,-28 1068,-64 \"/>\n<text text-anchor=\"middle\" x=\"1109\" y=\"-42.3\" font-family=\"Times,serif\" font-size=\"14.00\">grad 1.0000</text>\n</g>\n<!-- 139930919687360* -->\n<g id=\"node5\" class=\"node\"><title>139930919687360*</title>\n<ellipse fill=\"none\" stroke=\"black\" cx=\"895\" cy=\"-46\" rx=\"27\" ry=\"18\"/>\n<text text-anchor=\"middle\" x=\"895\" y=\"-42.3\" font-family=\"Times,serif\" font-size=\"14.00\">*</text>\n</g>\n<!-- 139930919687360*&#45;&gt;139930919687360 -->\n<g id=\"edge2\" class=\"edge\"><title>139930919687360*&#45;&gt;139930919687360</title>\n<path fill=\"none\" stroke=\"black\" d=\"M922.278,-46C929.779,-46 938.443,-46 947.67,-46\"/>\n<polygon fill=\"black\" stroke=\"black\" points=\"947.874,-49.5001 957.874,-46 947.874,-42.5001 947.874,-49.5001\"/>\n</g>\n<!-- 139930919687888 -->\n<g id=\"node6\" class=\"node\"><title>139930919687888</title>\n<polygon fill=\"none\" stroke=\"black\" points=\"320,-29 320,-65 516,-65 516,-29 320,-29\"/>\n<text text-anchor=\"middle\" x=\"331.5\" y=\"-43.3\" font-family=\"Times,serif\" font-size=\"14.00\">c</text>\n<polyline fill=\"none\" stroke=\"black\" points=\"343,-29 343,-65 \"/>\n<text text-anchor=\"middle\" x=\"386.5\" y=\"-43.3\" font-family=\"Times,serif\" font-size=\"14.00\">data 10.0000</text>\n<polyline fill=\"none\" stroke=\"black\" points=\"430,-29 430,-65 \"/>\n<text text-anchor=\"middle\" x=\"473\" y=\"-43.3\" font-family=\"Times,serif\" font-size=\"14.00\">grad &#45;2.0000</text>\n</g>\n<!-- 139930919687888&#45;&gt;139930919686544+ -->\n<g id=\"edge8\" class=\"edge\"><title>139930919687888&#45;&gt;139930919686544+</title>\n<path fill=\"none\" stroke=\"black\" d=\"M516.071,-63.4838C525.422,-65.0717 534.431,-66.6016 542.546,-67.9796\"/>\n<polygon fill=\"black\" stroke=\"black\" points=\"542.207,-71.472 552.652,-69.6957 543.379,-64.5708 542.207,-71.472\"/>\n</g>\n<!-- 139930919689952 -->\n<g id=\"node7\" class=\"node\"><title>139930919689952</title>\n<polygon fill=\"none\" stroke=\"black\" points=\"643,-1 643,-37 831,-37 831,-1 643,-1\"/>\n<text text-anchor=\"middle\" x=\"653.5\" y=\"-15.3\" font-family=\"Times,serif\" font-size=\"14.00\">f</text>\n<polyline fill=\"none\" stroke=\"black\" points=\"664,-1 664,-37 \"/>\n<text text-anchor=\"middle\" x=\"706.5\" y=\"-15.3\" font-family=\"Times,serif\" font-size=\"14.00\">data &#45;2.0000</text>\n<polyline fill=\"none\" stroke=\"black\" points=\"749,-1 749,-37 \"/>\n<text text-anchor=\"middle\" x=\"790\" y=\"-15.3\" font-family=\"Times,serif\" font-size=\"14.00\">grad 4.0000</text>\n</g>\n<!-- 139930919689952&#45;&gt;139930919687360* -->\n<g id=\"edge7\" class=\"edge\"><title>139930919689952&#45;&gt;139930919687360*</title>\n<path fill=\"none\" stroke=\"black\" d=\"M831.448,-35.1736C841.029,-36.832 850.287,-38.4342 858.61,-39.8748\"/>\n<polygon fill=\"black\" stroke=\"black\" points=\"858.157,-43.3484 868.608,-41.6052 859.351,-36.451 858.157,-43.3484\"/>\n</g>\n<!-- 139930919996720 -->\n<g id=\"node8\" class=\"node\"><title>139930919996720</title>\n<polygon fill=\"none\" stroke=\"black\" points=\"0,-57 0,-93 194,-93 194,-57 0,-57\"/>\n<text text-anchor=\"middle\" x=\"11.5\" y=\"-71.3\" font-family=\"Times,serif\" font-size=\"14.00\">b</text>\n<polyline fill=\"none\" stroke=\"black\" points=\"23,-57 23,-93 \"/>\n<text text-anchor=\"middle\" x=\"65.5\" y=\"-71.3\" font-family=\"Times,serif\" font-size=\"14.00\">data &#45;3.0000</text>\n<polyline fill=\"none\" stroke=\"black\" points=\"108,-57 108,-93 \"/>\n<text text-anchor=\"middle\" x=\"151\" y=\"-71.3\" font-family=\"Times,serif\" font-size=\"14.00\">grad &#45;4.0000</text>\n</g>\n<!-- 139930919996720&#45;&gt;139930919686256* -->\n<g id=\"edge5\" class=\"edge\"><title>139930919996720&#45;&gt;139930919686256*</title>\n<path fill=\"none\" stroke=\"black\" d=\"M194.008,-91.4064C203.353,-93.0034 212.366,-94.5435 220.487,-95.9313\"/>\n<polygon fill=\"black\" stroke=\"black\" points=\"220.157,-99.4256 230.604,-97.6601 221.336,-92.5256 220.157,-99.4256\"/>\n</g>\n<!-- 139930919686544 -->\n<g id=\"node9\" class=\"node\"><title>139930919686544</title>\n<polygon fill=\"none\" stroke=\"black\" points=\"642.5,-56 642.5,-92 831.5,-92 831.5,-56 642.5,-56\"/>\n<text text-anchor=\"middle\" x=\"654\" y=\"-70.3\" font-family=\"Times,serif\" font-size=\"14.00\">d</text>\n<polyline fill=\"none\" stroke=\"black\" points=\"665.5,-56 665.5,-92 \"/>\n<text text-anchor=\"middle\" x=\"705.5\" y=\"-70.3\" font-family=\"Times,serif\" font-size=\"14.00\">data 4.0000</text>\n<polyline fill=\"none\" stroke=\"black\" points=\"745.5,-56 745.5,-92 \"/>\n<text text-anchor=\"middle\" x=\"788.5\" y=\"-70.3\" font-family=\"Times,serif\" font-size=\"14.00\">grad &#45;2.0000</text>\n</g>\n<!-- 139930919686544&#45;&gt;139930919687360* -->\n<g id=\"edge4\" class=\"edge\"><title>139930919686544&#45;&gt;139930919687360*</title>\n<path fill=\"none\" stroke=\"black\" d=\"M831.896,-57.1468C841.424,-55.4366 850.622,-53.7858 858.887,-52.3023\"/>\n<polygon fill=\"black\" stroke=\"black\" points=\"859.588,-55.7325 868.813,-50.5208 858.352,-48.8426 859.588,-55.7325\"/>\n</g>\n<!-- 139930919686544+&#45;&gt;139930919686544 -->\n<g id=\"edge3\" class=\"edge\"><title>139930919686544+&#45;&gt;139930919686544</title>\n<path fill=\"none\" stroke=\"black\" d=\"M606.111,-74C613.836,-74 622.804,-74 632.348,-74\"/>\n<polygon fill=\"black\" stroke=\"black\" points=\"632.475,-77.5001 642.475,-74 632.475,-70.5001 632.475,-77.5001\"/>\n</g>\n</g>\n</svg>\n",
      "text/plain": [
       "<graphviz.graphs.Digraph at 0x7f4434c2d490>"
      ]
     },
     "execution_count": 115,
     "metadata": {},
     "output_type": "execute_result"
    }
   ],
   "source": [
    "a = Value(2.0, _label=\"a\")\n",
    "b = Value(-3.0, _label=\"b\")\n",
    "c = Value(10, _label=\"c\")\n",
    "f = Value(-2.0, _label=\"f\")\n",
    "\n",
    "e = a * b\n",
    "e.label = \"e\"\n",
    "\n",
    "d = e + c\n",
    "d.label = \"d\"\n",
    "\n",
    "L = d * f\n",
    "L.label = \"L\"\n",
    "\n",
    "### GRADS\n",
    "a.grad = 6.0\n",
    "b.grad = -4.0\n",
    "c.grad = -2.0\n",
    "e.grad = -2.0\n",
    "d.grad = -2.0\n",
    "f.grad = 4.0\n",
    "L.grad = 1.0\n",
    "\n",
    "\n",
    "print(L)\n",
    "draw_dot(L)"
   ]
  },
  {
   "cell_type": "code",
   "execution_count": null,
   "metadata": {},
   "outputs": [
    {
     "name": "stdout",
     "output_type": "stream",
     "text": [
      "Value(data=-8.0,label='L')\n",
      "Value(data=-7.951951999999999,label='')\n"
     ]
    }
   ],
   "source": [
    "a = Value(2.0, _label=\"a\")\n",
    "b = Value(-3.0, _label=\"b\")\n",
    "c = Value(10, _label=\"c\")\n",
    "f = Value(-2.0, _label=\"f\")\n",
    "\n",
    "e = a * b\n",
    "e.label = \"e\"\n",
    "\n",
    "d = e + c\n",
    "d.label = \"d\"\n",
    "\n",
    "L = d * f\n",
    "L.label = \"L\"\n",
    "\n",
    "### GRADS\n",
    "a.grad = 6.0\n",
    "b.grad = -4.0\n",
    "c.grad = -2.0\n",
    "e.grad = -2.0\n",
    "d.grad = -2.0\n",
    "f.grad = 4.0\n",
    "L.grad = 1.0\n",
    "\n",
    "lr = 1e-3\n",
    "\n",
    "print(L)\n",
    "\n",
    "a += a.grad * lr\n",
    "b += b.grad * lr\n",
    "c += c.grad * lr\n",
    "c += f.grad * lr\n",
    "\n",
    "e = a * b\n",
    "d = e + c\n",
    "L = d * f\n",
    "\n",
    "print(L)"
   ]
  },
  {
   "cell_type": "code",
   "execution_count": null,
   "metadata": {},
   "outputs": [],
   "source": []
  },
  {
   "cell_type": "code",
   "execution_count": null,
   "metadata": {},
   "outputs": [
    {
     "name": "stdout",
     "output_type": "stream",
     "text": [
      "-8.0 -8.000000004\n",
      "-4.000000330961484e-09\n",
      "-4.000000330961484\n"
     ]
    }
   ],
   "source": [
    "def test_grad() -> None:\n",
    "    h = 1e-9\n",
    "\n",
    "    a = Value(2.0, _label=\"a\")\n",
    "    b = Value(-3.0, _label=\"b\")\n",
    "    c = Value(10, _label=\"c\")\n",
    "    f = Value(-2.0, _label=\"f\")\n",
    "\n",
    "    e = a * b\n",
    "    e.label = \"e\"\n",
    "\n",
    "    d = e + c\n",
    "    d.label = \"d\"\n",
    "\n",
    "    L = d * f\n",
    "    L.label = \"L\"\n",
    "    L1 = L.data\n",
    "\n",
    "    a = Value(2.0, _label=\"a\")\n",
    "    b = Value(-3.0, _label=\"b\")\n",
    "    b += h\n",
    "    c = Value(10, _label=\"c\")\n",
    "    f = Value(-2.0, _label=\"f\")\n",
    "\n",
    "    e = a * b\n",
    "    e.label = \"e\"\n",
    "\n",
    "\n",
    "    d = e + c\n",
    "    d.label = \"d\"\n",
    "\n",
    "    L = d * f\n",
    "    L.label = \"L\"\n",
    "    L2 = L.data\n",
    "\n",
    "    print(L1, L2)\n",
    "    print(L2 - L1)\n",
    "    print((L2 - L1) / h)\n",
    "\n",
    "test_grad()"
   ]
  },
  {
   "attachments": {},
   "cell_type": "markdown",
   "metadata": {},
   "source": [
    "![](https://www.allaboutcircuits.com/uploads/articles/how-to-train-a-basic-perceptron-neural-network_rk_aac_image1.jpg)"
   ]
  },
  {
   "cell_type": "code",
   "execution_count": null,
   "metadata": {},
   "outputs": [
    {
     "data": {
      "image/png": "[encoded data removed]",
      "text/plain": [
       "<Figure size 432x288 with 1 Axes>"
      ]
     },
     "metadata": {
      "needs_background": "light"
     },
     "output_type": "display_data"
    }
   ],
   "source": [
    "# (math.exp(2 * x) - 1) / (math.exp(2 * x) + 1)\n",
    "\n",
    "plt.plot(np.arange(-5, 5, 0.2), np.tanh(np.arange(-5, 5, 0.2)))\n",
    "plt.grid()"
   ]
  },
  {
   "cell_type": "code",
   "execution_count": null,
   "metadata": {},
   "outputs": [],
   "source": [
    "def tanh_ours(x: float) -> float:\n",
    "    return (math.exp(2 * x) - 1) / (math.exp(2 * x) + 1)"
   ]
  },
  {
   "cell_type": "code",
   "execution_count": null,
   "metadata": {},
   "outputs": [],
   "source": [
    "# NEURAL NET\n",
    "# f(x1, x2) = tanh(x1*w1 + x2*w2 + b)"
   ]
  },
  {
   "cell_type": "code",
   "execution_count": null,
   "metadata": {},
   "outputs": [
    {
     "data": {
      "image/svg+xml": "<?xml version=\"1.0\" encoding=\"UTF-8\" standalone=\"no\"?>\n<!DOCTYPE svg PUBLIC \"-//W3C//DTD SVG 1.1//EN\"\n \"http://www.w3.org/Graphics/SVG/1.1/DTD/svg11.dtd\">\n<!-- Generated by graphviz version 2.30.1 (20201013.1554)\n -->\n<!-- Title: %3 Pages: 1 -->\n<svg width=\"1542pt\" height=\"209pt\"\n viewBox=\"0.00 0.00 1542.00 209.00\" xmlns=\"http://www.w3.org/2000/svg\" xmlns:xlink=\"http://www.w3.org/1999/xlink\">\n<g id=\"graph0\" class=\"graph\" transform=\"scale(1 1) rotate(0) translate(4 205)\">\n<title>%3</title>\n<polygon fill=\"white\" stroke=\"white\" points=\"-4,5 -4,-205 1539,-205 1539,5 -4,5\"/>\n<!-- 139930925338688 -->\n<g id=\"node1\" class=\"node\"><title>139930925338688</title>\n<polygon fill=\"none\" stroke=\"black\" points=\"326,-55 326,-91 540,-91 540,-55 326,-55\"/>\n<text text-anchor=\"middle\" x=\"349.5\" y=\"-69.3\" font-family=\"Times,serif\" font-size=\"14.00\">x1w1</text>\n<polyline fill=\"none\" stroke=\"black\" points=\"373,-55 373,-91 \"/>\n<text text-anchor=\"middle\" x=\"415.5\" y=\"-69.3\" font-family=\"Times,serif\" font-size=\"14.00\">data &#45;6.0000</text>\n<polyline fill=\"none\" stroke=\"black\" points=\"458,-55 458,-91 \"/>\n<text text-anchor=\"middle\" x=\"499\" y=\"-69.3\" font-family=\"Times,serif\" font-size=\"14.00\">grad 0.0000</text>\n</g>\n<!-- 139930925342384+ -->\n<g id=\"node6\" class=\"node\"><title>139930925342384+</title>\n<ellipse fill=\"none\" stroke=\"black\" cx=\"603\" cy=\"-100\" rx=\"27\" ry=\"18\"/>\n<text text-anchor=\"middle\" x=\"603\" y=\"-96.3\" font-family=\"Times,serif\" font-size=\"14.00\">+</text>\n</g>\n<!-- 139930925338688&#45;&gt;139930925342384+ -->\n<g id=\"edge11\" class=\"edge\"><title>139930925338688&#45;&gt;139930925342384+</title>\n<path fill=\"none\" stroke=\"black\" d=\"M540.397,-90.0995C549.724,-91.5985 558.654,-93.0337 566.679,-94.3234\"/>\n<polygon fill=\"black\" stroke=\"black\" points=\"566.235,-97.7969 576.664,-95.9281 567.346,-90.8856 566.235,-97.7969\"/>\n</g>\n<!-- 139930925338688* -->\n<g id=\"node2\" class=\"node\"><title>139930925338688*</title>\n<ellipse fill=\"none\" stroke=\"black\" cx=\"263\" cy=\"-73\" rx=\"27\" ry=\"18\"/>\n<text text-anchor=\"middle\" x=\"263\" y=\"-69.3\" font-family=\"Times,serif\" font-size=\"14.00\">*</text>\n</g>\n<!-- 139930925338688*&#45;&gt;139930925338688 -->\n<g id=\"edge1\" class=\"edge\"><title>139930925338688*&#45;&gt;139930925338688</title>\n<path fill=\"none\" stroke=\"black\" d=\"M290.25,-73C297.705,-73 306.336,-73 315.587,-73\"/>\n<polygon fill=\"black\" stroke=\"black\" points=\"315.841,-76.5001 325.841,-73 315.841,-69.5001 315.841,-76.5001\"/>\n</g>\n<!-- 139930925340272 -->\n<g id=\"node3\" class=\"node\"><title>139930925340272</title>\n<polygon fill=\"none\" stroke=\"black\" points=\"4,-165 4,-201 196,-201 196,-165 4,-165\"/>\n<text text-anchor=\"middle\" x=\"19\" y=\"-179.3\" font-family=\"Times,serif\" font-size=\"14.00\">x2</text>\n<polyline fill=\"none\" stroke=\"black\" points=\"34,-165 34,-201 \"/>\n<text text-anchor=\"middle\" x=\"74\" y=\"-179.3\" font-family=\"Times,serif\" font-size=\"14.00\">data 0.0000</text>\n<polyline fill=\"none\" stroke=\"black\" points=\"114,-165 114,-201 \"/>\n<text text-anchor=\"middle\" x=\"155\" y=\"-179.3\" font-family=\"Times,serif\" font-size=\"14.00\">grad 0.0000</text>\n</g>\n<!-- 139930925342096* -->\n<g id=\"node12\" class=\"node\"><title>139930925342096*</title>\n<ellipse fill=\"none\" stroke=\"black\" cx=\"263\" cy=\"-128\" rx=\"27\" ry=\"18\"/>\n<text text-anchor=\"middle\" x=\"263\" y=\"-124.3\" font-family=\"Times,serif\" font-size=\"14.00\">*</text>\n</g>\n<!-- 139930925340272&#45;&gt;139930925342096* -->\n<g id=\"edge6\" class=\"edge\"><title>139930925340272&#45;&gt;139930925342096*</title>\n<path fill=\"none\" stroke=\"black\" d=\"M169.284,-164.996C179.648,-161.887 190.16,-158.516 200,-155 210.282,-151.326 221.276,-146.758 231.107,-142.431\"/>\n<polygon fill=\"black\" stroke=\"black\" points=\"232.79,-145.512 240.482,-138.226 229.925,-139.125 232.79,-145.512\"/>\n</g>\n<!-- 139930925340656 -->\n<g id=\"node4\" class=\"node\"><title>139930925340656</title>\n<polygon fill=\"none\" stroke=\"black\" points=\"4,-55 4,-91 196,-91 196,-55 4,-55\"/>\n<text text-anchor=\"middle\" x=\"19\" y=\"-69.3\" font-family=\"Times,serif\" font-size=\"14.00\">x1</text>\n<polyline fill=\"none\" stroke=\"black\" points=\"34,-55 34,-91 \"/>\n<text text-anchor=\"middle\" x=\"74\" y=\"-69.3\" font-family=\"Times,serif\" font-size=\"14.00\">data 2.0000</text>\n<polyline fill=\"none\" stroke=\"black\" points=\"114,-55 114,-91 \"/>\n<text text-anchor=\"middle\" x=\"155\" y=\"-69.3\" font-family=\"Times,serif\" font-size=\"14.00\">grad 0.0000</text>\n</g>\n<!-- 139930925340656&#45;&gt;139930925338688* -->\n<g id=\"edge13\" class=\"edge\"><title>139930925340656&#45;&gt;139930925338688*</title>\n<path fill=\"none\" stroke=\"black\" d=\"M196.051,-73C206.522,-73 216.654,-73 225.705,-73\"/>\n<polygon fill=\"black\" stroke=\"black\" points=\"225.79,-76.5001 235.79,-73 225.79,-69.5001 225.79,-76.5001\"/>\n</g>\n<!-- 139930925342384 -->\n<g id=\"node5\" class=\"node\"><title>139930925342384</title>\n<polygon fill=\"none\" stroke=\"black\" points=\"666,-82 666,-118 910,-118 910,-82 666,-82\"/>\n<text text-anchor=\"middle\" x=\"704.5\" y=\"-96.3\" font-family=\"Times,serif\" font-size=\"14.00\">x1w1x2w2</text>\n<polyline fill=\"none\" stroke=\"black\" points=\"743,-82 743,-118 \"/>\n<text text-anchor=\"middle\" x=\"785.5\" y=\"-96.3\" font-family=\"Times,serif\" font-size=\"14.00\">data &#45;6.0000</text>\n<polyline fill=\"none\" stroke=\"black\" points=\"828,-82 828,-118 \"/>\n<text text-anchor=\"middle\" x=\"869\" y=\"-96.3\" font-family=\"Times,serif\" font-size=\"14.00\">grad 0.0000</text>\n</g>\n<!-- 139930925342192+ -->\n<g id=\"node15\" class=\"node\"><title>139930925342192+</title>\n<ellipse fill=\"none\" stroke=\"black\" cx=\"973\" cy=\"-127\" rx=\"27\" ry=\"18\"/>\n<text text-anchor=\"middle\" x=\"973\" y=\"-123.3\" font-family=\"Times,serif\" font-size=\"14.00\">+</text>\n</g>\n<!-- 139930925342384&#45;&gt;139930925342192+ -->\n<g id=\"edge8\" class=\"edge\"><title>139930925342384&#45;&gt;139930925342192+</title>\n<path fill=\"none\" stroke=\"black\" d=\"M910.045,-117.859C919.473,-119.25 928.432,-120.572 936.459,-121.756\"/>\n<polygon fill=\"black\" stroke=\"black\" points=\"936.03,-125.231 946.434,-123.228 937.052,-118.306 936.03,-125.231\"/>\n</g>\n<!-- 139930925342384+&#45;&gt;139930925342384 -->\n<g id=\"edge2\" class=\"edge\"><title>139930925342384+&#45;&gt;139930925342384</title>\n<path fill=\"none\" stroke=\"black\" d=\"M630.219,-100C637.701,-100 646.398,-100 655.787,-100\"/>\n<polygon fill=\"black\" stroke=\"black\" points=\"655.8,-103.5 665.8,-100 655.8,-96.5001 655.8,-103.5\"/>\n</g>\n<!-- 139930925340848 -->\n<g id=\"node7\" class=\"node\"><title>139930925340848</title>\n<polygon fill=\"none\" stroke=\"black\" points=\"2.5,-110 2.5,-146 197.5,-146 197.5,-110 2.5,-110\"/>\n<text text-anchor=\"middle\" x=\"19\" y=\"-124.3\" font-family=\"Times,serif\" font-size=\"14.00\">w2</text>\n<polyline fill=\"none\" stroke=\"black\" points=\"35.5,-110 35.5,-146 \"/>\n<text text-anchor=\"middle\" x=\"75.5\" y=\"-124.3\" font-family=\"Times,serif\" font-size=\"14.00\">data 1.0000</text>\n<polyline fill=\"none\" stroke=\"black\" points=\"115.5,-110 115.5,-146 \"/>\n<text text-anchor=\"middle\" x=\"156.5\" y=\"-124.3\" font-family=\"Times,serif\" font-size=\"14.00\">grad 0.0000</text>\n</g>\n<!-- 139930925340848&#45;&gt;139930925342096* -->\n<g id=\"edge9\" class=\"edge\"><title>139930925340848&#45;&gt;139930925342096*</title>\n<path fill=\"none\" stroke=\"black\" d=\"M197.906,-128C207.646,-128 217.051,-128 225.518,-128\"/>\n<polygon fill=\"black\" stroke=\"black\" points=\"225.696,-131.5 235.696,-128 225.696,-124.5 225.696,-131.5\"/>\n</g>\n<!-- 139930925342432 -->\n<g id=\"node8\" class=\"node\"><title>139930925342432</title>\n<polygon fill=\"none\" stroke=\"black\" points=\"1348.5,-109 1348.5,-145 1533.5,-145 1533.5,-109 1348.5,-109\"/>\n<text text-anchor=\"middle\" x=\"1360\" y=\"-123.3\" font-family=\"Times,serif\" font-size=\"14.00\">o</text>\n<polyline fill=\"none\" stroke=\"black\" points=\"1371.5,-109 1371.5,-145 \"/>\n<text text-anchor=\"middle\" x=\"1411.5\" y=\"-123.3\" font-family=\"Times,serif\" font-size=\"14.00\">data 0.7071</text>\n<polyline fill=\"none\" stroke=\"black\" points=\"1451.5,-109 1451.5,-145 \"/>\n<text text-anchor=\"middle\" x=\"1492.5\" y=\"-123.3\" font-family=\"Times,serif\" font-size=\"14.00\">grad 0.0000</text>\n</g>\n<!-- 139930925342432tanh -->\n<g id=\"node9\" class=\"node\"><title>139930925342432tanh</title>\n<ellipse fill=\"none\" stroke=\"black\" cx=\"1285\" cy=\"-127\" rx=\"27\" ry=\"18\"/>\n<text text-anchor=\"middle\" x=\"1285\" y=\"-123.3\" font-family=\"Times,serif\" font-size=\"14.00\">tanh</text>\n</g>\n<!-- 139930925342432tanh&#45;&gt;139930925342432 -->\n<g id=\"edge3\" class=\"edge\"><title>139930925342432tanh&#45;&gt;139930925342432</title>\n<path fill=\"none\" stroke=\"black\" d=\"M1312.12,-127C1319.83,-127 1328.77,-127 1338.27,-127\"/>\n<polygon fill=\"black\" stroke=\"black\" points=\"1338.34,-130.5 1348.34,-127 1338.34,-123.5 1338.34,-130.5\"/>\n</g>\n<!-- 139930925340896 -->\n<g id=\"node10\" class=\"node\"><title>139930925340896</title>\n<polygon fill=\"none\" stroke=\"black\" points=\"695.5,-137 695.5,-173 880.5,-173 880.5,-137 695.5,-137\"/>\n<text text-anchor=\"middle\" x=\"707\" y=\"-151.3\" font-family=\"Times,serif\" font-size=\"14.00\">b</text>\n<polyline fill=\"none\" stroke=\"black\" points=\"718.5,-137 718.5,-173 \"/>\n<text text-anchor=\"middle\" x=\"758.5\" y=\"-151.3\" font-family=\"Times,serif\" font-size=\"14.00\">data 6.8814</text>\n<polyline fill=\"none\" stroke=\"black\" points=\"798.5,-137 798.5,-173 \"/>\n<text text-anchor=\"middle\" x=\"839.5\" y=\"-151.3\" font-family=\"Times,serif\" font-size=\"14.00\">grad 0.0000</text>\n</g>\n<!-- 139930925340896&#45;&gt;139930925342192+ -->\n<g id=\"edge7\" class=\"edge\"><title>139930925340896&#45;&gt;139930925342192+</title>\n<path fill=\"none\" stroke=\"black\" d=\"M880.768,-140.959C900.52,-137.937 920.256,-134.917 936.293,-132.463\"/>\n<polygon fill=\"black\" stroke=\"black\" points=\"936.905,-135.911 946.26,-130.938 935.846,-128.991 936.905,-135.911\"/>\n</g>\n<!-- 139930925342096 -->\n<g id=\"node11\" class=\"node\"><title>139930925342096</title>\n<polygon fill=\"none\" stroke=\"black\" points=\"328.5,-110 328.5,-146 537.5,-146 537.5,-110 328.5,-110\"/>\n<text text-anchor=\"middle\" x=\"352\" y=\"-124.3\" font-family=\"Times,serif\" font-size=\"14.00\">x2w2</text>\n<polyline fill=\"none\" stroke=\"black\" points=\"375.5,-110 375.5,-146 \"/>\n<text text-anchor=\"middle\" x=\"415.5\" y=\"-124.3\" font-family=\"Times,serif\" font-size=\"14.00\">data 0.0000</text>\n<polyline fill=\"none\" stroke=\"black\" points=\"455.5,-110 455.5,-146 \"/>\n<text text-anchor=\"middle\" x=\"496.5\" y=\"-124.3\" font-family=\"Times,serif\" font-size=\"14.00\">grad 0.0000</text>\n</g>\n<!-- 139930925342096&#45;&gt;139930925342384+ -->\n<g id=\"edge10\" class=\"edge\"><title>139930925342096&#45;&gt;139930925342384+</title>\n<path fill=\"none\" stroke=\"black\" d=\"M537.527,-110.745C547.8,-109.033 557.661,-107.39 566.447,-105.925\"/>\n<polygon fill=\"black\" stroke=\"black\" points=\"567.299,-109.332 576.587,-104.235 566.148,-102.427 567.299,-109.332\"/>\n</g>\n<!-- 139930925342096*&#45;&gt;139930925342096 -->\n<g id=\"edge4\" class=\"edge\"><title>139930925342096*&#45;&gt;139930925342096</title>\n<path fill=\"none\" stroke=\"black\" d=\"M290.25,-128C298.432,-128 308.032,-128 318.312,-128\"/>\n<polygon fill=\"black\" stroke=\"black\" points=\"318.353,-131.5 328.353,-128 318.353,-124.5 318.353,-131.5\"/>\n</g>\n<!-- 139930925340608 -->\n<g id=\"node13\" class=\"node\"><title>139930925340608</title>\n<polygon fill=\"none\" stroke=\"black\" points=\"0,-0 0,-36 200,-36 200,-0 0,-0\"/>\n<text text-anchor=\"middle\" x=\"16.5\" y=\"-14.3\" font-family=\"Times,serif\" font-size=\"14.00\">w1</text>\n<polyline fill=\"none\" stroke=\"black\" points=\"33,-0 33,-36 \"/>\n<text text-anchor=\"middle\" x=\"75.5\" y=\"-14.3\" font-family=\"Times,serif\" font-size=\"14.00\">data &#45;3.0000</text>\n<polyline fill=\"none\" stroke=\"black\" points=\"118,-0 118,-36 \"/>\n<text text-anchor=\"middle\" x=\"159\" y=\"-14.3\" font-family=\"Times,serif\" font-size=\"14.00\">grad 0.0000</text>\n</g>\n<!-- 139930925340608&#45;&gt;139930925338688* -->\n<g id=\"edge12\" class=\"edge\"><title>139930925340608&#45;&gt;139930925338688*</title>\n<path fill=\"none\" stroke=\"black\" d=\"M169.284,-36.004C179.648,-39.113 190.16,-42.4841 200,-46 210.282,-49.6738 221.276,-54.2416 231.107,-58.5691\"/>\n<polygon fill=\"black\" stroke=\"black\" points=\"229.925,-61.8749 240.482,-62.7744 232.79,-55.488 229.925,-61.8749\"/>\n</g>\n<!-- 139930925342192 -->\n<g id=\"node14\" class=\"node\"><title>139930925342192</title>\n<polygon fill=\"none\" stroke=\"black\" points=\"1036.5,-109 1036.5,-145 1221.5,-145 1221.5,-109 1036.5,-109\"/>\n<text text-anchor=\"middle\" x=\"1048\" y=\"-123.3\" font-family=\"Times,serif\" font-size=\"14.00\">n</text>\n<polyline fill=\"none\" stroke=\"black\" points=\"1059.5,-109 1059.5,-145 \"/>\n<text text-anchor=\"middle\" x=\"1099.5\" y=\"-123.3\" font-family=\"Times,serif\" font-size=\"14.00\">data 0.8814</text>\n<polyline fill=\"none\" stroke=\"black\" points=\"1139.5,-109 1139.5,-145 \"/>\n<text text-anchor=\"middle\" x=\"1180.5\" y=\"-123.3\" font-family=\"Times,serif\" font-size=\"14.00\">grad 0.0000</text>\n</g>\n<!-- 139930925342192&#45;&gt;139930925342432tanh -->\n<g id=\"edge14\" class=\"edge\"><title>139930925342192&#45;&gt;139930925342432tanh</title>\n<path fill=\"none\" stroke=\"black\" d=\"M1221.81,-127C1230.94,-127 1239.79,-127 1247.81,-127\"/>\n<polygon fill=\"black\" stroke=\"black\" points=\"1247.82,-130.5 1257.82,-127 1247.82,-123.5 1247.82,-130.5\"/>\n</g>\n<!-- 139930925342192+&#45;&gt;139930925342192 -->\n<g id=\"edge5\" class=\"edge\"><title>139930925342192+&#45;&gt;139930925342192</title>\n<path fill=\"none\" stroke=\"black\" d=\"M1000.12,-127C1007.83,-127 1016.77,-127 1026.27,-127\"/>\n<polygon fill=\"black\" stroke=\"black\" points=\"1026.34,-130.5 1036.34,-127 1026.34,-123.5 1026.34,-130.5\"/>\n</g>\n</g>\n</svg>\n",
      "text/plain": [
       "<graphviz.graphs.Digraph at 0x7f44351fba90>"
      ]
     },
     "execution_count": 141,
     "metadata": {},
     "output_type": "execute_result"
    }
   ],
   "source": [
    "# inputs x1, x2\n",
    "x1 = Value(2.0, _label=\"x1\")\n",
    "x2 = Value(0.0, _label=\"x2\")\n",
    "# weights w1, w2\n",
    "w1 = Value(-3.0, _label=\"w1\")\n",
    "w2 = Value(1.0, _label=\"w2\")\n",
    "# bias\n",
    "b = Value(6.8813735870195432, _label=\"b\")\n",
    "# w1*x1 + w2*x2 + b\n",
    "x1w1 = x1 * w1\n",
    "x1w1.label = \"x1w1\"\n",
    "x2w2 = x2 * w2\n",
    "x2w2.label = \"x2w2\"\n",
    "x1w1x2w2 = x1w1 + x2w2\n",
    "x1w1x2w2.label = \"x1w1x2w2\"\n",
    "n = x1w1x2w2 + b\n",
    "n.label = \"n\"\n",
    "o = n.tanh()\n",
    "o.label = \"o\""
   ]
  },
  {
   "cell_type": "code",
   "execution_count": null,
   "metadata": {},
   "outputs": [
    {
     "data": {
      "image/svg+xml": "<?xml version=\"1.0\" encoding=\"UTF-8\" standalone=\"no\"?>\n<!DOCTYPE svg PUBLIC \"-//W3C//DTD SVG 1.1//EN\"\n \"http://www.w3.org/Graphics/SVG/1.1/DTD/svg11.dtd\">\n<!-- Generated by graphviz version 2.30.1 (20201013.1554)\n -->\n<!-- Title: %3 Pages: 1 -->\n<svg width=\"1542pt\" height=\"209pt\"\n viewBox=\"0.00 0.00 1542.00 209.00\" xmlns=\"http://www.w3.org/2000/svg\" xmlns:xlink=\"http://www.w3.org/1999/xlink\">\n<g id=\"graph0\" class=\"graph\" transform=\"scale(1 1) rotate(0) translate(4 205)\">\n<title>%3</title>\n<polygon fill=\"white\" stroke=\"white\" points=\"-4,5 -4,-205 1539,-205 1539,5 -4,5\"/>\n<!-- 139930925338688 -->\n<g id=\"node1\" class=\"node\"><title>139930925338688</title>\n<polygon fill=\"none\" stroke=\"black\" points=\"326,-55 326,-91 540,-91 540,-55 326,-55\"/>\n<text text-anchor=\"middle\" x=\"349.5\" y=\"-69.3\" font-family=\"Times,serif\" font-size=\"14.00\">x1w1</text>\n<polyline fill=\"none\" stroke=\"black\" points=\"373,-55 373,-91 \"/>\n<text text-anchor=\"middle\" x=\"415.5\" y=\"-69.3\" font-family=\"Times,serif\" font-size=\"14.00\">data &#45;6.0000</text>\n<polyline fill=\"none\" stroke=\"black\" points=\"458,-55 458,-91 \"/>\n<text text-anchor=\"middle\" x=\"499\" y=\"-69.3\" font-family=\"Times,serif\" font-size=\"14.00\">grad 0.5000</text>\n</g>\n<!-- 139930925342384+ -->\n<g id=\"node6\" class=\"node\"><title>139930925342384+</title>\n<ellipse fill=\"none\" stroke=\"black\" cx=\"603\" cy=\"-100\" rx=\"27\" ry=\"18\"/>\n<text text-anchor=\"middle\" x=\"603\" y=\"-96.3\" font-family=\"Times,serif\" font-size=\"14.00\">+</text>\n</g>\n<!-- 139930925338688&#45;&gt;139930925342384+ -->\n<g id=\"edge11\" class=\"edge\"><title>139930925338688&#45;&gt;139930925342384+</title>\n<path fill=\"none\" stroke=\"black\" d=\"M540.397,-90.0995C549.724,-91.5985 558.654,-93.0337 566.679,-94.3234\"/>\n<polygon fill=\"black\" stroke=\"black\" points=\"566.235,-97.7969 576.664,-95.9281 567.346,-90.8856 566.235,-97.7969\"/>\n</g>\n<!-- 139930925338688* -->\n<g id=\"node2\" class=\"node\"><title>139930925338688*</title>\n<ellipse fill=\"none\" stroke=\"black\" cx=\"263\" cy=\"-73\" rx=\"27\" ry=\"18\"/>\n<text text-anchor=\"middle\" x=\"263\" y=\"-69.3\" font-family=\"Times,serif\" font-size=\"14.00\">*</text>\n</g>\n<!-- 139930925338688*&#45;&gt;139930925338688 -->\n<g id=\"edge1\" class=\"edge\"><title>139930925338688*&#45;&gt;139930925338688</title>\n<path fill=\"none\" stroke=\"black\" d=\"M290.25,-73C297.705,-73 306.336,-73 315.587,-73\"/>\n<polygon fill=\"black\" stroke=\"black\" points=\"315.841,-76.5001 325.841,-73 315.841,-69.5001 315.841,-76.5001\"/>\n</g>\n<!-- 139930925340272 -->\n<g id=\"node3\" class=\"node\"><title>139930925340272</title>\n<polygon fill=\"none\" stroke=\"black\" points=\"4,-165 4,-201 196,-201 196,-165 4,-165\"/>\n<text text-anchor=\"middle\" x=\"19\" y=\"-179.3\" font-family=\"Times,serif\" font-size=\"14.00\">x2</text>\n<polyline fill=\"none\" stroke=\"black\" points=\"34,-165 34,-201 \"/>\n<text text-anchor=\"middle\" x=\"74\" y=\"-179.3\" font-family=\"Times,serif\" font-size=\"14.00\">data 0.0000</text>\n<polyline fill=\"none\" stroke=\"black\" points=\"114,-165 114,-201 \"/>\n<text text-anchor=\"middle\" x=\"155\" y=\"-179.3\" font-family=\"Times,serif\" font-size=\"14.00\">grad 0.5000</text>\n</g>\n<!-- 139930925342096* -->\n<g id=\"node12\" class=\"node\"><title>139930925342096*</title>\n<ellipse fill=\"none\" stroke=\"black\" cx=\"263\" cy=\"-128\" rx=\"27\" ry=\"18\"/>\n<text text-anchor=\"middle\" x=\"263\" y=\"-124.3\" font-family=\"Times,serif\" font-size=\"14.00\">*</text>\n</g>\n<!-- 139930925340272&#45;&gt;139930925342096* -->\n<g id=\"edge6\" class=\"edge\"><title>139930925340272&#45;&gt;139930925342096*</title>\n<path fill=\"none\" stroke=\"black\" d=\"M169.284,-164.996C179.648,-161.887 190.16,-158.516 200,-155 210.282,-151.326 221.276,-146.758 231.107,-142.431\"/>\n<polygon fill=\"black\" stroke=\"black\" points=\"232.79,-145.512 240.482,-138.226 229.925,-139.125 232.79,-145.512\"/>\n</g>\n<!-- 139930925340656 -->\n<g id=\"node4\" class=\"node\"><title>139930925340656</title>\n<polygon fill=\"none\" stroke=\"black\" points=\"2,-55 2,-91 198,-91 198,-55 2,-55\"/>\n<text text-anchor=\"middle\" x=\"17\" y=\"-69.3\" font-family=\"Times,serif\" font-size=\"14.00\">x1</text>\n<polyline fill=\"none\" stroke=\"black\" points=\"32,-55 32,-91 \"/>\n<text text-anchor=\"middle\" x=\"72\" y=\"-69.3\" font-family=\"Times,serif\" font-size=\"14.00\">data 2.0000</text>\n<polyline fill=\"none\" stroke=\"black\" points=\"112,-55 112,-91 \"/>\n<text text-anchor=\"middle\" x=\"155\" y=\"-69.3\" font-family=\"Times,serif\" font-size=\"14.00\">grad &#45;1.5000</text>\n</g>\n<!-- 139930925340656&#45;&gt;139930925338688* -->\n<g id=\"edge13\" class=\"edge\"><title>139930925340656&#45;&gt;139930925338688*</title>\n<path fill=\"none\" stroke=\"black\" d=\"M198.369,-73C208.054,-73 217.397,-73 225.805,-73\"/>\n<polygon fill=\"black\" stroke=\"black\" points=\"225.909,-76.5001 235.909,-73 225.909,-69.5001 225.909,-76.5001\"/>\n</g>\n<!-- 139930925342384 -->\n<g id=\"node5\" class=\"node\"><title>139930925342384</title>\n<polygon fill=\"none\" stroke=\"black\" points=\"666,-82 666,-118 910,-118 910,-82 666,-82\"/>\n<text text-anchor=\"middle\" x=\"704.5\" y=\"-96.3\" font-family=\"Times,serif\" font-size=\"14.00\">x1w1x2w2</text>\n<polyline fill=\"none\" stroke=\"black\" points=\"743,-82 743,-118 \"/>\n<text text-anchor=\"middle\" x=\"785.5\" y=\"-96.3\" font-family=\"Times,serif\" font-size=\"14.00\">data &#45;6.0000</text>\n<polyline fill=\"none\" stroke=\"black\" points=\"828,-82 828,-118 \"/>\n<text text-anchor=\"middle\" x=\"869\" y=\"-96.3\" font-family=\"Times,serif\" font-size=\"14.00\">grad 0.5000</text>\n</g>\n<!-- 139930925342192+ -->\n<g id=\"node15\" class=\"node\"><title>139930925342192+</title>\n<ellipse fill=\"none\" stroke=\"black\" cx=\"973\" cy=\"-127\" rx=\"27\" ry=\"18\"/>\n<text text-anchor=\"middle\" x=\"973\" y=\"-123.3\" font-family=\"Times,serif\" font-size=\"14.00\">+</text>\n</g>\n<!-- 139930925342384&#45;&gt;139930925342192+ -->\n<g id=\"edge8\" class=\"edge\"><title>139930925342384&#45;&gt;139930925342192+</title>\n<path fill=\"none\" stroke=\"black\" d=\"M910.045,-117.859C919.473,-119.25 928.432,-120.572 936.459,-121.756\"/>\n<polygon fill=\"black\" stroke=\"black\" points=\"936.03,-125.231 946.434,-123.228 937.052,-118.306 936.03,-125.231\"/>\n</g>\n<!-- 139930925342384+&#45;&gt;139930925342384 -->\n<g id=\"edge2\" class=\"edge\"><title>139930925342384+&#45;&gt;139930925342384</title>\n<path fill=\"none\" stroke=\"black\" d=\"M630.219,-100C637.701,-100 646.398,-100 655.787,-100\"/>\n<polygon fill=\"black\" stroke=\"black\" points=\"655.8,-103.5 665.8,-100 655.8,-96.5001 655.8,-103.5\"/>\n</g>\n<!-- 139930925340848 -->\n<g id=\"node7\" class=\"node\"><title>139930925340848</title>\n<polygon fill=\"none\" stroke=\"black\" points=\"2.5,-110 2.5,-146 197.5,-146 197.5,-110 2.5,-110\"/>\n<text text-anchor=\"middle\" x=\"19\" y=\"-124.3\" font-family=\"Times,serif\" font-size=\"14.00\">w2</text>\n<polyline fill=\"none\" stroke=\"black\" points=\"35.5,-110 35.5,-146 \"/>\n<text text-anchor=\"middle\" x=\"75.5\" y=\"-124.3\" font-family=\"Times,serif\" font-size=\"14.00\">data 1.0000</text>\n<polyline fill=\"none\" stroke=\"black\" points=\"115.5,-110 115.5,-146 \"/>\n<text text-anchor=\"middle\" x=\"156.5\" y=\"-124.3\" font-family=\"Times,serif\" font-size=\"14.00\">grad 0.0000</text>\n</g>\n<!-- 139930925340848&#45;&gt;139930925342096* -->\n<g id=\"edge9\" class=\"edge\"><title>139930925340848&#45;&gt;139930925342096*</title>\n<path fill=\"none\" stroke=\"black\" d=\"M197.906,-128C207.646,-128 217.051,-128 225.518,-128\"/>\n<polygon fill=\"black\" stroke=\"black\" points=\"225.696,-131.5 235.696,-128 225.696,-124.5 225.696,-131.5\"/>\n</g>\n<!-- 139930925342432 -->\n<g id=\"node8\" class=\"node\"><title>139930925342432</title>\n<polygon fill=\"none\" stroke=\"black\" points=\"1348.5,-109 1348.5,-145 1533.5,-145 1533.5,-109 1348.5,-109\"/>\n<text text-anchor=\"middle\" x=\"1360\" y=\"-123.3\" font-family=\"Times,serif\" font-size=\"14.00\">o</text>\n<polyline fill=\"none\" stroke=\"black\" points=\"1371.5,-109 1371.5,-145 \"/>\n<text text-anchor=\"middle\" x=\"1411.5\" y=\"-123.3\" font-family=\"Times,serif\" font-size=\"14.00\">data 0.7071</text>\n<polyline fill=\"none\" stroke=\"black\" points=\"1451.5,-109 1451.5,-145 \"/>\n<text text-anchor=\"middle\" x=\"1492.5\" y=\"-123.3\" font-family=\"Times,serif\" font-size=\"14.00\">grad 1.0000</text>\n</g>\n<!-- 139930925342432tanh -->\n<g id=\"node9\" class=\"node\"><title>139930925342432tanh</title>\n<ellipse fill=\"none\" stroke=\"black\" cx=\"1285\" cy=\"-127\" rx=\"27\" ry=\"18\"/>\n<text text-anchor=\"middle\" x=\"1285\" y=\"-123.3\" font-family=\"Times,serif\" font-size=\"14.00\">tanh</text>\n</g>\n<!-- 139930925342432tanh&#45;&gt;139930925342432 -->\n<g id=\"edge3\" class=\"edge\"><title>139930925342432tanh&#45;&gt;139930925342432</title>\n<path fill=\"none\" stroke=\"black\" d=\"M1312.12,-127C1319.83,-127 1328.77,-127 1338.27,-127\"/>\n<polygon fill=\"black\" stroke=\"black\" points=\"1338.34,-130.5 1348.34,-127 1338.34,-123.5 1338.34,-130.5\"/>\n</g>\n<!-- 139930925340896 -->\n<g id=\"node10\" class=\"node\"><title>139930925340896</title>\n<polygon fill=\"none\" stroke=\"black\" points=\"695.5,-137 695.5,-173 880.5,-173 880.5,-137 695.5,-137\"/>\n<text text-anchor=\"middle\" x=\"707\" y=\"-151.3\" font-family=\"Times,serif\" font-size=\"14.00\">b</text>\n<polyline fill=\"none\" stroke=\"black\" points=\"718.5,-137 718.5,-173 \"/>\n<text text-anchor=\"middle\" x=\"758.5\" y=\"-151.3\" font-family=\"Times,serif\" font-size=\"14.00\">data 6.8814</text>\n<polyline fill=\"none\" stroke=\"black\" points=\"798.5,-137 798.5,-173 \"/>\n<text text-anchor=\"middle\" x=\"839.5\" y=\"-151.3\" font-family=\"Times,serif\" font-size=\"14.00\">grad 0.5000</text>\n</g>\n<!-- 139930925340896&#45;&gt;139930925342192+ -->\n<g id=\"edge7\" class=\"edge\"><title>139930925340896&#45;&gt;139930925342192+</title>\n<path fill=\"none\" stroke=\"black\" d=\"M880.768,-140.959C900.52,-137.937 920.256,-134.917 936.293,-132.463\"/>\n<polygon fill=\"black\" stroke=\"black\" points=\"936.905,-135.911 946.26,-130.938 935.846,-128.991 936.905,-135.911\"/>\n</g>\n<!-- 139930925342096 -->\n<g id=\"node11\" class=\"node\"><title>139930925342096</title>\n<polygon fill=\"none\" stroke=\"black\" points=\"328.5,-110 328.5,-146 537.5,-146 537.5,-110 328.5,-110\"/>\n<text text-anchor=\"middle\" x=\"352\" y=\"-124.3\" font-family=\"Times,serif\" font-size=\"14.00\">x2w2</text>\n<polyline fill=\"none\" stroke=\"black\" points=\"375.5,-110 375.5,-146 \"/>\n<text text-anchor=\"middle\" x=\"415.5\" y=\"-124.3\" font-family=\"Times,serif\" font-size=\"14.00\">data 0.0000</text>\n<polyline fill=\"none\" stroke=\"black\" points=\"455.5,-110 455.5,-146 \"/>\n<text text-anchor=\"middle\" x=\"496.5\" y=\"-124.3\" font-family=\"Times,serif\" font-size=\"14.00\">grad 0.5000</text>\n</g>\n<!-- 139930925342096&#45;&gt;139930925342384+ -->\n<g id=\"edge10\" class=\"edge\"><title>139930925342096&#45;&gt;139930925342384+</title>\n<path fill=\"none\" stroke=\"black\" d=\"M537.527,-110.745C547.8,-109.033 557.661,-107.39 566.447,-105.925\"/>\n<polygon fill=\"black\" stroke=\"black\" points=\"567.299,-109.332 576.587,-104.235 566.148,-102.427 567.299,-109.332\"/>\n</g>\n<!-- 139930925342096*&#45;&gt;139930925342096 -->\n<g id=\"edge4\" class=\"edge\"><title>139930925342096*&#45;&gt;139930925342096</title>\n<path fill=\"none\" stroke=\"black\" d=\"M290.25,-128C298.432,-128 308.032,-128 318.312,-128\"/>\n<polygon fill=\"black\" stroke=\"black\" points=\"318.353,-131.5 328.353,-128 318.353,-124.5 318.353,-131.5\"/>\n</g>\n<!-- 139930925340608 -->\n<g id=\"node13\" class=\"node\"><title>139930925340608</title>\n<polygon fill=\"none\" stroke=\"black\" points=\"0,-0 0,-36 200,-36 200,-0 0,-0\"/>\n<text text-anchor=\"middle\" x=\"16.5\" y=\"-14.3\" font-family=\"Times,serif\" font-size=\"14.00\">w1</text>\n<polyline fill=\"none\" stroke=\"black\" points=\"33,-0 33,-36 \"/>\n<text text-anchor=\"middle\" x=\"75.5\" y=\"-14.3\" font-family=\"Times,serif\" font-size=\"14.00\">data &#45;3.0000</text>\n<polyline fill=\"none\" stroke=\"black\" points=\"118,-0 118,-36 \"/>\n<text text-anchor=\"middle\" x=\"159\" y=\"-14.3\" font-family=\"Times,serif\" font-size=\"14.00\">grad 1.0000</text>\n</g>\n<!-- 139930925340608&#45;&gt;139930925338688* -->\n<g id=\"edge12\" class=\"edge\"><title>139930925340608&#45;&gt;139930925338688*</title>\n<path fill=\"none\" stroke=\"black\" d=\"M169.284,-36.004C179.648,-39.113 190.16,-42.4841 200,-46 210.282,-49.6738 221.276,-54.2416 231.107,-58.5691\"/>\n<polygon fill=\"black\" stroke=\"black\" points=\"229.925,-61.8749 240.482,-62.7744 232.79,-55.488 229.925,-61.8749\"/>\n</g>\n<!-- 139930925342192 -->\n<g id=\"node14\" class=\"node\"><title>139930925342192</title>\n<polygon fill=\"none\" stroke=\"black\" points=\"1036.5,-109 1036.5,-145 1221.5,-145 1221.5,-109 1036.5,-109\"/>\n<text text-anchor=\"middle\" x=\"1048\" y=\"-123.3\" font-family=\"Times,serif\" font-size=\"14.00\">n</text>\n<polyline fill=\"none\" stroke=\"black\" points=\"1059.5,-109 1059.5,-145 \"/>\n<text text-anchor=\"middle\" x=\"1099.5\" y=\"-123.3\" font-family=\"Times,serif\" font-size=\"14.00\">data 0.8814</text>\n<polyline fill=\"none\" stroke=\"black\" points=\"1139.5,-109 1139.5,-145 \"/>\n<text text-anchor=\"middle\" x=\"1180.5\" y=\"-123.3\" font-family=\"Times,serif\" font-size=\"14.00\">grad 0.5000</text>\n</g>\n<!-- 139930925342192&#45;&gt;139930925342432tanh -->\n<g id=\"edge14\" class=\"edge\"><title>139930925342192&#45;&gt;139930925342432tanh</title>\n<path fill=\"none\" stroke=\"black\" d=\"M1221.81,-127C1230.94,-127 1239.79,-127 1247.81,-127\"/>\n<polygon fill=\"black\" stroke=\"black\" points=\"1247.82,-130.5 1257.82,-127 1247.82,-123.5 1247.82,-130.5\"/>\n</g>\n<!-- 139930925342192+&#45;&gt;139930925342192 -->\n<g id=\"edge5\" class=\"edge\"><title>139930925342192+&#45;&gt;139930925342192</title>\n<path fill=\"none\" stroke=\"black\" d=\"M1000.12,-127C1007.83,-127 1016.77,-127 1026.27,-127\"/>\n<polygon fill=\"black\" stroke=\"black\" points=\"1026.34,-130.5 1036.34,-127 1026.34,-123.5 1026.34,-130.5\"/>\n</g>\n</g>\n</svg>\n",
      "text/plain": [
       "<graphviz.graphs.Digraph at 0x7f4435221160>"
      ]
     },
     "execution_count": 150,
     "metadata": {},
     "output_type": "execute_result"
    }
   ],
   "source": [
    "draw_dot(o)"
   ]
  },
  {
   "cell_type": "code",
   "execution_count": null,
   "metadata": {},
   "outputs": [],
   "source": [
    "# Calculate grads\n",
    "o.grad = 1.0\n",
    "\n",
    "'''\n",
    "o = tanh(n)\n",
    "\n",
    "do/dn = 1 - tanh(n)**2 = 1 - o**2\n",
    "'''\n",
    "n.grad = 0.5\n",
    "\n",
    "b.grad = 0.5\n",
    "x1w1x2w2.grad = 0.5\n",
    "\n",
    "x2w2.grad = 0.5\n",
    "x1w1.grad = 0.5\n",
    "\n",
    "x2.grad = x2w2.grad * w2.data\n",
    "w2.grad = x2w2.grad * x2.data\n",
    "\n",
    "x1.grad = x1w1.grad * w1.data\n",
    "w1.grad = x1w1.grad * x1.data\n"
   ]
  },
  {
   "cell_type": "code",
   "execution_count": null,
   "metadata": {},
   "outputs": [
    {
     "data": {
      "text/plain": [
       "'\\n1) x1w1 = x1 * w1 \\n2) x2w2 = x2 * w2\\n3) n = x1w1 + x2w2 + b = (x1 * w1) + (x2 * w2) + b\\nn/w1 = n/x1w1 * x1w1/w1 = 0.5 * 2.0 = 1.0\\n'"
      ]
     },
     "execution_count": 158,
     "metadata": {},
     "output_type": "execute_result"
    }
   ],
   "source": [
    "'''\n",
    "1) x1w1 = x1 * w1 \n",
    "2) x2w2 = x2 * w2\n",
    "3) n = x1w1 + x2w2 + b = (x1 * w1) + (x2 * w2) + b\n",
    "n/w1 = n/x1w1 * x1w1/w1 = 0.5 * 2.0 = 1.0\n",
    "'''"
   ]
  },
  {
   "attachments": {},
   "cell_type": "markdown",
   "metadata": {},
   "source": [
    "### After auto_grad addition"
   ]
  },
  {
   "cell_type": "code",
   "execution_count": 197,
   "metadata": {},
   "outputs": [],
   "source": [
    "# inputs x1, x2\n",
    "x1 = Value(2.0, _label=\"x1\")\n",
    "x2 = Value(0.0, _label=\"x2\")\n",
    "# weights w1, w2\n",
    "w1 = Value(-3.0, _label=\"w1\")\n",
    "w2 = Value(1.0, _label=\"w2\")\n",
    "# bias\n",
    "b = Value(6.8813735870195432, _label=\"b\")\n",
    "# w1*x1 + w2*x2 + b\n",
    "x1w1 = x1 * w1\n",
    "x1w1.label = \"x1w1\"\n",
    "x2w2 = x2 * w2\n",
    "x2w2.label = \"x2w2\"\n",
    "x1w1x2w2 = x1w1 + x2w2\n",
    "x1w1x2w2.label = \"x1w1x2w2\"\n",
    "n = x1w1x2w2 + b\n",
    "n.label = \"n\"\n",
    "o = n.tanh()\n",
    "o.label = \"o\""
   ]
  },
  {
   "cell_type": "code",
   "execution_count": 190,
   "metadata": {},
   "outputs": [
    {
     "data": {
      "image/svg+xml": "<?xml version=\"1.0\" encoding=\"UTF-8\" standalone=\"no\"?>\n<!DOCTYPE svg PUBLIC \"-//W3C//DTD SVG 1.1//EN\"\n \"http://www.w3.org/Graphics/SVG/1.1/DTD/svg11.dtd\">\n<!-- Generated by graphviz version 2.30.1 (20201013.1554)\n -->\n<!-- Title: %3 Pages: 1 -->\n<svg width=\"1542pt\" height=\"209pt\"\n viewBox=\"0.00 0.00 1542.00 209.00\" xmlns=\"http://www.w3.org/2000/svg\" xmlns:xlink=\"http://www.w3.org/1999/xlink\">\n<g id=\"graph0\" class=\"graph\" transform=\"scale(1 1) rotate(0) translate(4 205)\">\n<title>%3</title>\n<polygon fill=\"white\" stroke=\"white\" points=\"-4,5 -4,-205 1539,-205 1539,5 -4,5\"/>\n<!-- 139930925340704 -->\n<g id=\"node1\" class=\"node\"><title>139930925340704</title>\n<polygon fill=\"none\" stroke=\"black\" points=\"4,-165 4,-201 196,-201 196,-165 4,-165\"/>\n<text text-anchor=\"middle\" x=\"19\" y=\"-179.3\" font-family=\"Times,serif\" font-size=\"14.00\">x2</text>\n<polyline fill=\"none\" stroke=\"black\" points=\"34,-165 34,-201 \"/>\n<text text-anchor=\"middle\" x=\"74\" y=\"-179.3\" font-family=\"Times,serif\" font-size=\"14.00\">data 0.0000</text>\n<polyline fill=\"none\" stroke=\"black\" points=\"114,-165 114,-201 \"/>\n<text text-anchor=\"middle\" x=\"155\" y=\"-179.3\" font-family=\"Times,serif\" font-size=\"14.00\">grad 0.5000</text>\n</g>\n<!-- 139930925355600* -->\n<g id=\"node6\" class=\"node\"><title>139930925355600*</title>\n<ellipse fill=\"none\" stroke=\"black\" cx=\"263\" cy=\"-128\" rx=\"27\" ry=\"18\"/>\n<text text-anchor=\"middle\" x=\"263\" y=\"-124.3\" font-family=\"Times,serif\" font-size=\"14.00\">*</text>\n</g>\n<!-- 139930925340704&#45;&gt;139930925355600* -->\n<g id=\"edge7\" class=\"edge\"><title>139930925340704&#45;&gt;139930925355600*</title>\n<path fill=\"none\" stroke=\"black\" d=\"M169.284,-164.996C179.648,-161.887 190.16,-158.516 200,-155 210.282,-151.326 221.276,-146.758 231.107,-142.431\"/>\n<polygon fill=\"black\" stroke=\"black\" points=\"232.79,-145.512 240.482,-138.226 229.925,-139.125 232.79,-145.512\"/>\n</g>\n<!-- 139930925342240 -->\n<g id=\"node2\" class=\"node\"><title>139930925342240</title>\n<polygon fill=\"none\" stroke=\"black\" points=\"2.5,-110 2.5,-146 197.5,-146 197.5,-110 2.5,-110\"/>\n<text text-anchor=\"middle\" x=\"19\" y=\"-124.3\" font-family=\"Times,serif\" font-size=\"14.00\">w2</text>\n<polyline fill=\"none\" stroke=\"black\" points=\"35.5,-110 35.5,-146 \"/>\n<text text-anchor=\"middle\" x=\"75.5\" y=\"-124.3\" font-family=\"Times,serif\" font-size=\"14.00\">data 1.0000</text>\n<polyline fill=\"none\" stroke=\"black\" points=\"115.5,-110 115.5,-146 \"/>\n<text text-anchor=\"middle\" x=\"156.5\" y=\"-124.3\" font-family=\"Times,serif\" font-size=\"14.00\">grad 0.0000</text>\n</g>\n<!-- 139930925342240&#45;&gt;139930925355600* -->\n<g id=\"edge6\" class=\"edge\"><title>139930925342240&#45;&gt;139930925355600*</title>\n<path fill=\"none\" stroke=\"black\" d=\"M197.906,-128C207.646,-128 217.051,-128 225.518,-128\"/>\n<polygon fill=\"black\" stroke=\"black\" points=\"225.696,-131.5 235.696,-128 225.696,-124.5 225.696,-131.5\"/>\n</g>\n<!-- 139930925338688 -->\n<g id=\"node3\" class=\"node\"><title>139930925338688</title>\n<polygon fill=\"none\" stroke=\"black\" points=\"326,-55 326,-91 540,-91 540,-55 326,-55\"/>\n<text text-anchor=\"middle\" x=\"349.5\" y=\"-69.3\" font-family=\"Times,serif\" font-size=\"14.00\">x1w1</text>\n<polyline fill=\"none\" stroke=\"black\" points=\"373,-55 373,-91 \"/>\n<text text-anchor=\"middle\" x=\"415.5\" y=\"-69.3\" font-family=\"Times,serif\" font-size=\"14.00\">data &#45;6.0000</text>\n<polyline fill=\"none\" stroke=\"black\" points=\"458,-55 458,-91 \"/>\n<text text-anchor=\"middle\" x=\"499\" y=\"-69.3\" font-family=\"Times,serif\" font-size=\"14.00\">grad 0.5000</text>\n</g>\n<!-- 139930925357424+ -->\n<g id=\"node13\" class=\"node\"><title>139930925357424+</title>\n<ellipse fill=\"none\" stroke=\"black\" cx=\"603\" cy=\"-100\" rx=\"27\" ry=\"18\"/>\n<text text-anchor=\"middle\" x=\"603\" y=\"-96.3\" font-family=\"Times,serif\" font-size=\"14.00\">+</text>\n</g>\n<!-- 139930925338688&#45;&gt;139930925357424+ -->\n<g id=\"edge14\" class=\"edge\"><title>139930925338688&#45;&gt;139930925357424+</title>\n<path fill=\"none\" stroke=\"black\" d=\"M540.397,-90.0995C549.724,-91.5985 558.654,-93.0337 566.679,-94.3234\"/>\n<polygon fill=\"black\" stroke=\"black\" points=\"566.235,-97.7969 576.664,-95.9281 567.346,-90.8856 566.235,-97.7969\"/>\n</g>\n<!-- 139930925338688* -->\n<g id=\"node4\" class=\"node\"><title>139930925338688*</title>\n<ellipse fill=\"none\" stroke=\"black\" cx=\"263\" cy=\"-73\" rx=\"27\" ry=\"18\"/>\n<text text-anchor=\"middle\" x=\"263\" y=\"-69.3\" font-family=\"Times,serif\" font-size=\"14.00\">*</text>\n</g>\n<!-- 139930925338688*&#45;&gt;139930925338688 -->\n<g id=\"edge1\" class=\"edge\"><title>139930925338688*&#45;&gt;139930925338688</title>\n<path fill=\"none\" stroke=\"black\" d=\"M290.25,-73C297.705,-73 306.336,-73 315.587,-73\"/>\n<polygon fill=\"black\" stroke=\"black\" points=\"315.841,-76.5001 325.841,-73 315.841,-69.5001 315.841,-76.5001\"/>\n</g>\n<!-- 139930925355600 -->\n<g id=\"node5\" class=\"node\"><title>139930925355600</title>\n<polygon fill=\"none\" stroke=\"black\" points=\"328.5,-110 328.5,-146 537.5,-146 537.5,-110 328.5,-110\"/>\n<text text-anchor=\"middle\" x=\"352\" y=\"-124.3\" font-family=\"Times,serif\" font-size=\"14.00\">x2w2</text>\n<polyline fill=\"none\" stroke=\"black\" points=\"375.5,-110 375.5,-146 \"/>\n<text text-anchor=\"middle\" x=\"415.5\" y=\"-124.3\" font-family=\"Times,serif\" font-size=\"14.00\">data 0.0000</text>\n<polyline fill=\"none\" stroke=\"black\" points=\"455.5,-110 455.5,-146 \"/>\n<text text-anchor=\"middle\" x=\"496.5\" y=\"-124.3\" font-family=\"Times,serif\" font-size=\"14.00\">grad 0.5000</text>\n</g>\n<!-- 139930925355600&#45;&gt;139930925357424+ -->\n<g id=\"edge13\" class=\"edge\"><title>139930925355600&#45;&gt;139930925357424+</title>\n<path fill=\"none\" stroke=\"black\" d=\"M537.527,-110.745C547.8,-109.033 557.661,-107.39 566.447,-105.925\"/>\n<polygon fill=\"black\" stroke=\"black\" points=\"567.299,-109.332 576.587,-104.235 566.148,-102.427 567.299,-109.332\"/>\n</g>\n<!-- 139930925355600*&#45;&gt;139930925355600 -->\n<g id=\"edge2\" class=\"edge\"><title>139930925355600*&#45;&gt;139930925355600</title>\n<path fill=\"none\" stroke=\"black\" d=\"M290.25,-128C298.432,-128 308.032,-128 318.312,-128\"/>\n<polygon fill=\"black\" stroke=\"black\" points=\"318.353,-131.5 328.353,-128 318.353,-124.5 318.353,-131.5\"/>\n</g>\n<!-- 139930925356224 -->\n<g id=\"node7\" class=\"node\"><title>139930925356224</title>\n<polygon fill=\"none\" stroke=\"black\" points=\"1036.5,-54 1036.5,-90 1221.5,-90 1221.5,-54 1036.5,-54\"/>\n<text text-anchor=\"middle\" x=\"1048\" y=\"-68.3\" font-family=\"Times,serif\" font-size=\"14.00\">n</text>\n<polyline fill=\"none\" stroke=\"black\" points=\"1059.5,-54 1059.5,-90 \"/>\n<text text-anchor=\"middle\" x=\"1099.5\" y=\"-68.3\" font-family=\"Times,serif\" font-size=\"14.00\">data 0.8814</text>\n<polyline fill=\"none\" stroke=\"black\" points=\"1139.5,-54 1139.5,-90 \"/>\n<text text-anchor=\"middle\" x=\"1180.5\" y=\"-68.3\" font-family=\"Times,serif\" font-size=\"14.00\">grad 0.5000</text>\n</g>\n<!-- 139930919689472tanh -->\n<g id=\"node11\" class=\"node\"><title>139930919689472tanh</title>\n<ellipse fill=\"none\" stroke=\"black\" cx=\"1285\" cy=\"-72\" rx=\"27\" ry=\"18\"/>\n<text text-anchor=\"middle\" x=\"1285\" y=\"-68.3\" font-family=\"Times,serif\" font-size=\"14.00\">tanh</text>\n</g>\n<!-- 139930925356224&#45;&gt;139930919689472tanh -->\n<g id=\"edge12\" class=\"edge\"><title>139930925356224&#45;&gt;139930919689472tanh</title>\n<path fill=\"none\" stroke=\"black\" d=\"M1221.81,-72C1230.94,-72 1239.79,-72 1247.81,-72\"/>\n<polygon fill=\"black\" stroke=\"black\" points=\"1247.82,-75.5001 1257.82,-72 1247.82,-68.5001 1247.82,-75.5001\"/>\n</g>\n<!-- 139930925356224+ -->\n<g id=\"node8\" class=\"node\"><title>139930925356224+</title>\n<ellipse fill=\"none\" stroke=\"black\" cx=\"973\" cy=\"-72\" rx=\"27\" ry=\"18\"/>\n<text text-anchor=\"middle\" x=\"973\" y=\"-68.3\" font-family=\"Times,serif\" font-size=\"14.00\">+</text>\n</g>\n<!-- 139930925356224+&#45;&gt;139930925356224 -->\n<g id=\"edge3\" class=\"edge\"><title>139930925356224+&#45;&gt;139930925356224</title>\n<path fill=\"none\" stroke=\"black\" d=\"M1000.12,-72C1007.83,-72 1016.77,-72 1026.27,-72\"/>\n<polygon fill=\"black\" stroke=\"black\" points=\"1026.34,-75.5001 1036.34,-72 1026.34,-68.5001 1026.34,-75.5001\"/>\n</g>\n<!-- 139930925340896 -->\n<g id=\"node9\" class=\"node\"><title>139930925340896</title>\n<polygon fill=\"none\" stroke=\"black\" points=\"695.5,-27 695.5,-63 880.5,-63 880.5,-27 695.5,-27\"/>\n<text text-anchor=\"middle\" x=\"707\" y=\"-41.3\" font-family=\"Times,serif\" font-size=\"14.00\">b</text>\n<polyline fill=\"none\" stroke=\"black\" points=\"718.5,-27 718.5,-63 \"/>\n<text text-anchor=\"middle\" x=\"758.5\" y=\"-41.3\" font-family=\"Times,serif\" font-size=\"14.00\">data 6.8814</text>\n<polyline fill=\"none\" stroke=\"black\" points=\"798.5,-27 798.5,-63 \"/>\n<text text-anchor=\"middle\" x=\"839.5\" y=\"-41.3\" font-family=\"Times,serif\" font-size=\"14.00\">grad 0.5000</text>\n</g>\n<!-- 139930925340896&#45;&gt;139930925356224+ -->\n<g id=\"edge8\" class=\"edge\"><title>139930925340896&#45;&gt;139930925356224+</title>\n<path fill=\"none\" stroke=\"black\" d=\"M880.768,-58.5396C900.52,-61.4538 920.256,-64.3656 936.293,-66.7317\"/>\n<polygon fill=\"black\" stroke=\"black\" points=\"935.856,-70.2051 946.26,-68.2023 936.878,-63.2801 935.856,-70.2051\"/>\n</g>\n<!-- 139930919689472 -->\n<g id=\"node10\" class=\"node\"><title>139930919689472</title>\n<polygon fill=\"none\" stroke=\"black\" points=\"1348.5,-54 1348.5,-90 1533.5,-90 1533.5,-54 1348.5,-54\"/>\n<text text-anchor=\"middle\" x=\"1360\" y=\"-68.3\" font-family=\"Times,serif\" font-size=\"14.00\">o</text>\n<polyline fill=\"none\" stroke=\"black\" points=\"1371.5,-54 1371.5,-90 \"/>\n<text text-anchor=\"middle\" x=\"1411.5\" y=\"-68.3\" font-family=\"Times,serif\" font-size=\"14.00\">data 0.7071</text>\n<polyline fill=\"none\" stroke=\"black\" points=\"1451.5,-54 1451.5,-90 \"/>\n<text text-anchor=\"middle\" x=\"1492.5\" y=\"-68.3\" font-family=\"Times,serif\" font-size=\"14.00\">grad 1.0000</text>\n</g>\n<!-- 139930919689472tanh&#45;&gt;139930919689472 -->\n<g id=\"edge4\" class=\"edge\"><title>139930919689472tanh&#45;&gt;139930919689472</title>\n<path fill=\"none\" stroke=\"black\" d=\"M1312.12,-72C1319.83,-72 1328.77,-72 1338.27,-72\"/>\n<polygon fill=\"black\" stroke=\"black\" points=\"1338.34,-75.5001 1348.34,-72 1338.34,-68.5001 1338.34,-75.5001\"/>\n</g>\n<!-- 139930925357424 -->\n<g id=\"node12\" class=\"node\"><title>139930925357424</title>\n<polygon fill=\"none\" stroke=\"black\" points=\"666,-82 666,-118 910,-118 910,-82 666,-82\"/>\n<text text-anchor=\"middle\" x=\"704.5\" y=\"-96.3\" font-family=\"Times,serif\" font-size=\"14.00\">x1w1x2w2</text>\n<polyline fill=\"none\" stroke=\"black\" points=\"743,-82 743,-118 \"/>\n<text text-anchor=\"middle\" x=\"785.5\" y=\"-96.3\" font-family=\"Times,serif\" font-size=\"14.00\">data &#45;6.0000</text>\n<polyline fill=\"none\" stroke=\"black\" points=\"828,-82 828,-118 \"/>\n<text text-anchor=\"middle\" x=\"869\" y=\"-96.3\" font-family=\"Times,serif\" font-size=\"14.00\">grad 0.5000</text>\n</g>\n<!-- 139930925357424&#45;&gt;139930925356224+ -->\n<g id=\"edge10\" class=\"edge\"><title>139930925357424&#45;&gt;139930925356224+</title>\n<path fill=\"none\" stroke=\"black\" d=\"M906.708,-81.9901C917.38,-80.3572 927.532,-78.8038 936.514,-77.4295\"/>\n<polygon fill=\"black\" stroke=\"black\" points=\"937.126,-80.8767 946.482,-75.9044 936.067,-73.9572 937.126,-80.8767\"/>\n</g>\n<!-- 139930925357424+&#45;&gt;139930925357424 -->\n<g id=\"edge5\" class=\"edge\"><title>139930925357424+&#45;&gt;139930925357424</title>\n<path fill=\"none\" stroke=\"black\" d=\"M630.219,-100C637.701,-100 646.398,-100 655.787,-100\"/>\n<polygon fill=\"black\" stroke=\"black\" points=\"655.8,-103.5 665.8,-100 655.8,-96.5001 655.8,-103.5\"/>\n</g>\n<!-- 139930925340608 -->\n<g id=\"node14\" class=\"node\"><title>139930925340608</title>\n<polygon fill=\"none\" stroke=\"black\" points=\"2,-55 2,-91 198,-91 198,-55 2,-55\"/>\n<text text-anchor=\"middle\" x=\"17\" y=\"-69.3\" font-family=\"Times,serif\" font-size=\"14.00\">x1</text>\n<polyline fill=\"none\" stroke=\"black\" points=\"32,-55 32,-91 \"/>\n<text text-anchor=\"middle\" x=\"72\" y=\"-69.3\" font-family=\"Times,serif\" font-size=\"14.00\">data 2.0000</text>\n<polyline fill=\"none\" stroke=\"black\" points=\"112,-55 112,-91 \"/>\n<text text-anchor=\"middle\" x=\"155\" y=\"-69.3\" font-family=\"Times,serif\" font-size=\"14.00\">grad &#45;1.5000</text>\n</g>\n<!-- 139930925340608&#45;&gt;139930925338688* -->\n<g id=\"edge11\" class=\"edge\"><title>139930925340608&#45;&gt;139930925338688*</title>\n<path fill=\"none\" stroke=\"black\" d=\"M198.369,-73C208.054,-73 217.397,-73 225.805,-73\"/>\n<polygon fill=\"black\" stroke=\"black\" points=\"225.909,-76.5001 235.909,-73 225.909,-69.5001 225.909,-76.5001\"/>\n</g>\n<!-- 139930925342672 -->\n<g id=\"node15\" class=\"node\"><title>139930925342672</title>\n<polygon fill=\"none\" stroke=\"black\" points=\"0,-0 0,-36 200,-36 200,-0 0,-0\"/>\n<text text-anchor=\"middle\" x=\"16.5\" y=\"-14.3\" font-family=\"Times,serif\" font-size=\"14.00\">w1</text>\n<polyline fill=\"none\" stroke=\"black\" points=\"33,-0 33,-36 \"/>\n<text text-anchor=\"middle\" x=\"75.5\" y=\"-14.3\" font-family=\"Times,serif\" font-size=\"14.00\">data &#45;3.0000</text>\n<polyline fill=\"none\" stroke=\"black\" points=\"118,-0 118,-36 \"/>\n<text text-anchor=\"middle\" x=\"159\" y=\"-14.3\" font-family=\"Times,serif\" font-size=\"14.00\">grad 1.0000</text>\n</g>\n<!-- 139930925342672&#45;&gt;139930925338688* -->\n<g id=\"edge9\" class=\"edge\"><title>139930925342672&#45;&gt;139930925338688*</title>\n<path fill=\"none\" stroke=\"black\" d=\"M169.284,-36.004C179.648,-39.113 190.16,-42.4841 200,-46 210.282,-49.6738 221.276,-54.2416 231.107,-58.5691\"/>\n<polygon fill=\"black\" stroke=\"black\" points=\"229.925,-61.8749 240.482,-62.7744 232.79,-55.488 229.925,-61.8749\"/>\n</g>\n</g>\n</svg>\n",
      "text/plain": [
       "<graphviz.graphs.Digraph at 0x7f4434c78df0>"
      ]
     },
     "execution_count": 190,
     "metadata": {},
     "output_type": "execute_result"
    }
   ],
   "source": [
    "draw_dot(o)"
   ]
  },
  {
   "cell_type": "code",
   "execution_count": 189,
   "metadata": {},
   "outputs": [],
   "source": [
    "o.grad = 1\n",
    "o._backward()\n",
    "n._backward()\n",
    "x1w1x2w2._backward()\n",
    "x2w2._backward()\n",
    "x1w1._backward()"
   ]
  },
  {
   "attachments": {},
   "cell_type": "markdown",
   "metadata": {},
   "source": [
    "![](https://camo.githubusercontent.com/d40194bc76ed6c57da406962dc711b08d621df197aa4a2509387999427280f98/68747470733a2f2f6d69726f2e6d656469756d2e636f6d2f6d61782f313430302f312a754d675f6f6a4658747332575a536a635a65346f52512e706e67)"
   ]
  },
  {
   "cell_type": "code",
   "execution_count": 194,
   "metadata": {},
   "outputs": [
    {
     "data": {
      "text/plain": [
       "[Value(data=6.881373587019543,label='b'),\n",
       " Value(data=2.0,label='x1'),\n",
       " Value(data=-3.0,label='w1'),\n",
       " Value(data=-6.0,label='x1w1'),\n",
       " Value(data=0.0,label='x2'),\n",
       " Value(data=1.0,label='w2'),\n",
       " Value(data=0.0,label='x2w2'),\n",
       " Value(data=-6.0,label='x1w1x2w2'),\n",
       " Value(data=0.8813735870195432,label='n'),\n",
       " Value(data=0.7071067811865476,label='o')]"
      ]
     },
     "execution_count": 194,
     "metadata": {},
     "output_type": "execute_result"
    }
   ],
   "source": [
    "topo = []\n",
    "visited = set()\n",
    "\n",
    "\n",
    "def build_topo(v):\n",
    "    if v not in visited:\n",
    "        visited.add(v)\n",
    "        for child in v._prev:\n",
    "            build_topo(child)\n",
    "        topo.append(v)\n",
    "\n",
    "build_topo(o)\n",
    "topo"
   ]
  },
  {
   "cell_type": "code",
   "execution_count": 196,
   "metadata": {},
   "outputs": [
    {
     "data": {
      "text/plain": [
       "[Value(data=0.7071067811865476,label='o'),\n",
       " Value(data=0.8813735870195432,label='n'),\n",
       " Value(data=-6.0,label='x1w1x2w2'),\n",
       " Value(data=0.0,label='x2w2'),\n",
       " Value(data=1.0,label='w2'),\n",
       " Value(data=0.0,label='x2'),\n",
       " Value(data=-6.0,label='x1w1'),\n",
       " Value(data=-3.0,label='w1'),\n",
       " Value(data=2.0,label='x1'),\n",
       " Value(data=6.881373587019543,label='b')]"
      ]
     },
     "execution_count": 196,
     "metadata": {},
     "output_type": "execute_result"
    }
   ],
   "source": [
    "[i for i in reversed(topo)]"
   ]
  },
  {
   "cell_type": "code",
   "execution_count": 209,
   "metadata": {},
   "outputs": [],
   "source": [
    "# inputs x1, x2\n",
    "x1 = Value(2.0, _label=\"x1\")\n",
    "x2 = Value(0.0, _label=\"x2\")\n",
    "# weights w1, w2\n",
    "w1 = Value(-3.0, _label=\"w1\")\n",
    "w2 = Value(1.0, _label=\"w2\")\n",
    "# bias\n",
    "b = Value(6.8813735870195432, _label=\"b\")\n",
    "# w1*x1 + w2*x2 + b\n",
    "x1w1 = x1 * w1\n",
    "x1w1.label = \"x1w1\"\n",
    "x2w2 = x2 * w2\n",
    "x2w2.label = \"x2w2\"\n",
    "x1w1x2w2 = x1w1 + x2w2\n",
    "x1w1x2w2.label = \"x1w1x2w2\"\n",
    "n = x1w1x2w2 + b\n",
    "n.label = \"n\"\n",
    "o = n.tanh()\n",
    "o.label = \"o\""
   ]
  },
  {
   "cell_type": "code",
   "execution_count": 210,
   "metadata": {},
   "outputs": [
    {
     "data": {
      "image/svg+xml": "<?xml version=\"1.0\" encoding=\"UTF-8\" standalone=\"no\"?>\n<!DOCTYPE svg PUBLIC \"-//W3C//DTD SVG 1.1//EN\"\n \"http://www.w3.org/Graphics/SVG/1.1/DTD/svg11.dtd\">\n<!-- Generated by graphviz version 2.30.1 (20201013.1554)\n -->\n<!-- Title: %3 Pages: 1 -->\n<svg width=\"1542pt\" height=\"209pt\"\n viewBox=\"0.00 0.00 1542.00 209.00\" xmlns=\"http://www.w3.org/2000/svg\" xmlns:xlink=\"http://www.w3.org/1999/xlink\">\n<g id=\"graph0\" class=\"graph\" transform=\"scale(1 1) rotate(0) translate(4 205)\">\n<title>%3</title>\n<polygon fill=\"white\" stroke=\"white\" points=\"-4,5 -4,-205 1539,-205 1539,5 -4,5\"/>\n<!-- 139930934294560 -->\n<g id=\"node1\" class=\"node\"><title>139930934294560</title>\n<polygon fill=\"none\" stroke=\"black\" points=\"2.5,-165 2.5,-201 197.5,-201 197.5,-165 2.5,-165\"/>\n<text text-anchor=\"middle\" x=\"19\" y=\"-179.3\" font-family=\"Times,serif\" font-size=\"14.00\">w2</text>\n<polyline fill=\"none\" stroke=\"black\" points=\"35.5,-165 35.5,-201 \"/>\n<text text-anchor=\"middle\" x=\"75.5\" y=\"-179.3\" font-family=\"Times,serif\" font-size=\"14.00\">data 1.0000</text>\n<polyline fill=\"none\" stroke=\"black\" points=\"115.5,-165 115.5,-201 \"/>\n<text text-anchor=\"middle\" x=\"156.5\" y=\"-179.3\" font-family=\"Times,serif\" font-size=\"14.00\">grad 0.0000</text>\n</g>\n<!-- 139930934294752* -->\n<g id=\"node4\" class=\"node\"><title>139930934294752*</title>\n<ellipse fill=\"none\" stroke=\"black\" cx=\"263\" cy=\"-128\" rx=\"27\" ry=\"18\"/>\n<text text-anchor=\"middle\" x=\"263\" y=\"-124.3\" font-family=\"Times,serif\" font-size=\"14.00\">*</text>\n</g>\n<!-- 139930934294560&#45;&gt;139930934294752* -->\n<g id=\"edge9\" class=\"edge\"><title>139930934294560&#45;&gt;139930934294752*</title>\n<path fill=\"none\" stroke=\"black\" d=\"M169.284,-164.996C179.648,-161.887 190.16,-158.516 200,-155 210.282,-151.326 221.276,-146.758 231.107,-142.431\"/>\n<polygon fill=\"black\" stroke=\"black\" points=\"232.79,-145.512 240.482,-138.226 229.925,-139.125 232.79,-145.512\"/>\n</g>\n<!-- 139930934294608 -->\n<g id=\"node2\" class=\"node\"><title>139930934294608</title>\n<polygon fill=\"none\" stroke=\"black\" points=\"695.5,-27 695.5,-63 880.5,-63 880.5,-27 695.5,-27\"/>\n<text text-anchor=\"middle\" x=\"707\" y=\"-41.3\" font-family=\"Times,serif\" font-size=\"14.00\">b</text>\n<polyline fill=\"none\" stroke=\"black\" points=\"718.5,-27 718.5,-63 \"/>\n<text text-anchor=\"middle\" x=\"758.5\" y=\"-41.3\" font-family=\"Times,serif\" font-size=\"14.00\">data 6.8814</text>\n<polyline fill=\"none\" stroke=\"black\" points=\"798.5,-27 798.5,-63 \"/>\n<text text-anchor=\"middle\" x=\"839.5\" y=\"-41.3\" font-family=\"Times,serif\" font-size=\"14.00\">grad 0.0000</text>\n</g>\n<!-- 139930934295808+ -->\n<g id=\"node8\" class=\"node\"><title>139930934295808+</title>\n<ellipse fill=\"none\" stroke=\"black\" cx=\"973\" cy=\"-72\" rx=\"27\" ry=\"18\"/>\n<text text-anchor=\"middle\" x=\"973\" y=\"-68.3\" font-family=\"Times,serif\" font-size=\"14.00\">+</text>\n</g>\n<!-- 139930934294608&#45;&gt;139930934295808+ -->\n<g id=\"edge12\" class=\"edge\"><title>139930934294608&#45;&gt;139930934295808+</title>\n<path fill=\"none\" stroke=\"black\" d=\"M880.768,-58.5396C900.52,-61.4538 920.256,-64.3656 936.293,-66.7317\"/>\n<polygon fill=\"black\" stroke=\"black\" points=\"935.856,-70.2051 946.26,-68.2023 936.878,-63.2801 935.856,-70.2051\"/>\n</g>\n<!-- 139930934294752 -->\n<g id=\"node3\" class=\"node\"><title>139930934294752</title>\n<polygon fill=\"none\" stroke=\"black\" points=\"328.5,-110 328.5,-146 537.5,-146 537.5,-110 328.5,-110\"/>\n<text text-anchor=\"middle\" x=\"352\" y=\"-124.3\" font-family=\"Times,serif\" font-size=\"14.00\">x2w2</text>\n<polyline fill=\"none\" stroke=\"black\" points=\"375.5,-110 375.5,-146 \"/>\n<text text-anchor=\"middle\" x=\"415.5\" y=\"-124.3\" font-family=\"Times,serif\" font-size=\"14.00\">data 0.0000</text>\n<polyline fill=\"none\" stroke=\"black\" points=\"455.5,-110 455.5,-146 \"/>\n<text text-anchor=\"middle\" x=\"496.5\" y=\"-124.3\" font-family=\"Times,serif\" font-size=\"14.00\">grad 0.0000</text>\n</g>\n<!-- 139930934295280+ -->\n<g id=\"node6\" class=\"node\"><title>139930934295280+</title>\n<ellipse fill=\"none\" stroke=\"black\" cx=\"603\" cy=\"-100\" rx=\"27\" ry=\"18\"/>\n<text text-anchor=\"middle\" x=\"603\" y=\"-96.3\" font-family=\"Times,serif\" font-size=\"14.00\">+</text>\n</g>\n<!-- 139930934294752&#45;&gt;139930934295280+ -->\n<g id=\"edge13\" class=\"edge\"><title>139930934294752&#45;&gt;139930934295280+</title>\n<path fill=\"none\" stroke=\"black\" d=\"M537.527,-110.745C547.8,-109.033 557.661,-107.39 566.447,-105.925\"/>\n<polygon fill=\"black\" stroke=\"black\" points=\"567.299,-109.332 576.587,-104.235 566.148,-102.427 567.299,-109.332\"/>\n</g>\n<!-- 139930934294752*&#45;&gt;139930934294752 -->\n<g id=\"edge1\" class=\"edge\"><title>139930934294752*&#45;&gt;139930934294752</title>\n<path fill=\"none\" stroke=\"black\" d=\"M290.25,-128C298.432,-128 308.032,-128 318.312,-128\"/>\n<polygon fill=\"black\" stroke=\"black\" points=\"318.353,-131.5 328.353,-128 318.353,-124.5 318.353,-131.5\"/>\n</g>\n<!-- 139930934295280 -->\n<g id=\"node5\" class=\"node\"><title>139930934295280</title>\n<polygon fill=\"none\" stroke=\"black\" points=\"666,-82 666,-118 910,-118 910,-82 666,-82\"/>\n<text text-anchor=\"middle\" x=\"704.5\" y=\"-96.3\" font-family=\"Times,serif\" font-size=\"14.00\">x1w1x2w2</text>\n<polyline fill=\"none\" stroke=\"black\" points=\"743,-82 743,-118 \"/>\n<text text-anchor=\"middle\" x=\"785.5\" y=\"-96.3\" font-family=\"Times,serif\" font-size=\"14.00\">data &#45;6.0000</text>\n<polyline fill=\"none\" stroke=\"black\" points=\"828,-82 828,-118 \"/>\n<text text-anchor=\"middle\" x=\"869\" y=\"-96.3\" font-family=\"Times,serif\" font-size=\"14.00\">grad 0.0000</text>\n</g>\n<!-- 139930934295280&#45;&gt;139930934295808+ -->\n<g id=\"edge11\" class=\"edge\"><title>139930934295280&#45;&gt;139930934295808+</title>\n<path fill=\"none\" stroke=\"black\" d=\"M906.708,-81.9901C917.38,-80.3572 927.532,-78.8038 936.514,-77.4295\"/>\n<polygon fill=\"black\" stroke=\"black\" points=\"937.126,-80.8767 946.482,-75.9044 936.067,-73.9572 937.126,-80.8767\"/>\n</g>\n<!-- 139930934295280+&#45;&gt;139930934295280 -->\n<g id=\"edge2\" class=\"edge\"><title>139930934295280+&#45;&gt;139930934295280</title>\n<path fill=\"none\" stroke=\"black\" d=\"M630.219,-100C637.701,-100 646.398,-100 655.787,-100\"/>\n<polygon fill=\"black\" stroke=\"black\" points=\"655.8,-103.5 665.8,-100 655.8,-96.5001 655.8,-103.5\"/>\n</g>\n<!-- 139930934295808 -->\n<g id=\"node7\" class=\"node\"><title>139930934295808</title>\n<polygon fill=\"none\" stroke=\"black\" points=\"1036.5,-54 1036.5,-90 1221.5,-90 1221.5,-54 1036.5,-54\"/>\n<text text-anchor=\"middle\" x=\"1048\" y=\"-68.3\" font-family=\"Times,serif\" font-size=\"14.00\">n</text>\n<polyline fill=\"none\" stroke=\"black\" points=\"1059.5,-54 1059.5,-90 \"/>\n<text text-anchor=\"middle\" x=\"1099.5\" y=\"-68.3\" font-family=\"Times,serif\" font-size=\"14.00\">data 0.8814</text>\n<polyline fill=\"none\" stroke=\"black\" points=\"1139.5,-54 1139.5,-90 \"/>\n<text text-anchor=\"middle\" x=\"1180.5\" y=\"-68.3\" font-family=\"Times,serif\" font-size=\"14.00\">grad 0.0000</text>\n</g>\n<!-- 139930934295520tanh -->\n<g id=\"node14\" class=\"node\"><title>139930934295520tanh</title>\n<ellipse fill=\"none\" stroke=\"black\" cx=\"1285\" cy=\"-72\" rx=\"27\" ry=\"18\"/>\n<text text-anchor=\"middle\" x=\"1285\" y=\"-68.3\" font-family=\"Times,serif\" font-size=\"14.00\">tanh</text>\n</g>\n<!-- 139930934295808&#45;&gt;139930934295520tanh -->\n<g id=\"edge14\" class=\"edge\"><title>139930934295808&#45;&gt;139930934295520tanh</title>\n<path fill=\"none\" stroke=\"black\" d=\"M1221.81,-72C1230.94,-72 1239.79,-72 1247.81,-72\"/>\n<polygon fill=\"black\" stroke=\"black\" points=\"1247.82,-75.5001 1257.82,-72 1247.82,-68.5001 1247.82,-75.5001\"/>\n</g>\n<!-- 139930934295808+&#45;&gt;139930934295808 -->\n<g id=\"edge3\" class=\"edge\"><title>139930934295808+&#45;&gt;139930934295808</title>\n<path fill=\"none\" stroke=\"black\" d=\"M1000.12,-72C1007.83,-72 1016.77,-72 1026.27,-72\"/>\n<polygon fill=\"black\" stroke=\"black\" points=\"1026.34,-75.5001 1036.34,-72 1026.34,-68.5001 1026.34,-75.5001\"/>\n</g>\n<!-- 139930934294272 -->\n<g id=\"node9\" class=\"node\"><title>139930934294272</title>\n<polygon fill=\"none\" stroke=\"black\" points=\"4,-110 4,-146 196,-146 196,-110 4,-110\"/>\n<text text-anchor=\"middle\" x=\"19\" y=\"-124.3\" font-family=\"Times,serif\" font-size=\"14.00\">x2</text>\n<polyline fill=\"none\" stroke=\"black\" points=\"34,-110 34,-146 \"/>\n<text text-anchor=\"middle\" x=\"74\" y=\"-124.3\" font-family=\"Times,serif\" font-size=\"14.00\">data 0.0000</text>\n<polyline fill=\"none\" stroke=\"black\" points=\"114,-110 114,-146 \"/>\n<text text-anchor=\"middle\" x=\"155\" y=\"-124.3\" font-family=\"Times,serif\" font-size=\"14.00\">grad 0.0000</text>\n</g>\n<!-- 139930934294272&#45;&gt;139930934294752* -->\n<g id=\"edge7\" class=\"edge\"><title>139930934294272&#45;&gt;139930934294752*</title>\n<path fill=\"none\" stroke=\"black\" d=\"M196.051,-128C206.522,-128 216.654,-128 225.705,-128\"/>\n<polygon fill=\"black\" stroke=\"black\" points=\"225.79,-131.5 235.79,-128 225.79,-124.5 225.79,-131.5\"/>\n</g>\n<!-- 139930934294320 -->\n<g id=\"node10\" class=\"node\"><title>139930934294320</title>\n<polygon fill=\"none\" stroke=\"black\" points=\"4,-55 4,-91 196,-91 196,-55 4,-55\"/>\n<text text-anchor=\"middle\" x=\"19\" y=\"-69.3\" font-family=\"Times,serif\" font-size=\"14.00\">x1</text>\n<polyline fill=\"none\" stroke=\"black\" points=\"34,-55 34,-91 \"/>\n<text text-anchor=\"middle\" x=\"74\" y=\"-69.3\" font-family=\"Times,serif\" font-size=\"14.00\">data 2.0000</text>\n<polyline fill=\"none\" stroke=\"black\" points=\"114,-55 114,-91 \"/>\n<text text-anchor=\"middle\" x=\"155\" y=\"-69.3\" font-family=\"Times,serif\" font-size=\"14.00\">grad 0.0000</text>\n</g>\n<!-- 139930934294992* -->\n<g id=\"node12\" class=\"node\"><title>139930934294992*</title>\n<ellipse fill=\"none\" stroke=\"black\" cx=\"263\" cy=\"-73\" rx=\"27\" ry=\"18\"/>\n<text text-anchor=\"middle\" x=\"263\" y=\"-69.3\" font-family=\"Times,serif\" font-size=\"14.00\">*</text>\n</g>\n<!-- 139930934294320&#45;&gt;139930934294992* -->\n<g id=\"edge10\" class=\"edge\"><title>139930934294320&#45;&gt;139930934294992*</title>\n<path fill=\"none\" stroke=\"black\" d=\"M196.051,-73C206.522,-73 216.654,-73 225.705,-73\"/>\n<polygon fill=\"black\" stroke=\"black\" points=\"225.79,-76.5001 235.79,-73 225.79,-69.5001 225.79,-76.5001\"/>\n</g>\n<!-- 139930934294992 -->\n<g id=\"node11\" class=\"node\"><title>139930934294992</title>\n<polygon fill=\"none\" stroke=\"black\" points=\"326,-55 326,-91 540,-91 540,-55 326,-55\"/>\n<text text-anchor=\"middle\" x=\"349.5\" y=\"-69.3\" font-family=\"Times,serif\" font-size=\"14.00\">x1w1</text>\n<polyline fill=\"none\" stroke=\"black\" points=\"373,-55 373,-91 \"/>\n<text text-anchor=\"middle\" x=\"415.5\" y=\"-69.3\" font-family=\"Times,serif\" font-size=\"14.00\">data &#45;6.0000</text>\n<polyline fill=\"none\" stroke=\"black\" points=\"458,-55 458,-91 \"/>\n<text text-anchor=\"middle\" x=\"499\" y=\"-69.3\" font-family=\"Times,serif\" font-size=\"14.00\">grad 0.0000</text>\n</g>\n<!-- 139930934294992&#45;&gt;139930934295280+ -->\n<g id=\"edge6\" class=\"edge\"><title>139930934294992&#45;&gt;139930934295280+</title>\n<path fill=\"none\" stroke=\"black\" d=\"M540.397,-90.0995C549.724,-91.5985 558.654,-93.0337 566.679,-94.3234\"/>\n<polygon fill=\"black\" stroke=\"black\" points=\"566.235,-97.7969 576.664,-95.9281 567.346,-90.8856 566.235,-97.7969\"/>\n</g>\n<!-- 139930934294992*&#45;&gt;139930934294992 -->\n<g id=\"edge4\" class=\"edge\"><title>139930934294992*&#45;&gt;139930934294992</title>\n<path fill=\"none\" stroke=\"black\" d=\"M290.25,-73C297.705,-73 306.336,-73 315.587,-73\"/>\n<polygon fill=\"black\" stroke=\"black\" points=\"315.841,-76.5001 325.841,-73 315.841,-69.5001 315.841,-76.5001\"/>\n</g>\n<!-- 139930934295520 -->\n<g id=\"node13\" class=\"node\"><title>139930934295520</title>\n<polygon fill=\"none\" stroke=\"black\" points=\"1348.5,-54 1348.5,-90 1533.5,-90 1533.5,-54 1348.5,-54\"/>\n<text text-anchor=\"middle\" x=\"1360\" y=\"-68.3\" font-family=\"Times,serif\" font-size=\"14.00\">o</text>\n<polyline fill=\"none\" stroke=\"black\" points=\"1371.5,-54 1371.5,-90 \"/>\n<text text-anchor=\"middle\" x=\"1411.5\" y=\"-68.3\" font-family=\"Times,serif\" font-size=\"14.00\">data 0.7071</text>\n<polyline fill=\"none\" stroke=\"black\" points=\"1451.5,-54 1451.5,-90 \"/>\n<text text-anchor=\"middle\" x=\"1492.5\" y=\"-68.3\" font-family=\"Times,serif\" font-size=\"14.00\">grad 0.0000</text>\n</g>\n<!-- 139930934295520tanh&#45;&gt;139930934295520 -->\n<g id=\"edge5\" class=\"edge\"><title>139930934295520tanh&#45;&gt;139930934295520</title>\n<path fill=\"none\" stroke=\"black\" d=\"M1312.12,-72C1319.83,-72 1328.77,-72 1338.27,-72\"/>\n<polygon fill=\"black\" stroke=\"black\" points=\"1338.34,-75.5001 1348.34,-72 1338.34,-68.5001 1338.34,-75.5001\"/>\n</g>\n<!-- 139930934294512 -->\n<g id=\"node15\" class=\"node\"><title>139930934294512</title>\n<polygon fill=\"none\" stroke=\"black\" points=\"0,-0 0,-36 200,-36 200,-0 0,-0\"/>\n<text text-anchor=\"middle\" x=\"16.5\" y=\"-14.3\" font-family=\"Times,serif\" font-size=\"14.00\">w1</text>\n<polyline fill=\"none\" stroke=\"black\" points=\"33,-0 33,-36 \"/>\n<text text-anchor=\"middle\" x=\"75.5\" y=\"-14.3\" font-family=\"Times,serif\" font-size=\"14.00\">data &#45;3.0000</text>\n<polyline fill=\"none\" stroke=\"black\" points=\"118,-0 118,-36 \"/>\n<text text-anchor=\"middle\" x=\"159\" y=\"-14.3\" font-family=\"Times,serif\" font-size=\"14.00\">grad 0.0000</text>\n</g>\n<!-- 139930934294512&#45;&gt;139930934294992* -->\n<g id=\"edge8\" class=\"edge\"><title>139930934294512&#45;&gt;139930934294992*</title>\n<path fill=\"none\" stroke=\"black\" d=\"M169.284,-36.004C179.648,-39.113 190.16,-42.4841 200,-46 210.282,-49.6738 221.276,-54.2416 231.107,-58.5691\"/>\n<polygon fill=\"black\" stroke=\"black\" points=\"229.925,-61.8749 240.482,-62.7744 232.79,-55.488 229.925,-61.8749\"/>\n</g>\n</g>\n</svg>\n",
      "text/plain": [
       "<graphviz.graphs.Digraph at 0x7f4434c2d550>"
      ]
     },
     "execution_count": 210,
     "metadata": {},
     "output_type": "execute_result"
    }
   ],
   "source": [
    "draw_dot(o)"
   ]
  },
  {
   "cell_type": "code",
   "execution_count": 213,
   "metadata": {},
   "outputs": [],
   "source": [
    "o.backward()"
   ]
  },
  {
   "cell_type": "code",
   "execution_count": 214,
   "metadata": {},
   "outputs": [
    {
     "data": {
      "image/svg+xml": "<?xml version=\"1.0\" encoding=\"UTF-8\" standalone=\"no\"?>\n<!DOCTYPE svg PUBLIC \"-//W3C//DTD SVG 1.1//EN\"\n \"http://www.w3.org/Graphics/SVG/1.1/DTD/svg11.dtd\">\n<!-- Generated by graphviz version 2.30.1 (20201013.1554)\n -->\n<!-- Title: %3 Pages: 1 -->\n<svg width=\"1542pt\" height=\"209pt\"\n viewBox=\"0.00 0.00 1542.00 209.00\" xmlns=\"http://www.w3.org/2000/svg\" xmlns:xlink=\"http://www.w3.org/1999/xlink\">\n<g id=\"graph0\" class=\"graph\" transform=\"scale(1 1) rotate(0) translate(4 205)\">\n<title>%3</title>\n<polygon fill=\"white\" stroke=\"white\" points=\"-4,5 -4,-205 1539,-205 1539,5 -4,5\"/>\n<!-- 139930934294560 -->\n<g id=\"node1\" class=\"node\"><title>139930934294560</title>\n<polygon fill=\"none\" stroke=\"black\" points=\"2.5,-165 2.5,-201 197.5,-201 197.5,-165 2.5,-165\"/>\n<text text-anchor=\"middle\" x=\"19\" y=\"-179.3\" font-family=\"Times,serif\" font-size=\"14.00\">w2</text>\n<polyline fill=\"none\" stroke=\"black\" points=\"35.5,-165 35.5,-201 \"/>\n<text text-anchor=\"middle\" x=\"75.5\" y=\"-179.3\" font-family=\"Times,serif\" font-size=\"14.00\">data 1.0000</text>\n<polyline fill=\"none\" stroke=\"black\" points=\"115.5,-165 115.5,-201 \"/>\n<text text-anchor=\"middle\" x=\"156.5\" y=\"-179.3\" font-family=\"Times,serif\" font-size=\"14.00\">grad 0.0000</text>\n</g>\n<!-- 139930934294752* -->\n<g id=\"node4\" class=\"node\"><title>139930934294752*</title>\n<ellipse fill=\"none\" stroke=\"black\" cx=\"263\" cy=\"-128\" rx=\"27\" ry=\"18\"/>\n<text text-anchor=\"middle\" x=\"263\" y=\"-124.3\" font-family=\"Times,serif\" font-size=\"14.00\">*</text>\n</g>\n<!-- 139930934294560&#45;&gt;139930934294752* -->\n<g id=\"edge9\" class=\"edge\"><title>139930934294560&#45;&gt;139930934294752*</title>\n<path fill=\"none\" stroke=\"black\" d=\"M169.284,-164.996C179.648,-161.887 190.16,-158.516 200,-155 210.282,-151.326 221.276,-146.758 231.107,-142.431\"/>\n<polygon fill=\"black\" stroke=\"black\" points=\"232.79,-145.512 240.482,-138.226 229.925,-139.125 232.79,-145.512\"/>\n</g>\n<!-- 139930934294608 -->\n<g id=\"node2\" class=\"node\"><title>139930934294608</title>\n<polygon fill=\"none\" stroke=\"black\" points=\"695.5,-27 695.5,-63 880.5,-63 880.5,-27 695.5,-27\"/>\n<text text-anchor=\"middle\" x=\"707\" y=\"-41.3\" font-family=\"Times,serif\" font-size=\"14.00\">b</text>\n<polyline fill=\"none\" stroke=\"black\" points=\"718.5,-27 718.5,-63 \"/>\n<text text-anchor=\"middle\" x=\"758.5\" y=\"-41.3\" font-family=\"Times,serif\" font-size=\"14.00\">data 6.8814</text>\n<polyline fill=\"none\" stroke=\"black\" points=\"798.5,-27 798.5,-63 \"/>\n<text text-anchor=\"middle\" x=\"839.5\" y=\"-41.3\" font-family=\"Times,serif\" font-size=\"14.00\">grad 0.5000</text>\n</g>\n<!-- 139930934295808+ -->\n<g id=\"node8\" class=\"node\"><title>139930934295808+</title>\n<ellipse fill=\"none\" stroke=\"black\" cx=\"973\" cy=\"-72\" rx=\"27\" ry=\"18\"/>\n<text text-anchor=\"middle\" x=\"973\" y=\"-68.3\" font-family=\"Times,serif\" font-size=\"14.00\">+</text>\n</g>\n<!-- 139930934294608&#45;&gt;139930934295808+ -->\n<g id=\"edge12\" class=\"edge\"><title>139930934294608&#45;&gt;139930934295808+</title>\n<path fill=\"none\" stroke=\"black\" d=\"M880.768,-58.5396C900.52,-61.4538 920.256,-64.3656 936.293,-66.7317\"/>\n<polygon fill=\"black\" stroke=\"black\" points=\"935.856,-70.2051 946.26,-68.2023 936.878,-63.2801 935.856,-70.2051\"/>\n</g>\n<!-- 139930934294752 -->\n<g id=\"node3\" class=\"node\"><title>139930934294752</title>\n<polygon fill=\"none\" stroke=\"black\" points=\"328.5,-110 328.5,-146 537.5,-146 537.5,-110 328.5,-110\"/>\n<text text-anchor=\"middle\" x=\"352\" y=\"-124.3\" font-family=\"Times,serif\" font-size=\"14.00\">x2w2</text>\n<polyline fill=\"none\" stroke=\"black\" points=\"375.5,-110 375.5,-146 \"/>\n<text text-anchor=\"middle\" x=\"415.5\" y=\"-124.3\" font-family=\"Times,serif\" font-size=\"14.00\">data 0.0000</text>\n<polyline fill=\"none\" stroke=\"black\" points=\"455.5,-110 455.5,-146 \"/>\n<text text-anchor=\"middle\" x=\"496.5\" y=\"-124.3\" font-family=\"Times,serif\" font-size=\"14.00\">grad 0.5000</text>\n</g>\n<!-- 139930934295280+ -->\n<g id=\"node6\" class=\"node\"><title>139930934295280+</title>\n<ellipse fill=\"none\" stroke=\"black\" cx=\"603\" cy=\"-100\" rx=\"27\" ry=\"18\"/>\n<text text-anchor=\"middle\" x=\"603\" y=\"-96.3\" font-family=\"Times,serif\" font-size=\"14.00\">+</text>\n</g>\n<!-- 139930934294752&#45;&gt;139930934295280+ -->\n<g id=\"edge13\" class=\"edge\"><title>139930934294752&#45;&gt;139930934295280+</title>\n<path fill=\"none\" stroke=\"black\" d=\"M537.527,-110.745C547.8,-109.033 557.661,-107.39 566.447,-105.925\"/>\n<polygon fill=\"black\" stroke=\"black\" points=\"567.299,-109.332 576.587,-104.235 566.148,-102.427 567.299,-109.332\"/>\n</g>\n<!-- 139930934294752*&#45;&gt;139930934294752 -->\n<g id=\"edge1\" class=\"edge\"><title>139930934294752*&#45;&gt;139930934294752</title>\n<path fill=\"none\" stroke=\"black\" d=\"M290.25,-128C298.432,-128 308.032,-128 318.312,-128\"/>\n<polygon fill=\"black\" stroke=\"black\" points=\"318.353,-131.5 328.353,-128 318.353,-124.5 318.353,-131.5\"/>\n</g>\n<!-- 139930934295280 -->\n<g id=\"node5\" class=\"node\"><title>139930934295280</title>\n<polygon fill=\"none\" stroke=\"black\" points=\"666,-82 666,-118 910,-118 910,-82 666,-82\"/>\n<text text-anchor=\"middle\" x=\"704.5\" y=\"-96.3\" font-family=\"Times,serif\" font-size=\"14.00\">x1w1x2w2</text>\n<polyline fill=\"none\" stroke=\"black\" points=\"743,-82 743,-118 \"/>\n<text text-anchor=\"middle\" x=\"785.5\" y=\"-96.3\" font-family=\"Times,serif\" font-size=\"14.00\">data &#45;6.0000</text>\n<polyline fill=\"none\" stroke=\"black\" points=\"828,-82 828,-118 \"/>\n<text text-anchor=\"middle\" x=\"869\" y=\"-96.3\" font-family=\"Times,serif\" font-size=\"14.00\">grad 0.5000</text>\n</g>\n<!-- 139930934295280&#45;&gt;139930934295808+ -->\n<g id=\"edge11\" class=\"edge\"><title>139930934295280&#45;&gt;139930934295808+</title>\n<path fill=\"none\" stroke=\"black\" d=\"M906.708,-81.9901C917.38,-80.3572 927.532,-78.8038 936.514,-77.4295\"/>\n<polygon fill=\"black\" stroke=\"black\" points=\"937.126,-80.8767 946.482,-75.9044 936.067,-73.9572 937.126,-80.8767\"/>\n</g>\n<!-- 139930934295280+&#45;&gt;139930934295280 -->\n<g id=\"edge2\" class=\"edge\"><title>139930934295280+&#45;&gt;139930934295280</title>\n<path fill=\"none\" stroke=\"black\" d=\"M630.219,-100C637.701,-100 646.398,-100 655.787,-100\"/>\n<polygon fill=\"black\" stroke=\"black\" points=\"655.8,-103.5 665.8,-100 655.8,-96.5001 655.8,-103.5\"/>\n</g>\n<!-- 139930934295808 -->\n<g id=\"node7\" class=\"node\"><title>139930934295808</title>\n<polygon fill=\"none\" stroke=\"black\" points=\"1036.5,-54 1036.5,-90 1221.5,-90 1221.5,-54 1036.5,-54\"/>\n<text text-anchor=\"middle\" x=\"1048\" y=\"-68.3\" font-family=\"Times,serif\" font-size=\"14.00\">n</text>\n<polyline fill=\"none\" stroke=\"black\" points=\"1059.5,-54 1059.5,-90 \"/>\n<text text-anchor=\"middle\" x=\"1099.5\" y=\"-68.3\" font-family=\"Times,serif\" font-size=\"14.00\">data 0.8814</text>\n<polyline fill=\"none\" stroke=\"black\" points=\"1139.5,-54 1139.5,-90 \"/>\n<text text-anchor=\"middle\" x=\"1180.5\" y=\"-68.3\" font-family=\"Times,serif\" font-size=\"14.00\">grad 0.5000</text>\n</g>\n<!-- 139930934295520tanh -->\n<g id=\"node14\" class=\"node\"><title>139930934295520tanh</title>\n<ellipse fill=\"none\" stroke=\"black\" cx=\"1285\" cy=\"-72\" rx=\"27\" ry=\"18\"/>\n<text text-anchor=\"middle\" x=\"1285\" y=\"-68.3\" font-family=\"Times,serif\" font-size=\"14.00\">tanh</text>\n</g>\n<!-- 139930934295808&#45;&gt;139930934295520tanh -->\n<g id=\"edge14\" class=\"edge\"><title>139930934295808&#45;&gt;139930934295520tanh</title>\n<path fill=\"none\" stroke=\"black\" d=\"M1221.81,-72C1230.94,-72 1239.79,-72 1247.81,-72\"/>\n<polygon fill=\"black\" stroke=\"black\" points=\"1247.82,-75.5001 1257.82,-72 1247.82,-68.5001 1247.82,-75.5001\"/>\n</g>\n<!-- 139930934295808+&#45;&gt;139930934295808 -->\n<g id=\"edge3\" class=\"edge\"><title>139930934295808+&#45;&gt;139930934295808</title>\n<path fill=\"none\" stroke=\"black\" d=\"M1000.12,-72C1007.83,-72 1016.77,-72 1026.27,-72\"/>\n<polygon fill=\"black\" stroke=\"black\" points=\"1026.34,-75.5001 1036.34,-72 1026.34,-68.5001 1026.34,-75.5001\"/>\n</g>\n<!-- 139930934294272 -->\n<g id=\"node9\" class=\"node\"><title>139930934294272</title>\n<polygon fill=\"none\" stroke=\"black\" points=\"4,-110 4,-146 196,-146 196,-110 4,-110\"/>\n<text text-anchor=\"middle\" x=\"19\" y=\"-124.3\" font-family=\"Times,serif\" font-size=\"14.00\">x2</text>\n<polyline fill=\"none\" stroke=\"black\" points=\"34,-110 34,-146 \"/>\n<text text-anchor=\"middle\" x=\"74\" y=\"-124.3\" font-family=\"Times,serif\" font-size=\"14.00\">data 0.0000</text>\n<polyline fill=\"none\" stroke=\"black\" points=\"114,-110 114,-146 \"/>\n<text text-anchor=\"middle\" x=\"155\" y=\"-124.3\" font-family=\"Times,serif\" font-size=\"14.00\">grad 0.5000</text>\n</g>\n<!-- 139930934294272&#45;&gt;139930934294752* -->\n<g id=\"edge7\" class=\"edge\"><title>139930934294272&#45;&gt;139930934294752*</title>\n<path fill=\"none\" stroke=\"black\" d=\"M196.051,-128C206.522,-128 216.654,-128 225.705,-128\"/>\n<polygon fill=\"black\" stroke=\"black\" points=\"225.79,-131.5 235.79,-128 225.79,-124.5 225.79,-131.5\"/>\n</g>\n<!-- 139930934294320 -->\n<g id=\"node10\" class=\"node\"><title>139930934294320</title>\n<polygon fill=\"none\" stroke=\"black\" points=\"2,-55 2,-91 198,-91 198,-55 2,-55\"/>\n<text text-anchor=\"middle\" x=\"17\" y=\"-69.3\" font-family=\"Times,serif\" font-size=\"14.00\">x1</text>\n<polyline fill=\"none\" stroke=\"black\" points=\"32,-55 32,-91 \"/>\n<text text-anchor=\"middle\" x=\"72\" y=\"-69.3\" font-family=\"Times,serif\" font-size=\"14.00\">data 2.0000</text>\n<polyline fill=\"none\" stroke=\"black\" points=\"112,-55 112,-91 \"/>\n<text text-anchor=\"middle\" x=\"155\" y=\"-69.3\" font-family=\"Times,serif\" font-size=\"14.00\">grad &#45;1.5000</text>\n</g>\n<!-- 139930934294992* -->\n<g id=\"node12\" class=\"node\"><title>139930934294992*</title>\n<ellipse fill=\"none\" stroke=\"black\" cx=\"263\" cy=\"-73\" rx=\"27\" ry=\"18\"/>\n<text text-anchor=\"middle\" x=\"263\" y=\"-69.3\" font-family=\"Times,serif\" font-size=\"14.00\">*</text>\n</g>\n<!-- 139930934294320&#45;&gt;139930934294992* -->\n<g id=\"edge10\" class=\"edge\"><title>139930934294320&#45;&gt;139930934294992*</title>\n<path fill=\"none\" stroke=\"black\" d=\"M198.369,-73C208.054,-73 217.397,-73 225.805,-73\"/>\n<polygon fill=\"black\" stroke=\"black\" points=\"225.909,-76.5001 235.909,-73 225.909,-69.5001 225.909,-76.5001\"/>\n</g>\n<!-- 139930934294992 -->\n<g id=\"node11\" class=\"node\"><title>139930934294992</title>\n<polygon fill=\"none\" stroke=\"black\" points=\"326,-55 326,-91 540,-91 540,-55 326,-55\"/>\n<text text-anchor=\"middle\" x=\"349.5\" y=\"-69.3\" font-family=\"Times,serif\" font-size=\"14.00\">x1w1</text>\n<polyline fill=\"none\" stroke=\"black\" points=\"373,-55 373,-91 \"/>\n<text text-anchor=\"middle\" x=\"415.5\" y=\"-69.3\" font-family=\"Times,serif\" font-size=\"14.00\">data &#45;6.0000</text>\n<polyline fill=\"none\" stroke=\"black\" points=\"458,-55 458,-91 \"/>\n<text text-anchor=\"middle\" x=\"499\" y=\"-69.3\" font-family=\"Times,serif\" font-size=\"14.00\">grad 0.5000</text>\n</g>\n<!-- 139930934294992&#45;&gt;139930934295280+ -->\n<g id=\"edge6\" class=\"edge\"><title>139930934294992&#45;&gt;139930934295280+</title>\n<path fill=\"none\" stroke=\"black\" d=\"M540.397,-90.0995C549.724,-91.5985 558.654,-93.0337 566.679,-94.3234\"/>\n<polygon fill=\"black\" stroke=\"black\" points=\"566.235,-97.7969 576.664,-95.9281 567.346,-90.8856 566.235,-97.7969\"/>\n</g>\n<!-- 139930934294992*&#45;&gt;139930934294992 -->\n<g id=\"edge4\" class=\"edge\"><title>139930934294992*&#45;&gt;139930934294992</title>\n<path fill=\"none\" stroke=\"black\" d=\"M290.25,-73C297.705,-73 306.336,-73 315.587,-73\"/>\n<polygon fill=\"black\" stroke=\"black\" points=\"315.841,-76.5001 325.841,-73 315.841,-69.5001 315.841,-76.5001\"/>\n</g>\n<!-- 139930934295520 -->\n<g id=\"node13\" class=\"node\"><title>139930934295520</title>\n<polygon fill=\"none\" stroke=\"black\" points=\"1348.5,-54 1348.5,-90 1533.5,-90 1533.5,-54 1348.5,-54\"/>\n<text text-anchor=\"middle\" x=\"1360\" y=\"-68.3\" font-family=\"Times,serif\" font-size=\"14.00\">o</text>\n<polyline fill=\"none\" stroke=\"black\" points=\"1371.5,-54 1371.5,-90 \"/>\n<text text-anchor=\"middle\" x=\"1411.5\" y=\"-68.3\" font-family=\"Times,serif\" font-size=\"14.00\">data 0.7071</text>\n<polyline fill=\"none\" stroke=\"black\" points=\"1451.5,-54 1451.5,-90 \"/>\n<text text-anchor=\"middle\" x=\"1492.5\" y=\"-68.3\" font-family=\"Times,serif\" font-size=\"14.00\">grad 1.0000</text>\n</g>\n<!-- 139930934295520tanh&#45;&gt;139930934295520 -->\n<g id=\"edge5\" class=\"edge\"><title>139930934295520tanh&#45;&gt;139930934295520</title>\n<path fill=\"none\" stroke=\"black\" d=\"M1312.12,-72C1319.83,-72 1328.77,-72 1338.27,-72\"/>\n<polygon fill=\"black\" stroke=\"black\" points=\"1338.34,-75.5001 1348.34,-72 1338.34,-68.5001 1338.34,-75.5001\"/>\n</g>\n<!-- 139930934294512 -->\n<g id=\"node15\" class=\"node\"><title>139930934294512</title>\n<polygon fill=\"none\" stroke=\"black\" points=\"0,-0 0,-36 200,-36 200,-0 0,-0\"/>\n<text text-anchor=\"middle\" x=\"16.5\" y=\"-14.3\" font-family=\"Times,serif\" font-size=\"14.00\">w1</text>\n<polyline fill=\"none\" stroke=\"black\" points=\"33,-0 33,-36 \"/>\n<text text-anchor=\"middle\" x=\"75.5\" y=\"-14.3\" font-family=\"Times,serif\" font-size=\"14.00\">data &#45;3.0000</text>\n<polyline fill=\"none\" stroke=\"black\" points=\"118,-0 118,-36 \"/>\n<text text-anchor=\"middle\" x=\"159\" y=\"-14.3\" font-family=\"Times,serif\" font-size=\"14.00\">grad 1.0000</text>\n</g>\n<!-- 139930934294512&#45;&gt;139930934294992* -->\n<g id=\"edge8\" class=\"edge\"><title>139930934294512&#45;&gt;139930934294992*</title>\n<path fill=\"none\" stroke=\"black\" d=\"M169.284,-36.004C179.648,-39.113 190.16,-42.4841 200,-46 210.282,-49.6738 221.276,-54.2416 231.107,-58.5691\"/>\n<polygon fill=\"black\" stroke=\"black\" points=\"229.925,-61.8749 240.482,-62.7744 232.79,-55.488 229.925,-61.8749\"/>\n</g>\n</g>\n</svg>\n",
      "text/plain": [
       "<graphviz.graphs.Digraph at 0x7f4435a17e80>"
      ]
     },
     "execution_count": 214,
     "metadata": {},
     "output_type": "execute_result"
    }
   ],
   "source": [
    "draw_dot(o)"
   ]
  }
 ],
 "metadata": {
  "kernelspec": {
   "display_name": ".venv",
   "language": "python",
   "name": "python3"
  },
  "language_info": {
   "codemirror_mode": {
    "name": "ipython",
    "version": 3
   },
   "file_extension": ".py",
   "mimetype": "text/x-python",
   "name": "python",
   "nbconvert_exporter": "python",
   "pygments_lexer": "ipython3",
   "version": "3.9.13"
  },
  "orig_nbformat": 4,
  "vscode": {
   "interpreter": {
    "hash": "de17c4b867480f2f8bc5d2be08a00cb2e02a1ee18bda207b764c3905e0b438fb"
   }
  }
 },
 "nbformat": 4,
 "nbformat_minor": 2
}
