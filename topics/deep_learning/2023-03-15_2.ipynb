{
 "cells": [
  {
   "cell_type": "code",
   "execution_count": 1,
   "metadata": {},
   "outputs": [
    {
     "name": "stderr",
     "output_type": "stream",
     "text": [
      "/Users/dqmis/github/code_academy_ai_course/.venv/lib/python3.9/site-packages/tqdm/auto.py:22: TqdmWarning: IProgress not found. Please update jupyter and ipywidgets. See https://ipywidgets.readthedocs.io/en/stable/user_install.html\n",
      "  from .autonotebook import tqdm as notebook_tqdm\n"
     ]
    }
   ],
   "source": [
    "import torch\n",
    "\n",
    "from abc import ABC, abstractmethod\n",
    "from typing import List, Tuple, Dict, Optional\n",
    "from torchvision.datasets import MNIST\n",
    "from torchvision import transforms\n",
    "from torch.utils.data import DataLoader, Dataset\n",
    "import torch.nn.functional as F\n",
    "\n",
    "from unidecode import unidecode\n",
    "\n",
    "import requests\n",
    "from bs4 import BeautifulSoup\n",
    "\n",
    "import matplotlib.pyplot as plt\n",
    "from sklearn.model_selection import train_test_split\n",
    "\n",
    "from sklearn.metrics import classification_report"
   ]
  },
  {
   "cell_type": "code",
   "execution_count": 2,
   "metadata": {},
   "outputs": [],
   "source": [
    "# --- BASE ---\n",
    "class Module(ABC):\n",
    "    @abstractmethod\n",
    "    def forward(x: torch.Tensor) -> torch.Tensor:\n",
    "        raise NotImplementedError  \n",
    "    \n",
    "    def __call__(self, x: torch.Tensor) -> torch.Tensor:\n",
    "        return self.forward(x)\n",
    "\n",
    "    @property\n",
    "    def out(self) -> torch.Tensor:\n",
    "        return self._out\n",
    "\n",
    "    @property\n",
    "    def parameters(self) -> List[torch.Tensor]:\n",
    "        return []\n",
    "\n",
    "# --- LINEAR LAYER ---\n",
    "\n",
    "class Linear(Module):\n",
    "    def __init__(self, fan_in: int, fan_out: int, bias: bool = True) -> None:\n",
    "        self._weight = torch.randn(fan_in, fan_out) / fan_in**0.5\n",
    "        self._bias = torch.zeros(fan_out) if bias else None\n",
    "\n",
    "    @property\n",
    "    def weight(self) -> torch.Tensor:\n",
    "        return self._weight\n",
    "\n",
    "    @weight.setter\n",
    "    def weight(self, x: torch.Tensor) -> None:\n",
    "        self._weight = x\n",
    "    \n",
    "    @property\n",
    "    def bias(self) -> torch.Tensor:\n",
    "        return self._bias\n",
    "\n",
    "    def forward(self, x: torch.Tensor) -> torch.Tensor:\n",
    "        # hprebn = embcat @ W1 + b1 # hidden layer pre-activation\n",
    "        self._out = x @ self._weight\n",
    "        if self._bias is not None:\n",
    "            self._out += self.bias\n",
    "        return self._out\n",
    "\n",
    "    @property\n",
    "    def parameters(self) -> List[torch.Tensor]:\n",
    "        return [self.weight] + ([self.bias] if self.bias is not None else [])\n",
    "\n",
    "\n",
    "# --- ACTIVATION ---\n",
    "\n",
    "class Tanh(Module):\n",
    "    def forward(self, x: torch.Tensor) -> torch.Tensor:\n",
    "        self._out = torch.tanh(x)\n",
    "        return self._out\n",
    "\n",
    "class ReLU(Module):\n",
    "    def forward(self, x: torch.Tensor) -> torch.Tensor:\n",
    "        self._out = torch.relu(x)\n",
    "        return self._out\n",
    "\n",
    "# --- BATCH NORM ---\n",
    "\n",
    "\n",
    "class BatchNorm1d(Module):\n",
    "    def __init__(self, fan_in: int, eps: float = 1e-5, momentum: float = 1e-1) -> None:\n",
    "        self._eps = eps\n",
    "        self._momentum = momentum\n",
    "        self._training = True\n",
    "        # parameters\n",
    "        self._gamma = torch.ones(fan_in)\n",
    "        self._beta = torch.zeros(fan_in)\n",
    "        # buffers\n",
    "        self._running_mean = torch.zeros(fan_in)\n",
    "        self._running_var = torch.ones(fan_in)\n",
    "    \n",
    "    @property\n",
    "    def training(self) -> bool:\n",
    "        return self._training\n",
    "\n",
    "    @training.setter\n",
    "    def training(self, value: bool) -> None:\n",
    "        self._training = value\n",
    "\n",
    "    \n",
    "    def forward(self, x: torch.Tensor) -> torch.Tensor:\n",
    "        print(x.shape)\n",
    "        if self._training:\n",
    "            if x.dim == 2:\n",
    "                dim = 0\n",
    "            elif x.dim == 3:\n",
    "                dim = (0, 1)\n",
    "            xmean = x.mean(dim=dim, keepdim=True)\n",
    "            xvar = x.var(dim=dim, keepdim=True)\n",
    "        else:\n",
    "            xmean = self._running_mean\n",
    "            xvar = self._running_var\n",
    "\n",
    "        xhat = (x - xmean) / torch.sqrt(xvar + self._eps)\n",
    "        self._out = self._gamma * xhat + self._beta\n",
    "\n",
    "        # updating buffers \n",
    "        if self._training:\n",
    "            self._running_mean = self._momentum * xmean + (1 - self._momentum) * self._running_mean\n",
    "            self._running_var = self._momentum * xvar + (1 - self._momentum) * self._running_var\n",
    "\n",
    "        return self._out\n",
    "\n",
    "    @property\n",
    "    def parameters(self) -> List[torch.Tensor]:\n",
    "        return [self._gamma, self._beta]\n",
    "\n",
    "# --- EMBEDDING ---\n",
    "\n",
    "class Embedding(Module):\n",
    "    def __init__(self, vocab_size: int, embedding_size: int) -> None:\n",
    "        self._embedding = torch.randn(vocab_size, embedding_size)\n",
    "\n",
    "    def forward(self, x: torch.Tensor) -> torch.Tensor:\n",
    "        self._out = self._embedding[x]\n",
    "        return self._out\n",
    "\n",
    "    @property\n",
    "    def parameters(self) -> List[torch.Tensor]:\n",
    "        return [self._embedding]\n",
    "    \n",
    "# --- FLATTEN ---\n",
    "class Flatten(Module):\n",
    "    def forward(self, x: torch.Tensor) -> torch.Tensor:\n",
    "        self._out = x.view(x.shape[0], -1)\n",
    "        return self._out\n",
    "    \n",
    "class FlattenConsecutive(Module):\n",
    "    def __init__(self, n: int = 1) -> None:\n",
    "        self._n = n\n",
    "\n",
    "    def forward(self, x: torch.Tensor) -> torch.Tensor:\n",
    "        B, T, C = x.shape\n",
    "        x = x.view(B, T // self._n, C * self._n)\n",
    "        if x.shape[1] == 1:\n",
    "            x = x.squeeze(1)\n",
    "\n",
    "        self._out = x\n",
    "        return self._out\n",
    "\n",
    "\n",
    "# --- SEQUENTIAL ---\n",
    "class Sequential(Module):\n",
    "    def __init__(self, *layers: Module) -> None:\n",
    "        self._layers = list(layers)\n",
    "\n",
    "    def forward(self, x: torch.Tensor) -> torch.Tensor:\n",
    "        for layer in self._layers:\n",
    "            x = layer(x)\n",
    "        self._out = x\n",
    "        return x\n",
    "\n",
    "    @property\n",
    "    def layers(self) -> List[Module]:\n",
    "        return self._layers\n",
    "    \n",
    "    @property\n",
    "    def out_features(self) -> int:\n",
    "        return self._layers[-1].weight.shape[-1]\n",
    "\n",
    "    @property\n",
    "    def parameters(self) -> List[torch.Tensor]:\n",
    "        return [p for layer in self._layers for p in layer.parameters]"
   ]
  },
  {
   "cell_type": "code",
   "execution_count": 3,
   "metadata": {},
   "outputs": [],
   "source": [
    "class LithuanianNamesDataset(Dataset):\n",
    "    def __init__(self, names: Optional[List[str]] = None, normalised: bool = True) -> None:\n",
    "        self._normalised = normalised\n",
    "        if names is None:\n",
    "            self._names = self._get_names()\n",
    "        else:\n",
    "            self._names = names\n",
    "\n",
    "    def _get_names(self) -> List[str]:\n",
    "        page_content = self._get_page_content()\n",
    "        names = self._extract_names(page_content)\n",
    "        return names\n",
    "    \n",
    "    @property\n",
    "    def raw_data(self) -> List[str]:\n",
    "        return self._names\n",
    "\n",
    "    def __len__(self) -> int:\n",
    "        return len(self._names)\n",
    "\n",
    "    def __getitem__(self, idx: int) -> str:\n",
    "        return self._names[idx]\n",
    "\n",
    "    def _get_page_content(self) -> BeautifulSoup:\n",
    "        resp = requests.get(\"http://vardai.vlkk.lt/dazninis-rekomenduojamu-vardu-sarasas-baltiskos-kilmes-vardai/\")\n",
    "        return BeautifulSoup(resp.text, \"html.parser\")\n",
    "    \n",
    "    def _extract_names(self, page_content: BeautifulSoup) -> List[str]:\n",
    "        main_content = page_content.find(\"main\")\n",
    "        ps = main_content.find_all(\"p\")\n",
    "        names = [p.text.lower() for p in ps if len(p.text.split()) == 1]\n",
    "        names = [name for name in names if name.isalpha()]\n",
    "        if self._normalised:\n",
    "            return [unidecode(name) for name in names]\n",
    "        return names\n"
   ]
  },
  {
   "cell_type": "code",
   "execution_count": 4,
   "metadata": {},
   "outputs": [],
   "source": [
    "class WordsInBlocksDataset(Dataset):\n",
    "    def __init__(self, x: torch.Tensor, y: torch.Tensor) -> None:\n",
    "        self._x = x\n",
    "        self._y = y\n",
    "\n",
    "    def __len__(self) -> int:\n",
    "        return self._x.shape[0]\n",
    "    \n",
    "    def __getitem__(self, idx: int) -> Tuple[torch.Tensor, torch.Tensor]:\n",
    "        return self._x[idx], self._y[idx]"
   ]
  },
  {
   "cell_type": "code",
   "execution_count": 5,
   "metadata": {},
   "outputs": [],
   "source": [
    "class NamesModel:\n",
    "    def __init__(self, encoder: Module, class_num) -> None:\n",
    "        self._encoder = encoder\n",
    "        self._classifier = Linear(encoder.out_features, class_num)\n",
    "\n",
    "    def forward(self, x: torch.Tensor) -> torch.Tensor:\n",
    "        x = self._encoder(x)\n",
    "        x = self._classifier(x)\n",
    "        return x\n",
    "\n",
    "    def freeze(self) -> None:\n",
    "        for p in self._encoder.parameters:\n",
    "            p.requires_grad = False\n",
    "    \n",
    "    def unfreeze(self) -> None:\n",
    "        for p in self.parameters:\n",
    "            p.requires_grad = True\n",
    "    \n",
    "    def __call__(self, x: torch.Tensor) -> torch.Tensor:\n",
    "        return self.forward(x)\n",
    "    \n",
    "    @property\n",
    "    def parameters(self) -> List[torch.Tensor]:\n",
    "        return self._encoder.parameters + self._classifier.parameters"
   ]
  },
  {
   "cell_type": "code",
   "execution_count": 6,
   "metadata": {},
   "outputs": [],
   "source": [
    "def build_dataset(\n",
    "    words: List[str], stoi: Dict[str, int], block_size: int = 3\n",
    ") -> Tuple[torch.Tensor, torch.Tensor]:\n",
    "    X, Y = [], []\n",
    "\n",
    "    for w in words:\n",
    "        context = [0] * block_size\n",
    "        for ch in w + \".\":\n",
    "            ix = stoi[ch]\n",
    "            X.append(context)\n",
    "            Y.append(ix)\n",
    "            context = context[1:] + [ix]\n",
    "\n",
    "    X = torch.tensor(X)\n",
    "    Y = torch.tensor(Y)\n",
    "    print(X.shape, Y.shape)\n",
    "    return X, Y"
   ]
  },
  {
   "attachments": {},
   "cell_type": "markdown",
   "metadata": {},
   "source": [
    "## Training on lit names"
   ]
  },
  {
   "cell_type": "code",
   "execution_count": 7,
   "metadata": {},
   "outputs": [],
   "source": [
    "dataset = LithuanianNamesDataset(normalised=True)"
   ]
  },
  {
   "cell_type": "code",
   "execution_count": 8,
   "metadata": {},
   "outputs": [
    {
     "name": "stdout",
     "output_type": "stream",
     "text": [
      "aida\n",
      "aidas\n",
      "aiste\n",
      "aistis\n",
      "alanta\n",
      "aldas\n",
      "aldona\n",
      "aldonas\n",
      "algimantas\n",
      "algimante\n",
      "algimanta\n"
     ]
    }
   ],
   "source": [
    "for i, name in enumerate(dataset):\n",
    "    if i > 10:\n",
    "        break\n",
    "    print(name)"
   ]
  },
  {
   "cell_type": "code",
   "execution_count": 9,
   "metadata": {},
   "outputs": [],
   "source": [
    "dataset = LithuanianNamesDataset(normalised=True).raw_data"
   ]
  },
  {
   "cell_type": "code",
   "execution_count": 10,
   "metadata": {},
   "outputs": [
    {
     "name": "stdout",
     "output_type": "stream",
     "text": [
      "{1: 'a', 2: 'b', 3: 'c', 4: 'd', 5: 'e', 6: 'f', 7: 'g', 8: 'h', 9: 'i', 10: 'j', 11: 'k', 12: 'l', 13: 'm', 14: 'n', 15: 'o', 16: 'p', 17: 'q', 18: 'r', 19: 's', 20: 't', 21: 'u', 22: 'v', 23: 'w', 24: 'x', 25: 'y', 26: 'z', 0: '.'}\n",
      "27\n"
     ]
    }
   ],
   "source": [
    "# read in all the words\n",
    "words = requests.get(\n",
    "    \"https://raw.githubusercontent.com/karpathy/makemore/master/names.txt\"\n",
    ").text.splitlines()\n",
    "\n",
    "\n",
    "# build the vocabulary of characters and mappings to/from integers\n",
    "chars = sorted(list(set(\"\".join(words))))\n",
    "stoi = {s: i + 1 for i, s in enumerate(chars)}\n",
    "stoi[\".\"] = 0\n",
    "itos = {i: s for s, i in stoi.items()}\n",
    "vocab_size = len(itos)\n",
    "print(itos)\n",
    "print(vocab_size)"
   ]
  },
  {
   "cell_type": "code",
   "execution_count": 11,
   "metadata": {},
   "outputs": [],
   "source": [
    "train_data, test_data = train_test_split(dataset, test_size=0.2, random_state=42)"
   ]
  },
  {
   "cell_type": "code",
   "execution_count": 12,
   "metadata": {},
   "outputs": [],
   "source": [
    "BLOCK_SIZE = 8\n",
    "EMB_SIZE = 10"
   ]
  },
  {
   "cell_type": "code",
   "execution_count": 13,
   "metadata": {},
   "outputs": [
    {
     "name": "stdout",
     "output_type": "stream",
     "text": [
      "torch.Size([7528, 8]) torch.Size([7528])\n",
      "torch.Size([1858, 8]) torch.Size([1858])\n"
     ]
    }
   ],
   "source": [
    "Xtr, Ytr = build_dataset(train_data, stoi=stoi, block_size=BLOCK_SIZE)\n",
    "Xtest, Ytest = build_dataset(test_data, stoi=stoi, block_size=BLOCK_SIZE)"
   ]
  },
  {
   "cell_type": "code",
   "execution_count": 14,
   "metadata": {},
   "outputs": [],
   "source": [
    "lt_model = NamesModel(\n",
    "    Sequential(\n",
    "        Embedding(vocab_size, EMB_SIZE),\n",
    "        Flatten(),\n",
    "        Linear(EMB_SIZE * BLOCK_SIZE, 128),\n",
    "        ReLU(),\n",
    "        Linear(128, 64),\n",
    "        ReLU(),\n",
    "        Linear(64, 64),\n",
    "    ),\n",
    "    class_num=vocab_size,\n",
    ")"
   ]
  },
  {
   "cell_type": "code",
   "execution_count": 15,
   "metadata": {},
   "outputs": [],
   "source": [
    "train_dataloader = DataLoader(WordsInBlocksDataset(Xtr, Ytr), batch_size=32, shuffle=True)\n",
    "test_dataloader = DataLoader(WordsInBlocksDataset(Xtest, Ytest), batch_size=32, shuffle=False)"
   ]
  },
  {
   "cell_type": "code",
   "execution_count": 16,
   "metadata": {},
   "outputs": [
    {
     "name": "stdout",
     "output_type": "stream",
     "text": [
      "Epoch: 0, Loss: 2.775640602839195\n",
      "Epoch: 2, Loss: 2.1298937241909868\n",
      "Epoch: 4, Loss: 1.8905468042624198\n",
      "Epoch: 6, Loss: 1.7547833126480297\n",
      "Epoch: 8, Loss: 1.662248171487097\n",
      "Epoch: 10, Loss: 1.5904444771803032\n",
      "Epoch: 12, Loss: 1.5381627769793493\n",
      "Epoch: 14, Loss: 1.4941373136589082\n",
      "Epoch: 16, Loss: 1.4592633310516\n",
      "Epoch: 18, Loss: 1.4306328955848338\n",
      "Epoch: 20, Loss: 1.4015117982181453\n",
      "Epoch: 22, Loss: 1.3808494993185594\n",
      "Epoch: 24, Loss: 1.3600313782186833\n",
      "Epoch: 26, Loss: 1.3390635421215478\n",
      "Epoch: 28, Loss: 1.3168639914464142\n",
      "Epoch: 30, Loss: 1.3003182257130994\n",
      "Epoch: 32, Loss: 1.2855746306605258\n",
      "Epoch: 34, Loss: 1.2652379211227773\n",
      "Epoch: 36, Loss: 1.2502725250640159\n",
      "Epoch: 38, Loss: 1.2363766121157145\n",
      "Epoch: 40, Loss: 1.2261915555444813\n",
      "Epoch: 42, Loss: 1.213995211710364\n",
      "Epoch: 44, Loss: 1.1992685529640166\n",
      "Epoch: 46, Loss: 1.1893933183055814\n",
      "Epoch: 48, Loss: 1.1769080826286542\n",
      "Epoch: 50, Loss: 1.1644134296704147\n",
      "Epoch: 52, Loss: 1.1577720177375663\n",
      "Epoch: 54, Loss: 1.147551818040468\n",
      "Epoch: 56, Loss: 1.140914257552664\n",
      "Epoch: 58, Loss: 1.126264760302285\n",
      "Epoch: 60, Loss: 1.1223942546521204\n",
      "Epoch: 62, Loss: 1.1156091094017029\n",
      "Epoch: 64, Loss: 1.1074390792745654\n",
      "Epoch: 66, Loss: 1.1011589707459433\n",
      "Epoch: 68, Loss: 1.0940386405435658\n",
      "Epoch: 70, Loss: 1.0869676773830996\n",
      "Epoch: 72, Loss: 1.0803179748482623\n",
      "Epoch: 74, Loss: 1.0768196001901464\n",
      "Epoch: 76, Loss: 1.0697154710858554\n",
      "Epoch: 78, Loss: 1.0645524419970431\n",
      "Epoch: 80, Loss: 1.0541099139441878\n",
      "Epoch: 82, Loss: 1.0531364060559516\n",
      "Epoch: 84, Loss: 1.0476218138710927\n",
      "Epoch: 86, Loss: 1.039285350654085\n",
      "Epoch: 88, Loss: 1.0364845566830392\n",
      "Epoch: 90, Loss: 1.0309825996726245\n",
      "Epoch: 92, Loss: 1.03026828700203\n",
      "Epoch: 94, Loss: 1.0265948618367566\n",
      "Epoch: 96, Loss: 1.021784306077634\n",
      "Epoch: 98, Loss: 1.0177202219680204\n",
      "Epoch: 100, Loss: 1.0144451654563515\n",
      "Epoch: 102, Loss: 1.0097729689994102\n",
      "Epoch: 104, Loss: 1.0053172539603912\n",
      "Epoch: 106, Loss: 1.0028797400704885\n",
      "Epoch: 108, Loss: 0.998787918964685\n",
      "Epoch: 110, Loss: 1.0009851732243926\n",
      "Epoch: 112, Loss: 0.9937605890682188\n",
      "Epoch: 114, Loss: 0.991469984716278\n",
      "Epoch: 116, Loss: 0.988296627493228\n",
      "Epoch: 118, Loss: 0.9879673850738396\n",
      "Epoch: 120, Loss: 0.9853023154250646\n",
      "Epoch: 122, Loss: 0.9773830564345344\n",
      "Epoch: 124, Loss: 0.9817962815700951\n",
      "Epoch: 126, Loss: 0.9767875714322268\n",
      "Epoch: 128, Loss: 0.9744618824225361\n",
      "Epoch: 130, Loss: 0.970889454044528\n",
      "Epoch: 132, Loss: 0.9719523183875165\n",
      "Epoch: 134, Loss: 0.9686269391391237\n",
      "Epoch: 136, Loss: 0.9710130508420831\n",
      "Epoch: 138, Loss: 0.9647498470494302\n",
      "Epoch: 140, Loss: 0.9638925760479297\n",
      "Epoch: 142, Loss: 0.9610758946608688\n",
      "Epoch: 144, Loss: 0.9589331789036929\n",
      "Epoch: 146, Loss: 0.9595785676422766\n",
      "Epoch: 148, Loss: 0.952602202483153\n"
     ]
    }
   ],
   "source": [
    "epochs = 150\n",
    "lr = 0.01\n",
    "\n",
    "lossi: List[float] = []\n",
    "\n",
    "lt_model.unfreeze()\n",
    "\n",
    "for i in range(epochs):\n",
    "    epoch_loss: float = []\n",
    "    for batch in train_dataloader:\n",
    "        x, y = batch\n",
    "        y_pred = lt_model(x)\n",
    "        loss = F.cross_entropy(y_pred, y)\n",
    "\n",
    "        for p in lt_model.parameters:\n",
    "            p.grad = None\n",
    "\n",
    "        loss.backward()\n",
    "\n",
    "        for p in lt_model.parameters:\n",
    "            p.data -= lr * p.grad\n",
    "\n",
    "        epoch_loss.append(loss.item())\n",
    "        lossi.append(loss.item())\n",
    "    \n",
    "    if i % 2 == 0:\n",
    "        print(f\"Epoch: {i}, Loss: {sum(epoch_loss) / len(epoch_loss)}\")"
   ]
  },
  {
   "cell_type": "code",
   "execution_count": 17,
   "metadata": {},
   "outputs": [
    {
     "data": {
      "text/plain": [
       "[<matplotlib.lines.Line2D at 0x14f1ce070>]"
      ]
     },
     "execution_count": 17,
     "metadata": {},
     "output_type": "execute_result"
    },
    {
     "data": {
      "image/png": "[encoded data removed]",
      "text/plain": [
       "<Figure size 640x480 with 1 Axes>"
      ]
     },
     "metadata": {},
     "output_type": "display_data"
    }
   ],
   "source": [
    "smoothing_gain = 200\n",
    "plt.plot(torch.tensor(lossi).view(-1, smoothing_gain).mean(dim=1))"
   ]
  },
  {
   "cell_type": "code",
   "execution_count": 19,
   "metadata": {},
   "outputs": [
    {
     "name": "stdout",
     "output_type": "stream",
     "text": [
      "zadrius.\n",
      "jovaldas.\n",
      "svygaudas.\n",
      "eimante.\n",
      "butvydas.\n",
      "gilma.\n",
      "daugvydas.\n",
      "urmina.\n",
      "velgirdas.\n",
      "gora.\n",
      "liaulas.\n",
      "rmina.\n",
      "norgaile.\n",
      "augute.\n",
      "rimante.\n",
      "junvile.\n",
      "rugile.\n",
      "gilminte.\n",
      "saugirda.\n",
      "sangaudas.\n"
     ]
    }
   ],
   "source": [
    "j = 0\n",
    "while j < 20:\n",
    "    \n",
    "    out = []\n",
    "    context = [0] * BLOCK_SIZE\n",
    "    while True:\n",
    "      logits = lt_model.forward(torch.tensor(context).view(1, -1))\n",
    "      probs = F.softmax(logits, dim=1)\n",
    "      ix = torch.multinomial(probs, num_samples=1).item()\n",
    "      context = context[1:] + [ix]\n",
    "      out.append(ix)\n",
    "      if ix == 0:\n",
    "        break\n",
    "    \n",
    "    name = ''.join(itos[i] for i in out)\n",
    "    print(name)\n",
    "    j += 1"
   ]
  },
  {
   "attachments": {},
   "cell_type": "markdown",
   "metadata": {},
   "source": [
    "## Training on eng names"
   ]
  },
  {
   "cell_type": "code",
   "execution_count": 52,
   "metadata": {},
   "outputs": [],
   "source": [
    "train_data, test_data = train_test_split(words, test_size=0.2, random_state=42)"
   ]
  },
  {
   "cell_type": "code",
   "execution_count": 53,
   "metadata": {},
   "outputs": [
    {
     "name": "stdout",
     "output_type": "stream",
     "text": [
      "torch.Size([182497, 8]) torch.Size([182497])\n",
      "torch.Size([45649, 8]) torch.Size([45649])\n"
     ]
    }
   ],
   "source": [
    "Xtr, Ytr = build_dataset(train_data, stoi=stoi, block_size=BLOCK_SIZE)\n",
    "Xtest, Ytest = build_dataset(test_data, stoi=stoi, block_size=BLOCK_SIZE)"
   ]
  },
  {
   "cell_type": "code",
   "execution_count": 56,
   "metadata": {},
   "outputs": [],
   "source": [
    "train_dataloader = DataLoader(WordsInBlocksDataset(Xtr, Ytr), batch_size=32, shuffle=True)\n",
    "test_dataloader = DataLoader(WordsInBlocksDataset(Xtest, Ytest), batch_size=32, shuffle=False)"
   ]
  },
  {
   "cell_type": "code",
   "execution_count": 57,
   "metadata": {},
   "outputs": [],
   "source": [
    "en_model = NamesModel(\n",
    "    Sequential(\n",
    "        Embedding(vocab_size, EMB_SIZE),\n",
    "        Flatten(),\n",
    "        Linear(EMB_SIZE * BLOCK_SIZE, 128),\n",
    "        ReLU(),\n",
    "        Linear(128, 64),\n",
    "        ReLU(),\n",
    "        Linear(64, 64),\n",
    "    ),\n",
    "    class_num=vocab_size,\n",
    ")"
   ]
  },
  {
   "cell_type": "code",
   "execution_count": 58,
   "metadata": {},
   "outputs": [
    {
     "name": "stdout",
     "output_type": "stream",
     "text": [
      "Epoch: 0, Loss: 2.4593536910427236\n",
      "Epoch: 2, Loss: 2.227836358889958\n",
      "Epoch: 4, Loss: 2.170639691333617\n",
      "Epoch: 6, Loss: 2.1367630815397307\n",
      "Epoch: 8, Loss: 2.111568640086795\n",
      "Epoch: 10, Loss: 2.090723270892595\n",
      "Epoch: 12, Loss: 2.0733176430825764\n",
      "Epoch: 14, Loss: 2.0595395646957995\n"
     ]
    }
   ],
   "source": [
    "epochs = 15\n",
    "lr = 0.01\n",
    "\n",
    "lossi: List[float] = []\n",
    "\n",
    "en_model.unfreeze()\n",
    "\n",
    "for i in range(epochs):\n",
    "    epoch_loss: float = []\n",
    "    for batch in train_dataloader:\n",
    "        x, y = batch\n",
    "        y_pred = en_model(x)\n",
    "        loss = F.cross_entropy(y_pred, y)\n",
    "\n",
    "        for p in en_model.parameters:\n",
    "            p.grad = None\n",
    "\n",
    "        loss.backward()\n",
    "\n",
    "        for p in en_model.parameters:\n",
    "            p.data -= lr * p.grad\n",
    "\n",
    "        epoch_loss.append(loss.item())\n",
    "        lossi.append(loss.item())\n",
    "    \n",
    "    if i % 2 == 0:\n",
    "        print(f\"Epoch: {i}, Loss: {sum(epoch_loss) / len(epoch_loss)}\")"
   ]
  },
  {
   "cell_type": "code",
   "execution_count": 59,
   "metadata": {},
   "outputs": [
    {
     "data": {
      "text/plain": [
       "[<matplotlib.lines.Line2D at 0x14f8f0430>]"
      ]
     },
     "execution_count": 59,
     "metadata": {},
     "output_type": "execute_result"
    },
    {
     "data": {
      "image/png": "[encoded data removed]",
      "text/plain": [
       "<Figure size 640x480 with 1 Axes>"
      ]
     },
     "metadata": {},
     "output_type": "display_data"
    }
   ],
   "source": [
    "smoothing_gain = 2139\n",
    "plt.plot(torch.tensor(lossi).view(-1, smoothing_gain).mean(dim=1))"
   ]
  },
  {
   "cell_type": "code",
   "execution_count": 60,
   "metadata": {},
   "outputs": [
    {
     "name": "stdout",
     "output_type": "stream",
     "text": [
      "uovine.\n",
      "esshria.\n",
      "iatana.\n",
      "haskni.\n",
      "aura.\n",
      "amani.\n",
      "nailyn.\n",
      "arick.\n",
      "etmain.\n",
      "annovi.\n",
      "kaidy.\n",
      "yamir.\n",
      "aurim.\n",
      "yaylee.\n",
      "alan.\n",
      "naoko.\n",
      "courland.\n",
      "shan.\n",
      "anperaa.\n",
      "yuris.\n"
     ]
    }
   ],
   "source": [
    "j = 0\n",
    "while j < 20:\n",
    "    \n",
    "    out = []\n",
    "    context = [0] * BLOCK_SIZE\n",
    "    while True:\n",
    "      logits = en_model.forward(torch.tensor(context).view(1, -1))\n",
    "      probs = F.softmax(logits, dim=1)\n",
    "      ix = torch.multinomial(probs, num_samples=1).item()\n",
    "      context = context[1:] + [ix]\n",
    "      out.append(ix)\n",
    "      if ix == 0:\n",
    "        break\n",
    "    \n",
    "    name = ''.join(itos[i] for i in out)\n",
    "    print(name)\n",
    "    j += 1"
   ]
  },
  {
   "attachments": {},
   "cell_type": "markdown",
   "metadata": {},
   "source": [
    "## Training with transfer learning"
   ]
  },
  {
   "cell_type": "code",
   "execution_count": 61,
   "metadata": {},
   "outputs": [],
   "source": [
    "lt_model_tl = en_model"
   ]
  },
  {
   "cell_type": "code",
   "execution_count": 62,
   "metadata": {},
   "outputs": [
    {
     "name": "stdout",
     "output_type": "stream",
     "text": [
      "torch.Size([7528, 8]) torch.Size([7528])\n",
      "torch.Size([1858, 8]) torch.Size([1858])\n"
     ]
    }
   ],
   "source": [
    "train_data, test_data = train_test_split(dataset, test_size=0.2, random_state=42)\n",
    "\n",
    "Xtr, Ytr = build_dataset(train_data, stoi=stoi, block_size=BLOCK_SIZE)\n",
    "Xtest, Ytest = build_dataset(test_data, stoi=stoi, block_size=BLOCK_SIZE)\n",
    "\n",
    "train_dataloader = DataLoader(WordsInBlocksDataset(Xtr, Ytr), batch_size=32, shuffle=True)\n",
    "test_dataloader = DataLoader(WordsInBlocksDataset(Xtest, Ytest), batch_size=32, shuffle=False)"
   ]
  },
  {
   "cell_type": "code",
   "execution_count": 67,
   "metadata": {},
   "outputs": [
    {
     "name": "stdout",
     "output_type": "stream",
     "text": [
      "Epoch: 0, Loss: 1.5454645040681807\n",
      "Epoch: 2, Loss: 1.542299481014074\n",
      "Epoch: 4, Loss: 1.5442570639868913\n",
      "Epoch: 6, Loss: 1.5460564039521298\n",
      "Epoch: 8, Loss: 1.540294148659302\n",
      "Epoch: 10, Loss: 1.5416106758481365\n",
      "Epoch: 12, Loss: 1.5420236880496396\n",
      "Epoch: 14, Loss: 1.5391446862180354\n",
      "Epoch: 16, Loss: 1.5383278500225583\n",
      "Epoch: 18, Loss: 1.5413914325378708\n",
      "Epoch: 20, Loss: 1.5362844398971331\n",
      "Epoch: 22, Loss: 1.539646248443652\n",
      "Epoch: 24, Loss: 1.5349975791523012\n",
      "Epoch: 26, Loss: 1.533651006928945\n",
      "Epoch: 28, Loss: 1.5340760431047213\n",
      "Epoch: 30, Loss: 1.5344991289963157\n",
      "Epoch: 32, Loss: 1.5357574411367967\n",
      "Epoch: 34, Loss: 1.5335904450739843\n",
      "Epoch: 36, Loss: 1.5323263091050972\n",
      "Epoch: 38, Loss: 1.531657295206846\n",
      "Epoch: 40, Loss: 1.528992571568085\n",
      "Epoch: 42, Loss: 1.5337108318078316\n",
      "Epoch: 44, Loss: 1.5296396860631847\n",
      "Epoch: 46, Loss: 1.528330903184616\n",
      "Epoch: 48, Loss: 1.5285023304365448\n",
      "Epoch: 50, Loss: 1.5307680994777355\n",
      "Epoch: 52, Loss: 1.5288070253396437\n",
      "Epoch: 54, Loss: 1.5269251758769407\n",
      "Epoch: 56, Loss: 1.529247806738999\n",
      "Epoch: 58, Loss: 1.5270744905633442\n",
      "Epoch: 60, Loss: 1.5260519981384277\n",
      "Epoch: 62, Loss: 1.524011884452933\n",
      "Epoch: 64, Loss: 1.5246320871983545\n",
      "Epoch: 66, Loss: 1.5248566840664814\n",
      "Epoch: 68, Loss: 1.5231894800218486\n",
      "Epoch: 70, Loss: 1.5229642381102353\n",
      "Epoch: 72, Loss: 1.5234902624861668\n",
      "Epoch: 74, Loss: 1.5241296458042275\n",
      "Epoch: 76, Loss: 1.52304509635699\n",
      "Epoch: 78, Loss: 1.522051481372219\n",
      "Epoch: 80, Loss: 1.5212707650863517\n",
      "Epoch: 82, Loss: 1.5229257340148343\n",
      "Epoch: 84, Loss: 1.5189782643722276\n",
      "Epoch: 86, Loss: 1.518574320158716\n",
      "Epoch: 88, Loss: 1.5184953296083514\n",
      "Epoch: 90, Loss: 1.51901181244244\n",
      "Epoch: 92, Loss: 1.5210423792822887\n",
      "Epoch: 94, Loss: 1.5203449084597118\n",
      "Epoch: 96, Loss: 1.5176829736111528\n",
      "Epoch: 98, Loss: 1.5231112860522027\n",
      "Epoch: 100, Loss: 1.5190112267510365\n",
      "Epoch: 102, Loss: 1.5159351411512343\n",
      "Epoch: 104, Loss: 1.5171780805971662\n",
      "Epoch: 106, Loss: 1.5178941172563423\n",
      "Epoch: 108, Loss: 1.5173264736846341\n",
      "Epoch: 110, Loss: 1.5165723355139715\n",
      "Epoch: 112, Loss: 1.515520443855706\n",
      "Epoch: 114, Loss: 1.5158587865910287\n",
      "Epoch: 116, Loss: 1.5148393193543968\n",
      "Epoch: 118, Loss: 1.513469122476497\n",
      "Epoch: 120, Loss: 1.5133302489579734\n",
      "Epoch: 122, Loss: 1.514259276753765\n",
      "Epoch: 124, Loss: 1.5156909565804368\n",
      "Epoch: 126, Loss: 1.5146065889778784\n",
      "Epoch: 128, Loss: 1.5116964331117726\n",
      "Epoch: 130, Loss: 1.511922136706821\n",
      "Epoch: 132, Loss: 1.5117899957349745\n",
      "Epoch: 134, Loss: 1.5151643702539348\n",
      "Epoch: 136, Loss: 1.5125945708004094\n",
      "Epoch: 138, Loss: 1.5121704511723275\n",
      "Epoch: 140, Loss: 1.5130342247627548\n",
      "Epoch: 142, Loss: 1.5099698168746496\n",
      "Epoch: 144, Loss: 1.5099003117973522\n",
      "Epoch: 146, Loss: 1.5096456620652796\n",
      "Epoch: 148, Loss: 1.5099886049658566\n"
     ]
    }
   ],
   "source": [
    "epochs = 150\n",
    "lr = 0.01\n",
    "\n",
    "lossi: List[float] = []\n",
    "\n",
    "lt_model_tl.freeze()\n",
    "\n",
    "for i in range(epochs):\n",
    "    epoch_loss: float = []\n",
    "    for batch in train_dataloader:\n",
    "        x, y = batch\n",
    "        y_pred = lt_model_tl(x)\n",
    "        loss = F.cross_entropy(y_pred, y)\n",
    "\n",
    "        for p in lt_model_tl.parameters:\n",
    "            p.grad = None\n",
    "\n",
    "        loss.backward()\n",
    "\n",
    "        for p in lt_model_tl.parameters:\n",
    "            if p.requires_grad:\n",
    "                p.data -= lr * p.grad\n",
    "\n",
    "        epoch_loss.append(loss.item())\n",
    "        lossi.append(loss.item())\n",
    "    \n",
    "    if i % 2 == 0:\n",
    "        print(f\"Epoch: {i}, Loss: {sum(epoch_loss) / len(epoch_loss)}\")"
   ]
  },
  {
   "cell_type": "code",
   "execution_count": 68,
   "metadata": {},
   "outputs": [
    {
     "name": "stdout",
     "output_type": "stream",
     "text": [
      "jorigus.\n",
      "vijante.\n",
      "tiris.\n",
      "danganduu.\n",
      "ramgedgudas.\n",
      "gorda.\n",
      "veigedra.\n",
      "noris.\n",
      "kairis.\n",
      "autvydantas.\n",
      "ganeris.\n",
      "las.\n",
      "vajanve.\n",
      "vingarde.\n",
      "etelim.\n",
      "nide.\n",
      "minautailas.\n",
      "gir.\n",
      "dangarte.\n",
      "namvim.\n"
     ]
    }
   ],
   "source": [
    "j = 0\n",
    "while j < 20:\n",
    "    \n",
    "    out = []\n",
    "    context = [0] * BLOCK_SIZE\n",
    "    while True:\n",
    "      logits = lt_model_tl.forward(torch.tensor(context).view(1, -1))\n",
    "      probs = F.softmax(logits, dim=1)\n",
    "      ix = torch.multinomial(probs, num_samples=1).item()\n",
    "      context = context[1:] + [ix]\n",
    "      out.append(ix)\n",
    "      if ix == 0:\n",
    "        break\n",
    "    \n",
    "    name = ''.join(itos[i] for i in out)\n",
    "    print(name)\n",
    "    j += 1"
   ]
  },
  {
   "attachments": {},
   "cell_type": "markdown",
   "metadata": {},
   "source": [
    "### Fine-tuning the model"
   ]
  },
  {
   "cell_type": "code",
   "execution_count": 72,
   "metadata": {},
   "outputs": [
    {
     "name": "stdout",
     "output_type": "stream",
     "text": [
      "Epoch: 0, Loss: 0.9492278068752612\n",
      "Epoch: 2, Loss: 0.9480608396105847\n",
      "Epoch: 4, Loss: 0.949660604030399\n",
      "Epoch: 6, Loss: 0.947899864134142\n",
      "Epoch: 8, Loss: 0.9485407815141192\n",
      "Epoch: 10, Loss: 0.9449206229488728\n",
      "Epoch: 12, Loss: 0.945444671405574\n",
      "Epoch: 14, Loss: 0.9439779941813421\n",
      "Epoch: 16, Loss: 0.9456464408312814\n",
      "Epoch: 18, Loss: 0.9431084987975783\n",
      "Epoch: 20, Loss: 0.9427872598171234\n",
      "Epoch: 22, Loss: 0.9416486446635198\n",
      "Epoch: 24, Loss: 0.9428796962661258\n",
      "Epoch: 26, Loss: 0.9418303227778209\n",
      "Epoch: 28, Loss: 0.9398620094535715\n",
      "Epoch: 30, Loss: 0.9396099222161002\n",
      "Epoch: 32, Loss: 0.9401789835448993\n",
      "Epoch: 34, Loss: 0.9384640556270794\n",
      "Epoch: 36, Loss: 0.9373222525089474\n",
      "Epoch: 38, Loss: 0.9396082546751378\n",
      "Epoch: 40, Loss: 0.9372914401909053\n",
      "Epoch: 42, Loss: 0.9361404486126819\n",
      "Epoch: 44, Loss: 0.9378458118792308\n",
      "Epoch: 46, Loss: 0.9353532505742574\n",
      "Epoch: 48, Loss: 0.9357646792116812\n",
      "Epoch: 50, Loss: 0.9352058567485567\n",
      "Epoch: 52, Loss: 0.9341920140688702\n",
      "Epoch: 54, Loss: 0.9334994688377543\n",
      "Epoch: 56, Loss: 0.931784366652117\n",
      "Epoch: 58, Loss: 0.933533106820058\n",
      "Epoch: 60, Loss: 0.9308049925050493\n",
      "Epoch: 62, Loss: 0.9310447530726255\n",
      "Epoch: 64, Loss: 0.9288053665373285\n",
      "Epoch: 66, Loss: 0.9323791182142193\n",
      "Epoch: 68, Loss: 0.9284659553382356\n",
      "Epoch: 70, Loss: 0.9290831286018177\n",
      "Epoch: 72, Loss: 0.9277681502497802\n",
      "Epoch: 74, Loss: 0.9292182678640899\n",
      "Epoch: 76, Loss: 0.9286448194061295\n",
      "Epoch: 78, Loss: 0.9278399583141682\n",
      "Epoch: 80, Loss: 0.9265745589036053\n",
      "Epoch: 82, Loss: 0.9266454323621119\n",
      "Epoch: 84, Loss: 0.9279703515566001\n",
      "Epoch: 86, Loss: 0.9236938979918674\n",
      "Epoch: 88, Loss: 0.9262455297728717\n",
      "Epoch: 90, Loss: 0.9235524040157512\n",
      "Epoch: 92, Loss: 0.9226464411969912\n",
      "Epoch: 94, Loss: 0.9239138297862926\n",
      "Epoch: 96, Loss: 0.9238221359960104\n",
      "Epoch: 98, Loss: 0.923465151908034\n",
      "Epoch: 100, Loss: 0.9220446815430108\n",
      "Epoch: 102, Loss: 0.9201907140471167\n",
      "Epoch: 104, Loss: 0.9200300559148951\n",
      "Epoch: 106, Loss: 0.9224340976294825\n",
      "Epoch: 108, Loss: 0.9192843526854353\n",
      "Epoch: 110, Loss: 0.9181340642399707\n",
      "Epoch: 112, Loss: 0.9199302036125782\n",
      "Epoch: 114, Loss: 0.9173853435253693\n",
      "Epoch: 116, Loss: 0.9178334317975125\n",
      "Epoch: 118, Loss: 0.9183643467850604\n",
      "Epoch: 120, Loss: 0.9165281183638815\n",
      "Epoch: 122, Loss: 0.916364256355722\n",
      "Epoch: 124, Loss: 0.915558323137841\n",
      "Epoch: 126, Loss: 0.9154285745600522\n",
      "Epoch: 128, Loss: 0.9166393628564932\n",
      "Epoch: 130, Loss: 0.9155317332785008\n",
      "Epoch: 132, Loss: 0.9148102897708699\n",
      "Epoch: 134, Loss: 0.9149915279220726\n",
      "Epoch: 136, Loss: 0.913667884671082\n",
      "Epoch: 138, Loss: 0.9134264797982523\n",
      "Epoch: 140, Loss: 0.9125262767834178\n",
      "Epoch: 142, Loss: 0.9127711718112735\n",
      "Epoch: 144, Loss: 0.9133005762251757\n",
      "Epoch: 146, Loss: 0.910326189408868\n",
      "Epoch: 148, Loss: 0.9119360887650716\n"
     ]
    }
   ],
   "source": [
    "epochs = 150\n",
    "lr = 0.001\n",
    "\n",
    "lossi: List[float] = []\n",
    "\n",
    "lt_model_tl.unfreeze()\n",
    "\n",
    "for i in range(epochs):\n",
    "    epoch_loss: float = []\n",
    "    for batch in train_dataloader:\n",
    "        x, y = batch\n",
    "        y_pred = lt_model_tl(x)\n",
    "        loss = F.cross_entropy(y_pred, y)\n",
    "\n",
    "        for p in lt_model_tl.parameters:\n",
    "            p.grad = None\n",
    "\n",
    "        loss.backward()\n",
    "\n",
    "        for p in lt_model_tl.parameters:\n",
    "            if p.requires_grad:\n",
    "                p.data -= lr * p.grad\n",
    "\n",
    "        epoch_loss.append(loss.item())\n",
    "        lossi.append(loss.item())\n",
    "    \n",
    "    if i % 2 == 0:\n",
    "        print(f\"Epoch: {i}, Loss: {sum(epoch_loss) / len(epoch_loss)}\")"
   ]
  },
  {
   "cell_type": "code",
   "execution_count": 73,
   "metadata": {},
   "outputs": [
    {
     "name": "stdout",
     "output_type": "stream",
     "text": [
      "vidutis.\n",
      "mantrimas.\n",
      "eitara.\n",
      "vantautas.\n",
      "vidmina.\n",
      "ramune.\n",
      "vydene.\n",
      "eimas.\n",
      "tolvydas.\n",
      "eile.\n",
      "alminta.\n",
      "kesmina.\n",
      "nakute.\n",
      "augmonas.\n",
      "vygirde.\n",
      "sanrius.\n",
      "laimona.\n",
      "daugintas.\n",
      "gailimante.\n",
      "geisvinas.\n"
     ]
    }
   ],
   "source": [
    "j = 0\n",
    "while j < 20:\n",
    "    \n",
    "    out = []\n",
    "    context = [0] * BLOCK_SIZE\n",
    "    while True:\n",
    "      logits = lt_model_tl.forward(torch.tensor(context).view(1, -1))\n",
    "      probs = F.softmax(logits, dim=1)\n",
    "      ix = torch.multinomial(probs, num_samples=1).item()\n",
    "      context = context[1:] + [ix]\n",
    "      out.append(ix)\n",
    "      if ix == 0:\n",
    "        break\n",
    "    \n",
    "    name = ''.join(itos[i] for i in out)\n",
    "    print(name)\n",
    "    j += 1"
   ]
  }
 ],
 "metadata": {
  "kernelspec": {
   "display_name": ".venv",
   "language": "python",
   "name": "python3"
  },
  "language_info": {
   "codemirror_mode": {
    "name": "ipython",
    "version": 3
   },
   "file_extension": ".py",
   "mimetype": "text/x-python",
   "name": "python",
   "nbconvert_exporter": "python",
   "pygments_lexer": "ipython3",
   "version": "3.9.13"
  },
  "orig_nbformat": 4
 },
 "nbformat": 4,
 "nbformat_minor": 2
}
