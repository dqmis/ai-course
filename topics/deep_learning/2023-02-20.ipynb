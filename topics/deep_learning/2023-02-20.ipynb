{
 "cells": [
  {
   "cell_type": "code",
   "execution_count": 2,
   "metadata": {},
   "outputs": [
    {
     "name": "stderr",
     "output_type": "stream",
     "text": [
      "/Users/dqmis/github/code_academy_ai_course/.venv/lib/python3.9/site-packages/tqdm/auto.py:22: TqdmWarning: IProgress not found. Please update jupyter and ipywidgets. See https://ipywidgets.readthedocs.io/en/stable/user_install.html\n",
      "  from .autonotebook import tqdm as notebook_tqdm\n"
     ]
    }
   ],
   "source": [
    "import torch\n",
    "from torch import nn\n",
    "from torch.nn import functional as F\n",
    "from torch.utils.data import DataLoader\n",
    "from torch.utils.data import random_split\n",
    "from torchvision.datasets import MNIST\n",
    "from torchvision import transforms\n",
    "import pytorch_lightning as pl\n",
    "from torch.utils.data import Dataset\n",
    "import requests\n",
    "\n",
    "from time import time\n",
    "\n",
    "from pytorch_lightning.loggers import WandbLogger\n",
    "\n",
    "from typing import Tuple, List\n",
    "\n",
    "from sklearn.model_selection import train_test_split"
   ]
  },
  {
   "cell_type": "code",
   "execution_count": 9,
   "metadata": {},
   "outputs": [],
   "source": [
    "class NamesDataset(Dataset):\n",
    "    def __init__(self, names: List[str], block_size: int = 3) -> None:\n",
    "        self._data = names\n",
    "        self._block_size = block_size\n",
    "\n",
    "        chars = sorted(list(set(\"\".join(self._data))))\n",
    "        self._stoi = {s:i+1 for i,s in enumerate(chars)}\n",
    "        self._stoi[\".\"] = 0\n",
    "        self._itos = {i:s for s,i in self._stoi.items()}\n",
    "\n",
    "        self._X, self._Y = self._parse_dataset()\n",
    "\n",
    "    def _parse_dataset(self) -> Tuple[List[int], List[int]]:\n",
    "        X, Y = [], []\n",
    "        for w in self._data:\n",
    "            context = [0] * self._block_size\n",
    "            for ch in w + '.':\n",
    "                ix = self._stoi[ch]\n",
    "                X.append(context)\n",
    "                Y.append(ix)\n",
    "                context = context[1:] + [ix]\n",
    "        return X, Y\n",
    "\n",
    "    def __len__(self) -> int:\n",
    "        return len(self._Y)\n",
    "    \n",
    "    def __getitem__(self, idx: int) -> Tuple[torch.tensor, torch.tensor]:\n",
    "        return torch.tensor(self._X[idx]), torch.tensor(self._Y[idx])"
   ]
  },
  {
   "cell_type": "code",
   "execution_count": 10,
   "metadata": {},
   "outputs": [],
   "source": [
    "class NiceNameMLP(pl.LightningModule):\n",
    "\tdef __init__(\n",
    "\t\t\tself,\n",
    "\t\t\tclass_size: int = 27,\n",
    "\t\t\temb_size: int = 2,\n",
    "\t\t\tblock_size: int = 3,\n",
    "\t\t\thidden_size: int = 100\n",
    "\t\t) -> None:\n",
    "\t\tsuper().__init__()\n",
    "\n",
    "\t\tself.model_params = {\n",
    "\t\t\t\"class_size\": class_size,\n",
    "\t\t\t\"emb_size\": emb_size,\n",
    "\t\t\t\"block_size\": block_size,\n",
    "\t\t}\n",
    "\n",
    "\t\tself.C = torch.nn.Embedding(class_size, emb_size)\n",
    "\t\tself.h1 = torch.nn.Linear(block_size * emb_size, hidden_size)\n",
    "\t\tself.a1 = torch.nn.Tanh()\n",
    "\t\tself.h2 = torch.nn.Linear(hidden_size, class_size)\n",
    "\t\t\n",
    "\tdef forward(self, x):\n",
    "\t\tx = self.C(x) # <- retrieve embeddings\n",
    "\t\tx = self.h1(x.view(-1, self.model_params[\"block_size\"] * self.model_params[\"emb_size\"])) # <- emb * W1 + b1\n",
    "\t\tx = self.a1(x) # <- tanh(x)\n",
    "\t\tx = self.h2(x) # <- x * W2 + b2\n",
    "\n",
    "\t\treturn x\n",
    "\n",
    "\tdef configure_optimizers(self):\n",
    "\t\toptimizer = torch.optim.Adam(self.parameters(), lr=1e-2)\n",
    "\t\treturn optimizer\n",
    "\n",
    "\tdef training_step(self, train_batch, batch_idx):\n",
    "\t\tx, y = train_batch\n",
    "\t\tlogits = self.forward(x)\n",
    "\t\tloss = F.cross_entropy(logits, y)\n",
    "\t\tself.log(\"train_loss\", loss)\n",
    "\t\treturn loss\n",
    "\n",
    "\tdef validation_step(self, val_batch, batch_idx):\n",
    "\t\tx, y = val_batch\n",
    "\t\tlogits = self.forward(x)\n",
    "\t\tloss = F.cross_entropy(logits, y)\n",
    "\t\tself.log(\"val_loss\", loss)"
   ]
  },
  {
   "cell_type": "code",
   "execution_count": 11,
   "metadata": {},
   "outputs": [],
   "source": [
    "dataset = requests.get(\"https://raw.githubusercontent.com/karpathy/makemore/master/names.txt\").text.splitlines()\n",
    "\n",
    "train_dataset, test_dataset = train_test_split(dataset, test_size=0.2, random_state=42)\n",
    "test_dataset, val_dataset = train_test_split(test_dataset, test_size=0.5, random_state=42)"
   ]
  },
  {
   "cell_type": "code",
   "execution_count": 23,
   "metadata": {},
   "outputs": [
    {
     "name": "stdout",
     "output_type": "stream",
     "text": [
      "                                   \r"
     ]
    }
   ],
   "source": [
    "BLOCK_SIZE = 3\n",
    "\n",
    "train_loader = DataLoader(NamesDataset(train_dataset, block_size=BLOCK_SIZE), batch_size=256)\n",
    "val_loader = DataLoader(NamesDataset(val_dataset, block_size=BLOCK_SIZE), batch_size=256, shuffle=False)\n",
    "test_loader = DataLoader(NamesDataset(test_dataset, block_size=BLOCK_SIZE), batch_size=256, shuffle=False)"
   ]
  },
  {
   "cell_type": "code",
   "execution_count": 24,
   "metadata": {},
   "outputs": [],
   "source": [
    "model = NiceNameMLP(block_size=BLOCK_SIZE)"
   ]
  },
  {
   "cell_type": "code",
   "execution_count": 25,
   "metadata": {},
   "outputs": [
    {
     "name": "stderr",
     "output_type": "stream",
     "text": [
      "/Users/dqmis/github/code_academy_ai_course/.venv/lib/python3.9/site-packages/pytorch_lightning/loggers/wandb.py:395: UserWarning: There is a wandb run already in progress and newly created instances of `WandbLogger` will reuse this run. If this is not desired, call `wandb.finish()` before instantiating `WandbLogger`.\n",
      "  rank_zero_warn(\n"
     ]
    }
   ],
   "source": [
    "wandb_logger = WandbLogger(project=\"codeacademy1\", name=f\"nice_mlp_{int(time())}\", log_model=True)\n",
    "\n",
    "for key, value in model.model_params.items():\n",
    "    wandb_logger.experiment.config[key] = value\n",
    "\n",
    "wandb_logger.experiment.config[\"batch_size\"] = 256"
   ]
  },
  {
   "cell_type": "code",
   "execution_count": 27,
   "metadata": {},
   "outputs": [
    {
     "name": "stderr",
     "output_type": "stream",
     "text": [
      "GPU available: True (mps), used: False\n",
      "TPU available: False, using: 0 TPU cores\n",
      "IPU available: False, using: 0 IPUs\n",
      "HPU available: False, using: 0 HPUs\n",
      "/Users/dqmis/github/code_academy_ai_course/.venv/lib/python3.9/site-packages/pytorch_lightning/trainer/setup.py:201: UserWarning: MPS available but not used. Set `accelerator` and `devices` using `Trainer(accelerator='mps', devices=1)`.\n",
      "  rank_zero_warn(\n",
      "/Users/dqmis/github/code_academy_ai_course/.venv/lib/python3.9/site-packages/pytorch_lightning/callbacks/model_checkpoint.py:613: UserWarning: Checkpoint directory ./codeacademy1/rmlsu60p/checkpoints exists and is not empty.\n",
      "  rank_zero_warn(f\"Checkpoint directory {dirpath} exists and is not empty.\")\n",
      "\n",
      "  | Name | Type      | Params\n",
      "-----------------------------------\n",
      "0 | C    | Embedding | 54    \n",
      "1 | h1   | Linear    | 700   \n",
      "2 | a1   | Tanh      | 0     \n",
      "3 | h2   | Linear    | 2.7 K \n",
      "-----------------------------------\n",
      "3.5 K     Trainable params\n",
      "0         Non-trainable params\n",
      "3.5 K     Total params\n",
      "0.014     Total estimated model params size (MB)\n"
     ]
    },
    {
     "name": "stdout",
     "output_type": "stream",
     "text": [
      "                                                                            "
     ]
    },
    {
     "name": "stderr",
     "output_type": "stream",
     "text": [
      "/Users/dqmis/github/code_academy_ai_course/.venv/lib/python3.9/site-packages/pytorch_lightning/trainer/connectors/data_connector.py:224: PossibleUserWarning: The dataloader, val_dataloader 0, does not have many workers which may be a bottleneck. Consider increasing the value of the `num_workers` argument` (try 10 which is the number of cpus on this machine) in the `DataLoader` init to improve performance.\n",
      "  rank_zero_warn(\n",
      "/Users/dqmis/github/code_academy_ai_course/.venv/lib/python3.9/site-packages/pytorch_lightning/trainer/connectors/data_connector.py:224: PossibleUserWarning: The dataloader, train_dataloader, does not have many workers which may be a bottleneck. Consider increasing the value of the `num_workers` argument` (try 10 which is the number of cpus on this machine) in the `DataLoader` init to improve performance.\n",
      "  rank_zero_warn(\n"
     ]
    },
    {
     "name": "stdout",
     "output_type": "stream",
     "text": [
      "Epoch 9: 100%|██████████| 802/802 [00:05<00:00, 158.34it/s, loss=2.25, v_num=u60p]"
     ]
    },
    {
     "name": "stderr",
     "output_type": "stream",
     "text": [
      "`Trainer.fit` stopped: `max_epochs=10` reached.\n"
     ]
    },
    {
     "name": "stdout",
     "output_type": "stream",
     "text": [
      "Epoch 9: 100%|██████████| 802/802 [00:05<00:00, 158.15it/s, loss=2.25, v_num=u60p]\n"
     ]
    }
   ],
   "source": [
    "trainer = pl.Trainer(max_epochs=10, logger=wandb_logger, default_root_dir=\"checkpoints/\")\n",
    "trainer.fit(model, train_loader, val_loader)"
   ]
  },
  {
   "cell_type": "code",
   "execution_count": 87,
   "metadata": {},
   "outputs": [
    {
     "name": "stderr",
     "output_type": "stream",
     "text": [
      "GPU available: True (mps), used: False\n",
      "TPU available: False, using: 0 TPU cores\n",
      "IPU available: False, using: 0 IPUs\n",
      "HPU available: False, using: 0 HPUs\n",
      "/Users/dqmis/github/code_academy_ai_course/.venv/lib/python3.9/site-packages/pytorch_lightning/trainer/setup.py:201: UserWarning: MPS available but not used. Set `accelerator` and `devices` using `Trainer(accelerator='mps', devices=1)`.\n",
      "  rank_zero_warn(\n",
      "\n",
      "  | Name    | Type       | Params\n",
      "---------------------------------------\n",
      "0 | encoder | Sequential | 50.4 K\n",
      "1 | decoder | Sequential | 51.2 K\n",
      "---------------------------------------\n",
      "101 K     Trainable params\n",
      "0         Non-trainable params\n",
      "101 K     Total params\n",
      "0.407     Total estimated model params size (MB)\n"
     ]
    },
    {
     "name": "stdout",
     "output_type": "stream",
     "text": [
      "                                                                            "
     ]
    },
    {
     "name": "stderr",
     "output_type": "stream",
     "text": [
      "/Users/dqmis/github/code_academy_ai_course/.venv/lib/python3.9/site-packages/pytorch_lightning/trainer/connectors/data_connector.py:224: PossibleUserWarning: The dataloader, val_dataloader 0, does not have many workers which may be a bottleneck. Consider increasing the value of the `num_workers` argument` (try 10 which is the number of cpus on this machine) in the `DataLoader` init to improve performance.\n",
      "  rank_zero_warn(\n",
      "/Users/dqmis/github/code_academy_ai_course/.venv/lib/python3.9/site-packages/pytorch_lightning/trainer/connectors/data_connector.py:224: PossibleUserWarning: The dataloader, train_dataloader, does not have many workers which may be a bottleneck. Consider increasing the value of the `num_workers` argument` (try 10 which is the number of cpus on this machine) in the `DataLoader` init to improve performance.\n",
      "  rank_zero_warn(\n"
     ]
    },
    {
     "name": "stdout",
     "output_type": "stream",
     "text": [
      "Epoch 9: 100%|██████████| 1876/1876 [00:12<00:00, 150.09it/s, loss=0.039, v_num=11] "
     ]
    },
    {
     "name": "stderr",
     "output_type": "stream",
     "text": [
      "`Trainer.fit` stopped: `max_epochs=10` reached.\n"
     ]
    },
    {
     "name": "stdout",
     "output_type": "stream",
     "text": [
      "Epoch 9: 100%|██████████| 1876/1876 [00:12<00:00, 150.03it/s, loss=0.039, v_num=11]\n"
     ]
    }
   ],
   "source": [
    "\n",
    "import torch\n",
    "from torch import nn\n",
    "from torch.nn import functional as F\n",
    "from torch.utils.data import DataLoader\n",
    "from torch.utils.data import random_split\n",
    "from torchvision.datasets import MNIST\n",
    "from torchvision import transforms\n",
    "import pytorch_lightning as pl\n",
    "\n",
    "class LitAutoEncoder(pl.LightningModule):\n",
    "\tdef __init__(self):\n",
    "\t\tsuper().__init__()\n",
    "\t\tself.encoder = nn.Sequential(\n",
    "      nn.Linear(28 * 28, 64),\n",
    "      nn.ReLU(),\n",
    "      nn.Linear(64, 3))\n",
    "\t\t\n",
    "\t\tself.decoder = nn.Sequential(\n",
    "      nn.Linear(3, 64),\n",
    "      nn.ReLU(),\n",
    "      nn.Linear(64, 28 * 28))\n",
    "\n",
    "\tdef forward(self, x):\n",
    "\t\tembedding = self.encoder(x)\n",
    "\t\treturn embedding\n",
    "\n",
    "\tdef configure_optimizers(self):\n",
    "\t\toptimizer = torch.optim.Adam(self.parameters(), lr=1e-3)\n",
    "\t\treturn optimizer\n",
    "\n",
    "\tdef training_step(self, train_batch, batch_idx):\n",
    "\t\tx, y = train_batch\n",
    "\t\tx = x.view(x.size(0), -1)\n",
    "\t\tz = self.encoder(x)    \n",
    "\t\tx_hat = self.decoder(z)\n",
    "\t\tloss = F.mse_loss(x_hat, x)\n",
    "\t\tself.log('train_loss', loss)\n",
    "\t\treturn loss\n",
    "\n",
    "\tdef validation_step(self, val_batch, batch_idx):\n",
    "\t\tx, y = val_batch\n",
    "\t\tx = x.view(x.size(0), -1)\n",
    "\t\tz = self.encoder(x)\n",
    "\t\tx_hat = self.decoder(z)\n",
    "\t\tloss = F.mse_loss(x_hat, x)\n",
    "\t\tself.log('val_loss', loss)\n",
    "\n",
    "# data\n",
    "dataset = MNIST('', train=True, download=True, transform=transforms.ToTensor())\n",
    "mnist_train, mnist_val = random_split(dataset, [55000, 5000])\n",
    "\n",
    "train_loader = DataLoader(mnist_train, batch_size=32)\n",
    "val_loader = DataLoader(mnist_val, batch_size=32)\n",
    "\n",
    "# model\n",
    "model = LitAutoEncoder()\n",
    "# training\n",
    "trainer = pl.Trainer(max_epochs=10)\n",
    "trainer.fit(model, train_loader, val_loader)"
   ]
  },
  {
   "cell_type": "code",
   "execution_count": 88,
   "metadata": {},
   "outputs": [],
   "source": [
    "x = [i for i in DataLoader(mnist_train, batch_size=1)]"
   ]
  },
  {
   "cell_type": "code",
   "execution_count": 93,
   "metadata": {},
   "outputs": [
    {
     "data": {
      "text/plain": [
       "<matplotlib.image.AxesImage at 0x2e2655880>"
      ]
     },
     "execution_count": 93,
     "metadata": {},
     "output_type": "execute_result"
    },
    {
     "data": {
      "image/png": "[encoded data removed]",
      "text/plain": [
       "<Figure size 640x480 with 1 Axes>"
      ]
     },
     "metadata": {},
     "output_type": "display_data"
    }
   ],
   "source": [
    "from matplotlib import pyplot as plt\n",
    "\n",
    "plt.imshow(x[3][0].view(28, 28).tolist(), cmap=\"gray\")"
   ]
  },
  {
   "cell_type": "code",
   "execution_count": 94,
   "metadata": {},
   "outputs": [],
   "source": [
    "embs = model(x[3][0].view(28 * 28))"
   ]
  },
  {
   "cell_type": "code",
   "execution_count": 95,
   "metadata": {},
   "outputs": [
    {
     "data": {
      "text/plain": [
       "<matplotlib.image.AxesImage at 0x2e26c0af0>"
      ]
     },
     "execution_count": 95,
     "metadata": {},
     "output_type": "execute_result"
    },
    {
     "data": {
      "image/png": "[encoded data removed]",
      "text/plain": [
       "<Figure size 640x480 with 1 Axes>"
      ]
     },
     "metadata": {},
     "output_type": "display_data"
    }
   ],
   "source": [
    "plt.imshow(embs.view(1, 3).tolist(), cmap=\"gy\")"
   ]
  },
  {
   "cell_type": "code",
   "execution_count": 96,
   "metadata": {},
   "outputs": [
    {
     "data": {
      "text/plain": [
       "<matplotlib.image.AxesImage at 0x2e2739a30>"
      ]
     },
     "execution_count": 96,
     "metadata": {},
     "output_type": "execute_result"
    },
    {
     "data": {
      "image/png": "[encoded data removed]",
      "text/plain": [
       "<Figure size 640x480 with 1 Axes>"
      ]
     },
     "metadata": {},
     "output_type": "display_data"
    }
   ],
   "source": [
    "plt.imshow(model.decoder(embs).view(28, 28).tolist(), cmap=\"gray\")"
   ]
  },
  {
   "cell_type": "code",
   "execution_count": 111,
   "metadata": {},
   "outputs": [
    {
     "data": {
      "text/plain": [
       "<matplotlib.image.AxesImage at 0x2e3602490>"
      ]
     },
     "execution_count": 111,
     "metadata": {},
     "output_type": "execute_result"
    },
    {
     "data": {
      "image/png": "[encoded data removed]",
      "text/plain": [
       "<Figure size 640x480 with 1 Axes>"
      ]
     },
     "metadata": {},
     "output_type": "display_data"
    }
   ],
   "source": [
    "plt.imshow(model.decoder(embs * 0.3).view(28, 28).tolist(), cmap=\"gray\")"
   ]
  }
 ],
 "metadata": {
  "kernelspec": {
   "display_name": ".venv",
   "language": "python",
   "name": "python3"
  },
  "language_info": {
   "codemirror_mode": {
    "name": "ipython",
    "version": 3
   },
   "file_extension": ".py",
   "mimetype": "text/x-python",
   "name": "python",
   "nbconvert_exporter": "python",
   "pygments_lexer": "ipython3",
   "version": "3.9.13"
  },
  "orig_nbformat": 4,
  "vscode": {
   "interpreter": {
    "hash": "de17c4b867480f2f8bc5d2be08a00cb2e02a1ee18bda207b764c3905e0b438fb"
   }
  }
 },
 "nbformat": 4,
 "nbformat_minor": 2
}
