{
 "cells": [
  {
   "cell_type": "code",
   "execution_count": null,
   "metadata": {},
   "outputs": [],
   "source": [
    "from typing import Dict, List\n",
    "import json\n",
    "\n",
    "def model(input) -> List[int]:\n",
    "    return [1, 2, 3]\n",
    "\n",
    "\n",
    "class DbConnection:\n",
    "    pass\n",
    "\n",
    "def write_to_db(log: str) -> bool:\n",
    "    db = DbConnection()\n",
    "    try:\n",
    "        db.write(log)\n",
    "    except:\n",
    "        print(\"DB write failed\")\n",
    "        return False\n",
    "\n",
    "    return True\n",
    "\n",
    "def predict(input: Dict[str, int]) -> List[int]:\n",
    "    preds = model([])\n",
    "\n",
    "    logs = {\"input\": input, \"preds\": preds}\n",
    "    write_to_db(logs)\n",
    "    return preds\n",
    "\n",
    "\n",
    "predict([13, 4, 5])"
   ]
  },
  {
   "cell_type": "code",
   "execution_count": 1,
   "metadata": {},
   "outputs": [
    {
     "name": "stdout",
     "output_type": "stream",
     "text": [
      "DB write failed\n"
     ]
    },
    {
     "data": {
      "text/plain": [
       "[1, 2, 3]"
      ]
     },
     "execution_count": 1,
     "metadata": {},
     "output_type": "execute_result"
    }
   ],
   "source": [
    "'''\n",
    "| int | varchar  | varchar                      | varchar   | timestamp    |\n",
    "| id  | path     | input                        | prediction| 166535435435 |\n",
    "|   1 | /predict | {\"description\": \"something\"} | History   | 343243243243 |\n",
    "'''\n",
    "\n",
    "\n",
    "from typing import Dict, List\n",
    "import json\n",
    "\n",
    "def model(input) -> List[int]:\n",
    "    return [1, 2, 3]\n",
    "\n",
    "\n",
    "class DbConnection:\n",
    "    pass\n",
    "\n",
    "def write_to_db(log: str) -> bool:\n",
    "    db = DbConnection()\n",
    "    try:\n",
    "        db.write(log)\n",
    "    except:\n",
    "        print(\"DB write failed\")\n",
    "        return False\n",
    "\n",
    "    return True\n",
    "\n",
    "@app.post(\"/predict\")\n",
    "def predict(input: Dict[str, int]) -> List[int]:\n",
    "    preds = model([])\n",
    "\n",
    "    logs = {\"path\": \"/predict\", \"input\": input, \"preds\": preds}\n",
    "    write_to_db(logs)\n",
    "    return preds\n",
    "\n",
    "\n",
    "predict([13, 4, 5])"
   ]
  },
  {
   "cell_type": "code",
   "execution_count": null,
   "metadata": {},
   "outputs": [],
   "source": [
    "train_data = [\n",
    "    {\"maxp\": 4, \"rating\": 3.2, \"yold\": 10}\n",
    "    ...\n",
    "]\n",
    "\n",
    "pipeline.fit(train_data)\n",
    "\n",
    "pipeline.predict([{\"maxp\": 4, \"rating\": 3.2, \"yold\": 10}])\n",
    "\n",
    "pipeline.predict([{\"maxp\": 0, \"rating\": 0, \"yold\": 10}])"
   ]
  }
 ],
 "metadata": {
  "kernelspec": {
   "display_name": ".venv",
   "language": "python",
   "name": "python3"
  },
  "language_info": {
   "codemirror_mode": {
    "name": "ipython",
    "version": 3
   },
   "file_extension": ".py",
   "mimetype": "text/x-python",
   "name": "python",
   "nbconvert_exporter": "python",
   "pygments_lexer": "ipython3",
   "version": "3.9.13 (main, Oct 19 2022, 18:05:24) \n[Clang 14.0.0 (clang-1400.0.29.102)]"
  },
  "orig_nbformat": 4,
  "vscode": {
   "interpreter": {
    "hash": "de17c4b867480f2f8bc5d2be08a00cb2e02a1ee18bda207b764c3905e0b438fb"
   }
  }
 },
 "nbformat": 4,
 "nbformat_minor": 2
}
