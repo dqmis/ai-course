{
 "cells": [
  {
   "cell_type": "code",
   "execution_count": 20,
   "metadata": {},
   "outputs": [],
   "source": [
    "import time\n",
    "\n",
    "import requests\n",
    "from bs4 import BeautifulSoup\n",
    "from selenium import webdriver\n",
    "from selenium.webdriver.firefox.options import Options"
   ]
  },
  {
   "cell_type": "code",
   "execution_count": 21,
   "metadata": {},
   "outputs": [],
   "source": [
    "options = Options()\n",
    "options.headless = True\n",
    "\n",
    "driver = webdriver.Firefox(options=options)\n",
    "\n",
    "driver.get(\"https://boardgamegeek.com/boardgame/373701/pax-hispanica\")\n",
    "time.sleep(2)\n",
    "content = driver.page_source\n",
    "driver.close()"
   ]
  },
  {
   "cell_type": "code",
   "execution_count": 23,
   "metadata": {},
   "outputs": [],
   "source": [
    "soup = BeautifulSoup(content)"
   ]
  },
  {
   "cell_type": "code",
   "execution_count": 24,
   "metadata": {},
   "outputs": [
    {
     "data": {
      "text/plain": [
       "[<li class=\"gameplay-item\"> <div class=\"gameplay-item-primary\"> <!-- ngIf: ::geekitemctrl.geekitem.data.item.minplayers > 0 || geekitemctrl.geekitem.data.item.maxplayers > 0 --><span class=\"ng-scope ng-isolate-scope\" max=\"::geekitemctrl.geekitem.data.item.maxplayers\" min=\"::geekitemctrl.geekitem.data.item.minplayers\" ng-if=\"::geekitemctrl.geekitem.data.item.minplayers &gt; 0 || geekitemctrl.geekitem.data.item.maxplayers &gt; 0\"> <!-- ngIf: min > 0 --><span class=\"ng-binding ng-scope\" ng-if=\"min &gt; 0\">1</span><!-- end ngIf: min > 0 --><!-- ngIf: max>0 && min != max --><span class=\"ng-binding ng-scope\" ng-if=\"max&gt;0 &amp;&amp; min != max\"><!-- ngIf: min>0 --><span class=\"ng-binding ng-scope\" ng-if=\"min&gt;0\">–</span><!-- end ngIf: min>0 -->5</span><!-- end ngIf: max>0 && min != max --> </span><!-- end ngIf: ::geekitemctrl.geekitem.data.item.minplayers > 0 || geekitemctrl.geekitem.data.item.maxplayers > 0 --> \t\t\t\t\tPlayers \t\t\t\t</div> <div class=\"gameplay-item-secondary\"> <span class=\"ng-isolate-scope\" item-poll-button=\"numplayers\" poll-view=\"results\"> <button class=\"btn btn-link btn-xs\" tooltip-append-to-body=\"true\" tooltip-popup-delay=\"500\" type=\"button\" uib-tooltip=\"View poll and results\"> \t\t\t\t\t\t\tCommunity: \t\t\t\t\t\t\t<span ng-show=\"::geekitemctrl.geekitem.data.item.polls.userplayers.totalvotes == 0\"> \t\t\t\t\t\t\t\t(no votes) \t\t\t\t\t\t\t</span> <span class=\"ng-binding ng-hide\" ng-show=\"::geekitemctrl.geekitem.data.item.polls.userplayers.totalvotes &gt; 0\"> \t\t\t\t\t\t\t\tnone \t\t\t\t\t\t\t</span> <span class=\"ng-binding ng-hide\" ng-show=\"::geekitemctrl.geekitem.data.item.polls.userplayers.totalvotes &gt; 0\"> \t\t\t\t\t\t\t\t— \t\t\t\t\t\t\t\tBest: none \t\t\t\t\t\t\t</span> </button> </span> </div> </li>,\n",
       " <li class=\"gameplay-item\"> <div class=\"gameplay-item-primary\"> <!-- ngIf: ::!geekitemctrl.geekitem.data.item.minplaytime || geekitemctrl.geekitem.data.item.minplaytime <= 0 && geekitemctrl.geekitem.data.item.maxplaytime <= 0 --> <!-- ngIf: ::geekitemctrl.geekitem.data.item.minplaytime > 0 || geekitemctrl.geekitem.data.item.maxplaytime > 0 --><span class=\"ng-scope\" ng-if=\"::geekitemctrl.geekitem.data.item.minplaytime &gt; 0 || geekitemctrl.geekitem.data.item.maxplaytime &gt; 0\"> <span class=\"ng-isolate-scope\" max=\"::geekitemctrl.geekitem.data.item.maxplaytime\" min=\"::geekitemctrl.geekitem.data.item.minplaytime\"> <!-- ngIf: min > 0 --><span class=\"ng-binding ng-scope\" ng-if=\"min &gt; 0\">60</span><!-- end ngIf: min > 0 --><!-- ngIf: max>0 && min != max --><span class=\"ng-binding ng-scope\" ng-if=\"max&gt;0 &amp;&amp; min != max\"><!-- ngIf: min>0 --><span class=\"ng-binding ng-scope\" ng-if=\"min&gt;0\">–</span><!-- end ngIf: min>0 -->150</span><!-- end ngIf: max>0 && min != max --> </span> Min \t\t\t\t\t</span><!-- end ngIf: ::geekitemctrl.geekitem.data.item.minplaytime > 0 || geekitemctrl.geekitem.data.item.maxplaytime > 0 --> </div> <div class=\"gameplay-item-secondary\"> <!-- ngIf: ::geekitemctrl.geekitem.data.item.minplaytime > 0 || geekitemctrl.geekitem.data.item.maxplaytime > 0 --><div class=\"ng-scope\" ng-if=\"::geekitemctrl.geekitem.data.item.minplaytime &gt; 0 || geekitemctrl.geekitem.data.item.maxplaytime &gt; 0\"> \t\t\t\t\t\tPlaying Time \t\t\t\t\t</div><!-- end ngIf: ::geekitemctrl.geekitem.data.item.minplaytime > 0 || geekitemctrl.geekitem.data.item.maxplaytime > 0 --> <!-- ngIf: ::!geekitemctrl.geekitem.data.item.minplaytime || geekitemctrl.geekitem.data.item.minplaytime <= 0 && geekitemctrl.geekitem.data.item.maxplaytime <= 0 --> </div> </li>,\n",
       " <li class=\"gameplay-item\"> <div class=\"gameplay-item-primary\"> \t\t\t\t\tAge: \t\t\t\t\t<!-- ngIf: ::geekitemctrl.geekitem.data.item.minage == 0 --> <!-- ngIf: ::geekitemctrl.geekitem.data.item.minage > 0 --><span class=\"ng-binding ng-scope\" ng-if=\"::geekitemctrl.geekitem.data.item.minage &gt; 0\"> \t\t\t\t\t\t14+ \t\t\t\t\t</span><!-- end ngIf: ::geekitemctrl.geekitem.data.item.minage > 0 --> </div> <div class=\"gameplay-item-secondary\"> <!-- ngIf: ::geekitemctrl.geekitem.data.item.minage == 0 --> <span class=\"ng-isolate-scope\" item-poll-button=\"playerage\" poll-view=\"results\"> <button class=\"btn btn-link btn-xs\" tooltip-append-to-body=\"true\" tooltip-popup-delay=\"500\" uib-tooltip=\"View poll and results\"> \t\t\t\t\t\t\tCommunity: <span class=\"ng-binding\" ng-bind-html=\"geekitemctrl.geekitem.data.item.polls.playerage|to_trusted\">(no votes)</span> </button> </span> </div> </li>,\n",
       " <li class=\"gameplay-item\"> <div class=\"gameplay-item-primary\"> \t\t\t\t\tWeight: \t\t\t\t\t<span ng-show=\"geekitemctrl.geekitem.data.item.polls.boardgameweight.votes == 0\"> \t\t\t\t\t\t–– \t\t\t\t\t</span> <span class=\"ng-isolate-scope ng-hide\" item-poll-button=\"boardgameweight\" ng-show=\"geekitemctrl.geekitem.data.item.polls.boardgameweight.votes &gt; 0\" poll-view=\"results\"> <span class=\"ng-binding gameplay-weight-light\" ng-class=\"{'gameplay-weight-light': geekitemctrl.geekitem.data.item.polls.boardgameweight.averageweight &lt;= 3, 'gameplay-weight-medium': geekitemctrl.geekitem.data.item.polls.boardgameweight.averageweight &gt; 3,'gameplay-weight-heavy': geekitemctrl.geekitem.data.item.polls.boardgameweight.averageweight &gt; 4 }\"> \t\t\t\t\t\t\t0.00 \t\t\t\t\t\t</span> \t\t\t\t\t\t/ 5 <span class=\"sr-only\">Complexity Rating</span> </span> </div> <div class=\"gameplay-item-secondary\"> <span class=\"ng-isolate-scope\" item-poll-button=\"boardgameweight\" poll-view=\"results\"> <button class=\"btn btn-xs btn-link\" tooltip-append-to-body=\"true\" tooltip-popup-delay=\"500\" type=\"button\" uib-tooltip=\"View results\"> \t\t\t\t\t\t\t'Complexity' Rating <span class=\"sr-only\">Results</span> </button> </span> <a class=\"btn btn-empty\" href=\"/wiki/page/Weight\" tooltip-append-to-body=\"true\" tooltip-class=\"tooltip-lg\" tooltip-placement=\"bottom-right\" uib-tooltip=\"Community rating for how difficult a game is to understand. Lower rating (lighter weight) means easier.\"><span class=\"glyphicon glyphicon-question-sign fs-xs\"></span> <span class=\"sr-only\">Learn more about complexity ratings</span> </a> </div> </li>]"
      ]
     },
     "execution_count": 24,
     "metadata": {},
     "output_type": "execute_result"
    }
   ],
   "source": [
    "soup.find_all(\"li\", {\"class\": \"gameplay-item\"})"
   ]
  }
 ],
 "metadata": {
  "kernelspec": {
   "display_name": "Python 3.9.13 ('.venv': poetry)",
   "language": "python",
   "name": "python3"
  },
  "language_info": {
   "codemirror_mode": {
    "name": "ipython",
    "version": 3
   },
   "file_extension": ".py",
   "mimetype": "text/x-python",
   "name": "python",
   "nbconvert_exporter": "python",
   "pygments_lexer": "ipython3",
   "version": "3.9.13"
  },
  "orig_nbformat": 4,
  "vscode": {
   "interpreter": {
    "hash": "de17c4b867480f2f8bc5d2be08a00cb2e02a1ee18bda207b764c3905e0b438fb"
   }
  }
 },
 "nbformat": 4,
 "nbformat_minor": 2
}
