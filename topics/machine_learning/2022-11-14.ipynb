{
 "cells": [
  {
   "cell_type": "markdown",
   "metadata": {},
   "source": [
    "# 2022-11-14"
   ]
  },
  {
   "cell_type": "code",
   "execution_count": 1,
   "metadata": {},
   "outputs": [],
   "source": [
    "import pandas as pd"
   ]
  },
  {
   "cell_type": "code",
   "execution_count": 7,
   "metadata": {},
   "outputs": [
    {
     "data": {
      "text/html": [
       "<div>\n",
       "<style scoped>\n",
       "    .dataframe tbody tr th:only-of-type {\n",
       "        vertical-align: middle;\n",
       "    }\n",
       "\n",
       "    .dataframe tbody tr th {\n",
       "        vertical-align: top;\n",
       "    }\n",
       "\n",
       "    .dataframe thead th {\n",
       "        text-align: right;\n",
       "    }\n",
       "</style>\n",
       "<table border=\"1\" class=\"dataframe\">\n",
       "  <thead>\n",
       "    <tr style=\"text-align: right;\">\n",
       "      <th></th>\n",
       "      <th>name</th>\n",
       "      <th>title</th>\n",
       "      <th>is_wife</th>\n",
       "    </tr>\n",
       "  </thead>\n",
       "  <tbody>\n",
       "    <tr>\n",
       "      <th>0</th>\n",
       "      <td>Anna</td>\n",
       "      <td>Ms</td>\n",
       "      <td>0</td>\n",
       "    </tr>\n",
       "    <tr>\n",
       "      <th>1</th>\n",
       "      <td>Leslie</td>\n",
       "      <td>Mrs</td>\n",
       "      <td>1</td>\n",
       "    </tr>\n",
       "    <tr>\n",
       "      <th>2</th>\n",
       "      <td>Hope</td>\n",
       "      <td>Ms</td>\n",
       "      <td>0</td>\n",
       "    </tr>\n",
       "    <tr>\n",
       "      <th>3</th>\n",
       "      <td>Angel</td>\n",
       "      <td>Mrs</td>\n",
       "      <td>1</td>\n",
       "    </tr>\n",
       "  </tbody>\n",
       "</table>\n",
       "</div>"
      ],
      "text/plain": [
       "     name title  is_wife\n",
       "0    Anna    Ms        0\n",
       "1  Leslie   Mrs        1\n",
       "2    Hope    Ms        0\n",
       "3   Angel   Mrs        1"
      ]
     },
     "execution_count": 7,
     "metadata": {},
     "output_type": "execute_result"
    }
   ],
   "source": [
    "data = {\"name\": [\"Anna\", \"Leslie\", \"Hope\", \"Angel\"], \"title\": [\"Ms\", \"Mrs\", \"Ms\", \"Mrs\"]}\n",
    "\n",
    "df = pd.DataFrame(data)\n",
    "df.head()\n",
    "df[\"is_wife\"] = df[\"title\"].apply(lambda x: int(x == \"Mrs\"))\n",
    "df.head()"
   ]
  },
  {
   "cell_type": "code",
   "execution_count": 9,
   "metadata": {},
   "outputs": [],
   "source": [
    "from typing import List\n",
    "\n",
    "class Knyguklubas:\n",
    "    pass\n",
    "\n",
    "class Humanitas:\n",
    "    pass\n",
    "\n",
    "SCRAPERS = {\n",
    "    'knugu_klubas': Knyguklubas,\n",
    "    'humanitas': Humanitas\n",
    "}\n",
    "\n",
    "\n",
    "def scrape(a, b, scrapers: List[str]):\n",
    "    scrapers_objects = []\n",
    "    for scraper_key in scrapers:\n",
    "        scrapers_objects.append(SCRAPERS[scraper_key]())\n",
    "\n",
    "    for i in scrapers_objects:\n",
    "        print(i)"
   ]
  },
  {
   "cell_type": "code",
   "execution_count": 10,
   "metadata": {},
   "outputs": [
    {
     "name": "stdout",
     "output_type": "stream",
     "text": [
      "<__main__.Knyguklubas object at 0x10fec99d0>\n",
      "<__main__.Humanitas object at 0x10fec9700>\n"
     ]
    }
   ],
   "source": [
    "scrape(10, 35, ['knugu_klubas', \"humanitas\"])"
   ]
  }
 ],
 "metadata": {
  "kernelspec": {
   "display_name": "Python 3.9.13 ('.venv': poetry)",
   "language": "python",
   "name": "python3"
  },
  "language_info": {
   "codemirror_mode": {
    "name": "ipython",
    "version": 3
   },
   "file_extension": ".py",
   "mimetype": "text/x-python",
   "name": "python",
   "nbconvert_exporter": "python",
   "pygments_lexer": "ipython3",
   "version": "3.9.13"
  },
  "orig_nbformat": 4,
  "vscode": {
   "interpreter": {
    "hash": "c8b5ab8c904070860ad6ce5c4e6a049692937b394253367c05baa81d6c966234"
   }
  }
 },
 "nbformat": 4,
 "nbformat_minor": 2
}
