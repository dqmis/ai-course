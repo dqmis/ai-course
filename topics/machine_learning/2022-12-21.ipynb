{
 "cells": [
  {
   "attachments": {},
   "cell_type": "markdown",
   "metadata": {},
   "source": [
    "# 2022-12-21\n",
    "## XGBoost\n",
    "https://xgboost.readthedocs.io/en/stable/python/python_intro.html"
   ]
  },
  {
   "cell_type": "code",
   "execution_count": 147,
   "metadata": {},
   "outputs": [],
   "source": [
    "from sklearn.model_selection import RandomizedSearchCV, train_test_split\n",
    "from sklearn import datasets\n",
    "from sklearn.ensemble import RandomForestClassifier, AdaBoostClassifier, GradientBoostingClassifier, GradientBoostingRegressor, RandomForestRegressor\n",
    "from sklearn.datasets import load_diabetes\n",
    "from sklearn import tree\n",
    "from sklearn.tree import DecisionTreeClassifier, DecisionTreeRegressor\n",
    "from sklearn.linear_model import LinearRegression\n",
    "from sklearn.metrics import mean_squared_error\n",
    "from scipy.stats import uniform, truncnorm, randint\n",
    "from xgboost import XGBRegressor, XGBClassifier\n",
    "\n",
    "\n",
    "\n",
    "from sklearn.preprocessing import StandardScaler\n",
    "\n",
    "from sklearn.metrics import f1_score\n",
    "\n",
    "from sklearn.linear_model import LogisticRegression\n",
    "\n",
    "from typing import List, Dict, Any\n",
    "\n",
    "import pandas as pd"
   ]
  },
  {
   "cell_type": "code",
   "execution_count": null,
   "metadata": {},
   "outputs": [],
   "source": []
  },
  {
   "cell_type": "code",
   "execution_count": 3,
   "metadata": {},
   "outputs": [
    {
     "name": "stdout",
     "output_type": "stream",
     "text": [
      "(442, 10)\n"
     ]
    }
   ],
   "source": [
    "# Load data\n",
    "diabetes = load_diabetes()\n",
    "X, y = diabetes.data, diabetes.target\n",
    "print(X.shape)"
   ]
  },
  {
   "cell_type": "code",
   "execution_count": 4,
   "metadata": {},
   "outputs": [],
   "source": [
    "# splitting data\n",
    "\n",
    "x_train, x_test, y_train, y_test = train_test_split(X, y)"
   ]
  },
  {
   "cell_type": "code",
   "execution_count": 5,
   "metadata": {},
   "outputs": [
    {
     "name": "stdout",
     "output_type": "stream",
     "text": [
      "6616.7657657657655\n"
     ]
    }
   ],
   "source": [
    "# training Decision Tree with default params\n",
    "\n",
    "clf = DecisionTreeRegressor()\n",
    "clf.fit(x_train, y_train)\n",
    "y_pred = clf.predict(x_test)\n",
    "print(mean_squared_error(y_test, y_pred))"
   ]
  },
  {
   "cell_type": "code",
   "execution_count": 7,
   "metadata": {},
   "outputs": [
    {
     "name": "stdout",
     "output_type": "stream",
     "text": [
      "3697.3184875870847\n"
     ]
    }
   ],
   "source": [
    "# training GB with default params\n",
    "\n",
    "clf = GradientBoostingRegressor()\n",
    "clf.fit(x_train, y_train)\n",
    "y_pred = clf.predict(x_test)\n",
    "print(mean_squared_error(y_test, y_pred))"
   ]
  },
  {
   "cell_type": "code",
   "execution_count": 6,
   "metadata": {},
   "outputs": [
    {
     "name": "stdout",
     "output_type": "stream",
     "text": [
      "4261.337344412924\n"
     ]
    }
   ],
   "source": [
    "# training XGBoost with default params\n",
    "\n",
    "clf = XGBRegressor()\n",
    "clf.fit(x_train, y_train)\n",
    "y_pred = clf.predict(x_test)\n",
    "print(mean_squared_error(y_test, y_pred))"
   ]
  },
  {
   "cell_type": "code",
   "execution_count": 11,
   "metadata": {},
   "outputs": [
    {
     "data": {
      "text/html": [
       "<style>#sk-container-id-1 {color: black;background-color: white;}#sk-container-id-1 pre{padding: 0;}#sk-container-id-1 div.sk-toggleable {background-color: white;}#sk-container-id-1 label.sk-toggleable__label {cursor: pointer;display: block;width: 100%;margin-bottom: 0;padding: 0.3em;box-sizing: border-box;text-align: center;}#sk-container-id-1 label.sk-toggleable__label-arrow:before {content: \"▸\";float: left;margin-right: 0.25em;color: #696969;}#sk-container-id-1 label.sk-toggleable__label-arrow:hover:before {color: black;}#sk-container-id-1 div.sk-estimator:hover label.sk-toggleable__label-arrow:before {color: black;}#sk-container-id-1 div.sk-toggleable__content {max-height: 0;max-width: 0;overflow: hidden;text-align: left;background-color: #f0f8ff;}#sk-container-id-1 div.sk-toggleable__content pre {margin: 0.2em;color: black;border-radius: 0.25em;background-color: #f0f8ff;}#sk-container-id-1 input.sk-toggleable__control:checked~div.sk-toggleable__content {max-height: 200px;max-width: 100%;overflow: auto;}#sk-container-id-1 input.sk-toggleable__control:checked~label.sk-toggleable__label-arrow:before {content: \"▾\";}#sk-container-id-1 div.sk-estimator input.sk-toggleable__control:checked~label.sk-toggleable__label {background-color: #d4ebff;}#sk-container-id-1 div.sk-label input.sk-toggleable__control:checked~label.sk-toggleable__label {background-color: #d4ebff;}#sk-container-id-1 input.sk-hidden--visually {border: 0;clip: rect(1px 1px 1px 1px);clip: rect(1px, 1px, 1px, 1px);height: 1px;margin: -1px;overflow: hidden;padding: 0;position: absolute;width: 1px;}#sk-container-id-1 div.sk-estimator {font-family: monospace;background-color: #f0f8ff;border: 1px dotted black;border-radius: 0.25em;box-sizing: border-box;margin-bottom: 0.5em;}#sk-container-id-1 div.sk-estimator:hover {background-color: #d4ebff;}#sk-container-id-1 div.sk-parallel-item::after {content: \"\";width: 100%;border-bottom: 1px solid gray;flex-grow: 1;}#sk-container-id-1 div.sk-label:hover label.sk-toggleable__label {background-color: #d4ebff;}#sk-container-id-1 div.sk-serial::before {content: \"\";position: absolute;border-left: 1px solid gray;box-sizing: border-box;top: 0;bottom: 0;left: 50%;z-index: 0;}#sk-container-id-1 div.sk-serial {display: flex;flex-direction: column;align-items: center;background-color: white;padding-right: 0.2em;padding-left: 0.2em;position: relative;}#sk-container-id-1 div.sk-item {position: relative;z-index: 1;}#sk-container-id-1 div.sk-parallel {display: flex;align-items: stretch;justify-content: center;background-color: white;position: relative;}#sk-container-id-1 div.sk-item::before, #sk-container-id-1 div.sk-parallel-item::before {content: \"\";position: absolute;border-left: 1px solid gray;box-sizing: border-box;top: 0;bottom: 0;left: 50%;z-index: -1;}#sk-container-id-1 div.sk-parallel-item {display: flex;flex-direction: column;z-index: 1;position: relative;background-color: white;}#sk-container-id-1 div.sk-parallel-item:first-child::after {align-self: flex-end;width: 50%;}#sk-container-id-1 div.sk-parallel-item:last-child::after {align-self: flex-start;width: 50%;}#sk-container-id-1 div.sk-parallel-item:only-child::after {width: 0;}#sk-container-id-1 div.sk-dashed-wrapped {border: 1px dashed gray;margin: 0 0.4em 0.5em 0.4em;box-sizing: border-box;padding-bottom: 0.4em;background-color: white;}#sk-container-id-1 div.sk-label label {font-family: monospace;font-weight: bold;display: inline-block;line-height: 1.2em;}#sk-container-id-1 div.sk-label-container {text-align: center;}#sk-container-id-1 div.sk-container {/* jupyter's `normalize.less` sets `[hidden] { display: none; }` but bootstrap.min.css set `[hidden] { display: none !important; }` so we also need the `!important` here to be able to override the default hidden behavior on the sphinx rendered scikit-learn.org. See: https://github.com/scikit-learn/scikit-learn/issues/21755 */display: inline-block !important;position: relative;}#sk-container-id-1 div.sk-text-repr-fallback {display: none;}</style><div id=\"sk-container-id-1\" class=\"sk-top-container\"><div class=\"sk-text-repr-fallback\"><pre>RandomizedSearchCV(cv=5,\n",
       "                   estimator=XGBRegressor(base_score=None, booster=None,\n",
       "                                          callbacks=None,\n",
       "                                          colsample_bylevel=None,\n",
       "                                          colsample_bynode=None,\n",
       "                                          colsample_bytree=None,\n",
       "                                          early_stopping_rounds=None,\n",
       "                                          enable_categorical=False,\n",
       "                                          eval_metric=None, feature_types=None,\n",
       "                                          gamma=None, gpu_id=None,\n",
       "                                          grow_policy=None,\n",
       "                                          importance_type=None,\n",
       "                                          interaction_constraints=None,\n",
       "                                          learning_rate=...\n",
       "                                        &#x27;max_depth&#x27;: &lt;scipy.stats._distn_infrastructure.rv_discrete_frozen object at 0x290d35d60&gt;,\n",
       "                                        &#x27;max_leaves&#x27;: &lt;scipy.stats._distn_infrastructure.rv_discrete_frozen object at 0x2916c6eb0&gt;,\n",
       "                                        &#x27;n_estimators&#x27;: &lt;scipy.stats._distn_infrastructure.rv_discrete_frozen object at 0x1791f7490&gt;,\n",
       "                                        &#x27;reg_lambda&#x27;: &lt;scipy.stats._distn_infrastructure.rv_continuous_frozen object at 0x1791f7c40&gt;},\n",
       "                   random_state=42, scoring=&#x27;neg_mean_squared_error&#x27;)</pre><b>In a Jupyter environment, please rerun this cell to show the HTML representation or trust the notebook. <br />On GitHub, the HTML representation is unable to render, please try loading this page with nbviewer.org.</b></div><div class=\"sk-container\" hidden><div class=\"sk-item sk-dashed-wrapped\"><div class=\"sk-label-container\"><div class=\"sk-label sk-toggleable\"><input class=\"sk-toggleable__control sk-hidden--visually\" id=\"sk-estimator-id-1\" type=\"checkbox\" ><label for=\"sk-estimator-id-1\" class=\"sk-toggleable__label sk-toggleable__label-arrow\">RandomizedSearchCV</label><div class=\"sk-toggleable__content\"><pre>RandomizedSearchCV(cv=5,\n",
       "                   estimator=XGBRegressor(base_score=None, booster=None,\n",
       "                                          callbacks=None,\n",
       "                                          colsample_bylevel=None,\n",
       "                                          colsample_bynode=None,\n",
       "                                          colsample_bytree=None,\n",
       "                                          early_stopping_rounds=None,\n",
       "                                          enable_categorical=False,\n",
       "                                          eval_metric=None, feature_types=None,\n",
       "                                          gamma=None, gpu_id=None,\n",
       "                                          grow_policy=None,\n",
       "                                          importance_type=None,\n",
       "                                          interaction_constraints=None,\n",
       "                                          learning_rate=...\n",
       "                                        &#x27;max_depth&#x27;: &lt;scipy.stats._distn_infrastructure.rv_discrete_frozen object at 0x290d35d60&gt;,\n",
       "                                        &#x27;max_leaves&#x27;: &lt;scipy.stats._distn_infrastructure.rv_discrete_frozen object at 0x2916c6eb0&gt;,\n",
       "                                        &#x27;n_estimators&#x27;: &lt;scipy.stats._distn_infrastructure.rv_discrete_frozen object at 0x1791f7490&gt;,\n",
       "                                        &#x27;reg_lambda&#x27;: &lt;scipy.stats._distn_infrastructure.rv_continuous_frozen object at 0x1791f7c40&gt;},\n",
       "                   random_state=42, scoring=&#x27;neg_mean_squared_error&#x27;)</pre></div></div></div><div class=\"sk-parallel\"><div class=\"sk-parallel-item\"><div class=\"sk-item\"><div class=\"sk-label-container\"><div class=\"sk-label sk-toggleable\"><input class=\"sk-toggleable__control sk-hidden--visually\" id=\"sk-estimator-id-2\" type=\"checkbox\" ><label for=\"sk-estimator-id-2\" class=\"sk-toggleable__label sk-toggleable__label-arrow\">estimator: XGBRegressor</label><div class=\"sk-toggleable__content\"><pre>XGBRegressor(base_score=None, booster=None, callbacks=None,\n",
       "             colsample_bylevel=None, colsample_bynode=None,\n",
       "             colsample_bytree=None, early_stopping_rounds=None,\n",
       "             enable_categorical=False, eval_metric=None, feature_types=None,\n",
       "             gamma=None, gpu_id=None, grow_policy=None, importance_type=None,\n",
       "             interaction_constraints=None, learning_rate=None, max_bin=None,\n",
       "             max_cat_threshold=None, max_cat_to_onehot=None,\n",
       "             max_delta_step=None, max_depth=None, max_leaves=None,\n",
       "             min_child_weight=None, missing=nan, monotone_constraints=None,\n",
       "             n_estimators=100, n_jobs=None, num_parallel_tree=None,\n",
       "             predictor=None, random_state=None, ...)</pre></div></div></div><div class=\"sk-serial\"><div class=\"sk-item\"><div class=\"sk-estimator sk-toggleable\"><input class=\"sk-toggleable__control sk-hidden--visually\" id=\"sk-estimator-id-3\" type=\"checkbox\" ><label for=\"sk-estimator-id-3\" class=\"sk-toggleable__label sk-toggleable__label-arrow\">XGBRegressor</label><div class=\"sk-toggleable__content\"><pre>XGBRegressor(base_score=None, booster=None, callbacks=None,\n",
       "             colsample_bylevel=None, colsample_bynode=None,\n",
       "             colsample_bytree=None, early_stopping_rounds=None,\n",
       "             enable_categorical=False, eval_metric=None, feature_types=None,\n",
       "             gamma=None, gpu_id=None, grow_policy=None, importance_type=None,\n",
       "             interaction_constraints=None, learning_rate=None, max_bin=None,\n",
       "             max_cat_threshold=None, max_cat_to_onehot=None,\n",
       "             max_delta_step=None, max_depth=None, max_leaves=None,\n",
       "             min_child_weight=None, missing=nan, monotone_constraints=None,\n",
       "             n_estimators=100, n_jobs=None, num_parallel_tree=None,\n",
       "             predictor=None, random_state=None, ...)</pre></div></div></div></div></div></div></div></div></div></div>"
      ],
      "text/plain": [
       "RandomizedSearchCV(cv=5,\n",
       "                   estimator=XGBRegressor(base_score=None, booster=None,\n",
       "                                          callbacks=None,\n",
       "                                          colsample_bylevel=None,\n",
       "                                          colsample_bynode=None,\n",
       "                                          colsample_bytree=None,\n",
       "                                          early_stopping_rounds=None,\n",
       "                                          enable_categorical=False,\n",
       "                                          eval_metric=None, feature_types=None,\n",
       "                                          gamma=None, gpu_id=None,\n",
       "                                          grow_policy=None,\n",
       "                                          importance_type=None,\n",
       "                                          interaction_constraints=None,\n",
       "                                          learning_rate=...\n",
       "                                        'max_depth': <scipy.stats._distn_infrastructure.rv_discrete_frozen object at 0x290d35d60>,\n",
       "                                        'max_leaves': <scipy.stats._distn_infrastructure.rv_discrete_frozen object at 0x2916c6eb0>,\n",
       "                                        'n_estimators': <scipy.stats._distn_infrastructure.rv_discrete_frozen object at 0x1791f7490>,\n",
       "                                        'reg_lambda': <scipy.stats._distn_infrastructure.rv_continuous_frozen object at 0x1791f7c40>},\n",
       "                   random_state=42, scoring='neg_mean_squared_error')"
      ]
     },
     "execution_count": 11,
     "metadata": {},
     "output_type": "execute_result"
    }
   ],
   "source": [
    "params = {\n",
    "    \"max_depth\": randint(1, 100),\n",
    "    \"max_leaves\": randint(1, 100),\n",
    "    \"n_estimators\": randint(5, 500),\n",
    "    \"gamma\": uniform(1, 9),\n",
    "    'reg_lambda' : uniform(0,1),\n",
    "}\n",
    "\n",
    "\n",
    "forrest = XGBRegressor()\n",
    "\n",
    "search = RandomizedSearchCV(forrest, params, n_iter=100, cv=5, random_state=42, scoring=\"neg_mean_squared_error\", n_jobs=-1)\n",
    "\n",
    "search.fit(x_train, y_train)"
   ]
  },
  {
   "cell_type": "code",
   "execution_count": 12,
   "metadata": {},
   "outputs": [
    {
     "name": "stdout",
     "output_type": "stream",
     "text": [
      "3412.06776192705\n"
     ]
    }
   ],
   "source": [
    "clf = XGBRegressor(**search.best_estimator_.get_params())\n",
    "clf.fit(x_train, y_train)\n",
    "y_pred = clf.predict(x_test)\n",
    "print(mean_squared_error(y_test, y_pred))"
   ]
  },
  {
   "attachments": {},
   "cell_type": "markdown",
   "metadata": {},
   "source": [
    "## Compare Tree Models on Titanic Data"
   ]
  },
  {
   "attachments": {},
   "cell_type": "markdown",
   "metadata": {},
   "source": [
    "Define preprocessing functions"
   ]
  },
  {
   "cell_type": "code",
   "execution_count": 16,
   "metadata": {},
   "outputs": [],
   "source": [
    "def extract_name_info(full_name: str) -> str:\n",
    "    sencod_half = full_name.split(\",\")[1]\n",
    "    return sencod_half.split(\".\")[0].strip()\n",
    "\n",
    "def engineer_features(data: pd.DataFrame) -> pd.DataFrame:\n",
    "    df = data.copy()\n",
    "    df[\"ticket_is_expensive\"] = df[\"Fare\"].apply(lambda x: int(x > 50))\n",
    "    df[\"is_alone\"] = (df[\"SibSp\"] + df[\"Parch\"]).apply(lambda x: int(x == 0))\n",
    "\n",
    "    df[\"is_child\"] = 0\n",
    "    df[\"is_adult\"] = 0\n",
    "    df[\"is_elder\"] = 0\n",
    "    df.loc[df[\"Age\"] <= 14, \"is_child\"] = 1\n",
    "    df.loc[(df[\"Age\"] > 14) & (df[\"Age\"] <= 55), \"is_adult\"] = 1\n",
    "    df.loc[(df[\"Age\"] > 55), \"is_elder\"] = 1\n",
    "    return df\n",
    "\n",
    "def process_age(data: pd.DataFrame) -> pd.DataFrame:\n",
    "    df = data.copy()\n",
    "    df[\"name_info\"] = df[\"Name\"].apply(extract_name_info)\n",
    "\n",
    "    df[\"Age\"].fillna(df[\"Age\"].mean())\n",
    "    df.loc[df[\"name_info\"] == \"Miss\"][\"Age\"] = df.loc[df[\"name_info\"] == \"Miss\"][\"Age\"].mean()\n",
    "    df.loc[df[\"name_info\"] == \"Mrs\"][\"Age\"] = df.loc[df[\"name_info\"] == \"Mrs\"][\"Age\"].mean()\n",
    "\n",
    "    return df\n",
    "\n",
    "def process_dataset(data: pd.DataFrame, label: str, categorical_features: List[str], continues_features: List[str]) -> pd.DataFrame:\n",
    "    df = data.copy()\n",
    "    df.drop(columns=list(set(df.columns) - set(continues_features + categorical_features + [label])), axis=1, inplace=True)\n",
    "    for feature in categorical_features:\n",
    "        dummies = pd.get_dummies(df[feature])\n",
    "        df = pd.concat([df, dummies], axis=1)\n",
    "        df.drop(columns=[feature], axis=1, inplace=True)\n",
    "    return df"
   ]
  },
  {
   "attachments": {},
   "cell_type": "markdown",
   "metadata": {},
   "source": [
    "Load, preprocess and split data"
   ]
  },
  {
   "cell_type": "code",
   "execution_count": 17,
   "metadata": {},
   "outputs": [
    {
     "name": "stderr",
     "output_type": "stream",
     "text": [
      "/var/folders/3t/wmv3mchd6w99pw9syrlwn5kh0000gq/T/ipykernel_46437/304756093.py:23: SettingWithCopyWarning: \n",
      "A value is trying to be set on a copy of a slice from a DataFrame.\n",
      "Try using .loc[row_indexer,col_indexer] = value instead\n",
      "\n",
      "See the caveats in the documentation: https://pandas.pydata.org/pandas-docs/stable/user_guide/indexing.html#returning-a-view-versus-a-copy\n",
      "  df.loc[df[\"name_info\"] == \"Miss\"][\"Age\"] = df.loc[df[\"name_info\"] == \"Miss\"][\"Age\"].mean()\n",
      "/var/folders/3t/wmv3mchd6w99pw9syrlwn5kh0000gq/T/ipykernel_46437/304756093.py:24: SettingWithCopyWarning: \n",
      "A value is trying to be set on a copy of a slice from a DataFrame.\n",
      "Try using .loc[row_indexer,col_indexer] = value instead\n",
      "\n",
      "See the caveats in the documentation: https://pandas.pydata.org/pandas-docs/stable/user_guide/indexing.html#returning-a-view-versus-a-copy\n",
      "  df.loc[df[\"name_info\"] == \"Mrs\"][\"Age\"] = df.loc[df[\"name_info\"] == \"Mrs\"][\"Age\"].mean()\n"
     ]
    }
   ],
   "source": [
    "data_df = pd.read_csv(\"./data/titanic_train.csv\")\n",
    "\n",
    "categorical_features=[\"Pclass\", \"Embarked\", \"Sex\"]\n",
    "continues_features=[\"ticket_is_expensive\", \"is_alone\", \"is_child\", \"is_adult\", \"is_elder\"]\n",
    "label = \"Survived\"\n",
    "\n",
    "data_df = engineer_features(data_df)\n",
    "data_df = process_age(data_df)\n",
    "data_df = process_dataset(data_df, label=label, categorical_features=categorical_features, continues_features=continues_features)\n",
    "data_df.dropna(inplace=True)\n",
    "\n",
    "train_df, test_df = train_test_split(data_df, stratify=data_df[label].values)"
   ]
  },
  {
   "attachments": {},
   "cell_type": "markdown",
   "metadata": {},
   "source": [
    "Extracting features and labels"
   ]
  },
  {
   "cell_type": "code",
   "execution_count": 23,
   "metadata": {},
   "outputs": [],
   "source": [
    "features = list(data_df.columns)\n",
    "features.remove(label)\n",
    "\n",
    "x_train = train_df[features].values\n",
    "x_test = test_df[features].values\n",
    "\n",
    "y_train = train_df[label].values\n",
    "y_test = test_df[label].values"
   ]
  },
  {
   "cell_type": "code",
   "execution_count": 24,
   "metadata": {},
   "outputs": [
    {
     "name": "stdout",
     "output_type": "stream",
     "text": [
      "0.6913580246913581\n"
     ]
    }
   ],
   "source": [
    "# Let's try to model with LR\n",
    "\n",
    "scaler = StandardScaler().fit(data_df[features].values)\n",
    "\n",
    "lg = LogisticRegression()\n",
    "lg.fit(scaler.transform(x_train), y_train)\n",
    "\n",
    "predictions = lg.predict(scaler.transform(x_test))\n",
    "print(f1_score(y_test, predictions))"
   ]
  },
  {
   "cell_type": "code",
   "execution_count": 80,
   "metadata": {},
   "outputs": [
    {
     "name": "stdout",
     "output_type": "stream",
     "text": [
      "0.7361963190184049\n"
     ]
    }
   ],
   "source": [
    "# Let's try to model with DecisionTree\n",
    "\n",
    "model = DecisionTreeClassifier()\n",
    "model.fit(x_train, y_train)\n",
    "\n",
    "predictions = model.predict(x_test)\n",
    "print(f1_score(y_test, predictions))"
   ]
  },
  {
   "cell_type": "code",
   "execution_count": 76,
   "metadata": {},
   "outputs": [
    {
     "name": "stdout",
     "output_type": "stream",
     "text": [
      "0.7439024390243903\n"
     ]
    }
   ],
   "source": [
    "# Let's try to model with RandomForrest\n",
    "\n",
    "model = RandomForestClassifier(random_state=42)\n",
    "model.fit(x_train, y_train)\n",
    "\n",
    "predictions = model.predict(x_test)\n",
    "print(f1_score(y_test, predictions))"
   ]
  },
  {
   "cell_type": "code",
   "execution_count": 78,
   "metadata": {},
   "outputs": [
    {
     "name": "stdout",
     "output_type": "stream",
     "text": [
      "0.7108433734939759\n"
     ]
    }
   ],
   "source": [
    "# Let's try to model with AdaBoost\n",
    "\n",
    "model = AdaBoostClassifier()\n",
    "model.fit(x_train, y_train)\n",
    "\n",
    "predictions = model.predict(x_test)\n",
    "print(f1_score(y_test, predictions))"
   ]
  },
  {
   "cell_type": "code",
   "execution_count": 91,
   "metadata": {},
   "outputs": [
    {
     "name": "stdout",
     "output_type": "stream",
     "text": [
      "0.7361963190184049\n"
     ]
    }
   ],
   "source": [
    "# Let's try to model with GBoost\n",
    "\n",
    "model = GradientBoostingClassifier()\n",
    "model.fit(x_train, y_train)\n",
    "\n",
    "predictions = model.predict(x_test)\n",
    "print(f1_score(y_test, predictions))"
   ]
  },
  {
   "cell_type": "code",
   "execution_count": 98,
   "metadata": {},
   "outputs": [
    {
     "name": "stdout",
     "output_type": "stream",
     "text": [
      "0.7439024390243903\n"
     ]
    }
   ],
   "source": [
    "# Let's try to model with XGBoost\n",
    "\n",
    "model = XGBClassifier()\n",
    "model.fit(x_train, y_train)\n",
    "\n",
    "predictions = model.predict(x_test)\n",
    "print(f1_score(y_test, predictions))"
   ]
  },
  {
   "attachments": {},
   "cell_type": "markdown",
   "metadata": {},
   "source": [
    "Let's fine-tune some of the models"
   ]
  },
  {
   "cell_type": "code",
   "execution_count": 103,
   "metadata": {},
   "outputs": [
    {
     "name": "stdout",
     "output_type": "stream",
     "text": [
      "0.7295597484276729\n"
     ]
    }
   ],
   "source": [
    "params = {\n",
    "    \"min_samples_leaf\": randint(1, 500),\n",
    "    \"max_depth\": randint(10, 600),\n",
    "    \"min_samples_split\": uniform(0.01, 0.199)\n",
    "}\n",
    "\n",
    "forrest = DecisionTreeClassifier()\n",
    "\n",
    "search = RandomizedSearchCV(forrest, params, n_iter=100, cv=7, random_state=42)\n",
    "search.fit(x_train, y_train)\n",
    "\n",
    "model = DecisionTreeClassifier(**search.best_estimator_.get_params())\n",
    "model.fit(x_train, y_train)\n",
    "\n",
    "predictions = model.predict(x_test)\n",
    "print(f1_score(y_test, predictions))"
   ]
  },
  {
   "cell_type": "code",
   "execution_count": 105,
   "metadata": {},
   "outputs": [
    {
     "name": "stdout",
     "output_type": "stream",
     "text": [
      "0.7295597484276729\n"
     ]
    }
   ],
   "source": [
    "# Searching for the best random forrest\n",
    "\n",
    "params = {\n",
    "    \"n_estimators\": randint(5, 500),\n",
    "    \"min_samples_leaf\": randint(1, 500),\n",
    "    \"max_depth\": randint(10, 300),\n",
    "    \"min_samples_split\": uniform(0.01, 0.199)\n",
    "}\n",
    "\n",
    "forrest = RandomForestClassifier()\n",
    "\n",
    "search = RandomizedSearchCV(forrest, params, n_iter=100, cv=7, random_state=42, n_jobs=-1)\n",
    "search.fit(x_train, y_train)\n",
    "\n",
    "model = RandomForestClassifier(**search.best_estimator_.get_params())\n",
    "model.fit(x_train, y_train)\n",
    "\n",
    "predictions = model.predict(x_test)\n",
    "print(f1_score(y_test, predictions))"
   ]
  },
  {
   "cell_type": "code",
   "execution_count": 136,
   "metadata": {},
   "outputs": [
    {
     "name": "stdout",
     "output_type": "stream",
     "text": [
      "0.7361963190184049\n"
     ]
    }
   ],
   "source": [
    "# Searching for the best random forrest\n",
    "\n",
    "params = {\n",
    "    'n_estimators': range(8, 20),\n",
    "    'max_depth': range(6, 10),\n",
    "    'learning_rate': [.4, .45, .5, .55, .6],\n",
    "    'colsample_bytree': [.6, .7, .8, .9, 1]\n",
    "}\n",
    "\n",
    "forrest = XGBClassifier()\n",
    "\n",
    "search = RandomizedSearchCV(forrest, params, n_iter=100, cv=7, random_state=42, n_jobs=-1)\n",
    "search.fit(x_train, y_train)\n",
    "\n",
    "model = XGBClassifier(**search.best_estimator_.get_params())\n",
    "model.fit(x_train, y_train)\n",
    "\n",
    "predictions = model.predict(x_test)\n",
    "print(f1_score(y_test, predictions))"
   ]
  },
  {
   "cell_type": "code",
   "execution_count": 137,
   "metadata": {},
   "outputs": [
    {
     "data": {
      "text/plain": [
       "{'objective': 'binary:logistic',\n",
       " 'use_label_encoder': None,\n",
       " 'base_score': 0.5,\n",
       " 'booster': 'gbtree',\n",
       " 'callbacks': None,\n",
       " 'colsample_bylevel': 1,\n",
       " 'colsample_bynode': 1,\n",
       " 'colsample_bytree': 0.7,\n",
       " 'early_stopping_rounds': None,\n",
       " 'enable_categorical': False,\n",
       " 'eval_metric': None,\n",
       " 'feature_types': None,\n",
       " 'gamma': 0,\n",
       " 'gpu_id': -1,\n",
       " 'grow_policy': 'depthwise',\n",
       " 'importance_type': None,\n",
       " 'interaction_constraints': '',\n",
       " 'learning_rate': 0.4,\n",
       " 'max_bin': 256,\n",
       " 'max_cat_threshold': 64,\n",
       " 'max_cat_to_onehot': 4,\n",
       " 'max_delta_step': 0,\n",
       " 'max_depth': 6,\n",
       " 'max_leaves': 0,\n",
       " 'min_child_weight': 1,\n",
       " 'missing': nan,\n",
       " 'monotone_constraints': '()',\n",
       " 'n_estimators': 11,\n",
       " 'n_jobs': 0,\n",
       " 'num_parallel_tree': 1,\n",
       " 'predictor': 'auto',\n",
       " 'random_state': 0,\n",
       " 'reg_alpha': 0,\n",
       " 'reg_lambda': 1,\n",
       " 'sampling_method': 'uniform',\n",
       " 'scale_pos_weight': 1,\n",
       " 'subsample': 1,\n",
       " 'tree_method': 'exact',\n",
       " 'validate_parameters': 1,\n",
       " 'verbosity': None}"
      ]
     },
     "execution_count": 137,
     "metadata": {},
     "output_type": "execute_result"
    }
   ],
   "source": [
    "search.best_estimator_.get_params()"
   ]
  },
  {
   "attachments": {},
   "cell_type": "markdown",
   "metadata": {},
   "source": [
    "## House price dataset"
   ]
  },
  {
   "cell_type": "code",
   "execution_count": 108,
   "metadata": {},
   "outputs": [],
   "source": [
    "import pandas as pd\n",
    "import matplotlib.pyplot as plt\n",
    "import seaborn as sns\n",
    "\n",
    "from sklearn.preprocessing import OneHotEncoder\n",
    "from sklearn.base import BaseEstimator, TransformerMixin\n",
    "\n",
    "from sklearn.pipeline import Pipeline\n",
    "from sklearn.compose import ColumnTransformer\n",
    "from sklearn.preprocessing import OneHotEncoder, StandardScaler\n",
    "from sklearn.impute import SimpleImputer\n",
    "from sklearn.linear_model import LinearRegression\n",
    "from sklearn.base import BaseEstimator, TransformerMixin\n",
    "\n",
    "from sklearn.model_selection import train_test_split\n",
    "\n",
    "from typing import List, Optional\n",
    "\n",
    "import eli5\n",
    "\n",
    "import warnings\n",
    "\n",
    "import sklearn\n",
    "\n",
    "from sklearn.metrics import mean_absolute_error, mean_squared_error\n",
    "\n",
    "import numpy as np"
   ]
  },
  {
   "cell_type": "code",
   "execution_count": 110,
   "metadata": {},
   "outputs": [],
   "source": [
    "class ToBinaryFeaturesTransfromer(BaseEstimator, TransformerMixin):\n",
    "    \"\"\" Transformer that transforms continous or categorical data into binary features if needed\n",
    "\n",
    "    Args:\n",
    "        BaseEstimator (_type_): _description_\n",
    "        TransformerMixin (_type_): _description_\n",
    "    \"\"\"\n",
    "    def __init__(self, features: List[str]) -> None:\n",
    "        self.features = features\n",
    "\n",
    "    def fit(self, X, y = None):\n",
    "        return self\n",
    "    \n",
    "    def transform(self, X, y = None):\n",
    "        data = X.copy()\n",
    "        for feature in self.features:\n",
    "            data[f\"has_{feature.lower()}\"] = data[feature].apply(lambda x: int(x > 0))\n",
    "        data.drop(self.features, axis=1)\n",
    "        return data"
   ]
  },
  {
   "cell_type": "code",
   "execution_count": 150,
   "metadata": {},
   "outputs": [],
   "source": [
    "def extract_best_model_params(params: Dict[str, Any]):\n",
    "    filtered_dict = {}\n",
    "    for key, value in params.items():\n",
    "        if \"model__\" in key:\n",
    "            filtered_dict[key.split(\"model__\")[-1]] = value\n",
    "    return filtered_dict"
   ]
  },
  {
   "cell_type": "code",
   "execution_count": 155,
   "metadata": {},
   "outputs": [],
   "source": [
    "data = pd.read_csv(\"./data/housing_price.csv\")\n",
    "train_df, test_df = train_test_split(data, random_state=42)"
   ]
  },
  {
   "cell_type": "code",
   "execution_count": 156,
   "metadata": {},
   "outputs": [],
   "source": [
    "cont_features = [\"GrLivArea\", \"YearBuilt\", \"OverallQual\", \"OverallCond\", \"YearRemodAdd\", \"has_totalbsmtsf\", \"has_garagearea\", \"has_poolarea\"]\n",
    "cat_features = [\"Neighborhood\", \"HouseStyle\"]\n",
    "label = \"SalePrice\""
   ]
  },
  {
   "cell_type": "code",
   "execution_count": 165,
   "metadata": {},
   "outputs": [],
   "source": [
    "cont_pipeline = Pipeline([\n",
    "    (\"imputer\", SimpleImputer(strategy=\"median\")),\n",
    "    (\"scaler\", StandardScaler()),\n",
    "])\n",
    "\n",
    "cat_pipeline = Pipeline([\n",
    "    (\"imputer\", SimpleImputer(strategy=\"most_frequent\")),\n",
    "    (\"one_hot_encode\", OneHotEncoder(handle_unknown=\"ignore\"))\n",
    "])"
   ]
  },
  {
   "cell_type": "code",
   "execution_count": 158,
   "metadata": {},
   "outputs": [],
   "source": [
    "pipeline = Pipeline([\n",
    "    (\"to_binary_features_transformer\", ToBinaryFeaturesTransfromer(features=[\"GarageArea\", \"TotalBsmtSF\", \"PoolArea\"])),\n",
    "    (\"ColumnTransformer\", ColumnTransformer([\n",
    "        (\"cont_transformer\", cont_pipeline, cont_features),\n",
    "        (\"cat_transformer\", cat_pipeline, cat_features)\n",
    "    ])),\n",
    "    (\"model\", LinearRegression())\n",
    "])"
   ]
  },
  {
   "cell_type": "code",
   "execution_count": 159,
   "metadata": {},
   "outputs": [
    {
     "name": "stdout",
     "output_type": "stream",
     "text": [
      "MAE:  20847.35548426374\n",
      "MSE:  1146446451.2206194\n"
     ]
    }
   ],
   "source": [
    "pipeline.fit(train_df, train_df[\"SalePrice\"].values)\n",
    "predictions = pipeline.predict(test_df)\n",
    "\n",
    "print(\"MAE: \", mean_absolute_error(test_df[label], predictions))\n",
    "print(\"MSE: \", mean_squared_error(test_df[label], predictions))"
   ]
  },
  {
   "cell_type": "code",
   "execution_count": 160,
   "metadata": {},
   "outputs": [],
   "source": [
    "cont_pipeline = Pipeline([\n",
    "    (\"imputer\", SimpleImputer(strategy=\"median\")),\n",
    "])\n",
    "\n",
    "cat_pipeline = Pipeline([\n",
    "    (\"imputer\", SimpleImputer(strategy=\"most_frequent\")),\n",
    "    (\"one_hot_encode\", OneHotEncoder())\n",
    "])"
   ]
  },
  {
   "cell_type": "code",
   "execution_count": 161,
   "metadata": {},
   "outputs": [
    {
     "name": "stdout",
     "output_type": "stream",
     "text": [
      "MAE:  26134.64383561644\n",
      "MSE:  1467194498.9981735\n"
     ]
    }
   ],
   "source": [
    "pipeline = Pipeline([\n",
    "    (\"to_binary_features_transformer\", ToBinaryFeaturesTransfromer(features=[\"GarageArea\", \"TotalBsmtSF\", \"PoolArea\"])),\n",
    "    (\"ColumnTransformer\", ColumnTransformer([\n",
    "        (\"cont_transformer\", cont_pipeline, cont_features),\n",
    "        (\"cat_transformer\", cat_pipeline, cat_features)\n",
    "    ])),\n",
    "    (\"model\", DecisionTreeRegressor())\n",
    "])\n",
    "\n",
    "pipeline.fit(train_df, train_df[\"SalePrice\"].values)\n",
    "predictions = pipeline.predict(test_df)\n",
    "\n",
    "print(\"MAE: \", mean_absolute_error(test_df[label], predictions))\n",
    "print(\"MSE: \", mean_squared_error(test_df[label], predictions))"
   ]
  },
  {
   "cell_type": "code",
   "execution_count": 162,
   "metadata": {},
   "outputs": [
    {
     "name": "stdout",
     "output_type": "stream",
     "text": [
      "MAE:  19526.429833855185\n",
      "MSE:  905137971.4287437\n"
     ]
    }
   ],
   "source": [
    "pipeline = Pipeline([\n",
    "    (\"to_binary_features_transformer\", ToBinaryFeaturesTransfromer(features=[\"GarageArea\", \"TotalBsmtSF\", \"PoolArea\"])),\n",
    "    (\"ColumnTransformer\", ColumnTransformer([\n",
    "        (\"cont_transformer\", cont_pipeline, cont_features),\n",
    "        (\"cat_transformer\", cat_pipeline, cat_features)\n",
    "    ])),\n",
    "    (\"model\", RandomForestRegressor())\n",
    "])\n",
    "\n",
    "pipeline.fit(train_df, train_df[\"SalePrice\"].values)\n",
    "predictions = pipeline.predict(test_df)\n",
    "\n",
    "print(\"MAE: \", mean_absolute_error(test_df[label], predictions))\n",
    "print(\"MSE: \", mean_squared_error(test_df[label], predictions))"
   ]
  },
  {
   "cell_type": "code",
   "execution_count": 163,
   "metadata": {},
   "outputs": [
    {
     "name": "stdout",
     "output_type": "stream",
     "text": [
      "MAE:  19453.482887414382\n",
      "MSE:  895996821.589289\n"
     ]
    }
   ],
   "source": [
    "pipeline = Pipeline([\n",
    "    (\"to_binary_features_transformer\", ToBinaryFeaturesTransfromer(features=[\"GarageArea\", \"TotalBsmtSF\", \"PoolArea\"])),\n",
    "    (\"ColumnTransformer\", ColumnTransformer([\n",
    "        (\"cont_transformer\", cont_pipeline, cont_features),\n",
    "        (\"cat_transformer\", cat_pipeline, cat_features)\n",
    "    ])),\n",
    "    (\"model\", XGBRegressor())\n",
    "])\n",
    "\n",
    "pipeline.fit(train_df, train_df[\"SalePrice\"].values)\n",
    "predictions = pipeline.predict(test_df)\n",
    "\n",
    "print(\"MAE: \", mean_absolute_error(test_df[label], predictions))\n",
    "print(\"MSE: \", mean_squared_error(test_df[label], predictions))"
   ]
  },
  {
   "attachments": {},
   "cell_type": "markdown",
   "metadata": {},
   "source": [
    "Searching for best hyperparams"
   ]
  },
  {
   "cell_type": "code",
   "execution_count": 166,
   "metadata": {},
   "outputs": [
    {
     "name": "stdout",
     "output_type": "stream",
     "text": [
      "MAE:  25516.887432574957\n",
      "MSE:  1689124942.3577824\n"
     ]
    }
   ],
   "source": [
    "params = {\n",
    "    \"model__min_samples_leaf\": randint(1, 500),\n",
    "    \"model__max_depth\": randint(10, 600),\n",
    "    \"model__min_samples_split\": uniform(0.01, 0.199)\n",
    "}\n",
    "\n",
    "forrest = Pipeline([\n",
    "    (\"to_binary_features_transformer\", ToBinaryFeaturesTransfromer(features=[\"GarageArea\", \"TotalBsmtSF\", \"PoolArea\"])),\n",
    "    (\"ColumnTransformer\", ColumnTransformer([\n",
    "        (\"cont_transformer\", cont_pipeline, cont_features),\n",
    "        (\"cat_transformer\", cat_pipeline, cat_features)\n",
    "    ])),\n",
    "    (\"model\", DecisionTreeRegressor())\n",
    "])\n",
    "\n",
    "search = RandomizedSearchCV(forrest, params, n_iter=100, cv=7, random_state=42)\n",
    "search.fit(train_df, train_df[\"SalePrice\"].values)\n",
    "\n",
    "pipeline = Pipeline([\n",
    "    (\"to_binary_features_transformer\", ToBinaryFeaturesTransfromer(features=[\"GarageArea\", \"TotalBsmtSF\", \"PoolArea\"])),\n",
    "    (\"ColumnTransformer\", ColumnTransformer([\n",
    "        (\"cont_transformer\", cont_pipeline, cont_features),\n",
    "        (\"cat_transformer\", cat_pipeline, cat_features)\n",
    "    ])),\n",
    "    (\"model\", DecisionTreeRegressor(**extract_best_model_params(search.best_estimator_.get_params())))\n",
    "])\n",
    "pipeline.fit(train_df, train_df[\"SalePrice\"].values)\n",
    "\n",
    "predictions = pipeline.predict(test_df)\n",
    "\n",
    "print(\"MAE: \", mean_absolute_error(test_df[label], predictions))\n",
    "print(\"MSE: \", mean_squared_error(test_df[label], predictions))\n"
   ]
  },
  {
   "cell_type": "code",
   "execution_count": 169,
   "metadata": {},
   "outputs": [
    {
     "name": "stderr",
     "output_type": "stream",
     "text": [
      "/Users/dqmis/github/code_academy_ai_course/.venv/lib/python3.9/site-packages/sklearn/model_selection/_search.py:306: UserWarning: The total space of parameters 8 is smaller than n_iter=100. Running 8 iterations. For exhaustive searches, use GridSearchCV.\n",
      "  warnings.warn(\n"
     ]
    },
    {
     "name": "stdout",
     "output_type": "stream",
     "text": [
      "MAE:  18047.84691780822\n",
      "MSE:  758156982.429825\n"
     ]
    }
   ],
   "source": [
    "params = {\n",
    "    'model__max_depth': [6,10],\n",
    "    'model__learning_rate': [0.01, 0.08],\n",
    "    'model__colsample_bylevel': [0.3, 0.4],\n",
    "}\n",
    "\n",
    "forrest = Pipeline([\n",
    "    (\"to_binary_features_transformer\", ToBinaryFeaturesTransfromer(features=[\"GarageArea\", \"TotalBsmtSF\", \"PoolArea\"])),\n",
    "    (\"ColumnTransformer\", ColumnTransformer([\n",
    "        (\"cont_transformer\", cont_pipeline, cont_features),\n",
    "        (\"cat_transformer\", cat_pipeline, cat_features)\n",
    "    ])),\n",
    "    (\"model\", XGBRegressor())\n",
    "])\n",
    "\n",
    "search = RandomizedSearchCV(forrest, params, n_iter=100, cv=7, random_state=42, n_jobs=-1)\n",
    "search.fit(train_df, train_df[\"SalePrice\"].values)\n",
    "\n",
    "pipeline = Pipeline([\n",
    "    (\"to_binary_features_transformer\", ToBinaryFeaturesTransfromer(features=[\"GarageArea\", \"TotalBsmtSF\", \"PoolArea\"])),\n",
    "    (\"ColumnTransformer\", ColumnTransformer([\n",
    "        (\"cont_transformer\", cont_pipeline, cont_features),\n",
    "        (\"cat_transformer\", cat_pipeline, cat_features)\n",
    "    ])),\n",
    "    (\"model\", XGBRegressor(**extract_best_model_params(search.best_estimator_.get_params())))\n",
    "])\n",
    "pipeline.fit(train_df, train_df[\"SalePrice\"].values)\n",
    "\n",
    "predictions = pipeline.predict(test_df)\n",
    "\n",
    "print(\"MAE: \", mean_absolute_error(test_df[label], predictions))\n",
    "print(\"MSE: \", mean_squared_error(test_df[label], predictions))\n"
   ]
  }
 ],
 "metadata": {
  "kernelspec": {
   "display_name": ".venv",
   "language": "python",
   "name": "python3"
  },
  "language_info": {
   "codemirror_mode": {
    "name": "ipython",
    "version": 3
   },
   "file_extension": ".py",
   "mimetype": "text/x-python",
   "name": "python",
   "nbconvert_exporter": "python",
   "pygments_lexer": "ipython3",
   "version": "3.9.13"
  },
  "orig_nbformat": 4,
  "vscode": {
   "interpreter": {
    "hash": "de17c4b867480f2f8bc5d2be08a00cb2e02a1ee18bda207b764c3905e0b438fb"
   }
  }
 },
 "nbformat": 4,
 "nbformat_minor": 2
}
