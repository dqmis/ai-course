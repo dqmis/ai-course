{
 "cells": [
  {
   "cell_type": "code",
   "execution_count": null,
   "metadata": {},
   "outputs": [],
   "source": []
  },
  {
   "cell_type": "markdown",
   "metadata": {},
   "source": [
    "# 2022-10-03"
   ]
  },
  {
   "cell_type": "code",
   "execution_count": 1,
   "metadata": {},
   "outputs": [
    {
     "name": "stdout",
     "output_type": "stream",
     "text": [
      "labas\n"
     ]
    }
   ],
   "source": [
    "def a() -> None:\n",
    "    print(\"labas\")\n",
    "\n",
    "\n",
    "a()"
   ]
  },
  {
   "cell_type": "code",
   "execution_count": 4,
   "metadata": {},
   "outputs": [
    {
     "name": "stdout",
     "output_type": "stream",
     "text": [
      "Hello, it is me Mario!\n",
      "None\n",
      "Hello, it is me Luigi!\n",
      "None\n",
      "Hello, it is me Sonic!\n",
      "None\n"
     ]
    }
   ],
   "source": [
    "def say_hello(name: str) -> None:\n",
    "    print(f\"Hello, it is me {name}!\")\n",
    "\n",
    "\n",
    "print(say_hello(\"Mario\"))\n",
    "print(say_hello(\"Luigi\"))\n",
    "print(say_hello(\"Sonic\"))"
   ]
  },
  {
   "cell_type": "code",
   "execution_count": 6,
   "metadata": {},
   "outputs": [
    {
     "name": "stdout",
     "output_type": "stream",
     "text": [
      "Hello, it is me Mario! I am standing on a castle\n"
     ]
    }
   ],
   "source": [
    "def say_hello(name: str, place: str = \"plain\") -> None:\n",
    "    print(f\"Hello, it is me {name}! I am standing on a {place}\")\n",
    "\n",
    "\n",
    "say_hello(\"Mario\", \"castle\")"
   ]
  },
  {
   "cell_type": "code",
   "execution_count": 16,
   "metadata": {},
   "outputs": [
    {
     "name": "stdout",
     "output_type": "stream",
     "text": [
      "Hello, it is me Mario! I am standing on a castle. My health level is 100\n"
     ]
    },
    {
     "ename": "TypeError",
     "evalue": "say_hello() got multiple values for argument 'place'",
     "output_type": "error",
     "traceback": [
      "\u001b[0;31m---------------------------------------------------------------------------\u001b[0m",
      "\u001b[0;31mTypeError\u001b[0m                                 Traceback (most recent call last)",
      "Cell \u001b[0;32mIn [16], line 5\u001b[0m\n\u001b[1;32m      2\u001b[0m     \u001b[38;5;28mprint\u001b[39m(\u001b[38;5;124mf\u001b[39m\u001b[38;5;124m\"\u001b[39m\u001b[38;5;124mHello, it is me \u001b[39m\u001b[38;5;132;01m{\u001b[39;00mname\u001b[38;5;132;01m}\u001b[39;00m\u001b[38;5;124m! I am standing on a \u001b[39m\u001b[38;5;132;01m{\u001b[39;00mplace\u001b[38;5;132;01m}\u001b[39;00m\u001b[38;5;124m. My health level is \u001b[39m\u001b[38;5;132;01m{\u001b[39;00mhealth_level\u001b[38;5;132;01m}\u001b[39;00m\u001b[38;5;124m\"\u001b[39m)\n\u001b[1;32m      4\u001b[0m say_hello(\u001b[38;5;124m\"\u001b[39m\u001b[38;5;124mMario\u001b[39m\u001b[38;5;124m\"\u001b[39m, \u001b[38;5;124m\"\u001b[39m\u001b[38;5;124mcastle\u001b[39m\u001b[38;5;124m\"\u001b[39m, \u001b[38;5;241m100\u001b[39m)\n\u001b[0;32m----> 5\u001b[0m say_hello(\u001b[38;5;124m\"\u001b[39m\u001b[38;5;124mMario\u001b[39m\u001b[38;5;124m\"\u001b[39m, \u001b[38;5;241m100\u001b[39m, place\u001b[38;5;241m=\u001b[39m\u001b[38;5;124m\"\u001b[39m\u001b[38;5;124mlol\u001b[39m\u001b[38;5;124m\"\u001b[39m)\n\u001b[1;32m      6\u001b[0m say_hello(\u001b[38;5;124m\"\u001b[39m\u001b[38;5;124mMario\u001b[39m\u001b[38;5;124m\"\u001b[39m, {\u001b[38;5;124m\"\u001b[39m\u001b[38;5;124mlabas\u001b[39m\u001b[38;5;124m\"\u001b[39m: \u001b[38;5;124m\"\u001b[39m\u001b[38;5;124mnesamone\u001b[39m\u001b[38;5;124m\"\u001b[39m})\n\u001b[1;32m      7\u001b[0m say_hello(\u001b[38;5;124m\"\u001b[39m\u001b[38;5;124mMario\u001b[39m\u001b[38;5;124m\"\u001b[39m, health_level\u001b[38;5;241m=\u001b[39m\u001b[38;5;241m100\u001b[39m)\n",
      "\u001b[0;31mTypeError\u001b[0m: say_hello() got multiple values for argument 'place'"
     ]
    }
   ],
   "source": [
    "def say_hello(name: str, place: str = \"plain\", health_level: int = 10) -> None:\n",
    "    print(f\"Hello, it is me {name}! I am standing on a {place}. My health level is {health_level}\")\n",
    "\n",
    "\n",
    "say_hello(\"Mario\", \"castle\", 100)\n",
    "say_hello(\"Mario\", 100, place=\"lol\")\n",
    "say_hello(\"Mario\", {\"labas\": \"nesamone\"})\n",
    "say_hello(\"Mario\", health_level=100)\n",
    "say_hello(\"Mario\", health_level=100, place=\"sky\")"
   ]
  },
  {
   "cell_type": "code",
   "execution_count": 12,
   "metadata": {},
   "outputs": [
    {
     "ename": "SyntaxError",
     "evalue": "positional argument follows keyword argument (3912016081.py, line 1)",
     "output_type": "error",
     "traceback": [
      "\u001b[0;36m  Cell \u001b[0;32mIn [12], line 1\u001b[0;36m\u001b[0m\n\u001b[0;31m    ay_hello(\"Mario\", place=\"sky\", 100)\u001b[0m\n\u001b[0m                                      ^\u001b[0m\n\u001b[0;31mSyntaxError\u001b[0m\u001b[0;31m:\u001b[0m positional argument follows keyword argument\n"
     ]
    }
   ],
   "source": [
    "say_hello(\"Mario\", place=\"sky\", 100)"
   ]
  },
  {
   "cell_type": "code",
   "execution_count": 25,
   "metadata": {},
   "outputs": [
    {
     "name": "stdout",
     "output_type": "stream",
     "text": [
      "10 11 13 15 20\n",
      "30 11 13 7 20\n",
      "100 11 120 69 20\n",
      "10 11 42 15 20\n"
     ]
    }
   ],
   "source": [
    "def model_args(a: int = 10, b: int = 11, c: int = 13, d: int = 15, e: int = 20):\n",
    "    print(a, b, c, d, e)\n",
    "\n",
    "\n",
    "model_args()\n",
    "model_args(a=30, d=7)\n",
    "model_args_dict = {\"a\": 100, \"c\": 120, \"d\": 69}\n",
    "model_args(**model_args_dict)\n",
    "model_args_dict = {\"c\": 42}\n",
    "model_args(**model_args_dict)"
   ]
  },
  {
   "cell_type": "code",
   "execution_count": 29,
   "metadata": {},
   "outputs": [
    {
     "name": "stdout",
     "output_type": "stream",
     "text": [
      "10 20\n"
     ]
    }
   ],
   "source": [
    "from typing import Tuple\n",
    "\n",
    "\n",
    "def a() -> Tuple[int, int]:\n",
    "    return 10, 20\n",
    "\n",
    "\n",
    "i, j = a()\n",
    "\n",
    "print(i, j)"
   ]
  },
  {
   "cell_type": "code",
   "execution_count": 30,
   "metadata": {},
   "outputs": [
    {
     "name": "stdout",
     "output_type": "stream",
     "text": [
      "10 zodis\n"
     ]
    }
   ],
   "source": [
    "from typing import Tuple\n",
    "\n",
    "\n",
    "def a() -> Tuple[int, str]:\n",
    "    return 10, \"zodis\"\n",
    "\n",
    "\n",
    "i, j = a()\n",
    "\n",
    "print(i, j)"
   ]
  },
  {
   "cell_type": "code",
   "execution_count": 31,
   "metadata": {},
   "outputs": [
    {
     "name": "stdout",
     "output_type": "stream",
     "text": [
      "10 zodis\n"
     ]
    }
   ],
   "source": [
    "from typing import Tuple\n",
    "\n",
    "\n",
    "def a() -> Tuple[int, str]:\n",
    "    return 10, 27, \"zodis\"\n",
    "\n",
    "\n",
    "i, _, j = a()\n",
    "\n",
    "print(i, j)"
   ]
  },
  {
   "cell_type": "code",
   "execution_count": 32,
   "metadata": {},
   "outputs": [
    {
     "name": "stdout",
     "output_type": "stream",
     "text": [
      "0\n",
      "1\n",
      "2\n",
      "3\n",
      "4\n"
     ]
    }
   ],
   "source": [
    "from typing import List\n",
    "\n",
    "arr: List[int] = [1, 2, 3, 4, 5]\n",
    "\n",
    "for i, _ in enumerate(arr):\n",
    "    print(i)"
   ]
  },
  {
   "cell_type": "code",
   "execution_count": 36,
   "metadata": {},
   "outputs": [
    {
     "data": {
      "text/plain": [
       "[(5, -1), (15, 1), (1, 2), (10, 4)]"
      ]
     },
     "execution_count": 36,
     "metadata": {},
     "output_type": "execute_result"
    }
   ],
   "source": [
    "points_2d = [(1, 2), (15, 1), (5, -1), (10, 4)]\n",
    "points_2d_sorted = sorted(points_2d, key=lambda x: x[-1])\n",
    "points_2d_sorted"
   ]
  },
  {
   "cell_type": "code",
   "execution_count": 47,
   "metadata": {},
   "outputs": [],
   "source": []
  },
  {
   "cell_type": "code",
   "execution_count": 55,
   "metadata": {},
   "outputs": [
    {
     "name": "stdout",
     "output_type": "stream",
     "text": [
      "[<function <lambda> at 0x11324fa60>, [1, 2, 3, 4, 5]]\n",
      "[2, 4, 6, 8, 10]\n",
      "[2, 4, 6, 8, 10]\n"
     ]
    }
   ],
   "source": [
    "a = [1, 2, 3, 4, 5]\n",
    "b = map(lambda x: x * 2, a)\n",
    "print(list(b))\n",
    "\n",
    "\n",
    "def multiply(x):\n",
    "    return x * 2\n",
    "\n",
    "\n",
    "c = [x * 2 for x in a]\n",
    "print(c)\n",
    "\n",
    "j = map(multiply, a)\n",
    "print(list(j))"
   ]
  },
  {
   "cell_type": "code",
   "execution_count": 57,
   "metadata": {},
   "outputs": [
    {
     "data": {
      "text/plain": [
       "15"
      ]
     },
     "execution_count": 57,
     "metadata": {},
     "output_type": "execute_result"
    }
   ],
   "source": [
    "def sumation(a, b):\n",
    "    return a + b\n",
    "\n",
    "\n",
    "sumation(10, 5)"
   ]
  },
  {
   "cell_type": "code",
   "execution_count": 54,
   "metadata": {},
   "outputs": [
    {
     "data": {
      "text/plain": [
       "<function __main__.<lambda>(x)>"
      ]
     },
     "execution_count": 54,
     "metadata": {},
     "output_type": "execute_result"
    }
   ],
   "source": [
    "lambda x: x * 2"
   ]
  },
  {
   "cell_type": "code",
   "execution_count": 39,
   "metadata": {},
   "outputs": [
    {
     "name": "stdout",
     "output_type": "stream",
     "text": [
      "[2, 4, 6]\n",
      "[2, 4, 6]\n"
     ]
    }
   ],
   "source": [
    "a = [1, 2, 3, 4, 5, 6]\n",
    "b = filter(lambda x: x % 2 == 0, a)\n",
    "print(list(b))\n",
    "\n",
    "c = [x for x in a if x % 2 == 0]\n",
    "print(c)"
   ]
  },
  {
   "cell_type": "code",
   "execution_count": 44,
   "metadata": {},
   "outputs": [
    {
     "name": "stdout",
     "output_type": "stream",
     "text": [
      "24\n",
      "10\n",
      "24\n"
     ]
    }
   ],
   "source": [
    "from functools import reduce\n",
    "\n",
    "a = [1, 2, 3, 4]\n",
    "product_a = reduce(lambda x, y: x * y, a)\n",
    "print(product_a)\n",
    "\n",
    "a = [1, 2, 3, 4]\n",
    "product_a = reduce(lambda x, y: x + y, a)\n",
    "print(product_a)\n",
    "\n",
    "res = a[0]\n",
    "for i in range(1, len(a)):\n",
    "    # res *= a[i]\n",
    "    res = res * a[i]\n",
    "\n",
    "print(res)"
   ]
  },
  {
   "cell_type": "code",
   "execution_count": 62,
   "metadata": {},
   "outputs": [
    {
     "name": "stdout",
     "output_type": "stream",
     "text": [
      "<function <lambda> at 0x11325e040>\n",
      "70\n"
     ]
    }
   ],
   "source": [
    "sum = lambda a, b, c: a + b + c\n",
    "\n",
    "print(sum)\n",
    "print(sum(10, 20, 40))"
   ]
  },
  {
   "cell_type": "code",
   "execution_count": 63,
   "metadata": {},
   "outputs": [
    {
     "name": "stdout",
     "output_type": "stream",
     "text": [
      "<function sum at 0x113252ee0>\n",
      "70\n"
     ]
    }
   ],
   "source": [
    "def sum(a, b, c):\n",
    "    return a + b + c\n",
    "\n",
    "\n",
    "print(sum)\n",
    "print(sum(10, 20, 40))"
   ]
  },
  {
   "cell_type": "code",
   "execution_count": 64,
   "metadata": {},
   "outputs": [],
   "source": [
    "def get_sum_of_function(fun, a: int) -> int:\n",
    "    return fun(a) + a"
   ]
  },
  {
   "cell_type": "code",
   "execution_count": 65,
   "metadata": {},
   "outputs": [
    {
     "data": {
      "text/plain": [
       "30"
      ]
     },
     "execution_count": 65,
     "metadata": {},
     "output_type": "execute_result"
    }
   ],
   "source": [
    "def multiply(a: int) -> int:\n",
    "    return a * 2\n",
    "\n",
    "\n",
    "get_sum_of_function(multiply, 10)"
   ]
  },
  {
   "cell_type": "code",
   "execution_count": 66,
   "metadata": {},
   "outputs": [
    {
     "data": {
      "text/plain": [
       "30"
      ]
     },
     "execution_count": 66,
     "metadata": {},
     "output_type": "execute_result"
    }
   ],
   "source": [
    "get_sum_of_function(lambda x: x * 2, 10)"
   ]
  },
  {
   "cell_type": "code",
   "execution_count": 67,
   "metadata": {},
   "outputs": [],
   "source": [
    "from typing import Any\n",
    "\n",
    "\n",
    "def our_map(fun, values: List[Any]) -> List[Any]:\n",
    "    return [fun(i) for i in values]"
   ]
  },
  {
   "cell_type": "code",
   "execution_count": 70,
   "metadata": {},
   "outputs": [
    {
     "name": "stdout",
     "output_type": "stream",
     "text": [
      "[2, 4, 6, 8, 10]\n",
      "[2, 4, 6, 8, 10]\n",
      "[2, 4, 6, 8, 10]\n",
      "[2, 4, 6, 8, 10]\n"
     ]
    }
   ],
   "source": [
    "from ctypes import Union\n",
    "\n",
    "a = [1, 2, 3, 4, 5]\n",
    "b = map(lambda x: x * 2, a)\n",
    "print(list(b))\n",
    "\n",
    "a = [1, 2, 3, 4, 5]\n",
    "b = our_map(lambda x: x * 2, a)\n",
    "print(b)\n",
    "\n",
    "\n",
    "def multiply(x):\n",
    "    return x * 2\n",
    "\n",
    "\n",
    "a = [1, 2, 3, 4, 5]\n",
    "b = map(multiply, a)\n",
    "print(list(b))\n",
    "\n",
    "a = [1, 2, 3, 4, 5]\n",
    "b = our_map(multiply, a)\n",
    "print(b)"
   ]
  },
  {
   "cell_type": "code",
   "execution_count": 76,
   "metadata": {},
   "outputs": [
    {
     "name": "stdout",
     "output_type": "stream",
     "text": [
      "10\n",
      "5\n",
      "2\n",
      "1\n",
      "0\n"
     ]
    }
   ],
   "source": [
    "def a(x):\n",
    "    print(x)\n",
    "    if x > 1e-2:\n",
    "        return a(x // 2)\n",
    "\n",
    "\n",
    "a(10)"
   ]
  }
 ],
 "metadata": {
  "kernelspec": {
   "display_name": "Python 3.9.13 ('.venv': poetry)",
   "language": "python",
   "name": "python3"
  },
  "language_info": {
   "codemirror_mode": {
    "name": "ipython",
    "version": 3
   },
   "file_extension": ".py",
   "mimetype": "text/x-python",
   "name": "python",
   "nbconvert_exporter": "python",
   "pygments_lexer": "ipython3",
   "version": "3.9.13"
  },
  "orig_nbformat": 4,
  "vscode": {
   "interpreter": {
    "hash": "4629e5109eac4fae59b47ffdf44e3b457a9e01ac6e60bbb940dd6bab23079ebc"
   }
  }
 },
 "nbformat": 4,
 "nbformat_minor": 2
}
