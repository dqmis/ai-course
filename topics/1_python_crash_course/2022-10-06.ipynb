{
 "cells": [
  {
   "attachments": {},
   "cell_type": "markdown",
   "metadata": {},
   "source": [
    "# Classes\n",
    "## 2022-10-06"
   ]
  },
  {
   "cell_type": "code",
   "execution_count": 9,
   "metadata": {},
   "outputs": [
    {
     "name": "stdout",
     "output_type": "stream",
     "text": [
      "Hey, this is Dominykas Seputis\n",
      "Hey, this is Akvile Mazanauskaite\n",
      "Hey, this is Dominykas Seputis\n",
      "Hey, this is Akvile Mazanauskaite\n"
     ]
    }
   ],
   "source": [
    "class Human:\n",
    "    def __init__(self, name: str, lastname: str) -> None:\n",
    "        self.name = name\n",
    "        self.lastname = lastname\n",
    "\n",
    "    def say_hi(self) -> None:\n",
    "        print(f\"Hey, this is {self.name} {self.lastname}\")\n",
    "\n",
    "\n",
    "person1 = Human(\"Dominykas\", \"Seputis\")\n",
    "person2 = Human(\"Akvile\", \"Mazanauskaite\")\n",
    "\n",
    "person1.say_hi()\n",
    "person2.say_hi()\n",
    "\n",
    "\n",
    "####\n",
    "\n",
    "\n",
    "def say_hi(name: str, lastname: str) -> None:\n",
    "    print(f\"Hey, this is {name} {lastname}\")\n",
    "\n",
    "\n",
    "say_hi(\"Dominykas\", \"Seputis\")\n",
    "name2 = \"Akvile\"\n",
    "lname2 = \"Mazanauskaite\"\n",
    "say_hi(name2, lname2)\n",
    "\n",
    "student_class_lnames = [lname2]\n",
    "student_class_names = [name2]\n",
    "\n",
    "for i in range(len(student_class_lnames)):\n",
    "    say_hi(student_class_names[i], student_class_lnames[i])\n",
    "\n",
    "students = [person1, person2]\n",
    "\n",
    "for student in students:\n",
    "    student.say_hi()"
   ]
  },
  {
   "cell_type": "code",
   "execution_count": 28,
   "metadata": {},
   "outputs": [
    {
     "name": "stdout",
     "output_type": "stream",
     "text": [
      "Dominykas\n",
      "Seputis\n",
      "23 <class 'int'>\n",
      "Domis\n",
      "Person was resetted!\n",
      "Person was resetted!\n",
      "Romas1 Dominykas\n"
     ]
    }
   ],
   "source": [
    "class Human:\n",
    "    def __init__(self, name: str, lname: str, age: int) -> None:\n",
    "        self._name = name\n",
    "        self._lname = lname\n",
    "        self._age = age\n",
    "\n",
    "    def reset(self, name: str = None, lname: str = None, age: int = None) -> None:\n",
    "        if name:\n",
    "            self._name = name\n",
    "        if lname:\n",
    "            self._lname = lname\n",
    "        if age:\n",
    "            self._age = age\n",
    "\n",
    "        print(\"Person was resetted!\")\n",
    "\n",
    "    @property\n",
    "    def name(self) -> str:\n",
    "        return self._name\n",
    "\n",
    "    @name.setter\n",
    "    def name(self, name: str) -> str:\n",
    "        self._name = name\n",
    "        return name\n",
    "\n",
    "    @property\n",
    "    def lname(self) -> str:\n",
    "        return self._lname\n",
    "\n",
    "    @property\n",
    "    def age(self) -> str:\n",
    "        return self._age\n",
    "\n",
    "\n",
    "person1 = Human(\"Dominykas\", \"Seputis\", 23)\n",
    "\n",
    "print(person1.name)\n",
    "print(person1.lname)\n",
    "print(person1.age, type(person1.age))\n",
    "\n",
    "person1.name = \"Domis\"\n",
    "print(person1.name)\n",
    "\n",
    "person1.name\n",
    "\n",
    "person1.reset(name=\"Dominykas\", age=42)\n",
    "\n",
    "person1.name\n",
    "\n",
    "\n",
    "person2 = Human(\"Romas\", \"Klemaitis\", 42)\n",
    "\n",
    "person2.name\n",
    "\n",
    "person2.reset(name=\"Romas1\")\n",
    "\n",
    "print(person2.name, person1.name)"
   ]
  },
  {
   "cell_type": "code",
   "execution_count": 41,
   "metadata": {},
   "outputs": [
    {
     "name": "stdout",
     "output_type": "stream",
     "text": [
      "Dominykas\n",
      "I am deleting name\n",
      "___ ___\n",
      "Hello, this is Dominykas Seputis\n"
     ]
    },
    {
     "data": {
      "text/plain": [
       "33"
      ]
     },
     "execution_count": 41,
     "metadata": {},
     "output_type": "execute_result"
    }
   ],
   "source": [
    "class Human:\n",
    "    def __init__(self, name: str, lname: str, age: int) -> None:\n",
    "        self._name = name\n",
    "        self._lname = lname\n",
    "        self._age = age\n",
    "\n",
    "    def reset(self, name: str = None, lname: str = None, age: int = None) -> None:\n",
    "        if name:\n",
    "            self._name = name\n",
    "        if lname:\n",
    "            self._lname = lname\n",
    "        if age:\n",
    "            self._age = age\n",
    "\n",
    "        print(\"Person was resetted!\")\n",
    "\n",
    "    @property\n",
    "    def name(self) -> str:\n",
    "        return self._name\n",
    "\n",
    "    @name.setter\n",
    "    def name(self, name: str) -> str:\n",
    "        self._name = name\n",
    "        return name\n",
    "\n",
    "    @name.deleter\n",
    "    def name(self) -> None:\n",
    "        print(\"I am deleting name\")\n",
    "        self._name = \" \"\n",
    "\n",
    "    @property\n",
    "    def lname(self) -> str:\n",
    "        return self._lname\n",
    "\n",
    "    @property\n",
    "    def age(self) -> str:\n",
    "        return self._age\n",
    "\n",
    "    def get_person_age_after_n_years(self, n_years: int) -> int:\n",
    "        self.say_hello()\n",
    "        return Human._do_math(n_years, self._age)\n",
    "\n",
    "    @staticmethod\n",
    "    def _do_math(a: int, b: int) -> int:\n",
    "        return a + b\n",
    "\n",
    "    def say_hello(self) -> None:\n",
    "        print(f\"Hello, this is {self._name} {self._lname}\")\n",
    "\n",
    "\n",
    "person = Human(\"Dominykas\", \"Seputis\", 23)\n",
    "print(person.name)\n",
    "del person.name\n",
    "print(f\"___{person.name}___\")\n",
    "person.name = \"Dominykas\"\n",
    "\n",
    "# person._do_math(10, 20)\n",
    "\n",
    "person.get_person_age_after_n_years(10)"
   ]
  },
  {
   "cell_type": "code",
   "execution_count": 42,
   "metadata": {},
   "outputs": [],
   "source": [
    "class Calculator:\n",
    "    @staticmethod\n",
    "    def sum(a: int, b: int) -> int:\n",
    "        return a + b\n",
    "\n",
    "    @staticmethod\n",
    "    def multiply(a: int, b: int) -> int:\n",
    "        return a * b"
   ]
  },
  {
   "cell_type": "code",
   "execution_count": 43,
   "metadata": {},
   "outputs": [
    {
     "data": {
      "text/plain": [
       "30"
      ]
     },
     "execution_count": 43,
     "metadata": {},
     "output_type": "execute_result"
    }
   ],
   "source": [
    "Calculator.sum(10, 20)"
   ]
  },
  {
   "cell_type": "code",
   "execution_count": 52,
   "metadata": {},
   "outputs": [
    {
     "name": "stdout",
     "output_type": "stream",
     "text": [
      "Dominykas 2A\n",
      "Hello, this is Dominykas Seputis\n",
      "Hello, this is Edgaras Kelertas\n"
     ]
    },
    {
     "data": {
      "text/plain": [
       "True"
      ]
     },
     "execution_count": 52,
     "metadata": {},
     "output_type": "execute_result"
    }
   ],
   "source": [
    "class Student(Human):\n",
    "    def __init__(self, name: str, lname: str, age: int, student_class: int) -> None:\n",
    "        super().__init__(name=name, lname=lname, age=age)\n",
    "        self._student_class = student_class\n",
    "\n",
    "    @property\n",
    "    def student_class(self) -> int:\n",
    "        return self._student_class\n",
    "\n",
    "\n",
    "class Firefighter(Human):\n",
    "    def __init__(self, name: str, lname: str, age: int, badge_number: int) -> None:\n",
    "        super().__init__(name=name, lname=lname, age=age)\n",
    "        self._badge_number = badge_number\n",
    "\n",
    "    def works_in_day_shift(self) -> bool:\n",
    "        if self._badge_number > 5:\n",
    "            return True\n",
    "        return False\n",
    "\n",
    "\n",
    "student1 = Student(\"Dominykas\", \"Seputis\", 23, \"2A\")\n",
    "print(student1.name, student1.student_class)\n",
    "student1.say_hello()\n",
    "\n",
    "firefighter1 = Firefighter(\"Edgaras\", \"Kelertas\", 42, 7)\n",
    "firefighter1.say_hello()\n",
    "firefighter1.works_in_day_shift()"
   ]
  },
  {
   "cell_type": "code",
   "execution_count": null,
   "metadata": {},
   "outputs": [],
   "source": [
    "class Car:\n",
    "    def __init__(self, wheels_color: str, color: str, brand: str) -> None:\n",
    "        self._wheels_color = wheels_color\n",
    "        self._color = color\n",
    "        self._brand = brand\n",
    "\n",
    "    @staticmethod\n",
    "    def honk() -> None:\n",
    "        print(\"HONK!!!\")\n",
    "\n",
    "\n",
    "class Tesla(Car):\n",
    "    def __init__(self, wheels_color: str, color: str, brand: str, charging_capacity: int) -> None:\n",
    "        super().__init__(wheels_color=wheels_color, color=color, brand=brand)\n",
    "        self._charging_capacity = charging_capacity\n",
    "\n",
    "\n",
    "class BMW(Car):\n",
    "    def __init__(self, wheels_color: str, color: str, brand: str, fuel_tank_capcity: int) -> None:\n",
    "        super().__init__(wheels_color=wheels_color, color=color, brand=brand)\n",
    "        self._fuel_tank_capacity = fuel_tank_capcity"
   ]
  },
  {
   "cell_type": "code",
   "execution_count": 61,
   "metadata": {},
   "outputs": [
    {
     "name": "stdout",
     "output_type": "stream",
     "text": [
      "We added a new student: Edgaras Kelertas\n",
      "Now there are 2 humans in the class\n",
      "We added a new student: Marius Vilkaitis\n",
      "Now there are 3 humans in the class\n",
      "We added a new student: Antanas Kunca\n",
      "Now there are 4 humans in the class\n",
      "Glasses are taken off\n",
      "Glasses are alrwady not on teacher's face\n"
     ]
    }
   ],
   "source": [
    "from typing import List\n",
    "\n",
    "\n",
    "class Teacher(Human):\n",
    "    def __init__(self, name: str, lname: str, age: int, has_glasses: bool = False) -> None:\n",
    "        super().__init__(name=name, lname=lname, age=age)\n",
    "        self._has_glasses = has_glasses\n",
    "        self._glasses_are_taken_off = False\n",
    "\n",
    "    def take_off_glasses(self):\n",
    "        if self._has_glasses:\n",
    "            if self._glasses_are_taken_off:\n",
    "                print(\"Glasses are alrwady not on teacher's face\")\n",
    "            else:\n",
    "                print(\"Glasses are taken off\")\n",
    "                self._glasses_are_taken_off = True\n",
    "        else:\n",
    "            print(\"Teacher does not have glasses!\")\n",
    "\n",
    "\n",
    "class StudentClass:\n",
    "    def __init__(self, class_number: str, teacher: Teacher) -> None:\n",
    "        self._teacher = teacher\n",
    "        self._class_number = class_number\n",
    "        self._students: List[Student] = []\n",
    "\n",
    "    @property\n",
    "    def class_number(self) -> str:\n",
    "        return self._class_number\n",
    "\n",
    "    def add_student_to_the_class(self, student: Student) -> None:\n",
    "        self._students.append(student)\n",
    "        print(f\"We added a new student: {student.name} {student.lname}\")\n",
    "        print(f\"Now there are {len(self._students) + 1} humans in the class\")\n",
    "\n",
    "    def take_teachers_glass_off(self) -> None:\n",
    "        self._teacher.take_off_glasses()\n",
    "\n",
    "    @property\n",
    "    def teacher(self) -> Teacher:\n",
    "        return self._teacher\n",
    "\n",
    "\n",
    "teacher = Teacher(name=\"Dominykas\", lname=\"Seputis\", age=23, has_glasses=True)\n",
    "student1 = Student(name=\"Edgaras\", lname=\"Kelertas\", age=42, student_class=10)\n",
    "student2 = Student(name=\"Marius\", lname=\"Vilkaitis\", age=42, student_class=10)\n",
    "student3 = Student(name=\"Antanas\", lname=\"Kunca\", age=42, student_class=10)\n",
    "\n",
    "student_class = StudentClass(class_number=\"10A\", teacher=teacher)\n",
    "student_class.add_student_to_the_class(student1)\n",
    "student_class.add_student_to_the_class(student2)\n",
    "student_class.add_student_to_the_class(student3)\n",
    "\n",
    "student_class.take_teachers_glass_off()\n",
    "student_class.teacher.take_off_glasses()"
   ]
  },
  {
   "cell_type": "code",
   "execution_count": 65,
   "metadata": {},
   "outputs": [
    {
     "name": "stdout",
     "output_type": "stream",
     "text": [
      "THIS IS A TRIANGLE!!!\n"
     ]
    }
   ],
   "source": [
    "from abc import ABC, abstractclassmethod\n",
    "\n",
    "\n",
    "class Shape(ABC):\n",
    "    def __init__(self, type: str) -> None:\n",
    "        self._type = type\n",
    "\n",
    "    @abstractclassmethod\n",
    "    def turn_shape_90_deg(self) -> None:\n",
    "        pass\n",
    "\n",
    "    def say_hello(self) -> None:\n",
    "        print(f\"Hello, this is shape {self._type}\")\n",
    "\n",
    "\n",
    "class Triangle(Shape):\n",
    "    def __init__(self, type: str) -> None:\n",
    "        super().__init__(type)\n",
    "\n",
    "    def turn_shape_90_deg(self) -> None:\n",
    "        print(\"Trianfle now is turned, we can still see that it is triangle\")\n",
    "\n",
    "    def say_hello(self) -> None:\n",
    "        print(f\"THIS IS A TRIANGLE!!!\")\n",
    "\n",
    "\n",
    "triangle = Triangle(\"triangle\")\n",
    "triangle.say_hello()"
   ]
  }
 ],
 "metadata": {
  "kernelspec": {
   "display_name": "Python 3.9.13 ('.venv': poetry)",
   "language": "python",
   "name": "python3"
  },
  "language_info": {
   "codemirror_mode": {
    "name": "ipython",
    "version": 3
   },
   "file_extension": ".py",
   "mimetype": "text/x-python",
   "name": "python",
   "nbconvert_exporter": "python",
   "pygments_lexer": "ipython3",
   "version": "3.9.13"
  },
  "orig_nbformat": 4,
  "vscode": {
   "interpreter": {
    "hash": "4629e5109eac4fae59b47ffdf44e3b457a9e01ac6e60bbb940dd6bab23079ebc"
   }
  }
 },
 "nbformat": 4,
 "nbformat_minor": 2
}
