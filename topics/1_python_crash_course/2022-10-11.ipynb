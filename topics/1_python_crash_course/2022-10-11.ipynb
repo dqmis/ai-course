{
 "cells": [
  {
   "cell_type": "markdown",
   "metadata": {},
   "source": [
    "# 2022-10-11"
   ]
  },
  {
   "cell_type": "code",
   "execution_count": 10,
   "metadata": {},
   "outputs": [
    {
     "name": "stdout",
     "output_type": "stream",
     "text": [
      "Dominykas 10\n",
      "0\n",
      "1\n",
      "2\n",
      "3\n",
      "4\n",
      "Dominykas 10\n",
      "Justas 14\n",
      "Jolanta 13\n",
      "37\n"
     ]
    }
   ],
   "source": [
    "from typing import Dict, List\n",
    "\n",
    "\n",
    "class Student:\n",
    "    def __init__(self, name: str, age: int) -> None:\n",
    "        self._name = name\n",
    "        self._age = age\n",
    "\n",
    "    def get_name(self) -> str:\n",
    "        return self._name\n",
    "\n",
    "    @property\n",
    "    def age(self) -> int:\n",
    "        return self._age\n",
    "\n",
    "\n",
    "students: List[Student] = []\n",
    "\n",
    "student1 = Student(\"Dominykas\", 10)\n",
    "student2 = Student(\"Justas\", 14)\n",
    "student3 = Student(\"Jolanta\", 13)\n",
    "\n",
    "print(student1.get_name(), student1.age)\n",
    "\n",
    "students.append(student1)\n",
    "students.append(student2)\n",
    "students.append(student3)\n",
    "\n",
    "for i in [0, 1, 2, 3, 4]:\n",
    "    print(i)\n",
    "\n",
    "students[0] == student1\n",
    "students[1] == student2\n",
    "students[2] == student3\n",
    "\n",
    "# student1\n",
    "# [1, 2, 3, 4]\n",
    "\n",
    "for varle in [student1, student2, student3]:\n",
    "    print(varle.get_name(), varle.age)\n",
    "\n",
    "print(sum([student.age for student in students]))"
   ]
  },
  {
   "cell_type": "code",
   "execution_count": 11,
   "metadata": {},
   "outputs": [
    {
     "name": "stdout",
     "output_type": "stream",
     "text": [
      "True\n",
      "10\n",
      "{'raktas1': 10, 'raktas2': 20, 'raktas3': 30}\n",
      "This class is in dict!\n",
      "{'class1': <__main__.StudensClass object at 0x111466730>, 'class2': <__main__.StudensClass object at 0x1168f80a0>, 'class3': <__main__.StudensClass object at 0x1168f80d0>}\n"
     ]
    }
   ],
   "source": [
    "class Student:\n",
    "    def __init__(self, name: str, age: int) -> None:\n",
    "        self._name = name\n",
    "        self._age = age\n",
    "\n",
    "    def get_name(self) -> str:\n",
    "        return self._name\n",
    "    \n",
    "    @property\n",
    "    def age(self) -> int:\n",
    "        return self._age\n",
    "\n",
    "class StudensClass:\n",
    "    def __init__(self, name: str) -> None:\n",
    "        self._name = name\n",
    "        self._students: List[Student] = []\n",
    "\n",
    "    def add_student(self, student: Student) -> None:\n",
    "        self._students.append(Student)\n",
    "\n",
    "    @property\n",
    "    def name(self) -> str:\n",
    "        return self._name\n",
    "\n",
    "\n",
    "a = {\"raktas1\": 10, \"raktas2\": 20}\n",
    "\n",
    "print(\"raktas1\" in a)\n",
    "print(a[\"raktas1\"])\n",
    "\n",
    "a[\"raktas3\"] = 30\n",
    "\n",
    "print(a)\n",
    "\n",
    "\n",
    "students_class_list = [StudensClass(\"class1\"), StudensClass(\"class2\"), StudensClass(\"class2\"), StudensClass(\"class3\")]\n",
    "\n",
    "students_class_dict: Dict[str, Student] = {}\n",
    "\n",
    "for student_class in students_class_list:\n",
    "    if student_class.name in students_class_dict:\n",
    "        print(\"This class is in dict!\")\n",
    "    else:\n",
    "        students_class_dict[student_class.name] = student_class\n",
    "\n",
    "print(students_class_dict) \n",
    "\n",
    "list2 = []\n",
    "\n",
    "for student_class in students_class_list:\n",
    "    "
   ]
  },
  {
   "cell_type": "code",
   "execution_count": 15,
   "metadata": {},
   "outputs": [
    {
     "data": {
      "text/plain": [
       "['15', '20', '00']"
      ]
     },
     "execution_count": 15,
     "metadata": {},
     "output_type": "execute_result"
    }
   ],
   "source": [
    "s = \"Petras A. Petraitis 15 20 00\"\n",
    "s[:20]\n",
    "s[20:].split()"
   ]
  },
  {
   "cell_type": "code",
   "execution_count": 22,
   "metadata": {},
   "outputs": [
    {
     "name": "stdout",
     "output_type": "stream",
     "text": [
      "20\n",
      "6\n"
     ]
    }
   ],
   "source": [
    "from typing import Tuple\n",
    "\n",
    "\n",
    "class Time:\n",
    "    def __init__(self, h: int, m: int, s: int) -> None:\n",
    "        self._h = h\n",
    "        self._m = m\n",
    "        self._s = s\n",
    "\n",
    "    def get_time(self) -> Tuple[int, int, int]:\n",
    "        return self._h, self._m, self._s\n",
    "\n",
    "    def __sub__(self, __t) -> int:\n",
    "        \"\"\"Returns difference between two times in seconds\n",
    "\n",
    "        Args:\n",
    "            __t (_type_): _description_\n",
    "\n",
    "        Returns:\n",
    "            int: Difference between two times in seconds\n",
    "        \"\"\"\n",
    "\n",
    "        sec_1 = (self._h * 3600) + (self._m * 60) + self._s\n",
    "        h1, m2, s2 = __t.get_time()\n",
    "        sec_2 = (h1 * 3600) + (m2 * 60) + s2\n",
    "\n",
    "        return sec_1 - sec_2\n",
    "\n",
    "\n",
    "time1 = Time(16, 23, 9)\n",
    "time2 = Time(16, 43, 15)\n",
    "\n",
    "time_diff = time2 - time1\n",
    "\n",
    "mins = time_diff // 60\n",
    "print(mins)\n",
    "print(time_diff - mins * 60)"
   ]
  }
 ],
 "metadata": {
  "kernelspec": {
   "display_name": "Python 3.9.13 ('.venv': poetry)",
   "language": "python",
   "name": "python3"
  },
  "language_info": {
   "codemirror_mode": {
    "name": "ipython",
    "version": 3
   },
   "file_extension": ".py",
   "mimetype": "text/x-python",
   "name": "python",
   "nbconvert_exporter": "python",
   "pygments_lexer": "ipython3",
   "version": "3.9.13"
  },
  "orig_nbformat": 4,
  "vscode": {
   "interpreter": {
    "hash": "de17c4b867480f2f8bc5d2be08a00cb2e02a1ee18bda207b764c3905e0b438fb"
   }
  }
 },
 "nbformat": 4,
 "nbformat_minor": 2
}
