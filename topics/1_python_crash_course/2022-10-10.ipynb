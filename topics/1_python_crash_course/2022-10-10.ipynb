{
 "cells": [
  {
   "attachments": {},
   "cell_type": "markdown",
   "metadata": {},
   "source": [
    "# Classes II\n",
    "## 2022-10-10"
   ]
  },
  {
   "cell_type": "code",
   "execution_count": 4,
   "metadata": {},
   "outputs": [
    {
     "name": "stdout",
     "output_type": "stream",
     "text": [
      "The student is Dominykas Seputis\n"
     ]
    },
    {
     "data": {
      "text/plain": [
       "'Student(name=Dominykas, last_name=Seputis)'"
      ]
     },
     "execution_count": 4,
     "metadata": {},
     "output_type": "execute_result"
    }
   ],
   "source": [
    "class Student:\n",
    "    def __init__(self, name: str, last_name: str):\n",
    "        self._name = name\n",
    "        self._last_name = last_name\n",
    "\n",
    "    def __str__(self) -> str:\n",
    "        return f\"The student is {self._name} {self._last_name}\"\n",
    "\n",
    "    def __repr__(self) -> str:\n",
    "        return f\"Student(name={self._name}, last_name={self._last_name})\"\n",
    "\n",
    "\n",
    "student1 = Student(\"Dominykas\", \"Seputis\")\n",
    "print(student1)\n",
    "\n",
    "str(student1)\n",
    "student1.__repr__()"
   ]
  },
  {
   "cell_type": "code",
   "execution_count": 19,
   "metadata": {},
   "outputs": [
    {
     "name": "stdout",
     "output_type": "stream",
     "text": [
      "The student is Dominykas Seputis. His mark's average is: 7.428571428571429\n",
      "The student is Petras Petraitis. His mark's average is: 9.2\n",
      "Student(name=Dominykas, last_name=Seputis)\n",
      "[7.428571428571429, 9.2]\n",
      "True\n"
     ]
    }
   ],
   "source": [
    "from typing import List, Optional\n",
    "\n",
    "\n",
    "class Student:\n",
    "    def __init__(self, name: str, last_name: str):\n",
    "        self._name = name\n",
    "        self._last_name = last_name\n",
    "        self._marks: List[int] = []\n",
    "\n",
    "    def add_mark(self, mark: int) -> None:\n",
    "        self._marks.append(mark)\n",
    "\n",
    "    def populate_marks(self, marks: List[int]) -> None:\n",
    "        self._marks.extend(marks)\n",
    "\n",
    "    def __lt__(self, y: Student):\n",
    "        if type(y) != Student:\n",
    "            print(f\"{y} is not type of Student!\")\n",
    "            return None\n",
    "\n",
    "        return self.marks_average < y.marks_average\n",
    "\n",
    "    @property\n",
    "    def marks_average(self) -> Optional[float]:\n",
    "        if len(self._marks) < 1:\n",
    "            print(\"Student does not have any marks!\")\n",
    "            return None\n",
    "        return sum(self._marks) / len(self._marks)\n",
    "\n",
    "    def __str__(self) -> str:\n",
    "        return (\n",
    "            f\"The student is {self._name} {self._last_name}. His mark's average is:\"\n",
    "            f\" {self.marks_average}\"\n",
    "        )\n",
    "\n",
    "    def __repr__(self) -> str:\n",
    "        return f\"Student(name={self._name}, last_name={self._last_name})\"\n",
    "\n",
    "\n",
    "student1 = Student(name=\"Dominykas\", last_name=\"Seputis\")\n",
    "for mark in [9, 2, 7, 6]:\n",
    "    student1.add_mark(mark)\n",
    "student1.populate_marks([10, 10, 8])\n",
    "\n",
    "student2 = Student(name=\"Petras\", last_name=\"Petraitis\")\n",
    "for mark in [10, 10, 7, 9, 10]:\n",
    "    student2.add_mark(mark)\n",
    "\n",
    "print(str(student1))\n",
    "print(str(student2))\n",
    "\n",
    "print(student1.__repr__())\n",
    "\n",
    "\n",
    "print([student.marks_average for student in [student1, student2]])\n",
    "\n",
    "\n",
    "def which_student_is_better(a: Student, b: Student) -> Optional[Student]:\n",
    "    if a.marks_average > b.marks_average:\n",
    "        return a\n",
    "    elif a.marks_average == b.marks_average:\n",
    "        print(\"Both student are great!\")\n",
    "        return None\n",
    "    return b\n",
    "\n",
    "\n",
    "which_student_is_better(student1, student2)\n",
    "\n",
    "\n",
    "print(student1 < student2)"
   ]
  },
  {
   "cell_type": "code",
   "execution_count": 26,
   "metadata": {},
   "outputs": [
    {
     "name": "stdout",
     "output_type": "stream",
     "text": [
      "10\n",
      "16\n",
      "16\n"
     ]
    },
    {
     "ename": "TypeError",
     "evalue": "unsupported operand type(s) for +: 'int' and 'str'",
     "output_type": "error",
     "traceback": [
      "\u001b[0;31m---------------------------------------------------------------------------\u001b[0m",
      "\u001b[0;31mTypeError\u001b[0m                                 Traceback (most recent call last)",
      "Cell \u001b[0;32mIn [26], line 27\u001b[0m\n\u001b[1;32m     25\u001b[0m \u001b[38;5;28mprint\u001b[39m(a \u001b[38;5;241m+\u001b[39m student1)\n\u001b[1;32m     26\u001b[0m \u001b[38;5;28mprint\u001b[39m(a\u001b[38;5;241m.\u001b[39madd(student1))\n\u001b[0;32m---> 27\u001b[0m \u001b[38;5;28mprint\u001b[39m(b \u001b[38;5;241m+\u001b[39m \u001b[38;5;124m\"\u001b[39m\u001b[38;5;124m12\u001b[39m\u001b[38;5;124m\"\u001b[39m)\n",
      "\u001b[0;31mTypeError\u001b[0m: unsupported operand type(s) for +: 'int' and 'str'"
     ]
    }
   ],
   "source": [
    "from typing import Any\n",
    "\n",
    "\n",
    "class Integer:\n",
    "    def __init__(self, value: int) -> None:\n",
    "        self._value = value\n",
    "\n",
    "    def __add__(self, y: Any) -> int:\n",
    "        if type(y) == Student:\n",
    "            return int(self._value + y.marks_average)\n",
    "        return int(self._value)\n",
    "\n",
    "    def add(self, y: Any) -> int:\n",
    "        if type(y) == Student:\n",
    "            return int(self._value + y.marks_average)\n",
    "        return int(self._value)\n",
    "\n",
    "\n",
    "a = Integer(10)\n",
    "b = 10\n",
    "\n",
    "student1 = Student(name=\"Dominykas\", last_name=\"Seputis\")\n",
    "for mark in [9, 2, 7, 6]:\n",
    "    student1.add_mark(mark)\n",
    "\n",
    "print(a + \"12\")\n",
    "print(a + student1)\n",
    "print(a.add(student1))\n",
    "print(b + \"12\")"
   ]
  },
  {
   "cell_type": "code",
   "execution_count": null,
   "metadata": {},
   "outputs": [],
   "source": [
    "class String:\n",
    "    def __init__(self, value: str) -> None:\n",
    "        self._value = value\n",
    "\n",
    "    def reverse(self):\n",
    "        pass\n",
    "\n",
    "    def replace(self):\n",
    "        pass"
   ]
  },
  {
   "cell_type": "code",
   "execution_count": null,
   "metadata": {},
   "outputs": [],
   "source": [
    "a = \"dfdsfds\""
   ]
  },
  {
   "cell_type": "code",
   "execution_count": 37,
   "metadata": {},
   "outputs": [
    {
     "name": "stdout",
     "output_type": "stream",
     "text": [
      "10\n"
     ]
    },
    {
     "data": {
      "text/plain": [
       "False"
      ]
     },
     "execution_count": 37,
     "metadata": {},
     "output_type": "execute_result"
    }
   ],
   "source": [
    "def a():\n",
    "    print(\"a\")\n",
    "    for i in range(10):\n",
    "        print(i)\n",
    "    if True:\n",
    "        print(\"Labas\")\n",
    "    print(\"Labas\")\n",
    "\n",
    "\n",
    "def b():\n",
    "    print(\"10\")\n",
    "\n",
    "\n",
    "a = b()\n",
    "type(a)\n",
    "\n",
    "a = \"reiksme\"\n",
    "\n",
    "if a == 10:\n",
    "    print(\"a is 10\")"
   ]
  }
 ],
 "metadata": {
  "kernelspec": {
   "display_name": "Python 3.9.13 ('.venv': poetry)",
   "language": "python",
   "name": "python3"
  },
  "language_info": {
   "codemirror_mode": {
    "name": "ipython",
    "version": 3
   },
   "file_extension": ".py",
   "mimetype": "text/x-python",
   "name": "python",
   "nbconvert_exporter": "python",
   "pygments_lexer": "ipython3",
   "version": "3.9.13"
  },
  "orig_nbformat": 4,
  "vscode": {
   "interpreter": {
    "hash": "de17c4b867480f2f8bc5d2be08a00cb2e02a1ee18bda207b764c3905e0b438fb"
   }
  }
 },
 "nbformat": 4,
 "nbformat_minor": 2
}
