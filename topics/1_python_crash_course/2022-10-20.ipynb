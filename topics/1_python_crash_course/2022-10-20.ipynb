{
 "cells": [
  {
   "cell_type": "markdown",
   "metadata": {},
   "source": [
    "# 2022-10-20"
   ]
  },
  {
   "cell_type": "code",
   "execution_count": 3,
   "metadata": {},
   "outputs": [
    {
     "name": "stdout",
     "output_type": "stream",
     "text": [
      "100\n",
      "model3\n"
     ]
    },
    {
     "ename": "KeyError",
     "evalue": "'citroen'",
     "output_type": "error",
     "traceback": [
      "\u001b[0;31m---------------------------------------------------------------------------\u001b[0m",
      "\u001b[0;31mKeyError\u001b[0m                                  Traceback (most recent call last)",
      "Cell \u001b[0;32mIn [3], line 4\u001b[0m\n\u001b[1;32m      2\u001b[0m \u001b[39mprint\u001b[39m(car_models[\u001b[39m\"\u001b[39m\u001b[39maudi\u001b[39m\u001b[39m\"\u001b[39m])\n\u001b[1;32m      3\u001b[0m \u001b[39mprint\u001b[39m(car_models[\u001b[39m\"\u001b[39m\u001b[39mtesla\u001b[39m\u001b[39m\"\u001b[39m])\n\u001b[0;32m----> 4\u001b[0m \u001b[39mprint\u001b[39m(car_models[\u001b[39m\"\u001b[39m\u001b[39mcitroen\u001b[39m\u001b[39m\"\u001b[39m])\n",
      "\u001b[0;31mKeyError\u001b[0m: 'citroen'"
     ]
    }
   ],
   "source": [
    "car_models = {\"audi\": \"100\", \"bwm\": \"e63\", \"tesla\": \"model3\"}\n",
    "print(car_models[\"audi\"])\n",
    "print(car_models[\"tesla\"])\n",
    "print(car_models[\"citroen\"])"
   ]
  },
  {
   "cell_type": "code",
   "execution_count": 6,
   "metadata": {},
   "outputs": [
    {
     "name": "stdout",
     "output_type": "stream",
     "text": [
      "4\n",
      "4\n"
     ]
    },
    {
     "ename": "ZeroDivisionError",
     "evalue": "division by zero",
     "output_type": "error",
     "traceback": [
      "\u001b[0;31m---------------------------------------------------------------------------\u001b[0m",
      "\u001b[0;31mZeroDivisionError\u001b[0m                         Traceback (most recent call last)",
      "Cell \u001b[0;32mIn [6], line 3\u001b[0m\n\u001b[1;32m      1\u001b[0m \u001b[39mprint\u001b[39m(\u001b[39m2\u001b[39m \u001b[39m+\u001b[39m \u001b[39m2\u001b[39m)\n\u001b[1;32m      2\u001b[0m \u001b[39mprint\u001b[39m(\u001b[39m2\u001b[39m \u001b[39m*\u001b[39m \u001b[39m2\u001b[39m)\n\u001b[0;32m----> 3\u001b[0m \u001b[39mprint\u001b[39m(\u001b[39m2\u001b[39m \u001b[39m/\u001b[39m \u001b[39m0\u001b[39m)\n",
      "\u001b[0;31mZeroDivisionError\u001b[0m: division by zero"
     ]
    }
   ],
   "source": [
    "print(2 + 2)\n",
    "print(2 * 2)\n",
    "print(2 / 0)"
   ]
  },
  {
   "cell_type": "code",
   "execution_count": 9,
   "metadata": {},
   "outputs": [
    {
     "name": "stdout",
     "output_type": "stream",
     "text": [
      "Hello, I am speaking!\n"
     ]
    },
    {
     "ename": "AttributeError",
     "evalue": "'Student' object has no attribute 'sit'",
     "output_type": "error",
     "traceback": [
      "\u001b[0;31m---------------------------------------------------------------------------\u001b[0m",
      "\u001b[0;31mAttributeError\u001b[0m                            Traceback (most recent call last)",
      "Cell \u001b[0;32mIn [9], line 10\u001b[0m\n\u001b[1;32m      8\u001b[0m student \u001b[39m=\u001b[39m Student()\n\u001b[1;32m      9\u001b[0m student\u001b[39m.\u001b[39mspeak()\n\u001b[0;32m---> 10\u001b[0m student\u001b[39m.\u001b[39msit()\n",
      "\u001b[0;31mAttributeError\u001b[0m: 'Student' object has no attribute 'sit'"
     ]
    }
   ],
   "source": [
    "class Student:\n",
    "    def __init__(self):\n",
    "        self._name = \"Dominykas\"\n",
    "\n",
    "    def speak(self):\n",
    "        print(\"Hello, I am speaking!\")\n",
    "\n",
    "\n",
    "student = Student()\n",
    "student.speak()\n",
    "student.sit()"
   ]
  },
  {
   "cell_type": "code",
   "execution_count": 11,
   "metadata": {},
   "outputs": [
    {
     "name": "stdout",
     "output_type": "stream",
     "text": [
      "100\n",
      "The key does not exist!\n"
     ]
    }
   ],
   "source": [
    "car_models = {\"audi\": \"100\", \"bwm\": \"e63\", \"tesla\": \"model3\"}\n",
    "\n",
    "try:\n",
    "    print(car_models[\"audi\"])\n",
    "    print(car_models[\"citroen\"])\n",
    "    print(car_models[\"tesla\"])\n",
    "except:\n",
    "    print(\"The key does not exist!\")"
   ]
  },
  {
   "cell_type": "code",
   "execution_count": null,
   "metadata": {},
   "outputs": [],
   "source": [
    "car_models = {\"audi\": \"100\", \"bwm\": \"e63\", \"tesla\": \"model3\"}\n",
    "\n",
    "for brand in [\"audi\", \"citroen\", \"tesla\"]:\n",
    "    print(car_models[brand])"
   ]
  },
  {
   "cell_type": "code",
   "execution_count": 14,
   "metadata": {},
   "outputs": [
    {
     "name": "stdout",
     "output_type": "stream",
     "text": [
      "100\n",
      "The audi goes brr!\n",
      "The key does not exist!\n",
      "model3\n",
      "The tesla goes brr!\n"
     ]
    }
   ],
   "source": [
    "car_models = {\"audi\": \"100\", \"bwm\": \"e63\", \"tesla\": \"model3\"}\n",
    "\n",
    "for brand in [\"audi\", \"citroen\", \"tesla\"]:\n",
    "    try:\n",
    "        print(car_models[brand])\n",
    "        print(f\"The {brand} goes brr!\")\n",
    "    except:\n",
    "        print(\"The key does not exist!\")"
   ]
  },
  {
   "cell_type": "code",
   "execution_count": 16,
   "metadata": {},
   "outputs": [
    {
     "name": "stdout",
     "output_type": "stream",
     "text": [
      "100\n",
      "The audi goes brr!\n",
      "The audi goes brr!\n",
      "Current brand is audi\n",
      "The key does not exist!\n",
      "The citroen goes brr!\n",
      "Current brand is citroen\n",
      "model3\n",
      "The tesla goes brr!\n",
      "The tesla goes brr!\n",
      "Current brand is tesla\n"
     ]
    }
   ],
   "source": [
    "car_models = {\"audi\": \"100\", \"bwm\": \"e63\", \"tesla\": \"model3\"}\n",
    "\n",
    "for brand in [\"audi\", \"citroen\", \"tesla\"]:\n",
    "    try:\n",
    "        print(car_models[brand])\n",
    "        print(f\"The {brand} goes brr!\")\n",
    "    except:\n",
    "        print(\"The key does not exist!\")\n",
    "    print(f\"Current brand is {brand}\")"
   ]
  },
  {
   "cell_type": "code",
   "execution_count": 17,
   "metadata": {},
   "outputs": [
    {
     "name": "stdout",
     "output_type": "stream",
     "text": [
      "100\n",
      "The audi goes brr!\n",
      "Current brand is audi\n",
      "The key does not exist! 'citroen'\n",
      "Current brand is citroen\n",
      "model3\n",
      "The tesla goes brr!\n",
      "Current brand is tesla\n"
     ]
    }
   ],
   "source": [
    "car_models = {\"audi\": \"100\", \"bwm\": \"e63\", \"tesla\": \"model3\"}\n",
    "\n",
    "for brand in [\"audi\", \"citroen\", \"tesla\"]:\n",
    "    try:\n",
    "        print(car_models[brand])\n",
    "        print(f\"The {brand} goes brr!\")\n",
    "    except Exception as e:\n",
    "        print(\"The key does not exist!\", e)\n",
    "    print(f\"Current brand is {brand}\")"
   ]
  },
  {
   "cell_type": "code",
   "execution_count": 18,
   "metadata": {},
   "outputs": [
    {
     "name": "stdout",
     "output_type": "stream",
     "text": [
      "4\n",
      "4\n",
      "division by zero\n"
     ]
    }
   ],
   "source": [
    "try:\n",
    "    print(2 + 2)\n",
    "    print(2 * 2)\n",
    "    print(2 / 0)\n",
    "except Exception as e:\n",
    "    print(e)"
   ]
  },
  {
   "cell_type": "code",
   "execution_count": 35,
   "metadata": {},
   "outputs": [
    {
     "name": "stdout",
     "output_type": "stream",
     "text": [
      "0.5581395348837209\n",
      "Sorry we tried to divide your age by someone who is still a newborn :(\n",
      "inf\n",
      "The provided name Antanu does not exist in the family tree. dict_keys(['Dominykas', 'Lukas', 'Povilas', 'Justina', 'Juste'])\n",
      "None\n",
      "The provided name <__main__.Student object at 0x1089f4fa0> does not exist in the family tree. dict_keys(['Dominykas', 'Lukas', 'Povilas', 'Justina', 'Juste'])\n",
      "None\n"
     ]
    }
   ],
   "source": [
    "from typing import Optional\n",
    "\n",
    "import numpy as np\n",
    "\n",
    "\n",
    "def check_how_much_younger_you_are(age: int, name: str) -> Optional[float]:\n",
    "    family = {\"Dominykas\": 43, \"Lukas\": 20, \"Povilas\": 13, \"Justina\": 34, \"Juste\": 0}\n",
    "    try:\n",
    "        return age / family[name]\n",
    "    except ZeroDivisionError as e:\n",
    "        print(\"Sorry we tried to divide your age by someone who is still a newborn :(\")\n",
    "        return np.Inf\n",
    "    except KeyError as e:\n",
    "        print(f\"The provided name {name} does not exist in the family tree. {family.keys()}\")\n",
    "        return None\n",
    "\n",
    "\n",
    "for name in [\"Dominykas\", \"Juste\", \"Antanu\"]:\n",
    "    print(check_how_much_younger_you_are(24, name))"
   ]
  },
  {
   "cell_type": "code",
   "execution_count": 36,
   "metadata": {},
   "outputs": [
    {
     "name": "stdout",
     "output_type": "stream",
     "text": [
      "0.5581395348837209\n",
      "Sorry we tried to divide your age by someone who is still a newborn :(\n",
      "inf\n",
      "The provided name Antanu does not exist in the family tree. dict_keys(['Dominykas', 'Lukas', 'Povilas', 'Justina', 'Juste'])\n",
      "None\n"
     ]
    }
   ],
   "source": [
    "from typing import Optional\n",
    "\n",
    "import numpy as np\n",
    "\n",
    "\n",
    "def check_how_much_younger_you_are(age: int, name: str) -> Optional[float]:\n",
    "    family = {\"Dominykas\": 43, \"Lukas\": 20, \"Povilas\": 13, \"Justina\": 34, \"Juste\": 0}\n",
    "    try:\n",
    "        family_person_age = family[name]\n",
    "    except KeyError as e:\n",
    "        print(f\"The provided name {name} does not exist in the family tree. {family.keys()}\")\n",
    "        return None\n",
    "    try:\n",
    "        return age / family_person_age\n",
    "    except ZeroDivisionError as e:\n",
    "        print(\"Sorry we tried to divide your age by someone who is still a newborn :(\")\n",
    "        return np.Inf\n",
    "\n",
    "\n",
    "for name in [\"Dominykas\", \"Juste\", \"Antanu\"]:\n",
    "    print(check_how_much_younger_you_are(24, name))"
   ]
  },
  {
   "cell_type": "code",
   "execution_count": 37,
   "metadata": {},
   "outputs": [],
   "source": [
    "try:\n",
    "    import tensorflow as pkg\n",
    "except ImportError:\n",
    "    import numpy as pkg"
   ]
  },
  {
   "cell_type": "code",
   "execution_count": 40,
   "metadata": {},
   "outputs": [
    {
     "name": "stdout",
     "output_type": "stream",
     "text": [
      "Sorry, the value is out of the list's range. Returning last list's value instead\n"
     ]
    },
    {
     "data": {
      "text/plain": [
       "5"
      ]
     },
     "execution_count": 40,
     "metadata": {},
     "output_type": "execute_result"
    }
   ],
   "source": [
    "from typing import Any, List\n",
    "\n",
    "\n",
    "def return_value_from_list(_list: List[Any], index: int) -> Any:\n",
    "    try:\n",
    "        return _list[index]\n",
    "    except IndexError:\n",
    "        print(\"Sorry, the value is out of the list's range. Returning last list's value instead\")\n",
    "        return _list[-1]\n",
    "\n",
    "\n",
    "return_value_from_list([1, 2, 3, 4, 5], 1)\n",
    "return_value_from_list([1, 2, 3, 4, 5], 10)"
   ]
  },
  {
   "cell_type": "code",
   "execution_count": 42,
   "metadata": {},
   "outputs": [
    {
     "ename": "Exception",
     "evalue": "The provided value must be less that 0",
     "output_type": "error",
     "traceback": [
      "\u001b[0;31m---------------------------------------------------------------------------\u001b[0m",
      "\u001b[0;31mException\u001b[0m                                 Traceback (most recent call last)",
      "Cell \u001b[0;32mIn [42], line 7\u001b[0m\n\u001b[1;32m      4\u001b[0m     \u001b[39mreturn\u001b[39;00m a \u001b[39m+\u001b[39m b\n\u001b[1;32m      6\u001b[0m add(\u001b[39m10\u001b[39m, \u001b[39m10\u001b[39m)\n\u001b[0;32m----> 7\u001b[0m add(\u001b[39m200\u001b[39m, \u001b[39m10\u001b[39m)\n",
      "Cell \u001b[0;32mIn [42], line 3\u001b[0m, in \u001b[0;36madd\u001b[0;34m(a, b)\u001b[0m\n\u001b[1;32m      1\u001b[0m \u001b[39mdef\u001b[39;00m \u001b[39madd\u001b[39m(a: \u001b[39mint\u001b[39m, b: \u001b[39mint\u001b[39m) \u001b[39m-\u001b[39m\u001b[39m>\u001b[39m \u001b[39mint\u001b[39m:\n\u001b[1;32m      2\u001b[0m     \u001b[39mif\u001b[39;00m a \u001b[39m>\u001b[39m \u001b[39m100\u001b[39m \u001b[39mor\u001b[39;00m b \u001b[39m>\u001b[39m \u001b[39m100\u001b[39m:\n\u001b[0;32m----> 3\u001b[0m         \u001b[39mraise\u001b[39;00m \u001b[39mException\u001b[39;00m(\u001b[39m\"\u001b[39m\u001b[39mThe provided value must be less that 0\u001b[39m\u001b[39m\"\u001b[39m)\n\u001b[1;32m      4\u001b[0m     \u001b[39mreturn\u001b[39;00m a \u001b[39m+\u001b[39m b\n",
      "\u001b[0;31mException\u001b[0m: The provided value must be less that 0"
     ]
    }
   ],
   "source": [
    "def add(a: int, b: int) -> int:\n",
    "    if a > 100 or b > 100:\n",
    "        raise Exception(\"The provided value must be less that 0\")\n",
    "    return a + b\n",
    "\n",
    "\n",
    "add(10, 10)\n",
    "add(200, 10)"
   ]
  },
  {
   "cell_type": "code",
   "execution_count": 45,
   "metadata": {},
   "outputs": [
    {
     "ename": "IndexError",
     "evalue": "The list is too short :((",
     "output_type": "error",
     "traceback": [
      "\u001b[0;31m---------------------------------------------------------------------------\u001b[0m",
      "\u001b[0;31mIndexError\u001b[0m                                Traceback (most recent call last)",
      "Cell \u001b[0;32mIn [45], line 6\u001b[0m, in \u001b[0;36mreturn_value_from_list\u001b[0;34m(_list, index)\u001b[0m\n\u001b[1;32m      5\u001b[0m \u001b[39mtry\u001b[39;00m:\n\u001b[0;32m----> 6\u001b[0m     \u001b[39mreturn\u001b[39;00m _list[index]\n\u001b[1;32m      7\u001b[0m \u001b[39mexcept\u001b[39;00m \u001b[39mIndexError\u001b[39;00m:\n",
      "\u001b[0;31mIndexError\u001b[0m: list index out of range",
      "\nDuring handling of the above exception, another exception occurred:\n",
      "\u001b[0;31mIndexError\u001b[0m                                Traceback (most recent call last)",
      "Cell \u001b[0;32mIn [45], line 11\u001b[0m\n\u001b[1;32m      8\u001b[0m         \u001b[39mraise\u001b[39;00m \u001b[39mIndexError\u001b[39;00m(\u001b[39m\"\u001b[39m\u001b[39mThe list is too short :((\u001b[39m\u001b[39m\"\u001b[39m)\n\u001b[1;32m     10\u001b[0m return_value_from_list([\u001b[39m1\u001b[39m, \u001b[39m2\u001b[39m, \u001b[39m3\u001b[39m, \u001b[39m4\u001b[39m, \u001b[39m5\u001b[39m], \u001b[39m1\u001b[39m)\n\u001b[0;32m---> 11\u001b[0m return_value_from_list([\u001b[39m1\u001b[39m, \u001b[39m2\u001b[39m, \u001b[39m3\u001b[39m, \u001b[39m4\u001b[39m, \u001b[39m5\u001b[39m], \u001b[39m10\u001b[39m)\n",
      "Cell \u001b[0;32mIn [45], line 8\u001b[0m, in \u001b[0;36mreturn_value_from_list\u001b[0;34m(_list, index)\u001b[0m\n\u001b[1;32m      6\u001b[0m     \u001b[39mreturn\u001b[39;00m _list[index]\n\u001b[1;32m      7\u001b[0m \u001b[39mexcept\u001b[39;00m \u001b[39mIndexError\u001b[39;00m:\n\u001b[0;32m----> 8\u001b[0m     \u001b[39mraise\u001b[39;00m \u001b[39mIndexError\u001b[39;00m(\u001b[39m\"\u001b[39m\u001b[39mThe list is too short :((\u001b[39m\u001b[39m\"\u001b[39m)\n",
      "\u001b[0;31mIndexError\u001b[0m: The list is too short :(("
     ]
    }
   ],
   "source": [
    "from typing import Any, List\n",
    "\n",
    "\n",
    "def return_value_from_list(_list: List[Any], index: int) -> Any:\n",
    "    try:\n",
    "        return _list[index]\n",
    "    except IndexError:\n",
    "        raise IndexError(\"The list is too short :((\")\n",
    "\n",
    "\n",
    "return_value_from_list([1, 2, 3, 4, 5], 1)\n",
    "return_value_from_list([1, 2, 3, 4, 5], 10)"
   ]
  },
  {
   "cell_type": "code",
   "execution_count": 47,
   "metadata": {},
   "outputs": [
    {
     "name": "stdout",
     "output_type": "stream",
     "text": [
      "0.5581395348837209\n",
      "Age is less or eq to 0!\n",
      "Sorry we tried to divide your age by someone who is still a newborn :(\n",
      "inf\n"
     ]
    },
    {
     "ename": "KeyError",
     "evalue": "'Antanu'",
     "output_type": "error",
     "traceback": [
      "\u001b[0;31m---------------------------------------------------------------------------\u001b[0m",
      "\u001b[0;31mKeyError\u001b[0m                                  Traceback (most recent call last)",
      "Cell \u001b[0;32mIn [47], line 26\u001b[0m\n\u001b[1;32m     23\u001b[0m         \u001b[39mreturn\u001b[39;00m \u001b[39mNone\u001b[39;00m\n\u001b[1;32m     25\u001b[0m \u001b[39mfor\u001b[39;00m name \u001b[39min\u001b[39;00m [\u001b[39m\"\u001b[39m\u001b[39mDominykas\u001b[39m\u001b[39m\"\u001b[39m, \u001b[39m\"\u001b[39m\u001b[39mJuste\u001b[39m\u001b[39m\"\u001b[39m, \u001b[39m\"\u001b[39m\u001b[39mAntanu\u001b[39m\u001b[39m\"\u001b[39m]:\n\u001b[0;32m---> 26\u001b[0m     \u001b[39mprint\u001b[39m(check_how_much_younger_you_are(\u001b[39m24\u001b[39m, name))\n",
      "Cell \u001b[0;32mIn [47], line 13\u001b[0m, in \u001b[0;36mcheck_how_much_younger_you_are\u001b[0;34m(age, name)\u001b[0m\n\u001b[1;32m      5\u001b[0m family \u001b[39m=\u001b[39m {\n\u001b[1;32m      6\u001b[0m     \u001b[39m\"\u001b[39m\u001b[39mDominykas\u001b[39m\u001b[39m\"\u001b[39m: \u001b[39m43\u001b[39m,\n\u001b[1;32m      7\u001b[0m     \u001b[39m\"\u001b[39m\u001b[39mLukas\u001b[39m\u001b[39m\"\u001b[39m: \u001b[39m20\u001b[39m,\n\u001b[0;32m   (...)\u001b[0m\n\u001b[1;32m     10\u001b[0m     \u001b[39m\"\u001b[39m\u001b[39mJuste\u001b[39m\u001b[39m\"\u001b[39m: \u001b[39m0\u001b[39m\n\u001b[1;32m     11\u001b[0m }\n\u001b[1;32m     12\u001b[0m \u001b[39mtry\u001b[39;00m:\n\u001b[0;32m---> 13\u001b[0m     \u001b[39massert\u001b[39;00m family[name] \u001b[39m>\u001b[39m \u001b[39m0\u001b[39m\n\u001b[1;32m     14\u001b[0m \u001b[39mexcept\u001b[39;00m \u001b[39mAssertionError\u001b[39;00m:\n\u001b[1;32m     15\u001b[0m     \u001b[39mprint\u001b[39m(\u001b[39m\"\u001b[39m\u001b[39mAge is less or eq to 0!\u001b[39m\u001b[39m\"\u001b[39m)\n",
      "\u001b[0;31mKeyError\u001b[0m: 'Antanu'"
     ]
    }
   ],
   "source": [
    "from typing import Optional\n",
    "\n",
    "import numpy as np\n",
    "\n",
    "\n",
    "def check_how_much_younger_you_are(age: int, name: str) -> Optional[float]:\n",
    "    family = {\"Dominykas\": 43, \"Lukas\": 20, \"Povilas\": 13, \"Justina\": 34, \"Juste\": 0}\n",
    "    try:\n",
    "        assert family[name] > 0\n",
    "    except AssertionError:\n",
    "        print(\"Age is less or eq to 0!\")\n",
    "    try:\n",
    "        return age / family[name]\n",
    "    except ZeroDivisionError as e:\n",
    "        print(\"Sorry we tried to divide your age by someone who is still a newborn :(\")\n",
    "        return np.Inf\n",
    "    except KeyError as e:\n",
    "        print(f\"The provided name {name} does not exist in the family tree. {family.keys()}\")\n",
    "        return None\n",
    "\n",
    "\n",
    "for name in [\"Dominykas\", \"Juste\", \"Antanu\"]:\n",
    "    print(check_how_much_younger_you_are(24, name))"
   ]
  },
  {
   "cell_type": "code",
   "execution_count": 53,
   "metadata": {},
   "outputs": [
    {
     "ename": "AssertionError",
     "evalue": "",
     "output_type": "error",
     "traceback": [
      "\u001b[0;31m---------------------------------------------------------------------------\u001b[0m",
      "\u001b[0;31mAssertionError\u001b[0m                            Traceback (most recent call last)",
      "Cell \u001b[0;32mIn [53], line 16\u001b[0m\n\u001b[1;32m     13\u001b[0m     \u001b[39massert\u001b[39;00m add(\u001b[39m10\u001b[39m, \u001b[39m20\u001b[39m) \u001b[39m==\u001b[39m \u001b[39m30\u001b[39m\n\u001b[1;32m     14\u001b[0m     \u001b[39massert\u001b[39;00m add(\u001b[39m30\u001b[39m, \u001b[39m40.1\u001b[39m) \u001b[39m==\u001b[39m \u001b[39m70\u001b[39m\n\u001b[0;32m---> 16\u001b[0m test_add()\n",
      "Cell \u001b[0;32mIn [53], line 14\u001b[0m, in \u001b[0;36mtest_add\u001b[0;34m()\u001b[0m\n\u001b[1;32m     12\u001b[0m \u001b[39mdef\u001b[39;00m \u001b[39mtest_add\u001b[39m():\n\u001b[1;32m     13\u001b[0m     \u001b[39massert\u001b[39;00m add(\u001b[39m10\u001b[39m, \u001b[39m20\u001b[39m) \u001b[39m==\u001b[39m \u001b[39m30\u001b[39m\n\u001b[0;32m---> 14\u001b[0m     \u001b[39massert\u001b[39;00m add(\u001b[39m30\u001b[39m, \u001b[39m40.1\u001b[39m) \u001b[39m==\u001b[39m \u001b[39m70\u001b[39m\n",
      "\u001b[0;31mAssertionError\u001b[0m: "
     ]
    }
   ],
   "source": [
    "def add(a: int, b: int) -> int:\n",
    "    try:\n",
    "        a = int(a)\n",
    "        b = int(b)\n",
    "    except TypeError:\n",
    "        print(\"Channot convert values to int!\")\n",
    "    return a + b\n",
    "\n",
    "\n",
    "def add(a: int, b: int) -> int:\n",
    "    return a + b\n",
    "\n",
    "\n",
    "def test_add():\n",
    "    assert add(10, 20) == 30\n",
    "    assert add(30, 40.1) == 70\n",
    "\n",
    "\n",
    "test_add()"
   ]
  }
 ],
 "metadata": {
  "kernelspec": {
   "display_name": "Python 3.9.13 ('.venv': poetry)",
   "language": "python",
   "name": "python3"
  },
  "language_info": {
   "codemirror_mode": {
    "name": "ipython",
    "version": 3
   },
   "file_extension": ".py",
   "mimetype": "text/x-python",
   "name": "python",
   "nbconvert_exporter": "python",
   "pygments_lexer": "ipython3",
   "version": "3.9.13"
  },
  "orig_nbformat": 4,
  "vscode": {
   "interpreter": {
    "hash": "de17c4b867480f2f8bc5d2be08a00cb2e02a1ee18bda207b764c3905e0b438fb"
   }
  }
 },
 "nbformat": 4,
 "nbformat_minor": 2
}
