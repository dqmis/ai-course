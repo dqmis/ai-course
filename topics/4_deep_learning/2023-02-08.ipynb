{
 "cells": [
  {
   "cell_type": "code",
   "execution_count": 109,
   "metadata": {},
   "outputs": [],
   "source": [
    "import matplotlib.pyplot as plt  # for making figures\n",
    "import torch\n",
    "import torch.nn.functional as F\n",
    "\n",
    "%matplotlib inline\n",
    "\n",
    "from typing import List\n",
    "\n",
    "import numpy as np"
   ]
  },
  {
   "cell_type": "code",
   "execution_count": 3,
   "metadata": {},
   "outputs": [
    {
     "data": {
      "text/plain": [
       "['emma', 'olivia', 'ava', 'isabella', 'sophia', 'charlotte', 'mia', 'amelia']"
      ]
     },
     "execution_count": 3,
     "metadata": {},
     "output_type": "execute_result"
    }
   ],
   "source": [
    "# read in all the words\n",
    "words = open(\"./datasets/name.txt\", \"r\").read().splitlines()\n",
    "words[:8]"
   ]
  },
  {
   "cell_type": "code",
   "execution_count": 4,
   "metadata": {},
   "outputs": [
    {
     "data": {
      "text/plain": [
       "32033"
      ]
     },
     "execution_count": 4,
     "metadata": {},
     "output_type": "execute_result"
    }
   ],
   "source": [
    "len(words)"
   ]
  },
  {
   "cell_type": "code",
   "execution_count": 6,
   "metadata": {},
   "outputs": [
    {
     "name": "stdout",
     "output_type": "stream",
     "text": [
      "{1: 'a', 2: 'b', 3: 'c', 4: 'd', 5: 'e', 6: 'f', 7: 'g', 8: 'h', 9: 'i', 10: 'j', 11: 'k', 12: 'l', 13: 'm', 14: 'n', 15: 'o', 16: 'p', 17: 'q', 18: 'r', 19: 's', 20: 't', 21: 'u', 22: 'v', 23: 'w', 24: 'x', 25: 'y', 26: 'z', 0: '.'}\n"
     ]
    }
   ],
   "source": [
    "chars = sorted(list(set(\"\".join(words))))\n",
    "stoi = {s: i + 1 for i, s in enumerate(chars)}\n",
    "stoi[\".\"] = 0\n",
    "itos = {i: s for s, i in stoi.items()}\n",
    "print(itos)"
   ]
  },
  {
   "cell_type": "code",
   "execution_count": 54,
   "metadata": {},
   "outputs": [],
   "source": [
    "BLOCK_SIZE = 3\n",
    "EMB_SIZE = 2"
   ]
  },
  {
   "cell_type": "code",
   "execution_count": 7,
   "metadata": {},
   "outputs": [
    {
     "name": "stdout",
     "output_type": "stream",
     "text": [
      "emma\n",
      "[0, 0, 0]\n",
      "5\n",
      "... -> e\n",
      "[0, 0, 5]\n",
      "13\n",
      "..e -> m\n",
      "[0, 5, 13]\n",
      "13\n",
      ".em -> m\n",
      "[5, 13, 13]\n",
      "1\n",
      "emm -> a\n",
      "[13, 13, 1]\n",
      "0\n",
      "mma -> .\n",
      "olivia\n",
      "[0, 0, 0]\n",
      "15\n",
      "... -> o\n",
      "[0, 0, 15]\n",
      "12\n",
      "..o -> l\n",
      "[0, 15, 12]\n",
      "9\n",
      ".ol -> i\n",
      "[15, 12, 9]\n",
      "22\n",
      "oli -> v\n",
      "[12, 9, 22]\n",
      "9\n",
      "liv -> i\n",
      "[9, 22, 9]\n",
      "1\n",
      "ivi -> a\n",
      "[22, 9, 1]\n",
      "0\n",
      "via -> .\n",
      "ava\n",
      "[0, 0, 0]\n",
      "1\n",
      "... -> a\n",
      "[0, 0, 1]\n",
      "22\n",
      "..a -> v\n",
      "[0, 1, 22]\n",
      "1\n",
      ".av -> a\n",
      "[1, 22, 1]\n",
      "0\n",
      "ava -> .\n",
      "isabella\n",
      "[0, 0, 0]\n",
      "9\n",
      "... -> i\n",
      "[0, 0, 9]\n",
      "19\n",
      "..i -> s\n",
      "[0, 9, 19]\n",
      "1\n",
      ".is -> a\n",
      "[9, 19, 1]\n",
      "2\n",
      "isa -> b\n",
      "[19, 1, 2]\n",
      "5\n",
      "sab -> e\n",
      "[1, 2, 5]\n",
      "12\n",
      "abe -> l\n",
      "[2, 5, 12]\n",
      "12\n",
      "bel -> l\n",
      "[5, 12, 12]\n",
      "1\n",
      "ell -> a\n",
      "[12, 12, 1]\n",
      "0\n",
      "lla -> .\n",
      "sophia\n",
      "[0, 0, 0]\n",
      "19\n",
      "... -> s\n",
      "[0, 0, 19]\n",
      "15\n",
      "..s -> o\n",
      "[0, 19, 15]\n",
      "16\n",
      ".so -> p\n",
      "[19, 15, 16]\n",
      "8\n",
      "sop -> h\n",
      "[15, 16, 8]\n",
      "9\n",
      "oph -> i\n",
      "[16, 8, 9]\n",
      "1\n",
      "phi -> a\n",
      "[8, 9, 1]\n",
      "0\n",
      "hia -> .\n"
     ]
    }
   ],
   "source": [
    "BLOCK_SIZE = 3\n",
    "X, Y = [], []\n",
    "for w in words[:5]:\n",
    "    print(w)\n",
    "    context = [0] * BLOCK_SIZE\n",
    "    for ch in w + \".\":\n",
    "        print(context)\n",
    "        ix = stoi[ch]\n",
    "        X.append(context)\n",
    "        Y.append(ix)\n",
    "        print(ix)\n",
    "        print(\"\".join(itos[i] for i in context), \"->\", itos[ix])\n",
    "        context = context[1:] + [ix]\n",
    "X = torch.tensor(X)\n",
    "Y = torch.tensor(Y)"
   ]
  },
  {
   "cell_type": "code",
   "execution_count": 12,
   "metadata": {},
   "outputs": [
    {
     "name": "stdout",
     "output_type": "stream",
     "text": [
      ".......... e\n",
      ".........e m\n",
      "........em m\n",
      ".......emm a\n",
      "......emma .\n",
      ".......... o\n",
      ".........o l\n",
      "........ol i\n",
      ".......oli v\n",
      "......oliv i\n",
      ".....olivi a\n",
      "....olivia .\n",
      ".......... a\n",
      ".........a v\n",
      "........av a\n",
      ".......ava .\n",
      ".......... i\n",
      ".........i s\n",
      "........is a\n",
      ".......isa b\n",
      "......isab e\n",
      ".....isabe l\n",
      "....isabel l\n",
      "...isabell a\n",
      "..isabella .\n",
      ".......... s\n",
      ".........s o\n",
      "........so p\n",
      ".......sop h\n",
      "......soph i\n",
      ".....sophi a\n",
      "....sophia .\n"
     ]
    }
   ],
   "source": [
    "BLOCK_SIZE = 10\n",
    "X, Y = [], []\n",
    "for w in words[:5]:\n",
    "    context = [0] * BLOCK_SIZE\n",
    "    for ch in w + \".\":\n",
    "        ix = stoi[ch]\n",
    "        X.append(context)\n",
    "        Y.append(ix)\n",
    "        print(\"\".join(itos[i] for i in context), itos[ix])\n",
    "        context = context[1:] + [ix]\n",
    "X = torch.tensor(X)\n",
    "Y = torch.tensor(Y)"
   ]
  },
  {
   "cell_type": "code",
   "execution_count": 13,
   "metadata": {},
   "outputs": [],
   "source": [
    "BLOCK_SIZE = 3\n",
    "X, Y = [], []\n",
    "for w in words[:5]:\n",
    "    context = [0] * BLOCK_SIZE\n",
    "    for ch in w + \".\":\n",
    "        ix = stoi[ch]\n",
    "        X.append(context)\n",
    "        Y.append(ix)\n",
    "        context = context[1:] + [ix]\n",
    "\n",
    "X = torch.tensor(X)\n",
    "Y = torch.tensor(Y)"
   ]
  },
  {
   "cell_type": "code",
   "execution_count": 14,
   "metadata": {},
   "outputs": [
    {
     "data": {
      "text/plain": [
       "(torch.Size([32, 3]), torch.Size([32]))"
      ]
     },
     "execution_count": 14,
     "metadata": {},
     "output_type": "execute_result"
    }
   ],
   "source": [
    "X.shape, Y.shape"
   ]
  },
  {
   "cell_type": "code",
   "execution_count": 15,
   "metadata": {},
   "outputs": [
    {
     "data": {
      "text/plain": [
       "torch.Size([27, 27])"
      ]
     },
     "execution_count": 15,
     "metadata": {},
     "output_type": "execute_result"
    }
   ],
   "source": [
    "F.one_hot(torch.arange(27), num_classes=27).shape"
   ]
  },
  {
   "cell_type": "code",
   "execution_count": 16,
   "metadata": {},
   "outputs": [],
   "source": [
    "C = torch.randn((27, EMB_SIZE))"
   ]
  },
  {
   "cell_type": "code",
   "execution_count": 17,
   "metadata": {},
   "outputs": [
    {
     "data": {
      "text/plain": [
       "tensor([[ 1.3170,  0.5946],\n",
       "        [ 1.0713, -1.6564],\n",
       "        [-1.2470,  0.5571],\n",
       "        [-0.0202,  0.5827],\n",
       "        [ 0.8649, -0.0592],\n",
       "        [ 0.7613, -0.7586],\n",
       "        [ 1.7205, -0.0341],\n",
       "        [-0.6721,  0.0953],\n",
       "        [-0.4191, -0.8333],\n",
       "        [-0.3981,  0.3624],\n",
       "        [-0.1542,  1.8634],\n",
       "        [-1.5904, -0.2830],\n",
       "        [ 0.2474,  0.9643],\n",
       "        [-0.4328,  0.2430],\n",
       "        [ 2.5164,  0.3521],\n",
       "        [-0.5409, -0.8304],\n",
       "        [ 0.8897,  0.1350],\n",
       "        [ 0.6782,  0.5675],\n",
       "        [ 0.2503,  1.2682],\n",
       "        [-0.3568, -0.3647],\n",
       "        [ 1.5845, -2.6051],\n",
       "        [ 0.7841,  0.3866],\n",
       "        [-0.4794,  0.8110],\n",
       "        [-0.1559, -1.5216],\n",
       "        [ 0.1263,  0.5814],\n",
       "        [ 0.7930, -0.4308],\n",
       "        [ 0.7126,  0.4777]])"
      ]
     },
     "execution_count": 17,
     "metadata": {},
     "output_type": "execute_result"
    }
   ],
   "source": [
    "C"
   ]
  },
  {
   "cell_type": "code",
   "execution_count": 18,
   "metadata": {},
   "outputs": [
    {
     "ename": "RuntimeError",
     "evalue": "expected scalar type Long but found Float",
     "output_type": "error",
     "traceback": [
      "\u001b[0;31m---------------------------------------------------------------------------\u001b[0m",
      "\u001b[0;31mRuntimeError\u001b[0m                              Traceback (most recent call last)",
      "Cell \u001b[0;32mIn[18], line 1\u001b[0m\n\u001b[0;32m----> 1\u001b[0m F\u001b[39m.\u001b[39;49mone_hot(torch\u001b[39m.\u001b[39;49mtensor(\u001b[39m5\u001b[39;49m), num_classes\u001b[39m=\u001b[39;49m\u001b[39m27\u001b[39;49m) \u001b[39m@\u001b[39;49m C\n",
      "\u001b[0;31mRuntimeError\u001b[0m: expected scalar type Long but found Float"
     ]
    }
   ],
   "source": [
    "F.one_hot(torch.tensor(5), num_classes=27) @ C"
   ]
  },
  {
   "cell_type": "code",
   "execution_count": 19,
   "metadata": {},
   "outputs": [
    {
     "data": {
      "text/plain": [
       "tensor([ 0.7613, -0.7586])"
      ]
     },
     "execution_count": 19,
     "metadata": {},
     "output_type": "execute_result"
    }
   ],
   "source": [
    "C[5]"
   ]
  },
  {
   "cell_type": "code",
   "execution_count": 20,
   "metadata": {},
   "outputs": [
    {
     "data": {
      "text/plain": [
       "tensor([ 0.7613, -0.7586])"
      ]
     },
     "execution_count": 20,
     "metadata": {},
     "output_type": "execute_result"
    }
   ],
   "source": [
    "F.one_hot(torch.tensor(5), num_classes=27).float() @ C"
   ]
  },
  {
   "cell_type": "code",
   "execution_count": 21,
   "metadata": {},
   "outputs": [
    {
     "data": {
      "text/plain": [
       "tensor([[ 0.7613, -0.7586],\n",
       "        [ 1.7205, -0.0341],\n",
       "        [-0.6721,  0.0953]])"
      ]
     },
     "execution_count": 21,
     "metadata": {},
     "output_type": "execute_result"
    }
   ],
   "source": [
    "C[[5, 6, 7]]"
   ]
  },
  {
   "cell_type": "code",
   "execution_count": 22,
   "metadata": {},
   "outputs": [
    {
     "data": {
      "text/plain": [
       "tensor([[ 0.7613, -0.7586],\n",
       "        [ 1.7205, -0.0341],\n",
       "        [-0.6721,  0.0953]])"
      ]
     },
     "execution_count": 22,
     "metadata": {},
     "output_type": "execute_result"
    }
   ],
   "source": [
    "C[torch.tensor([5, 6, 7])]"
   ]
  },
  {
   "cell_type": "code",
   "execution_count": 40,
   "metadata": {},
   "outputs": [
    {
     "data": {
      "text/plain": [
       "tensor([ 0.9121, -0.5878])"
      ]
     },
     "execution_count": 40,
     "metadata": {},
     "output_type": "execute_result"
    }
   ],
   "source": [
    "C[0]"
   ]
  },
  {
   "cell_type": "code",
   "execution_count": 41,
   "metadata": {},
   "outputs": [
    {
     "data": {
      "text/plain": [
       "torch.Size([32, 3])"
      ]
     },
     "execution_count": 41,
     "metadata": {},
     "output_type": "execute_result"
    }
   ],
   "source": [
    "X.shape"
   ]
  },
  {
   "cell_type": "code",
   "execution_count": 23,
   "metadata": {},
   "outputs": [
    {
     "data": {
      "text/plain": [
       "tensor([[ 0,  0,  0],\n",
       "        [ 0,  0,  5],\n",
       "        [ 0,  5, 13],\n",
       "        [ 5, 13, 13],\n",
       "        [13, 13,  1],\n",
       "        [ 0,  0,  0],\n",
       "        [ 0,  0, 15],\n",
       "        [ 0, 15, 12],\n",
       "        [15, 12,  9],\n",
       "        [12,  9, 22],\n",
       "        [ 9, 22,  9],\n",
       "        [22,  9,  1],\n",
       "        [ 0,  0,  0],\n",
       "        [ 0,  0,  1],\n",
       "        [ 0,  1, 22],\n",
       "        [ 1, 22,  1],\n",
       "        [ 0,  0,  0],\n",
       "        [ 0,  0,  9],\n",
       "        [ 0,  9, 19],\n",
       "        [ 9, 19,  1],\n",
       "        [19,  1,  2],\n",
       "        [ 1,  2,  5],\n",
       "        [ 2,  5, 12],\n",
       "        [ 5, 12, 12],\n",
       "        [12, 12,  1],\n",
       "        [ 0,  0,  0],\n",
       "        [ 0,  0, 19],\n",
       "        [ 0, 19, 15],\n",
       "        [19, 15, 16],\n",
       "        [15, 16,  8],\n",
       "        [16,  8,  9],\n",
       "        [ 8,  9,  1]])"
      ]
     },
     "execution_count": 23,
     "metadata": {},
     "output_type": "execute_result"
    }
   ],
   "source": [
    "X"
   ]
  },
  {
   "cell_type": "code",
   "execution_count": 39,
   "metadata": {},
   "outputs": [
    {
     "data": {
      "text/plain": [
       "tensor([[[ 0.9121, -0.5878],\n",
       "         [ 0.9121, -0.5878],\n",
       "         [ 0.9121, -0.5878]],\n",
       "\n",
       "        [[ 0.9121, -0.5878],\n",
       "         [ 0.9121, -0.5878],\n",
       "         [-0.1624,  1.9454]],\n",
       "\n",
       "        [[ 0.9121, -0.5878],\n",
       "         [-0.1624,  1.9454],\n",
       "         [ 0.3177, -0.2526]],\n",
       "\n",
       "        [[-0.1624,  1.9454],\n",
       "         [ 0.3177, -0.2526],\n",
       "         [ 0.3177, -0.2526]],\n",
       "\n",
       "        [[ 0.3177, -0.2526],\n",
       "         [ 0.3177, -0.2526],\n",
       "         [ 2.1288, -0.1887]],\n",
       "\n",
       "        [[ 0.9121, -0.5878],\n",
       "         [ 0.9121, -0.5878],\n",
       "         [ 0.9121, -0.5878]],\n",
       "\n",
       "        [[ 0.9121, -0.5878],\n",
       "         [ 0.9121, -0.5878],\n",
       "         [ 1.2811,  0.7738]],\n",
       "\n",
       "        [[ 0.9121, -0.5878],\n",
       "         [ 1.2811,  0.7738],\n",
       "         [ 2.1626, -0.9869]],\n",
       "\n",
       "        [[ 1.2811,  0.7738],\n",
       "         [ 2.1626, -0.9869],\n",
       "         [-0.6958,  0.8884]],\n",
       "\n",
       "        [[ 2.1626, -0.9869],\n",
       "         [-0.6958,  0.8884],\n",
       "         [ 0.8196,  0.5701]],\n",
       "\n",
       "        [[-0.6958,  0.8884],\n",
       "         [ 0.8196,  0.5701],\n",
       "         [-0.6958,  0.8884]],\n",
       "\n",
       "        [[ 0.8196,  0.5701],\n",
       "         [-0.6958,  0.8884],\n",
       "         [ 2.1288, -0.1887]],\n",
       "\n",
       "        [[ 0.9121, -0.5878],\n",
       "         [ 0.9121, -0.5878],\n",
       "         [ 0.9121, -0.5878]],\n",
       "\n",
       "        [[ 0.9121, -0.5878],\n",
       "         [ 0.9121, -0.5878],\n",
       "         [ 2.1288, -0.1887]],\n",
       "\n",
       "        [[ 0.9121, -0.5878],\n",
       "         [ 2.1288, -0.1887],\n",
       "         [ 0.8196,  0.5701]],\n",
       "\n",
       "        [[ 2.1288, -0.1887],\n",
       "         [ 0.8196,  0.5701],\n",
       "         [ 2.1288, -0.1887]],\n",
       "\n",
       "        [[ 0.9121, -0.5878],\n",
       "         [ 0.9121, -0.5878],\n",
       "         [ 0.9121, -0.5878]],\n",
       "\n",
       "        [[ 0.9121, -0.5878],\n",
       "         [ 0.9121, -0.5878],\n",
       "         [-0.6958,  0.8884]],\n",
       "\n",
       "        [[ 0.9121, -0.5878],\n",
       "         [-0.6958,  0.8884],\n",
       "         [-0.7140,  0.2753]],\n",
       "\n",
       "        [[-0.6958,  0.8884],\n",
       "         [-0.7140,  0.2753],\n",
       "         [ 2.1288, -0.1887]],\n",
       "\n",
       "        [[-0.7140,  0.2753],\n",
       "         [ 2.1288, -0.1887],\n",
       "         [-0.5401, -1.8952]],\n",
       "\n",
       "        [[ 2.1288, -0.1887],\n",
       "         [-0.5401, -1.8952],\n",
       "         [-0.1624,  1.9454]],\n",
       "\n",
       "        [[-0.5401, -1.8952],\n",
       "         [-0.1624,  1.9454],\n",
       "         [ 2.1626, -0.9869]],\n",
       "\n",
       "        [[-0.1624,  1.9454],\n",
       "         [ 2.1626, -0.9869],\n",
       "         [ 2.1626, -0.9869]],\n",
       "\n",
       "        [[ 2.1626, -0.9869],\n",
       "         [ 2.1626, -0.9869],\n",
       "         [ 2.1288, -0.1887]],\n",
       "\n",
       "        [[ 0.9121, -0.5878],\n",
       "         [ 0.9121, -0.5878],\n",
       "         [ 0.9121, -0.5878]],\n",
       "\n",
       "        [[ 0.9121, -0.5878],\n",
       "         [ 0.9121, -0.5878],\n",
       "         [-0.7140,  0.2753]],\n",
       "\n",
       "        [[ 0.9121, -0.5878],\n",
       "         [-0.7140,  0.2753],\n",
       "         [ 1.2811,  0.7738]],\n",
       "\n",
       "        [[-0.7140,  0.2753],\n",
       "         [ 1.2811,  0.7738],\n",
       "         [-1.0834,  1.9305]],\n",
       "\n",
       "        [[ 1.2811,  0.7738],\n",
       "         [-1.0834,  1.9305],\n",
       "         [ 0.5182, -0.7119]],\n",
       "\n",
       "        [[-1.0834,  1.9305],\n",
       "         [ 0.5182, -0.7119],\n",
       "         [-0.6958,  0.8884]],\n",
       "\n",
       "        [[ 0.5182, -0.7119],\n",
       "         [-0.6958,  0.8884],\n",
       "         [ 2.1288, -0.1887]]])"
      ]
     },
     "execution_count": 39,
     "metadata": {},
     "output_type": "execute_result"
    }
   ],
   "source": [
    "C[X]"
   ]
  },
  {
   "cell_type": "code",
   "execution_count": 42,
   "metadata": {},
   "outputs": [
    {
     "data": {
      "text/plain": [
       "torch.Size([32, 3, 2])"
      ]
     },
     "execution_count": 42,
     "metadata": {},
     "output_type": "execute_result"
    }
   ],
   "source": [
    "C[X].shape"
   ]
  },
  {
   "cell_type": "code",
   "execution_count": 45,
   "metadata": {},
   "outputs": [
    {
     "data": {
      "text/plain": [
       "torch.Size([32, 3, 2])"
      ]
     },
     "execution_count": 45,
     "metadata": {},
     "output_type": "execute_result"
    }
   ],
   "source": [
    "emb = C[X]\n",
    "emb.shape"
   ]
  },
  {
   "cell_type": "code",
   "execution_count": 47,
   "metadata": {},
   "outputs": [],
   "source": [
    "W1 = torch.randn((6, 100))\n",
    "b1 = torch.randn(100)"
   ]
  },
  {
   "cell_type": "code",
   "execution_count": 48,
   "metadata": {},
   "outputs": [
    {
     "ename": "RuntimeError",
     "evalue": "mat1 and mat2 shapes cannot be multiplied (96x2 and 6x100)",
     "output_type": "error",
     "traceback": [
      "\u001b[0;31m---------------------------------------------------------------------------\u001b[0m",
      "\u001b[0;31mRuntimeError\u001b[0m                              Traceback (most recent call last)",
      "Cell \u001b[0;32mIn[48], line 1\u001b[0m\n\u001b[0;32m----> 1\u001b[0m emb \u001b[39m@\u001b[39;49m W1 \u001b[39m+\u001b[39m b1\n",
      "\u001b[0;31mRuntimeError\u001b[0m: mat1 and mat2 shapes cannot be multiplied (96x2 and 6x100)"
     ]
    }
   ],
   "source": [
    "emb @ W1 + b1"
   ]
  },
  {
   "cell_type": "code",
   "execution_count": 49,
   "metadata": {},
   "outputs": [
    {
     "data": {
      "text/plain": [
       "torch.Size([32, 2])"
      ]
     },
     "execution_count": 49,
     "metadata": {},
     "output_type": "execute_result"
    }
   ],
   "source": [
    "emb[:, 0, :].shape"
   ]
  },
  {
   "cell_type": "code",
   "execution_count": 51,
   "metadata": {},
   "outputs": [
    {
     "data": {
      "text/plain": [
       "torch.Size([32, 6])"
      ]
     },
     "execution_count": 51,
     "metadata": {},
     "output_type": "execute_result"
    }
   ],
   "source": [
    "torch.cat([emb[:, 0, :], emb[:, 1, :], emb[:, 2, :]], dim=1)"
   ]
  },
  {
   "cell_type": "code",
   "execution_count": 52,
   "metadata": {},
   "outputs": [
    {
     "data": {
      "text/plain": [
       "tensor([[ 0.9121, -0.5878,  0.9121, -0.5878,  0.9121, -0.5878],\n",
       "        [ 0.9121, -0.5878,  0.9121, -0.5878, -0.1624,  1.9454],\n",
       "        [ 0.9121, -0.5878, -0.1624,  1.9454,  0.3177, -0.2526],\n",
       "        [-0.1624,  1.9454,  0.3177, -0.2526,  0.3177, -0.2526],\n",
       "        [ 0.3177, -0.2526,  0.3177, -0.2526,  2.1288, -0.1887],\n",
       "        [ 0.9121, -0.5878,  0.9121, -0.5878,  0.9121, -0.5878],\n",
       "        [ 0.9121, -0.5878,  0.9121, -0.5878,  1.2811,  0.7738],\n",
       "        [ 0.9121, -0.5878,  1.2811,  0.7738,  2.1626, -0.9869],\n",
       "        [ 1.2811,  0.7738,  2.1626, -0.9869, -0.6958,  0.8884],\n",
       "        [ 2.1626, -0.9869, -0.6958,  0.8884,  0.8196,  0.5701],\n",
       "        [-0.6958,  0.8884,  0.8196,  0.5701, -0.6958,  0.8884],\n",
       "        [ 0.8196,  0.5701, -0.6958,  0.8884,  2.1288, -0.1887],\n",
       "        [ 0.9121, -0.5878,  0.9121, -0.5878,  0.9121, -0.5878],\n",
       "        [ 0.9121, -0.5878,  0.9121, -0.5878,  2.1288, -0.1887],\n",
       "        [ 0.9121, -0.5878,  2.1288, -0.1887,  0.8196,  0.5701],\n",
       "        [ 2.1288, -0.1887,  0.8196,  0.5701,  2.1288, -0.1887],\n",
       "        [ 0.9121, -0.5878,  0.9121, -0.5878,  0.9121, -0.5878],\n",
       "        [ 0.9121, -0.5878,  0.9121, -0.5878, -0.6958,  0.8884],\n",
       "        [ 0.9121, -0.5878, -0.6958,  0.8884, -0.7140,  0.2753],\n",
       "        [-0.6958,  0.8884, -0.7140,  0.2753,  2.1288, -0.1887],\n",
       "        [-0.7140,  0.2753,  2.1288, -0.1887, -0.5401, -1.8952],\n",
       "        [ 2.1288, -0.1887, -0.5401, -1.8952, -0.1624,  1.9454],\n",
       "        [-0.5401, -1.8952, -0.1624,  1.9454,  2.1626, -0.9869],\n",
       "        [-0.1624,  1.9454,  2.1626, -0.9869,  2.1626, -0.9869],\n",
       "        [ 2.1626, -0.9869,  2.1626, -0.9869,  2.1288, -0.1887],\n",
       "        [ 0.9121, -0.5878,  0.9121, -0.5878,  0.9121, -0.5878],\n",
       "        [ 0.9121, -0.5878,  0.9121, -0.5878, -0.7140,  0.2753],\n",
       "        [ 0.9121, -0.5878, -0.7140,  0.2753,  1.2811,  0.7738],\n",
       "        [-0.7140,  0.2753,  1.2811,  0.7738, -1.0834,  1.9305],\n",
       "        [ 1.2811,  0.7738, -1.0834,  1.9305,  0.5182, -0.7119],\n",
       "        [-1.0834,  1.9305,  0.5182, -0.7119, -0.6958,  0.8884],\n",
       "        [ 0.5182, -0.7119, -0.6958,  0.8884,  2.1288, -0.1887]])"
      ]
     },
     "execution_count": 52,
     "metadata": {},
     "output_type": "execute_result"
    }
   ],
   "source": [
    "torch.cat([emb[:, b, :] for b in range(BLOCK_SIZE)], dim=1)"
   ]
  },
  {
   "cell_type": "code",
   "execution_count": 56,
   "metadata": {},
   "outputs": [
    {
     "data": {
      "text/plain": [
       "3"
      ]
     },
     "execution_count": 56,
     "metadata": {},
     "output_type": "execute_result"
    }
   ],
   "source": [
    "len(torch.unbind(emb, dim=1))"
   ]
  },
  {
   "cell_type": "code",
   "execution_count": 58,
   "metadata": {},
   "outputs": [
    {
     "data": {
      "text/plain": [
       "torch.Size([32, 6])"
      ]
     },
     "execution_count": 58,
     "metadata": {},
     "output_type": "execute_result"
    }
   ],
   "source": [
    "torch.cat(torch.unbind(emb, dim=1), dim=1).shape"
   ]
  },
  {
   "cell_type": "code",
   "execution_count": 60,
   "metadata": {},
   "outputs": [],
   "source": [
    "a = np.array([[1, 2, 3], [4, 5, 6]])"
   ]
  },
  {
   "cell_type": "code",
   "execution_count": 61,
   "metadata": {},
   "outputs": [
    {
     "data": {
      "text/plain": [
       "(2, 3)"
      ]
     },
     "execution_count": 61,
     "metadata": {},
     "output_type": "execute_result"
    }
   ],
   "source": [
    "a.shape"
   ]
  },
  {
   "cell_type": "code",
   "execution_count": 67,
   "metadata": {},
   "outputs": [
    {
     "data": {
      "text/plain": [
       "array([[[[[1],\n",
       "          [2]]]],\n",
       "\n",
       "\n",
       "\n",
       "       [[[[3],\n",
       "          [4]]]],\n",
       "\n",
       "\n",
       "\n",
       "       [[[[5],\n",
       "          [6]]]]])"
      ]
     },
     "execution_count": 67,
     "metadata": {},
     "output_type": "execute_result"
    }
   ],
   "source": [
    "a.reshape(3, 1, 1, 2, 1)"
   ]
  },
  {
   "cell_type": "code",
   "execution_count": 68,
   "metadata": {},
   "outputs": [],
   "source": [
    "a = torch.arange(18)"
   ]
  },
  {
   "cell_type": "code",
   "execution_count": 69,
   "metadata": {},
   "outputs": [
    {
     "data": {
      "text/plain": [
       "torch.Size([18])"
      ]
     },
     "execution_count": 69,
     "metadata": {},
     "output_type": "execute_result"
    }
   ],
   "source": [
    "a.shape"
   ]
  },
  {
   "cell_type": "code",
   "execution_count": 73,
   "metadata": {},
   "outputs": [
    {
     "data": {
      "text/plain": [
       "tensor([[[[ 0],\n",
       "          [ 1],\n",
       "          [ 2]],\n",
       "\n",
       "         [[ 3],\n",
       "          [ 4],\n",
       "          [ 5]]],\n",
       "\n",
       "\n",
       "        [[[ 6],\n",
       "          [ 7],\n",
       "          [ 8]],\n",
       "\n",
       "         [[ 9],\n",
       "          [10],\n",
       "          [11]]],\n",
       "\n",
       "\n",
       "        [[[12],\n",
       "          [13],\n",
       "          [14]],\n",
       "\n",
       "         [[15],\n",
       "          [16],\n",
       "          [17]]]])"
      ]
     },
     "execution_count": 73,
     "metadata": {},
     "output_type": "execute_result"
    }
   ],
   "source": [
    "a.view(3, 2, 3, 1)"
   ]
  },
  {
   "cell_type": "code",
   "execution_count": 74,
   "metadata": {},
   "outputs": [
    {
     "data": {
      "text/plain": [
       " 0\n",
       " 1\n",
       " 2\n",
       " 3\n",
       " 4\n",
       " 5\n",
       " 6\n",
       " 7\n",
       " 8\n",
       " 9\n",
       " 10\n",
       " 11\n",
       " 12\n",
       " 13\n",
       " 14\n",
       " 15\n",
       " 16\n",
       " 17\n",
       "[torch.storage.TypedStorage(dtype=torch.int64, device=cpu) of size 18]"
      ]
     },
     "execution_count": 74,
     "metadata": {},
     "output_type": "execute_result"
    }
   ],
   "source": [
    "a.storage()"
   ]
  },
  {
   "cell_type": "code",
   "execution_count": 75,
   "metadata": {},
   "outputs": [
    {
     "data": {
      "text/plain": [
       "tensor([[ 0.9121, -0.5878,  0.9121, -0.5878,  0.9121, -0.5878],\n",
       "        [ 0.9121, -0.5878,  0.9121, -0.5878, -0.1624,  1.9454],\n",
       "        [ 0.9121, -0.5878, -0.1624,  1.9454,  0.3177, -0.2526],\n",
       "        [-0.1624,  1.9454,  0.3177, -0.2526,  0.3177, -0.2526],\n",
       "        [ 0.3177, -0.2526,  0.3177, -0.2526,  2.1288, -0.1887],\n",
       "        [ 0.9121, -0.5878,  0.9121, -0.5878,  0.9121, -0.5878],\n",
       "        [ 0.9121, -0.5878,  0.9121, -0.5878,  1.2811,  0.7738],\n",
       "        [ 0.9121, -0.5878,  1.2811,  0.7738,  2.1626, -0.9869],\n",
       "        [ 1.2811,  0.7738,  2.1626, -0.9869, -0.6958,  0.8884],\n",
       "        [ 2.1626, -0.9869, -0.6958,  0.8884,  0.8196,  0.5701],\n",
       "        [-0.6958,  0.8884,  0.8196,  0.5701, -0.6958,  0.8884],\n",
       "        [ 0.8196,  0.5701, -0.6958,  0.8884,  2.1288, -0.1887],\n",
       "        [ 0.9121, -0.5878,  0.9121, -0.5878,  0.9121, -0.5878],\n",
       "        [ 0.9121, -0.5878,  0.9121, -0.5878,  2.1288, -0.1887],\n",
       "        [ 0.9121, -0.5878,  2.1288, -0.1887,  0.8196,  0.5701],\n",
       "        [ 2.1288, -0.1887,  0.8196,  0.5701,  2.1288, -0.1887],\n",
       "        [ 0.9121, -0.5878,  0.9121, -0.5878,  0.9121, -0.5878],\n",
       "        [ 0.9121, -0.5878,  0.9121, -0.5878, -0.6958,  0.8884],\n",
       "        [ 0.9121, -0.5878, -0.6958,  0.8884, -0.7140,  0.2753],\n",
       "        [-0.6958,  0.8884, -0.7140,  0.2753,  2.1288, -0.1887],\n",
       "        [-0.7140,  0.2753,  2.1288, -0.1887, -0.5401, -1.8952],\n",
       "        [ 2.1288, -0.1887, -0.5401, -1.8952, -0.1624,  1.9454],\n",
       "        [-0.5401, -1.8952, -0.1624,  1.9454,  2.1626, -0.9869],\n",
       "        [-0.1624,  1.9454,  2.1626, -0.9869,  2.1626, -0.9869],\n",
       "        [ 2.1626, -0.9869,  2.1626, -0.9869,  2.1288, -0.1887],\n",
       "        [ 0.9121, -0.5878,  0.9121, -0.5878,  0.9121, -0.5878],\n",
       "        [ 0.9121, -0.5878,  0.9121, -0.5878, -0.7140,  0.2753],\n",
       "        [ 0.9121, -0.5878, -0.7140,  0.2753,  1.2811,  0.7738],\n",
       "        [-0.7140,  0.2753,  1.2811,  0.7738, -1.0834,  1.9305],\n",
       "        [ 1.2811,  0.7738, -1.0834,  1.9305,  0.5182, -0.7119],\n",
       "        [-1.0834,  1.9305,  0.5182, -0.7119, -0.6958,  0.8884],\n",
       "        [ 0.5182, -0.7119, -0.6958,  0.8884,  2.1288, -0.1887]])"
      ]
     },
     "execution_count": 75,
     "metadata": {},
     "output_type": "execute_result"
    }
   ],
   "source": [
    "emb.reshape(32, 6)"
   ]
  },
  {
   "cell_type": "code",
   "execution_count": 77,
   "metadata": {},
   "outputs": [
    {
     "data": {
      "text/plain": [
       "tensor([[True, True, True, True, True, True],\n",
       "        [True, True, True, True, True, True],\n",
       "        [True, True, True, True, True, True],\n",
       "        [True, True, True, True, True, True],\n",
       "        [True, True, True, True, True, True],\n",
       "        [True, True, True, True, True, True],\n",
       "        [True, True, True, True, True, True],\n",
       "        [True, True, True, True, True, True],\n",
       "        [True, True, True, True, True, True],\n",
       "        [True, True, True, True, True, True],\n",
       "        [True, True, True, True, True, True],\n",
       "        [True, True, True, True, True, True],\n",
       "        [True, True, True, True, True, True],\n",
       "        [True, True, True, True, True, True],\n",
       "        [True, True, True, True, True, True],\n",
       "        [True, True, True, True, True, True],\n",
       "        [True, True, True, True, True, True],\n",
       "        [True, True, True, True, True, True],\n",
       "        [True, True, True, True, True, True],\n",
       "        [True, True, True, True, True, True],\n",
       "        [True, True, True, True, True, True],\n",
       "        [True, True, True, True, True, True],\n",
       "        [True, True, True, True, True, True],\n",
       "        [True, True, True, True, True, True],\n",
       "        [True, True, True, True, True, True],\n",
       "        [True, True, True, True, True, True],\n",
       "        [True, True, True, True, True, True],\n",
       "        [True, True, True, True, True, True],\n",
       "        [True, True, True, True, True, True],\n",
       "        [True, True, True, True, True, True],\n",
       "        [True, True, True, True, True, True],\n",
       "        [True, True, True, True, True, True]])"
      ]
     },
     "execution_count": 77,
     "metadata": {},
     "output_type": "execute_result"
    }
   ],
   "source": [
    "emb.reshape(32, 6) == torch.cat(torch.unbind(emb, dim=1), dim=1)"
   ]
  },
  {
   "cell_type": "code",
   "execution_count": 78,
   "metadata": {},
   "outputs": [],
   "source": [
    "h = emb.view(32, 6) @ W1 + b1"
   ]
  },
  {
   "cell_type": "code",
   "execution_count": 80,
   "metadata": {},
   "outputs": [
    {
     "data": {
      "text/plain": [
       "torch.Size([32, 100])"
      ]
     },
     "execution_count": 80,
     "metadata": {},
     "output_type": "execute_result"
    }
   ],
   "source": [
    "h.shape"
   ]
  },
  {
   "cell_type": "code",
   "execution_count": 37,
   "metadata": {},
   "outputs": [
    {
     "ename": "ValueError",
     "evalue": "cannot reshape array of size 27 into shape (3,8)",
     "output_type": "error",
     "traceback": [
      "\u001b[0;31m---------------------------------------------------------------------------\u001b[0m",
      "\u001b[0;31mValueError\u001b[0m                                Traceback (most recent call last)",
      "Cell \u001b[0;32mIn[37], line 1\u001b[0m\n\u001b[0;32m----> 1\u001b[0m np\u001b[39m.\u001b[39;49marange(\u001b[39m27\u001b[39;49m)\u001b[39m.\u001b[39;49mreshape(\u001b[39m3\u001b[39;49m, \u001b[39m8\u001b[39;49m)\n",
      "\u001b[0;31mValueError\u001b[0m: cannot reshape array of size 27 into shape (3,8)"
     ]
    }
   ],
   "source": [
    "np.arange(27).reshape(3, 8)"
   ]
  },
  {
   "cell_type": "code",
   "execution_count": 32,
   "metadata": {},
   "outputs": [
    {
     "data": {
      "text/plain": [
       "array([[[[ 0],\n",
       "         [ 1],\n",
       "         [ 2],\n",
       "         [ 3],\n",
       "         [ 4]],\n",
       "\n",
       "        [[ 5],\n",
       "         [ 6],\n",
       "         [ 7],\n",
       "         [ 8],\n",
       "         [ 9]]],\n",
       "\n",
       "\n",
       "       [[[10],\n",
       "         [11],\n",
       "         [12],\n",
       "         [13],\n",
       "         [14]],\n",
       "\n",
       "        [[15],\n",
       "         [16],\n",
       "         [17],\n",
       "         [18],\n",
       "         [19]]]])"
      ]
     },
     "execution_count": 32,
     "metadata": {},
     "output_type": "execute_result"
    }
   ],
   "source": [
    "a = np.arange(20).reshape(2, 5, 2)\n",
    "a.reshape(-1, 2, 5, 1)"
   ]
  },
  {
   "cell_type": "code",
   "execution_count": 51,
   "metadata": {},
   "outputs": [
    {
     "data": {
      "text/plain": [
       "tensor([[ 2.8280, -2.1367,  1.8687,  ...,  1.7123, -1.2580, -2.7837],\n",
       "        [ 1.8295, -1.6124,  2.6103,  ...,  1.0200, -1.5439, -3.7947],\n",
       "        [-1.3097, -1.6592,  4.7015,  ..., -1.4087,  1.5639, -1.3549],\n",
       "        ...,\n",
       "        [-1.9521, -2.0578, -0.2516,  ...,  0.1754,  0.5395, -0.5863],\n",
       "        [-2.8772,  0.5714,  3.2711,  ..., -0.1372,  1.9668,  0.1971],\n",
       "        [-0.6375,  1.7500, -1.9485,  ...,  3.9826, -0.5620, -1.5247]])"
      ]
     },
     "execution_count": 51,
     "metadata": {},
     "output_type": "execute_result"
    }
   ],
   "source": [
    "NUMBER_OF_BLOCKS = 3\n",
    "EMB_SIZE = 2\n",
    "h = emb.view(-1, NUMBER_OF_BLOCKS * EMB_SIZE) @ W1 + b1\n",
    "h"
   ]
  },
  {
   "cell_type": "code",
   "execution_count": 52,
   "metadata": {},
   "outputs": [
    {
     "data": {
      "text/plain": [
       "tensor([[ 2.8280, -2.1367,  1.8687,  ...,  1.7123, -1.2580, -2.7837],\n",
       "        [ 1.8295, -1.6124,  2.6103,  ...,  1.0200, -1.5439, -3.7947],\n",
       "        [-1.3097, -1.6592,  4.7015,  ..., -1.4087,  1.5639, -1.3549],\n",
       "        ...,\n",
       "        [-1.9521, -2.0578, -0.2516,  ...,  0.1754,  0.5395, -0.5863],\n",
       "        [-2.8772,  0.5714,  3.2711,  ..., -0.1372,  1.9668,  0.1971],\n",
       "        [-0.6375,  1.7500, -1.9485,  ...,  3.9826, -0.5620, -1.5247]])"
      ]
     },
     "execution_count": 52,
     "metadata": {},
     "output_type": "execute_result"
    }
   ],
   "source": [
    "h = emb.view(-1, emb.shape[1] * emb.shape[2]) @ W1 + b1\n",
    "h"
   ]
  },
  {
   "cell_type": "code",
   "execution_count": 62,
   "metadata": {},
   "outputs": [],
   "source": [
    "W1 = torch.randn((6, 100))\n",
    "b1 = torch.randn(100)\n",
    "\n",
    "W2 = torch.randn((100, 27))\n",
    "b2 = torch.randn(27)"
   ]
  },
  {
   "cell_type": "code",
   "execution_count": 58,
   "metadata": {},
   "outputs": [],
   "source": [
    "h = torch.tanh(emb.view(-1, BLOCK_SIZE * EMB_SIZE) @ W1 + b1)"
   ]
  },
  {
   "cell_type": "code",
   "execution_count": 68,
   "metadata": {},
   "outputs": [
    {
     "data": {
      "text/plain": [
       "torch.Size([100, 27])"
      ]
     },
     "execution_count": 68,
     "metadata": {},
     "output_type": "execute_result"
    }
   ],
   "source": [
    "W2.shape"
   ]
  },
  {
   "cell_type": "code",
   "execution_count": 67,
   "metadata": {},
   "outputs": [
    {
     "data": {
      "text/plain": [
       "torch.Size([32, 100])"
      ]
     },
     "execution_count": 67,
     "metadata": {},
     "output_type": "execute_result"
    }
   ],
   "source": [
    "h.shape"
   ]
  },
  {
   "cell_type": "code",
   "execution_count": 78,
   "metadata": {},
   "outputs": [],
   "source": [
    "logits = h @ W2 + b2"
   ]
  },
  {
   "cell_type": "code",
   "execution_count": 85,
   "metadata": {},
   "outputs": [
    {
     "data": {
      "text/plain": [
       "Text(0.5, 1.0, 'LOGITS')"
      ]
     },
     "execution_count": 85,
     "metadata": {},
     "output_type": "execute_result"
    },
    {
     "data": {
      "image/png": "[encoded data removed]",
      "text/plain": [
       "<Figure size 640x480 with 1 Axes>"
      ]
     },
     "metadata": {},
     "output_type": "display_data"
    }
   ],
   "source": [
    "plt.plot(logits.detach().numpy()[0])\n",
    "plt.title(\"LOGITS\")"
   ]
  },
  {
   "cell_type": "code",
   "execution_count": 84,
   "metadata": {},
   "outputs": [
    {
     "data": {
      "text/plain": [
       "Text(0.5, 1.0, 'COUNTS')"
      ]
     },
     "execution_count": 84,
     "metadata": {},
     "output_type": "execute_result"
    },
    {
     "data": {
      "image/png": "[encoded data removed]",
      "text/plain": [
       "<Figure size 640x480 with 1 Axes>"
      ]
     },
     "metadata": {},
     "output_type": "display_data"
    }
   ],
   "source": [
    "plt.plot(logits.exp().detach().numpy()[0])\n",
    "plt.title(\"COUNTS\")"
   ]
  },
  {
   "cell_type": "code",
   "execution_count": 86,
   "metadata": {},
   "outputs": [
    {
     "data": {
      "text/plain": [
       "Text(0.5, 1.0, 'PROBS')"
      ]
     },
     "execution_count": 86,
     "metadata": {},
     "output_type": "execute_result"
    },
    {
     "data": {
      "image/png": "[encoded data removed]",
      "text/plain": [
       "<Figure size 640x480 with 1 Axes>"
      ]
     },
     "metadata": {},
     "output_type": "display_data"
    }
   ],
   "source": [
    "counts = logits.exp()\n",
    "plt.plot((counts / counts.sum(1, keepdim=True)).detach().numpy()[0])\n",
    "plt.title(\"PROBS\")"
   ]
  },
  {
   "cell_type": "code",
   "execution_count": 87,
   "metadata": {},
   "outputs": [
    {
     "data": {
      "text/plain": [
       "Text(0.5, 1.0, 'PROBS')"
      ]
     },
     "execution_count": 87,
     "metadata": {},
     "output_type": "execute_result"
    },
    {
     "data": {
      "image/png": "[encoded data removed]",
      "text/plain": [
       "<Figure size 640x480 with 1 Axes>"
      ]
     },
     "metadata": {},
     "output_type": "display_data"
    }
   ],
   "source": [
    "counts = logits.exp()\n",
    "plt.bar(np.arange(27), (counts / counts.sum(1, keepdim=True)).detach().numpy()[0])\n",
    "plt.title(\"PROBS\")"
   ]
  },
  {
   "cell_type": "code",
   "execution_count": 90,
   "metadata": {},
   "outputs": [
    {
     "data": {
      "text/plain": [
       "torch.Size([32, 27])"
      ]
     },
     "execution_count": 90,
     "metadata": {},
     "output_type": "execute_result"
    }
   ],
   "source": [
    "probs = counts / counts.sum(1, keepdim=True)\n",
    "probs.shap"
   ]
  },
  {
   "cell_type": "code",
   "execution_count": 92,
   "metadata": {},
   "outputs": [
    {
     "data": {
      "text/plain": [
       "tensor(1.6918e-08)"
      ]
     },
     "execution_count": 92,
     "metadata": {},
     "output_type": "execute_result"
    }
   ],
   "source": [
    "probs[0][5]"
   ]
  },
  {
   "cell_type": "code",
   "execution_count": 94,
   "metadata": {},
   "outputs": [
    {
     "data": {
      "text/plain": [
       "tensor([ 5, 13, 13,  1,  0, 15, 12,  9, 22,  9,  1,  0,  1, 22,  1,  0,  9, 19,\n",
       "         1,  2,  5, 12, 12,  1,  0, 19, 15, 16,  8,  9,  1,  0])"
      ]
     },
     "execution_count": 94,
     "metadata": {},
     "output_type": "execute_result"
    }
   ],
   "source": [
    "Y"
   ]
  },
  {
   "cell_type": "code",
   "execution_count": 95,
   "metadata": {},
   "outputs": [
    {
     "data": {
      "text/plain": [
       "tensor([1.6918e-08, 2.7656e-05, 3.6840e-10, 2.3086e-02, 2.5494e-07, 8.1649e-07,\n",
       "        5.2969e-03, 3.8288e-16, 3.7099e-14, 1.9492e-15, 1.0479e-02, 2.8991e-07,\n",
       "        9.1210e-07, 9.7235e-06, 1.3290e-11, 4.7354e-05, 2.0435e-08, 1.1570e-09,\n",
       "        2.0118e-04, 6.6181e-10, 9.9199e-01, 1.0416e-08, 9.7111e-09, 1.1975e-05,\n",
       "        6.7149e-09, 4.0769e-09, 9.7368e-07, 3.7293e-09, 5.2455e-08, 9.6379e-01,\n",
       "        6.8371e-07, 3.9304e-07])"
      ]
     },
     "execution_count": 95,
     "metadata": {},
     "output_type": "execute_result"
    }
   ],
   "source": [
    "probs[torch.arange(32), Y]"
   ]
  },
  {
   "cell_type": "code",
   "execution_count": null,
   "metadata": {},
   "outputs": [],
   "source": [
    "# log(x) * log(y) = log(x * y) = log(x) + log(y)"
   ]
  },
  {
   "cell_type": "code",
   "execution_count": 99,
   "metadata": {},
   "outputs": [
    {
     "data": {
      "text/plain": [
       "tensor([1.6918e-08, 2.7656e-05, 3.6840e-10, 2.3086e-02, 2.5494e-07, 8.1649e-07,\n",
       "        5.2969e-03, 3.8288e-16, 3.7099e-14, 1.9492e-15, 1.0479e-02, 2.8991e-07,\n",
       "        9.1210e-07, 9.7235e-06, 1.3290e-11, 4.7354e-05, 2.0435e-08, 1.1570e-09,\n",
       "        2.0118e-04, 6.6181e-10, 9.9199e-01, 1.0416e-08, 9.7111e-09, 1.1975e-05,\n",
       "        6.7149e-09, 4.0769e-09, 9.7368e-07, 3.7293e-09, 5.2455e-08, 9.6379e-01,\n",
       "        6.8371e-07, 3.9304e-07])"
      ]
     },
     "execution_count": 99,
     "metadata": {},
     "output_type": "execute_result"
    }
   ],
   "source": [
    "probs[np.arange(32), Y]"
   ]
  },
  {
   "cell_type": "code",
   "execution_count": 103,
   "metadata": {},
   "outputs": [
    {
     "data": {
      "text/plain": [
       "tensor([-1.7895e+01, -1.0496e+01, -2.1722e+01, -3.7685e+00, -1.5182e+01,\n",
       "        -1.4018e+01, -5.2406e+00, -3.5499e+01, -3.0925e+01, -3.3871e+01,\n",
       "        -4.5584e+00, -1.5054e+01, -1.3908e+01, -1.1541e+01, -2.5044e+01,\n",
       "        -9.9579e+00, -1.7706e+01, -2.0577e+01, -8.5113e+00, -2.1136e+01,\n",
       "        -8.0468e-03, -1.8380e+01, -1.8450e+01, -1.1333e+01, -1.8819e+01,\n",
       "        -1.9318e+01, -1.3842e+01, -1.9407e+01, -1.6763e+01, -3.6879e-02,\n",
       "        -1.4196e+01, -1.4749e+01])"
      ]
     },
     "execution_count": 103,
     "metadata": {},
     "output_type": "execute_result"
    }
   ],
   "source": [
    "probs[np.arange(32), Y].log()"
   ]
  },
  {
   "cell_type": "code",
   "execution_count": 104,
   "metadata": {},
   "outputs": [
    {
     "data": {
      "text/plain": [
       "tensor([1.7895e+01, 1.0496e+01, 2.1722e+01, 3.7685e+00, 1.5182e+01, 1.4018e+01,\n",
       "        5.2406e+00, 3.5499e+01, 3.0925e+01, 3.3871e+01, 4.5584e+00, 1.5054e+01,\n",
       "        1.3908e+01, 1.1541e+01, 2.5044e+01, 9.9579e+00, 1.7706e+01, 2.0577e+01,\n",
       "        8.5113e+00, 2.1136e+01, 8.0468e-03, 1.8380e+01, 1.8450e+01, 1.1333e+01,\n",
       "        1.8819e+01, 1.9318e+01, 1.3842e+01, 1.9407e+01, 1.6763e+01, 3.6879e-02,\n",
       "        1.4196e+01, 1.4749e+01])"
      ]
     },
     "execution_count": 104,
     "metadata": {},
     "output_type": "execute_result"
    }
   ],
   "source": [
    "-probs[np.arange(32), Y].log()"
   ]
  },
  {
   "cell_type": "code",
   "execution_count": 108,
   "metadata": {},
   "outputs": [],
   "source": [
    "loss = -probs[np.arange(32), Y].log().mean()"
   ]
  },
  {
   "attachments": {},
   "cell_type": "markdown",
   "metadata": {},
   "source": [
    "Joining everything together"
   ]
  },
  {
   "cell_type": "code",
   "execution_count": 110,
   "metadata": {},
   "outputs": [],
   "source": [
    "X: List[List[int]] = []\n",
    "Y: List[List[int]] = []\n",
    "\n",
    "for word in words[:5]:\n",
    "    context: List[int] = [0] * BLOCK_SIZE\n",
    "    for ch in word + \".\":\n",
    "        ix: int = stoi[ch]\n",
    "        X.append(context)\n",
    "        Y.append(ix)\n",
    "        context = context[1:] + [ix]\n",
    "\n",
    "X = torch.tensor(X)\n",
    "Y = torch.tensor(Y)"
   ]
  },
  {
   "cell_type": "code",
   "execution_count": 111,
   "metadata": {},
   "outputs": [
    {
     "data": {
      "text/plain": [
       "(torch.Size([32, 3]), torch.Size([32]))"
      ]
     },
     "execution_count": 111,
     "metadata": {},
     "output_type": "execute_result"
    }
   ],
   "source": [
    "X.shape, Y.shape"
   ]
  },
  {
   "cell_type": "code",
   "execution_count": 156,
   "metadata": {},
   "outputs": [],
   "source": [
    "CLASS_COUNT = 27\n",
    "\n",
    "g = torch.Generator().manual_seed(2147483647)\n",
    "C = torch.randn((CLASS_COUNT, EMB_SIZE), generator=g)\n",
    "W1 = torch.randn((BLOCK_SIZE * EMB_SIZE, 100), generator=g)\n",
    "b1 = torch.randn(100, generator=g)\n",
    "W2 = torch.randn((100, CLASS_COUNT), generator=g)\n",
    "b2 = torch.randn(CLASS_COUNT, generator=g)\n",
    "\n",
    "parameters: List[torch.tensor] = [C, W1, b1, W2, b2]"
   ]
  },
  {
   "cell_type": "code",
   "execution_count": 129,
   "metadata": {},
   "outputs": [
    {
     "data": {
      "text/plain": [
       "54"
      ]
     },
     "execution_count": 129,
     "metadata": {},
     "output_type": "execute_result"
    }
   ],
   "source": [
    "C.nelement()"
   ]
  },
  {
   "cell_type": "code",
   "execution_count": 130,
   "metadata": {},
   "outputs": [
    {
     "data": {
      "text/plain": [
       "3481"
      ]
     },
     "execution_count": 130,
     "metadata": {},
     "output_type": "execute_result"
    }
   ],
   "source": [
    "sum([par.nelement() for par in parameters])"
   ]
  },
  {
   "cell_type": "code",
   "execution_count": 133,
   "metadata": {},
   "outputs": [
    {
     "data": {
      "text/plain": [
       "tensor(17.7697)"
      ]
     },
     "execution_count": 133,
     "metadata": {},
     "output_type": "execute_result"
    }
   ],
   "source": [
    "# forward pass\n",
    "emb = C[X]\n",
    "h = torch.tanh(emb.view(-1, BLOCK_SIZE * EMB_SIZE) @ W1 + b1)\n",
    "logits = h @ W2 + b2\n",
    "### SOFTMAX ###\n",
    "# ----------- #\n",
    "counts = logits.exp()\n",
    "probs = counts / counts.sum(1, keepdim=True)\n",
    "# ----------- #\n",
    "###   NLL   ###\n",
    "loss = -probs[np.arange(X.shape[0]), Y].log().mean()\n",
    "# ----------- #\n",
    "loss"
   ]
  },
  {
   "cell_type": "code",
   "execution_count": 161,
   "metadata": {},
   "outputs": [],
   "source": [
    "# Turning on gradient tracking\n",
    "for p in parameters:\n",
    "    p.requires_grad = True"
   ]
  },
  {
   "cell_type": "code",
   "execution_count": 162,
   "metadata": {},
   "outputs": [
    {
     "data": {
      "text/plain": [
       "tensor(17.7697, grad_fn=<NllLossBackward0>)"
      ]
     },
     "execution_count": 162,
     "metadata": {},
     "output_type": "execute_result"
    }
   ],
   "source": [
    "# forward pass\n",
    "emb = C[X]\n",
    "h = torch.tanh(emb.view(-1, BLOCK_SIZE * EMB_SIZE) @ W1 + b1)\n",
    "logits = h @ W2 + b2\n",
    "loss = F.cross_entropy(logits, Y)\n",
    "loss"
   ]
  },
  {
   "cell_type": "code",
   "execution_count": 135,
   "metadata": {},
   "outputs": [
    {
     "data": {
      "text/plain": [
       "tensor([9.0466e-04, 3.3281e-04, 6.6846e-03, 9.9208e-01])"
      ]
     },
     "execution_count": 135,
     "metadata": {},
     "output_type": "execute_result"
    }
   ],
   "source": [
    "logits = torch.tensor([-2, -3, 0, 5])\n",
    "counts = logits.exp()\n",
    "probs = counts / counts.sum()\n",
    "probs"
   ]
  },
  {
   "cell_type": "code",
   "execution_count": 136,
   "metadata": {},
   "outputs": [
    {
     "data": {
      "text/plain": [
       "tensor([0.0000e+00, 3.3311e-04, 6.6906e-03, 9.9298e-01])"
      ]
     },
     "execution_count": 136,
     "metadata": {},
     "output_type": "execute_result"
    }
   ],
   "source": [
    "logits = torch.tensor([-100, -3, 0, 5])\n",
    "counts = logits.exp()\n",
    "probs = counts / counts.sum()\n",
    "probs"
   ]
  },
  {
   "cell_type": "code",
   "execution_count": 138,
   "metadata": {},
   "outputs": [
    {
     "data": {
      "text/plain": [
       "tensor([1.3839e-87, 1.8521e-45, 3.7201e-44, 1.0000e+00], dtype=torch.float64)"
      ]
     },
     "execution_count": 138,
     "metadata": {},
     "output_type": "execute_result"
    }
   ],
   "source": [
    "logits = torch.tensor([-100, -3, 0, 100])\n",
    "counts = logits.exp()\n",
    "probs = counts / counts.sum()\n",
    "probs"
   ]
  },
  {
   "cell_type": "code",
   "execution_count": 143,
   "metadata": {},
   "outputs": [
    {
     "data": {
      "text/plain": [
       "tensor(1.)"
      ]
     },
     "execution_count": 143,
     "metadata": {},
     "output_type": "execute_result"
    }
   ],
   "source": [
    "logits = torch.tensor([-2, -3, 0, 5]) - 3\n",
    "counts = logits.exp()\n",
    "probs = counts / counts.sum()\n",
    "probs.sum()"
   ]
  },
  {
   "cell_type": "code",
   "execution_count": 146,
   "metadata": {},
   "outputs": [
    {
     "name": "stdout",
     "output_type": "stream",
     "text": [
      "tensor([-7, -8, -5,  0])\n"
     ]
    },
    {
     "data": {
      "text/plain": [
       "tensor(1.)"
      ]
     },
     "execution_count": 146,
     "metadata": {},
     "output_type": "execute_result"
    }
   ],
   "source": [
    "logits = torch.tensor([-2, -3, 0, 5]) - 5\n",
    "print(torch.tensor([-2, -3, 0, 5]) - 5)\n",
    "counts = logits.exp()\n",
    "probs = counts / counts.sum()\n",
    "probs.sum()"
   ]
  },
  {
   "cell_type": "code",
   "execution_count": 147,
   "metadata": {},
   "outputs": [
    {
     "name": "stdout",
     "output_type": "stream",
     "text": [
      "tensor([-200, -103, -100,    0])\n"
     ]
    },
    {
     "data": {
      "text/plain": [
       "tensor([0.0000e+00, 1.4013e-45, 3.7835e-44, 1.0000e+00])"
      ]
     },
     "execution_count": 147,
     "metadata": {},
     "output_type": "execute_result"
    }
   ],
   "source": [
    "logits = torch.tensor([-100, -3, 0, 100]) - 100\n",
    "print(logits)\n",
    "counts = logits.exp()\n",
    "probs = counts / counts.sum()\n",
    "probs"
   ]
  },
  {
   "cell_type": "code",
   "execution_count": 150,
   "metadata": {},
   "outputs": [
    {
     "data": {
      "text/plain": [
       "tensor(303.)"
      ]
     },
     "execution_count": 150,
     "metadata": {},
     "output_type": "execute_result"
    }
   ],
   "source": [
    "F.cross_entropy(torch.tensor([-100, -3, 0, 100]).float(), torch.tensor([0, 1, 2, 3]).float())"
   ]
  },
  {
   "cell_type": "code",
   "execution_count": 158,
   "metadata": {},
   "outputs": [],
   "source": []
  },
  {
   "cell_type": "code",
   "execution_count": 172,
   "metadata": {},
   "outputs": [
    {
     "name": "stdout",
     "output_type": "stream",
     "text": [
      "tensor(17.2039, grad_fn=<NllLossBackward0>)\n"
     ]
    }
   ],
   "source": [
    "for p in parameters:\n",
    "    p.grad = None\n",
    "\n",
    "h = torch.tanh(emb.view(-1, BLOCK_SIZE * EMB_SIZE) @ W1 + b1)\n",
    "logits = h @ W2 + b2\n",
    "loss = F.cross_entropy(logits, Y)\n",
    "\n",
    "# loss.backward()\n",
    "print(loss)"
   ]
  },
  {
   "cell_type": "code",
   "execution_count": 173,
   "metadata": {},
   "outputs": [
    {
     "ename": "RuntimeError",
     "evalue": "Trying to backward through the graph a second time (or directly access saved tensors after they have already been freed). Saved intermediate values of the graph are freed when you call .backward() or autograd.grad(). Specify retain_graph=True if you need to backward through the graph a second time or if you need to access saved tensors after calling backward.",
     "output_type": "error",
     "traceback": [
      "\u001b[0;31m---------------------------------------------------------------------------\u001b[0m",
      "\u001b[0;31mRuntimeError\u001b[0m                              Traceback (most recent call last)",
      "Cell \u001b[0;32mIn[173], line 1\u001b[0m\n\u001b[0;32m----> 1\u001b[0m loss\u001b[39m.\u001b[39;49mbackward()\n",
      "File \u001b[0;32m~/github/code_academy_ai_course/.venv/lib/python3.9/site-packages/torch/_tensor.py:488\u001b[0m, in \u001b[0;36mTensor.backward\u001b[0;34m(self, gradient, retain_graph, create_graph, inputs)\u001b[0m\n\u001b[1;32m    478\u001b[0m \u001b[39mif\u001b[39;00m has_torch_function_unary(\u001b[39mself\u001b[39m):\n\u001b[1;32m    479\u001b[0m     \u001b[39mreturn\u001b[39;00m handle_torch_function(\n\u001b[1;32m    480\u001b[0m         Tensor\u001b[39m.\u001b[39mbackward,\n\u001b[1;32m    481\u001b[0m         (\u001b[39mself\u001b[39m,),\n\u001b[0;32m   (...)\u001b[0m\n\u001b[1;32m    486\u001b[0m         inputs\u001b[39m=\u001b[39minputs,\n\u001b[1;32m    487\u001b[0m     )\n\u001b[0;32m--> 488\u001b[0m torch\u001b[39m.\u001b[39;49mautograd\u001b[39m.\u001b[39;49mbackward(\n\u001b[1;32m    489\u001b[0m     \u001b[39mself\u001b[39;49m, gradient, retain_graph, create_graph, inputs\u001b[39m=\u001b[39;49minputs\n\u001b[1;32m    490\u001b[0m )\n",
      "File \u001b[0;32m~/github/code_academy_ai_course/.venv/lib/python3.9/site-packages/torch/autograd/__init__.py:197\u001b[0m, in \u001b[0;36mbackward\u001b[0;34m(tensors, grad_tensors, retain_graph, create_graph, grad_variables, inputs)\u001b[0m\n\u001b[1;32m    192\u001b[0m     retain_graph \u001b[39m=\u001b[39m create_graph\n\u001b[1;32m    194\u001b[0m \u001b[39m# The reason we repeat same the comment below is that\u001b[39;00m\n\u001b[1;32m    195\u001b[0m \u001b[39m# some Python versions print out the first line of a multi-line function\u001b[39;00m\n\u001b[1;32m    196\u001b[0m \u001b[39m# calls in the traceback and some print out the last line\u001b[39;00m\n\u001b[0;32m--> 197\u001b[0m Variable\u001b[39m.\u001b[39;49m_execution_engine\u001b[39m.\u001b[39;49mrun_backward(  \u001b[39m# Calls into the C++ engine to run the backward pass\u001b[39;49;00m\n\u001b[1;32m    198\u001b[0m     tensors, grad_tensors_, retain_graph, create_graph, inputs,\n\u001b[1;32m    199\u001b[0m     allow_unreachable\u001b[39m=\u001b[39;49m\u001b[39mTrue\u001b[39;49;00m, accumulate_grad\u001b[39m=\u001b[39;49m\u001b[39mTrue\u001b[39;49;00m)\n",
      "\u001b[0;31mRuntimeError\u001b[0m: Trying to backward through the graph a second time (or directly access saved tensors after they have already been freed). Saved intermediate values of the graph are freed when you call .backward() or autograd.grad(). Specify retain_graph=True if you need to backward through the graph a second time or if you need to access saved tensors after calling backward."
     ]
    }
   ],
   "source": [
    "loss.backward()"
   ]
  },
  {
   "cell_type": "code",
   "execution_count": 174,
   "metadata": {},
   "outputs": [
    {
     "ename": "TypeError",
     "evalue": "unsupported operand type(s) for *: 'NoneType' and 'float'",
     "output_type": "error",
     "traceback": [
      "\u001b[0;31m---------------------------------------------------------------------------\u001b[0m",
      "\u001b[0;31mTypeError\u001b[0m                                 Traceback (most recent call last)",
      "Cell \u001b[0;32mIn[174], line 2\u001b[0m\n\u001b[1;32m      1\u001b[0m \u001b[39mfor\u001b[39;00m p \u001b[39min\u001b[39;00m parameters:\n\u001b[0;32m----> 2\u001b[0m     p\u001b[39m.\u001b[39mdata \u001b[39m-\u001b[39m\u001b[39m=\u001b[39m p\u001b[39m.\u001b[39;49mgrad \u001b[39m*\u001b[39;49m \u001b[39m0.01\u001b[39;49m\n",
      "\u001b[0;31mTypeError\u001b[0m: unsupported operand type(s) for *: 'NoneType' and 'float'"
     ]
    }
   ],
   "source": [
    "for p in parameters:\n",
    "    p.data -= p.grad * 0.01"
   ]
  },
  {
   "cell_type": "code",
   "execution_count": 272,
   "metadata": {},
   "outputs": [],
   "source": [
    "X: List[List[int]] = []\n",
    "Y: List[List[int]] = []\n",
    "\n",
    "for word in words:\n",
    "    context: List[int] = [0] * BLOCK_SIZE\n",
    "    for ch in word + \".\":\n",
    "        ix: int = stoi[ch]\n",
    "        X.append(context)\n",
    "        Y.append(ix)\n",
    "        context = context[1:] + [ix]\n",
    "\n",
    "X = torch.tensor(X)\n",
    "Y = torch.tensor(Y)"
   ]
  },
  {
   "cell_type": "code",
   "execution_count": 274,
   "metadata": {},
   "outputs": [
    {
     "data": {
      "text/plain": [
       "torch.Size([228146, 3])"
      ]
     },
     "execution_count": 274,
     "metadata": {},
     "output_type": "execute_result"
    }
   ],
   "source": [
    "X.shape"
   ]
  },
  {
   "cell_type": "code",
   "execution_count": 507,
   "metadata": {},
   "outputs": [],
   "source": [
    "# Defining the model\n",
    "\n",
    "g = torch.Generator().manual_seed(2147483647)\n",
    "C = torch.randn((CLASS_COUNT, EMB_SIZE), generator=g)\n",
    "W1 = torch.randn((BLOCK_SIZE * EMB_SIZE, 100), generator=g)\n",
    "b1 = torch.randn(100, generator=g)\n",
    "W2 = torch.randn((100, CLASS_COUNT), generator=g)\n",
    "b2 = torch.randn(CLASS_COUNT, generator=g)\n",
    "\n",
    "parameters: List[torch.tensor] = [C, W1, b1, W2, b2]\n",
    "\n",
    "# turning on gradient tracking\n",
    "for p in parameters:\n",
    "    p.requires_grad = True"
   ]
  },
  {
   "cell_type": "code",
   "execution_count": 279,
   "metadata": {},
   "outputs": [
    {
     "name": "stdout",
     "output_type": "stream",
     "text": [
      "14.880745887756348\n",
      "14.78963565826416\n",
      "14.699804306030273\n",
      "14.611209869384766\n",
      "14.523818969726562\n",
      "14.437606811523438\n",
      "14.352533340454102\n",
      "14.268573760986328\n",
      "14.185696601867676\n",
      "14.103874206542969\n"
     ]
    }
   ],
   "source": [
    "for step in range(10):\n",
    "    # reseting the gradients\n",
    "    for p in parameters:\n",
    "        p.grad = None\n",
    "\n",
    "    # forward pass\n",
    "    emb = C[X]\n",
    "    h = torch.tanh(emb.view(-1, BLOCK_SIZE * EMB_SIZE) @ W1 + b1)\n",
    "    logits = h @ W2 + b2\n",
    "    loss = F.cross_entropy(logits, Y)\n",
    "    print(loss.item())\n",
    "\n",
    "    # backward pass\n",
    "    loss.backward()\n",
    "\n",
    "    # updating the parameters\n",
    "    for p in parameters:\n",
    "        p.data -= p.grad * 0.01"
   ]
  },
  {
   "cell_type": "code",
   "execution_count": 319,
   "metadata": {},
   "outputs": [
    {
     "data": {
      "text/plain": [
       "tensor([219786, 125225, 111788, 102390,  89235, 188433, 192361,   3594, 151153,\n",
       "         11310,  69468, 113574, 210309, 167262, 188036,  58821,  13977, 134563,\n",
       "         43051, 109020,  14380, 168326, 189179, 151889, 195800,  40611,  71732,\n",
       "        122314, 221654,  97523,  39997, 198084])"
      ]
     },
     "execution_count": 319,
     "metadata": {},
     "output_type": "execute_result"
    }
   ],
   "source": [
    "torch.randint(0, X.shape[0], (32,))"
   ]
  },
  {
   "cell_type": "code",
   "execution_count": 451,
   "metadata": {},
   "outputs": [],
   "source": [
    "lossi = []"
   ]
  },
  {
   "cell_type": "code",
   "execution_count": 452,
   "metadata": {},
   "outputs": [
    {
     "name": "stdout",
     "output_type": "stream",
     "text": [
      "17.58522605895996\n",
      "17.893516540527344\n",
      "19.09341049194336\n",
      "17.222434997558594\n",
      "17.282581329345703\n",
      "16.23795509338379\n",
      "18.255685806274414\n",
      "17.65685272216797\n",
      "17.539949417114258\n",
      "16.5611515045166\n",
      "15.489827156066895\n",
      "15.708162307739258\n",
      "22.14455223083496\n",
      "16.630647659301758\n",
      "17.157068252563477\n",
      "19.21022605895996\n",
      "15.312999725341797\n",
      "16.0831241607666\n",
      "17.09752655029297\n",
      "15.946805000305176\n",
      "18.134449005126953\n",
      "15.254598617553711\n",
      "17.906946182250977\n",
      "14.564080238342285\n",
      "16.17360496520996\n",
      "18.15545082092285\n",
      "15.088101387023926\n",
      "16.745851516723633\n",
      "14.285476684570312\n",
      "13.759732246398926\n",
      "12.934874534606934\n",
      "16.170352935791016\n",
      "16.193708419799805\n",
      "14.912944793701172\n",
      "12.817245483398438\n",
      "14.983957290649414\n",
      "16.438217163085938\n",
      "15.430501937866211\n",
      "14.698237419128418\n",
      "14.366426467895508\n",
      "13.687845230102539\n",
      "15.63669490814209\n",
      "13.360738754272461\n",
      "12.04277515411377\n",
      "12.315711975097656\n",
      "14.69754409790039\n",
      "15.99732780456543\n",
      "15.088170051574707\n",
      "14.503583908081055\n",
      "10.757036209106445\n",
      "12.732070922851562\n",
      "10.291851997375488\n",
      "13.652396202087402\n",
      "11.976338386535645\n",
      "13.510584831237793\n",
      "13.89667797088623\n",
      "13.77935791015625\n",
      "11.562989234924316\n",
      "12.400296211242676\n",
      "11.337689399719238\n",
      "12.820740699768066\n",
      "12.905425071716309\n",
      "15.366748809814453\n",
      "11.844882011413574\n",
      "13.10865592956543\n",
      "11.399961471557617\n",
      "10.759808540344238\n",
      "13.007007598876953\n",
      "13.147137641906738\n",
      "12.2259521484375\n",
      "12.046684265136719\n",
      "11.423924446105957\n",
      "12.582945823669434\n",
      "11.184600830078125\n",
      "12.585699081420898\n",
      "10.601252555847168\n",
      "12.678681373596191\n",
      "9.315292358398438\n",
      "11.410954475402832\n",
      "11.84371280670166\n",
      "10.045421600341797\n",
      "10.962220191955566\n",
      "10.88295841217041\n",
      "10.516855239868164\n",
      "14.976297378540039\n",
      "11.657879829406738\n",
      "7.0877366065979\n",
      "13.11408805847168\n",
      "11.826093673706055\n",
      "12.371908187866211\n",
      "11.7761869430542\n",
      "11.70158863067627\n",
      "9.105334281921387\n",
      "9.155097961425781\n",
      "8.092297554016113\n",
      "10.237656593322754\n",
      "10.48554515838623\n",
      "11.284241676330566\n",
      "11.114584922790527\n",
      "12.564929962158203\n"
     ]
    }
   ],
   "source": [
    "# Forward pass with a batch\n",
    "for step in range(100):\n",
    "    # creating a mini-batch\n",
    "    ix = torch.randint(0, X.shape[0], (32,))\n",
    "\n",
    "    # reseting the gradients\n",
    "    for p in parameters:\n",
    "        p.grad = None\n",
    "\n",
    "    # forward pass\n",
    "    emb = C[X[ix]]\n",
    "    h = torch.tanh(emb.view(-1, BLOCK_SIZE * EMB_SIZE) @ W1 + b1)\n",
    "    logits = h @ W2 + b2\n",
    "    loss = F.cross_entropy(logits, Y[ix])\n",
    "    print(loss.item())\n",
    "\n",
    "    # backward pass\n",
    "    loss.backward()\n",
    "\n",
    "    lossi.append(loss.item())\n",
    "\n",
    "    # updating the parameters\n",
    "    for p in parameters:\n",
    "        p.data -= p.grad * 0.01"
   ]
  },
  {
   "cell_type": "code",
   "execution_count": 453,
   "metadata": {},
   "outputs": [
    {
     "data": {
      "text/plain": [
       "[<matplotlib.lines.Line2D at 0x2a88f6550>]"
      ]
     },
     "execution_count": 453,
     "metadata": {},
     "output_type": "execute_result"
    },
    {
     "data": {
      "image/png": "[encoded data removed]",
      "text/plain": [
       "<Figure size 640x480 with 1 Axes>"
      ]
     },
     "metadata": {},
     "output_type": "display_data"
    }
   ],
   "source": [
    "plt.plot(lossi)"
   ]
  },
  {
   "cell_type": "code",
   "execution_count": 499,
   "metadata": {},
   "outputs": [
    {
     "name": "stdout",
     "output_type": "stream",
     "text": [
      "271.9584045410156\n",
      "264.6111145019531\n",
      "256.9687805175781\n",
      "249.11721801757812\n",
      "242.46023559570312\n",
      "234.8851776123047\n",
      "229.26449584960938\n",
      "222.16058349609375\n",
      "216.2255096435547\n",
      "210.42933654785156\n"
     ]
    }
   ],
   "source": [
    "# Forward pass with a batch\n",
    "ix = torch.randint(0, X.shape[0], (32,))\n",
    "for step in range(10):\n",
    "    # creating a mini-batch\n",
    "\n",
    "    # reseting the gradients\n",
    "    for p in parameters:\n",
    "        p.grad = None\n",
    "\n",
    "    # forward pass\n",
    "    emb = C[X[ix]]\n",
    "    h = torch.tanh(emb.view(-1, BLOCK_SIZE * EMB_SIZE) @ W1 + b1)\n",
    "    logits = h @ W2 + b2\n",
    "    loss = F.cross_entropy(logits, Y[ix])\n",
    "    print(loss.item())\n",
    "\n",
    "    # backward pass\n",
    "    loss.backward()\n",
    "\n",
    "    lossi.append(loss.item())\n",
    "\n",
    "    # updating the parameters\n",
    "    for p in parameters:\n",
    "        p.data -= p.grad * 1"
   ]
  },
  {
   "cell_type": "code",
   "execution_count": 503,
   "metadata": {},
   "outputs": [
    {
     "data": {
      "text/plain": [
       "tensor([0.0010, 0.0010, 0.0010, 0.0010, 0.0010, 0.0010, 0.0010, 0.0010, 0.0011,\n",
       "        0.0011, 0.0011, 0.0011, 0.0011, 0.0011, 0.0011, 0.0011, 0.0011, 0.0011,\n",
       "        0.0011, 0.0011, 0.0011, 0.0012, 0.0012, 0.0012, 0.0012, 0.0012, 0.0012,\n",
       "        0.0012, 0.0012, 0.0012, 0.0012, 0.0012, 0.0012, 0.0013, 0.0013, 0.0013,\n",
       "        0.0013, 0.0013, 0.0013, 0.0013, 0.0013, 0.0013, 0.0013, 0.0013, 0.0014,\n",
       "        0.0014, 0.0014, 0.0014, 0.0014, 0.0014, 0.0014, 0.0014, 0.0014, 0.0014,\n",
       "        0.0015, 0.0015, 0.0015, 0.0015, 0.0015, 0.0015, 0.0015, 0.0015, 0.0015,\n",
       "        0.0015, 0.0016, 0.0016, 0.0016, 0.0016, 0.0016, 0.0016, 0.0016, 0.0016,\n",
       "        0.0016, 0.0017, 0.0017, 0.0017, 0.0017, 0.0017, 0.0017, 0.0017, 0.0017,\n",
       "        0.0018, 0.0018, 0.0018, 0.0018, 0.0018, 0.0018, 0.0018, 0.0018, 0.0019,\n",
       "        0.0019, 0.0019, 0.0019, 0.0019, 0.0019, 0.0019, 0.0019, 0.0020, 0.0020,\n",
       "        0.0020, 0.0020, 0.0020, 0.0020, 0.0020, 0.0021, 0.0021, 0.0021, 0.0021,\n",
       "        0.0021, 0.0021, 0.0021, 0.0022, 0.0022, 0.0022, 0.0022, 0.0022, 0.0022,\n",
       "        0.0022, 0.0023, 0.0023, 0.0023, 0.0023, 0.0023, 0.0023, 0.0024, 0.0024,\n",
       "        0.0024, 0.0024, 0.0024, 0.0024, 0.0025, 0.0025, 0.0025, 0.0025, 0.0025,\n",
       "        0.0025, 0.0026, 0.0026, 0.0026, 0.0026, 0.0026, 0.0027, 0.0027, 0.0027,\n",
       "        0.0027, 0.0027, 0.0027, 0.0028, 0.0028, 0.0028, 0.0028, 0.0028, 0.0029,\n",
       "        0.0029, 0.0029, 0.0029, 0.0029, 0.0030, 0.0030, 0.0030, 0.0030, 0.0030,\n",
       "        0.0031, 0.0031, 0.0031, 0.0031, 0.0032, 0.0032, 0.0032, 0.0032, 0.0032,\n",
       "        0.0033, 0.0033, 0.0033, 0.0033, 0.0034, 0.0034, 0.0034, 0.0034, 0.0034,\n",
       "        0.0035, 0.0035, 0.0035, 0.0035, 0.0036, 0.0036, 0.0036, 0.0036, 0.0037,\n",
       "        0.0037, 0.0037, 0.0037, 0.0038, 0.0038, 0.0038, 0.0039, 0.0039, 0.0039,\n",
       "        0.0039, 0.0040, 0.0040, 0.0040, 0.0040, 0.0041, 0.0041, 0.0041, 0.0042,\n",
       "        0.0042, 0.0042, 0.0042, 0.0043, 0.0043, 0.0043, 0.0044, 0.0044, 0.0044,\n",
       "        0.0045, 0.0045, 0.0045, 0.0045, 0.0046, 0.0046, 0.0046, 0.0047, 0.0047,\n",
       "        0.0047, 0.0048, 0.0048, 0.0048, 0.0049, 0.0049, 0.0049, 0.0050, 0.0050,\n",
       "        0.0050, 0.0051, 0.0051, 0.0051, 0.0052, 0.0052, 0.0053, 0.0053, 0.0053,\n",
       "        0.0054, 0.0054, 0.0054, 0.0055, 0.0055, 0.0056, 0.0056, 0.0056, 0.0057,\n",
       "        0.0057, 0.0058, 0.0058, 0.0058, 0.0059, 0.0059, 0.0060, 0.0060, 0.0060,\n",
       "        0.0061, 0.0061, 0.0062, 0.0062, 0.0062, 0.0063, 0.0063, 0.0064, 0.0064,\n",
       "        0.0065, 0.0065, 0.0066, 0.0066, 0.0067, 0.0067, 0.0067, 0.0068, 0.0068,\n",
       "        0.0069, 0.0069, 0.0070, 0.0070, 0.0071, 0.0071, 0.0072, 0.0072, 0.0073,\n",
       "        0.0073, 0.0074, 0.0074, 0.0075, 0.0075, 0.0076, 0.0076, 0.0077, 0.0077,\n",
       "        0.0078, 0.0079, 0.0079, 0.0080, 0.0080, 0.0081, 0.0081, 0.0082, 0.0082,\n",
       "        0.0083, 0.0084, 0.0084, 0.0085, 0.0085, 0.0086, 0.0086, 0.0087, 0.0088,\n",
       "        0.0088, 0.0089, 0.0090, 0.0090, 0.0091, 0.0091, 0.0092, 0.0093, 0.0093,\n",
       "        0.0094, 0.0095, 0.0095, 0.0096, 0.0097, 0.0097, 0.0098, 0.0099, 0.0099,\n",
       "        0.0100, 0.0101, 0.0101, 0.0102, 0.0103, 0.0104, 0.0104, 0.0105, 0.0106,\n",
       "        0.0106, 0.0107, 0.0108, 0.0109, 0.0109, 0.0110, 0.0111, 0.0112, 0.0112,\n",
       "        0.0113, 0.0114, 0.0115, 0.0116, 0.0116, 0.0117, 0.0118, 0.0119, 0.0120,\n",
       "        0.0121, 0.0121, 0.0122, 0.0123, 0.0124, 0.0125, 0.0126, 0.0127, 0.0127,\n",
       "        0.0128, 0.0129, 0.0130, 0.0131, 0.0132, 0.0133, 0.0134, 0.0135, 0.0136,\n",
       "        0.0137, 0.0137, 0.0138, 0.0139, 0.0140, 0.0141, 0.0142, 0.0143, 0.0144,\n",
       "        0.0145, 0.0146, 0.0147, 0.0148, 0.0149, 0.0150, 0.0151, 0.0152, 0.0154,\n",
       "        0.0155, 0.0156, 0.0157, 0.0158, 0.0159, 0.0160, 0.0161, 0.0162, 0.0163,\n",
       "        0.0165, 0.0166, 0.0167, 0.0168, 0.0169, 0.0170, 0.0171, 0.0173, 0.0174,\n",
       "        0.0175, 0.0176, 0.0178, 0.0179, 0.0180, 0.0181, 0.0182, 0.0184, 0.0185,\n",
       "        0.0186, 0.0188, 0.0189, 0.0190, 0.0192, 0.0193, 0.0194, 0.0196, 0.0197,\n",
       "        0.0198, 0.0200, 0.0201, 0.0202, 0.0204, 0.0205, 0.0207, 0.0208, 0.0210,\n",
       "        0.0211, 0.0212, 0.0214, 0.0215, 0.0217, 0.0218, 0.0220, 0.0221, 0.0223,\n",
       "        0.0225, 0.0226, 0.0228, 0.0229, 0.0231, 0.0232, 0.0234, 0.0236, 0.0237,\n",
       "        0.0239, 0.0241, 0.0242, 0.0244, 0.0246, 0.0247, 0.0249, 0.0251, 0.0253,\n",
       "        0.0254, 0.0256, 0.0258, 0.0260, 0.0261, 0.0263, 0.0265, 0.0267, 0.0269,\n",
       "        0.0271, 0.0273, 0.0274, 0.0276, 0.0278, 0.0280, 0.0282, 0.0284, 0.0286,\n",
       "        0.0288, 0.0290, 0.0292, 0.0294, 0.0296, 0.0298, 0.0300, 0.0302, 0.0304,\n",
       "        0.0307, 0.0309, 0.0311, 0.0313, 0.0315, 0.0317, 0.0320, 0.0322, 0.0324,\n",
       "        0.0326, 0.0328, 0.0331, 0.0333, 0.0335, 0.0338, 0.0340, 0.0342, 0.0345,\n",
       "        0.0347, 0.0350, 0.0352, 0.0354, 0.0357, 0.0359, 0.0362, 0.0364, 0.0367,\n",
       "        0.0369, 0.0372, 0.0375, 0.0377, 0.0380, 0.0382, 0.0385, 0.0388, 0.0390,\n",
       "        0.0393, 0.0396, 0.0399, 0.0401, 0.0404, 0.0407, 0.0410, 0.0413, 0.0416,\n",
       "        0.0418, 0.0421, 0.0424, 0.0427, 0.0430, 0.0433, 0.0436, 0.0439, 0.0442,\n",
       "        0.0445, 0.0448, 0.0451, 0.0455, 0.0458, 0.0461, 0.0464, 0.0467, 0.0471,\n",
       "        0.0474, 0.0477, 0.0480, 0.0484, 0.0487, 0.0491, 0.0494, 0.0497, 0.0501,\n",
       "        0.0504, 0.0508, 0.0511, 0.0515, 0.0518, 0.0522, 0.0526, 0.0529, 0.0533,\n",
       "        0.0537, 0.0540, 0.0544, 0.0548, 0.0552, 0.0556, 0.0559, 0.0563, 0.0567,\n",
       "        0.0571, 0.0575, 0.0579, 0.0583, 0.0587, 0.0591, 0.0595, 0.0599, 0.0604,\n",
       "        0.0608, 0.0612, 0.0616, 0.0621, 0.0625, 0.0629, 0.0634, 0.0638, 0.0642,\n",
       "        0.0647, 0.0651, 0.0656, 0.0660, 0.0665, 0.0670, 0.0674, 0.0679, 0.0684,\n",
       "        0.0688, 0.0693, 0.0698, 0.0703, 0.0708, 0.0713, 0.0718, 0.0723, 0.0728,\n",
       "        0.0733, 0.0738, 0.0743, 0.0748, 0.0753, 0.0758, 0.0764, 0.0769, 0.0774,\n",
       "        0.0780, 0.0785, 0.0790, 0.0796, 0.0802, 0.0807, 0.0813, 0.0818, 0.0824,\n",
       "        0.0830, 0.0835, 0.0841, 0.0847, 0.0853, 0.0859, 0.0865, 0.0871, 0.0877,\n",
       "        0.0883, 0.0889, 0.0895, 0.0901, 0.0908, 0.0914, 0.0920, 0.0927, 0.0933,\n",
       "        0.0940, 0.0946, 0.0953, 0.0959, 0.0966, 0.0973, 0.0979, 0.0986, 0.0993,\n",
       "        0.1000, 0.1007, 0.1014, 0.1021, 0.1028, 0.1035, 0.1042, 0.1050, 0.1057,\n",
       "        0.1064, 0.1072, 0.1079, 0.1087, 0.1094, 0.1102, 0.1109, 0.1117, 0.1125,\n",
       "        0.1133, 0.1140, 0.1148, 0.1156, 0.1164, 0.1172, 0.1181, 0.1189, 0.1197,\n",
       "        0.1205, 0.1214, 0.1222, 0.1231, 0.1239, 0.1248, 0.1256, 0.1265, 0.1274,\n",
       "        0.1283, 0.1292, 0.1301, 0.1310, 0.1319, 0.1328, 0.1337, 0.1346, 0.1356,\n",
       "        0.1365, 0.1374, 0.1384, 0.1394, 0.1403, 0.1413, 0.1423, 0.1433, 0.1443,\n",
       "        0.1453, 0.1463, 0.1473, 0.1483, 0.1493, 0.1504, 0.1514, 0.1525, 0.1535,\n",
       "        0.1546, 0.1557, 0.1567, 0.1578, 0.1589, 0.1600, 0.1611, 0.1623, 0.1634,\n",
       "        0.1645, 0.1657, 0.1668, 0.1680, 0.1691, 0.1703, 0.1715, 0.1727, 0.1739,\n",
       "        0.1751, 0.1763, 0.1775, 0.1788, 0.1800, 0.1812, 0.1825, 0.1838, 0.1850,\n",
       "        0.1863, 0.1876, 0.1889, 0.1902, 0.1916, 0.1929, 0.1942, 0.1956, 0.1969,\n",
       "        0.1983, 0.1997, 0.2010, 0.2024, 0.2038, 0.2053, 0.2067, 0.2081, 0.2096,\n",
       "        0.2110, 0.2125, 0.2140, 0.2154, 0.2169, 0.2184, 0.2200, 0.2215, 0.2230,\n",
       "        0.2246, 0.2261, 0.2277, 0.2293, 0.2309, 0.2325, 0.2341, 0.2357, 0.2373,\n",
       "        0.2390, 0.2406, 0.2423, 0.2440, 0.2457, 0.2474, 0.2491, 0.2508, 0.2526,\n",
       "        0.2543, 0.2561, 0.2579, 0.2597, 0.2615, 0.2633, 0.2651, 0.2669, 0.2688,\n",
       "        0.2707, 0.2725, 0.2744, 0.2763, 0.2783, 0.2802, 0.2821, 0.2841, 0.2861,\n",
       "        0.2880, 0.2900, 0.2921, 0.2941, 0.2961, 0.2982, 0.3002, 0.3023, 0.3044,\n",
       "        0.3065, 0.3087, 0.3108, 0.3130, 0.3151, 0.3173, 0.3195, 0.3217, 0.3240,\n",
       "        0.3262, 0.3285, 0.3308, 0.3331, 0.3354, 0.3377, 0.3400, 0.3424, 0.3448,\n",
       "        0.3472, 0.3496, 0.3520, 0.3544, 0.3569, 0.3594, 0.3619, 0.3644, 0.3669,\n",
       "        0.3695, 0.3720, 0.3746, 0.3772, 0.3798, 0.3825, 0.3851, 0.3878, 0.3905,\n",
       "        0.3932, 0.3959, 0.3987, 0.4014, 0.4042, 0.4070, 0.4098, 0.4127, 0.4155,\n",
       "        0.4184, 0.4213, 0.4243, 0.4272, 0.4302, 0.4331, 0.4362, 0.4392, 0.4422,\n",
       "        0.4453, 0.4484, 0.4515, 0.4546, 0.4578, 0.4610, 0.4642, 0.4674, 0.4706,\n",
       "        0.4739, 0.4772, 0.4805, 0.4838, 0.4872, 0.4906, 0.4940, 0.4974, 0.5008,\n",
       "        0.5043, 0.5078, 0.5113, 0.5149, 0.5185, 0.5221, 0.5257, 0.5293, 0.5330,\n",
       "        0.5367, 0.5404, 0.5442, 0.5479, 0.5517, 0.5556, 0.5594, 0.5633, 0.5672,\n",
       "        0.5712, 0.5751, 0.5791, 0.5831, 0.5872, 0.5913, 0.5954, 0.5995, 0.6036,\n",
       "        0.6078, 0.6120, 0.6163, 0.6206, 0.6249, 0.6292, 0.6336, 0.6380, 0.6424,\n",
       "        0.6469, 0.6513, 0.6559, 0.6604, 0.6650, 0.6696, 0.6743, 0.6789, 0.6837,\n",
       "        0.6884, 0.6932, 0.6980, 0.7028, 0.7077, 0.7126, 0.7176, 0.7225, 0.7275,\n",
       "        0.7326, 0.7377, 0.7428, 0.7480, 0.7531, 0.7584, 0.7636, 0.7689, 0.7743,\n",
       "        0.7796, 0.7850, 0.7905, 0.7960, 0.8015, 0.8071, 0.8127, 0.8183, 0.8240,\n",
       "        0.8297, 0.8355, 0.8412, 0.8471, 0.8530, 0.8589, 0.8648, 0.8708, 0.8769,\n",
       "        0.8830, 0.8891, 0.8953, 0.9015, 0.9077, 0.9140, 0.9204, 0.9268, 0.9332,\n",
       "        0.9397, 0.9462, 0.9528, 0.9594, 0.9660, 0.9727, 0.9795, 0.9863, 0.9931,\n",
       "        1.0000])"
      ]
     },
     "execution_count": 503,
     "metadata": {},
     "output_type": "execute_result"
    }
   ],
   "source": [
    "lre = torch.linspace(-3, 0, 1000)\n",
    "lrs = 10**lre\n",
    "lrs"
   ]
  },
  {
   "cell_type": "code",
   "execution_count": 508,
   "metadata": {},
   "outputs": [
    {
     "name": "stdout",
     "output_type": "stream",
     "text": [
      "18.16966438293457\n",
      "19.31647300720215\n",
      "18.123950958251953\n",
      "19.17994499206543\n",
      "21.603683471679688\n",
      "21.683908462524414\n",
      "19.691791534423828\n",
      "19.236835479736328\n",
      "20.229135513305664\n",
      "19.296945571899414\n",
      "19.100208282470703\n",
      "19.452009201049805\n",
      "18.76363182067871\n",
      "20.931140899658203\n",
      "20.714250564575195\n",
      "17.280933380126953\n",
      "16.81036376953125\n",
      "23.743568420410156\n",
      "20.255897521972656\n",
      "20.207908630371094\n",
      "17.42962074279785\n",
      "15.878753662109375\n",
      "20.092052459716797\n",
      "15.532265663146973\n",
      "17.969539642333984\n",
      "19.542104721069336\n",
      "20.140382766723633\n",
      "18.134626388549805\n",
      "20.41251564025879\n",
      "17.57929039001465\n",
      "18.448535919189453\n",
      "19.62269401550293\n",
      "15.657282829284668\n",
      "24.30830192565918\n",
      "17.974271774291992\n",
      "19.616741180419922\n",
      "16.458255767822266\n",
      "18.53608512878418\n",
      "18.635929107666016\n",
      "19.748271942138672\n",
      "19.759777069091797\n",
      "18.643171310424805\n",
      "15.97610855102539\n",
      "15.629436492919922\n",
      "19.331687927246094\n",
      "17.20941925048828\n",
      "18.875368118286133\n",
      "17.212366104125977\n",
      "13.751190185546875\n",
      "19.20688247680664\n",
      "17.982492446899414\n",
      "17.49571418762207\n",
      "16.6069393157959\n",
      "16.111543655395508\n",
      "16.108627319335938\n",
      "15.501129150390625\n",
      "17.598678588867188\n",
      "14.965002059936523\n",
      "18.49132537841797\n",
      "19.75870704650879\n",
      "15.922802925109863\n",
      "19.13656234741211\n",
      "17.64927101135254\n",
      "16.188405990600586\n",
      "15.771855354309082\n",
      "15.651697158813477\n",
      "15.422979354858398\n",
      "14.730924606323242\n",
      "17.365795135498047\n",
      "18.225133895874023\n",
      "18.607913970947266\n",
      "17.758874893188477\n",
      "14.52008056640625\n",
      "15.805335998535156\n",
      "16.135700225830078\n",
      "21.89817237854004\n",
      "18.342586517333984\n",
      "18.905912399291992\n",
      "16.329227447509766\n",
      "16.32209014892578\n",
      "16.285429000854492\n",
      "16.66953468322754\n",
      "16.557788848876953\n",
      "19.503307342529297\n",
      "15.601736068725586\n",
      "16.070322036743164\n",
      "17.983928680419922\n",
      "18.467227935791016\n",
      "18.483243942260742\n",
      "15.670488357543945\n",
      "16.514968872070312\n",
      "18.064443588256836\n",
      "15.82462215423584\n",
      "15.80224323272705\n",
      "19.598928451538086\n",
      "17.41762351989746\n",
      "17.315664291381836\n",
      "16.293577194213867\n",
      "13.4113187789917\n",
      "14.736213684082031\n",
      "18.97461700439453\n",
      "15.9341402053833\n",
      "15.97714614868164\n",
      "16.05935287475586\n",
      "15.782149314880371\n",
      "21.481300354003906\n",
      "15.824382781982422\n",
      "16.938106536865234\n",
      "17.237478256225586\n",
      "17.412473678588867\n",
      "17.37912940979004\n",
      "17.312652587890625\n",
      "14.904414176940918\n",
      "13.423200607299805\n",
      "17.922178268432617\n",
      "15.009185791015625\n",
      "15.042241096496582\n",
      "18.020397186279297\n",
      "15.97591495513916\n",
      "17.175212860107422\n",
      "19.001680374145508\n",
      "17.901390075683594\n",
      "15.915444374084473\n",
      "16.709941864013672\n",
      "16.799846649169922\n",
      "16.672380447387695\n",
      "18.81194305419922\n",
      "15.223493576049805\n",
      "14.665531158447266\n",
      "15.374341011047363\n",
      "14.25791072845459\n",
      "15.248361587524414\n",
      "16.683305740356445\n",
      "14.818306922912598\n",
      "12.44935131072998\n",
      "16.938194274902344\n",
      "15.073473930358887\n",
      "11.89704418182373\n",
      "15.760923385620117\n",
      "14.784045219421387\n",
      "12.99815559387207\n",
      "14.983307838439941\n",
      "13.058852195739746\n",
      "14.439383506774902\n",
      "12.831354141235352\n",
      "14.454071998596191\n",
      "15.990086555480957\n",
      "13.973389625549316\n",
      "18.439476013183594\n",
      "15.07730770111084\n",
      "13.838038444519043\n",
      "15.782772064208984\n",
      "12.93581485748291\n",
      "16.397920608520508\n",
      "16.052284240722656\n",
      "16.21519660949707\n",
      "17.558374404907227\n",
      "15.653087615966797\n",
      "15.643545150756836\n",
      "12.912955284118652\n",
      "18.398956298828125\n",
      "14.153050422668457\n",
      "14.496528625488281\n",
      "17.136642456054688\n",
      "11.120562553405762\n",
      "15.501433372497559\n",
      "13.701045036315918\n",
      "14.222784042358398\n",
      "17.198455810546875\n",
      "15.122539520263672\n",
      "13.850502014160156\n",
      "12.199731826782227\n",
      "15.467812538146973\n",
      "13.589775085449219\n",
      "13.831496238708496\n",
      "14.341404914855957\n",
      "16.019577026367188\n",
      "17.636310577392578\n",
      "12.38301944732666\n",
      "15.773649215698242\n",
      "12.005897521972656\n",
      "13.403528213500977\n",
      "11.751557350158691\n",
      "11.81991958618164\n",
      "18.12129020690918\n",
      "16.49610137939453\n",
      "12.382729530334473\n",
      "14.321932792663574\n",
      "12.383328437805176\n",
      "14.724810600280762\n",
      "13.15018081665039\n",
      "11.684513092041016\n",
      "14.306939125061035\n",
      "18.378002166748047\n",
      "11.772850036621094\n",
      "11.367316246032715\n",
      "16.94310760498047\n",
      "10.978751182556152\n",
      "10.390593528747559\n",
      "13.960616111755371\n",
      "13.251709938049316\n",
      "13.51696491241455\n",
      "14.551012992858887\n",
      "16.0495548248291\n",
      "16.228517532348633\n",
      "13.60566520690918\n",
      "15.662613868713379\n",
      "14.183955192565918\n",
      "12.711904525756836\n",
      "12.285354614257812\n",
      "16.826187133789062\n",
      "10.68679141998291\n",
      "12.15510082244873\n",
      "13.024782180786133\n",
      "12.71328067779541\n",
      "14.786314010620117\n",
      "12.13653564453125\n",
      "13.720112800598145\n",
      "13.464289665222168\n",
      "15.355527877807617\n",
      "11.212776184082031\n",
      "12.506691932678223\n",
      "13.22678279876709\n",
      "11.638139724731445\n",
      "12.629140853881836\n",
      "11.729818344116211\n",
      "11.38715934753418\n",
      "17.582826614379883\n",
      "12.827811241149902\n",
      "10.80606460571289\n",
      "15.626171112060547\n",
      "14.307929992675781\n",
      "11.391680717468262\n",
      "12.74566650390625\n",
      "14.9420166015625\n",
      "13.939249038696289\n",
      "11.782495498657227\n",
      "12.638615608215332\n",
      "12.274677276611328\n",
      "13.32970142364502\n",
      "9.927542686462402\n",
      "15.337855339050293\n",
      "10.993071556091309\n",
      "12.853418350219727\n",
      "11.204948425292969\n",
      "12.26720142364502\n",
      "11.892607688903809\n",
      "10.517382621765137\n",
      "12.723093032836914\n",
      "10.675760269165039\n",
      "10.69938850402832\n",
      "12.656421661376953\n",
      "12.629449844360352\n",
      "14.185264587402344\n",
      "13.058392524719238\n",
      "9.671673774719238\n",
      "15.015837669372559\n",
      "11.966050148010254\n",
      "10.52706241607666\n",
      "9.592930793762207\n",
      "12.381502151489258\n",
      "11.167031288146973\n",
      "13.080231666564941\n",
      "11.330748558044434\n",
      "11.420316696166992\n",
      "13.095901489257812\n",
      "13.408281326293945\n",
      "12.712629318237305\n",
      "11.149985313415527\n",
      "12.871732711791992\n",
      "10.44896125793457\n",
      "13.343903541564941\n",
      "11.87520694732666\n",
      "13.262247085571289\n",
      "11.699875831604004\n",
      "13.3213472366333\n",
      "14.464879035949707\n",
      "8.042353630065918\n",
      "10.370027542114258\n",
      "11.737051963806152\n",
      "10.801460266113281\n",
      "8.486680030822754\n",
      "11.67849063873291\n",
      "11.700453758239746\n",
      "12.240732192993164\n",
      "10.210369110107422\n",
      "10.990692138671875\n",
      "9.517269134521484\n",
      "11.636846542358398\n",
      "8.376944541931152\n",
      "8.81141471862793\n",
      "13.509543418884277\n",
      "11.194694519042969\n",
      "13.334259033203125\n",
      "11.226066589355469\n",
      "11.32852840423584\n",
      "10.316265106201172\n",
      "8.253564834594727\n",
      "11.174908638000488\n",
      "8.451066017150879\n",
      "11.418335914611816\n",
      "10.766430854797363\n",
      "8.217330932617188\n",
      "9.367107391357422\n",
      "10.801661491394043\n",
      "10.529223442077637\n",
      "9.678633689880371\n",
      "10.875930786132812\n",
      "11.257686614990234\n",
      "9.811017036437988\n",
      "10.614910125732422\n",
      "9.68984603881836\n",
      "10.78561019897461\n",
      "11.136344909667969\n",
      "10.03467082977295\n",
      "9.448872566223145\n",
      "11.709519386291504\n",
      "8.498954772949219\n",
      "12.099143981933594\n",
      "10.573508262634277\n",
      "11.205896377563477\n",
      "8.773170471191406\n",
      "9.26288890838623\n",
      "7.316586971282959\n",
      "10.449785232543945\n",
      "11.18684196472168\n",
      "8.839231491088867\n",
      "11.513592720031738\n",
      "9.937121391296387\n",
      "12.455193519592285\n",
      "9.99666976928711\n",
      "10.489272117614746\n",
      "6.651827812194824\n",
      "10.672734260559082\n",
      "11.165912628173828\n",
      "8.97574234008789\n",
      "8.946608543395996\n",
      "10.518034934997559\n",
      "9.37832260131836\n",
      "8.181970596313477\n",
      "9.00200366973877\n",
      "8.336434364318848\n",
      "9.918067932128906\n",
      "10.656691551208496\n",
      "9.574454307556152\n",
      "10.312207221984863\n",
      "10.143348693847656\n",
      "11.245976448059082\n",
      "9.199344635009766\n",
      "9.575204849243164\n",
      "9.721439361572266\n",
      "9.9523344039917\n",
      "8.880069732666016\n",
      "11.609678268432617\n",
      "7.859411716461182\n",
      "11.33266544342041\n",
      "13.054986953735352\n",
      "10.197210311889648\n",
      "7.556295871734619\n",
      "9.599750518798828\n",
      "9.926839828491211\n",
      "9.120088577270508\n",
      "8.313491821289062\n",
      "6.548513889312744\n",
      "8.382909774780273\n",
      "8.882096290588379\n",
      "8.99986457824707\n",
      "9.040400505065918\n",
      "9.006254196166992\n",
      "7.3466668128967285\n",
      "11.253752708435059\n",
      "12.13707447052002\n",
      "7.265278339385986\n",
      "7.897110939025879\n",
      "8.155672073364258\n",
      "7.349491596221924\n",
      "9.428191184997559\n",
      "9.026400566101074\n",
      "12.093791961669922\n",
      "7.02465295791626\n",
      "8.732738494873047\n",
      "6.537627220153809\n",
      "7.957345962524414\n",
      "9.354585647583008\n",
      "8.63708782196045\n",
      "9.718786239624023\n",
      "7.668165683746338\n",
      "8.798346519470215\n",
      "7.159437656402588\n",
      "8.483901023864746\n",
      "10.422870635986328\n",
      "6.312144756317139\n",
      "8.403145790100098\n",
      "9.217020988464355\n",
      "8.111136436462402\n",
      "9.779448509216309\n",
      "7.851841926574707\n",
      "8.9146728515625\n",
      "7.447049617767334\n",
      "8.239787101745605\n",
      "9.175065040588379\n",
      "8.065607070922852\n",
      "8.695741653442383\n",
      "7.882429122924805\n",
      "8.092578887939453\n",
      "7.547173023223877\n",
      "7.673029899597168\n",
      "7.380671501159668\n",
      "8.63485050201416\n",
      "6.001429080963135\n",
      "9.415555953979492\n",
      "8.042158126831055\n",
      "8.75646686553955\n",
      "8.636457443237305\n",
      "8.06883716583252\n",
      "6.928600788116455\n",
      "7.045923709869385\n",
      "7.850647926330566\n",
      "5.727068901062012\n",
      "9.118673324584961\n",
      "8.537747383117676\n",
      "9.730608940124512\n",
      "7.960233688354492\n",
      "7.61234712600708\n",
      "7.8565497398376465\n",
      "7.79458475112915\n",
      "9.463068008422852\n",
      "6.010041236877441\n",
      "6.45423698425293\n",
      "7.351320266723633\n",
      "8.424365997314453\n",
      "5.743224143981934\n",
      "8.966216087341309\n",
      "7.767464637756348\n",
      "6.464197635650635\n",
      "7.02794075012207\n",
      "6.566402435302734\n",
      "5.9543137550354\n",
      "7.8018598556518555\n",
      "7.70933198928833\n",
      "5.949567794799805\n",
      "6.999510765075684\n",
      "6.990307807922363\n",
      "7.723108291625977\n",
      "7.879599571228027\n",
      "5.0605597496032715\n",
      "8.15949821472168\n",
      "7.438535213470459\n",
      "7.481651306152344\n",
      "6.621649265289307\n",
      "7.03408670425415\n",
      "6.163965225219727\n",
      "6.860449314117432\n",
      "7.220450401306152\n",
      "6.490862846374512\n",
      "7.10263729095459\n",
      "6.522865295410156\n",
      "6.373927116394043\n",
      "6.01181173324585\n",
      "5.673083305358887\n",
      "6.512470245361328\n",
      "4.862455368041992\n",
      "9.239217758178711\n",
      "5.5574750900268555\n",
      "6.597897529602051\n",
      "5.889625549316406\n",
      "5.409675121307373\n",
      "5.671017646789551\n",
      "6.856367111206055\n",
      "5.63632345199585\n",
      "6.233098030090332\n",
      "5.558887004852295\n",
      "5.976925373077393\n",
      "6.332119941711426\n",
      "4.858135223388672\n",
      "6.306268215179443\n",
      "4.421950340270996\n",
      "5.635800361633301\n",
      "5.885159969329834\n",
      "5.485932350158691\n",
      "4.006551742553711\n",
      "4.735518932342529\n",
      "6.022374629974365\n",
      "5.4983649253845215\n",
      "5.358494281768799\n",
      "6.538386821746826\n",
      "4.092646598815918\n",
      "6.402970314025879\n",
      "6.994729518890381\n",
      "7.752851486206055\n",
      "5.044596195220947\n",
      "5.623174667358398\n",
      "3.743514060974121\n",
      "7.086160182952881\n",
      "7.401346683502197\n",
      "4.931509017944336\n",
      "6.275481224060059\n",
      "4.3517608642578125\n",
      "5.36483097076416\n",
      "4.057561874389648\n",
      "5.366227149963379\n",
      "5.067720890045166\n",
      "5.871673583984375\n",
      "4.901364326477051\n",
      "5.286781311035156\n",
      "4.37474250793457\n",
      "5.915978908538818\n",
      "4.3924031257629395\n",
      "4.422924041748047\n",
      "4.711957931518555\n",
      "5.56296968460083\n",
      "5.6616926193237305\n",
      "4.089332103729248\n",
      "4.571075439453125\n",
      "4.890903472900391\n",
      "5.249432563781738\n",
      "4.805487155914307\n",
      "5.641391754150391\n",
      "4.6472320556640625\n",
      "5.1139678955078125\n",
      "5.050920486450195\n",
      "5.484062194824219\n",
      "4.674590110778809\n",
      "5.380526542663574\n",
      "4.83854866027832\n",
      "5.84421443939209\n",
      "4.835648059844971\n",
      "4.535821914672852\n",
      "3.9871745109558105\n",
      "5.607028007507324\n",
      "4.8090739250183105\n",
      "3.8908376693725586\n",
      "6.166050434112549\n",
      "4.740228176116943\n",
      "5.255334854125977\n",
      "3.8835394382476807\n",
      "3.9560706615448\n",
      "4.969222545623779\n",
      "5.328727722167969\n",
      "4.940224647521973\n",
      "5.413531303405762\n",
      "5.048498630523682\n",
      "5.660975456237793\n",
      "4.567401885986328\n",
      "4.941574573516846\n",
      "4.6995391845703125\n",
      "4.575071334838867\n",
      "4.29056453704834\n",
      "5.70902681350708\n",
      "4.105957984924316\n",
      "4.3116021156311035\n",
      "5.303357124328613\n",
      "4.220076084136963\n",
      "4.944265842437744\n",
      "4.5137529373168945\n",
      "4.374378204345703\n",
      "4.060525894165039\n",
      "4.103180885314941\n",
      "3.66375732421875\n",
      "3.291224718093872\n",
      "4.434173583984375\n",
      "4.700085639953613\n",
      "4.009570121765137\n",
      "3.670802116394043\n",
      "5.144334316253662\n",
      "3.1279003620147705\n",
      "4.846591949462891\n",
      "4.741924285888672\n",
      "3.8824102878570557\n",
      "5.347776889801025\n",
      "3.895972490310669\n",
      "4.355809211730957\n",
      "4.722513675689697\n",
      "4.791985511779785\n",
      "4.893822193145752\n",
      "5.0875563621521\n",
      "2.937699317932129\n",
      "3.6448521614074707\n",
      "3.6100590229034424\n",
      "4.430709362030029\n",
      "4.4257283210754395\n",
      "4.089719295501709\n",
      "3.6243486404418945\n",
      "3.835852861404419\n",
      "4.958012580871582\n",
      "3.8120129108428955\n",
      "4.058879375457764\n",
      "3.9560720920562744\n",
      "3.852417469024658\n",
      "3.7788197994232178\n",
      "3.8103678226470947\n",
      "4.870875358581543\n",
      "3.49568772315979\n",
      "4.67568302154541\n",
      "4.4470133781433105\n",
      "5.11375093460083\n",
      "3.7862906455993652\n",
      "4.167868614196777\n",
      "3.663525104522705\n",
      "3.9177002906799316\n",
      "4.085494518280029\n",
      "4.239328384399414\n",
      "4.107275009155273\n",
      "3.591245651245117\n",
      "4.27896785736084\n",
      "4.074474334716797\n",
      "3.960958480834961\n",
      "3.5314834117889404\n",
      "3.1572425365448\n",
      "3.705383777618408\n",
      "3.369873285293579\n",
      "3.528507947921753\n",
      "3.6397945880889893\n",
      "4.095807075500488\n",
      "4.010529041290283\n",
      "3.6021180152893066\n",
      "4.76759147644043\n",
      "4.181346416473389\n",
      "3.811229944229126\n",
      "3.352388620376587\n",
      "3.41841983795166\n",
      "4.839033603668213\n",
      "3.695195198059082\n",
      "4.061176776885986\n",
      "2.4745218753814697\n",
      "3.0522966384887695\n",
      "3.788017749786377\n",
      "2.729170322418213\n",
      "3.524148464202881\n",
      "4.270320415496826\n",
      "3.0162265300750732\n",
      "3.069798469543457\n",
      "4.0865912437438965\n",
      "3.7792649269104004\n",
      "3.638490915298462\n",
      "3.388786554336548\n",
      "3.4646646976470947\n",
      "3.671116352081299\n",
      "4.5460591316223145\n",
      "3.3126890659332275\n",
      "3.729978084564209\n",
      "3.775510311126709\n",
      "3.1773037910461426\n",
      "4.24496603012085\n",
      "2.9349043369293213\n",
      "3.1613729000091553\n",
      "3.9560015201568604\n",
      "2.998488187789917\n",
      "4.005532264709473\n",
      "3.2548365592956543\n",
      "2.727046489715576\n",
      "2.9643592834472656\n",
      "4.109650611877441\n",
      "3.1603658199310303\n",
      "3.5659234523773193\n",
      "3.743056058883667\n",
      "2.8338942527770996\n",
      "3.913878917694092\n",
      "4.315005779266357\n",
      "3.0620672702789307\n",
      "4.035048484802246\n",
      "3.0617284774780273\n",
      "3.4291446208953857\n",
      "3.015977144241333\n",
      "2.734539270401001\n",
      "2.8423051834106445\n",
      "3.335986614227295\n",
      "4.547557830810547\n",
      "3.3001794815063477\n",
      "2.3803727626800537\n",
      "3.105809211730957\n",
      "3.761075973510742\n",
      "3.261992931365967\n",
      "3.6164047718048096\n",
      "3.362168788909912\n",
      "3.471346855163574\n",
      "2.7258095741271973\n",
      "3.18210768699646\n",
      "2.9944827556610107\n",
      "3.119356870651245\n",
      "3.214073896408081\n",
      "3.5428214073181152\n",
      "2.8115758895874023\n",
      "2.6005029678344727\n",
      "3.3384244441986084\n",
      "3.0922560691833496\n",
      "3.555408239364624\n",
      "3.5303027629852295\n",
      "4.240118980407715\n",
      "2.68395733833313\n",
      "3.243691921234131\n",
      "3.223206043243408\n",
      "3.7435426712036133\n",
      "2.491096019744873\n",
      "3.0077455043792725\n",
      "3.6134543418884277\n",
      "2.987215757369995\n",
      "3.436875104904175\n",
      "3.0215091705322266\n",
      "3.0273666381835938\n",
      "3.20916748046875\n",
      "2.746328830718994\n",
      "4.725788116455078\n",
      "3.464167356491089\n",
      "3.3702218532562256\n",
      "2.750437021255493\n",
      "3.129093647003174\n",
      "2.734314203262329\n",
      "2.808986186981201\n",
      "3.901796579360962\n",
      "3.295708417892456\n",
      "2.9117634296417236\n",
      "2.714521646499634\n",
      "3.1427483558654785\n",
      "2.3756093978881836\n",
      "3.5941460132598877\n",
      "3.049797296524048\n",
      "3.232151746749878\n",
      "3.0087599754333496\n",
      "2.7902474403381348\n",
      "2.9901046752929688\n",
      "2.9080376625061035\n",
      "3.403449535369873\n",
      "2.726954460144043\n",
      "3.4773831367492676\n",
      "3.0607948303222656\n",
      "2.778132438659668\n",
      "3.0420055389404297\n",
      "3.023430347442627\n",
      "3.5239741802215576\n",
      "3.014326333999634\n",
      "3.7202982902526855\n",
      "3.1898839473724365\n",
      "2.67295503616333\n",
      "2.8820793628692627\n",
      "2.962169885635376\n",
      "2.62823486328125\n",
      "2.6207382678985596\n",
      "2.553302526473999\n",
      "3.416797161102295\n",
      "3.7445030212402344\n",
      "3.0035390853881836\n",
      "2.431335926055908\n",
      "2.9761078357696533\n",
      "2.668336868286133\n",
      "3.157726287841797\n",
      "2.524500846862793\n",
      "2.4978034496307373\n",
      "2.978118896484375\n",
      "3.314615249633789\n",
      "3.1174330711364746\n",
      "3.1954867839813232\n",
      "2.7714977264404297\n",
      "3.3537306785583496\n",
      "3.255166530609131\n",
      "2.8912527561187744\n",
      "3.174513101577759\n",
      "3.2187139987945557\n",
      "3.459815502166748\n",
      "4.059136867523193\n",
      "3.0177195072174072\n",
      "3.2692759037017822\n",
      "3.04777455329895\n",
      "2.784761905670166\n",
      "3.674260139465332\n",
      "2.949739456176758\n",
      "3.6507132053375244\n",
      "3.5207509994506836\n",
      "3.1906962394714355\n",
      "2.765047073364258\n",
      "2.9392964839935303\n",
      "3.3043437004089355\n",
      "3.4752180576324463\n",
      "3.5988426208496094\n",
      "2.6293036937713623\n",
      "2.923112392425537\n",
      "3.198605537414551\n",
      "3.1900086402893066\n",
      "2.8582091331481934\n",
      "3.075127124786377\n",
      "3.261084794998169\n",
      "3.0006585121154785\n",
      "3.291475772857666\n",
      "2.9406347274780273\n",
      "3.2848029136657715\n",
      "3.204820394515991\n",
      "3.649872303009033\n",
      "3.144376039505005\n",
      "3.1534996032714844\n",
      "3.1756138801574707\n",
      "2.6382391452789307\n",
      "3.0693817138671875\n",
      "3.240133285522461\n",
      "3.3360908031463623\n",
      "3.608717918395996\n",
      "3.6675357818603516\n",
      "3.1265132427215576\n",
      "2.811256170272827\n",
      "3.2111756801605225\n",
      "2.7587015628814697\n",
      "4.116800785064697\n",
      "3.787020206451416\n",
      "4.217317581176758\n",
      "3.453909158706665\n",
      "3.0208969116210938\n",
      "3.4077537059783936\n",
      "4.288715362548828\n",
      "5.055777549743652\n",
      "3.5498275756835938\n",
      "3.3298563957214355\n",
      "3.353877544403076\n",
      "3.348292589187622\n",
      "3.9700920581817627\n",
      "3.5823018550872803\n",
      "3.194603443145752\n",
      "3.321540355682373\n",
      "3.3562166690826416\n",
      "3.3038148880004883\n",
      "3.436894416809082\n",
      "3.1806650161743164\n",
      "2.7814512252807617\n",
      "3.531705617904663\n",
      "4.459616661071777\n",
      "4.4193596839904785\n",
      "4.39475679397583\n",
      "3.79121994972229\n",
      "4.255829334259033\n",
      "3.479611873626709\n",
      "3.6422648429870605\n",
      "3.59787654876709\n",
      "2.910141706466675\n",
      "3.045598030090332\n",
      "3.8888213634490967\n",
      "4.24606466293335\n",
      "3.3064334392547607\n",
      "3.7143328189849854\n",
      "3.867788076400757\n",
      "3.936887502670288\n",
      "3.6946630477905273\n",
      "3.2803571224212646\n",
      "4.056373596191406\n",
      "3.687788724899292\n",
      "3.587324619293213\n",
      "4.074678897857666\n",
      "3.568427562713623\n",
      "3.6983866691589355\n",
      "3.2252960205078125\n",
      "2.738279104232788\n",
      "4.132101058959961\n",
      "3.2156951427459717\n",
      "3.3404674530029297\n",
      "4.028526306152344\n",
      "3.6581943035125732\n",
      "4.5304059982299805\n",
      "4.275367736816406\n",
      "3.9786479473114014\n",
      "3.941981792449951\n",
      "3.591171979904175\n",
      "3.659660816192627\n",
      "4.425111293792725\n",
      "4.163553237915039\n",
      "3.6206963062286377\n",
      "3.4643912315368652\n",
      "5.797694206237793\n",
      "3.708918809890747\n",
      "4.418294906616211\n",
      "4.352482318878174\n",
      "5.388675212860107\n",
      "5.8942766189575195\n",
      "4.5687761306762695\n",
      "5.250929832458496\n",
      "5.201826095581055\n",
      "4.184410572052002\n",
      "5.264779090881348\n",
      "5.072719573974609\n",
      "4.511165618896484\n",
      "5.515431880950928\n",
      "4.244269371032715\n",
      "4.110674858093262\n",
      "7.727442741394043\n",
      "5.568384170532227\n",
      "4.418467998504639\n",
      "5.9007487297058105\n",
      "6.3934006690979\n",
      "3.8984363079071045\n",
      "3.603654384613037\n",
      "3.3911478519439697\n",
      "4.318351745605469\n",
      "3.5682144165039062\n",
      "4.841104030609131\n",
      "4.316138744354248\n",
      "4.493905544281006\n",
      "4.450014114379883\n",
      "4.313329696655273\n",
      "5.087984085083008\n",
      "4.671516418457031\n",
      "3.3011326789855957\n",
      "5.312697887420654\n",
      "5.108265399932861\n",
      "4.241725921630859\n",
      "4.216550827026367\n",
      "2.786461591720581\n",
      "4.843868255615234\n",
      "5.720428466796875\n",
      "4.86216926574707\n",
      "4.662610054016113\n",
      "7.5758466720581055\n",
      "5.675553321838379\n",
      "4.982064723968506\n",
      "4.054070472717285\n",
      "4.535581588745117\n",
      "5.106298446655273\n",
      "4.900290012359619\n",
      "4.887267589569092\n",
      "6.060248851776123\n",
      "4.9397149085998535\n",
      "5.848385334014893\n",
      "5.18633508682251\n",
      "6.954704761505127\n",
      "5.961823463439941\n",
      "5.621396064758301\n",
      "8.554908752441406\n",
      "5.707574844360352\n",
      "6.631051540374756\n",
      "5.316098690032959\n",
      "6.901538848876953\n",
      "9.190228462219238\n",
      "5.923657417297363\n",
      "6.484981536865234\n",
      "4.53925085067749\n",
      "5.199118614196777\n",
      "4.0141801834106445\n",
      "4.922952175140381\n",
      "6.155167579650879\n",
      "7.408202648162842\n",
      "7.679693222045898\n",
      "6.800715923309326\n",
      "7.373970985412598\n",
      "8.34200382232666\n",
      "6.670612812042236\n",
      "7.035599708557129\n",
      "6.2492594718933105\n",
      "8.799796104431152\n",
      "8.213836669921875\n",
      "6.5910468101501465\n",
      "7.281236171722412\n",
      "10.599602699279785\n",
      "7.217855930328369\n",
      "5.5158796310424805\n",
      "4.925314426422119\n",
      "7.0036163330078125\n",
      "7.202566146850586\n",
      "4.607624530792236\n",
      "6.08838415145874\n",
      "6.122281074523926\n",
      "6.877652645111084\n",
      "6.148410320281982\n",
      "7.06061315536499\n",
      "6.214488983154297\n",
      "5.474700927734375\n",
      "5.6699652671813965\n",
      "10.790629386901855\n",
      "7.046905994415283\n",
      "4.994076728820801\n",
      "6.134943962097168\n",
      "6.649046421051025\n",
      "7.15983247756958\n",
      "6.948968410491943\n",
      "10.561992645263672\n",
      "8.311894416809082\n",
      "7.040164947509766\n",
      "8.366320610046387\n",
      "8.144792556762695\n",
      "7.507821083068848\n",
      "5.888148784637451\n",
      "7.21019172668457\n",
      "6.406683921813965\n",
      "6.848099231719971\n",
      "5.137320518493652\n",
      "4.99826717376709\n",
      "7.0070109367370605\n",
      "8.105669021606445\n",
      "8.026123046875\n",
      "7.731716156005859\n",
      "7.324469089508057\n",
      "6.364081859588623\n",
      "6.105203628540039\n",
      "6.395193099975586\n",
      "5.966285228729248\n",
      "5.219229221343994\n",
      "7.061924934387207\n",
      "4.936158657073975\n",
      "6.531296253204346\n",
      "5.533303260803223\n",
      "6.205252647399902\n",
      "6.022263050079346\n",
      "5.197753429412842\n",
      "7.341997146606445\n",
      "7.228275299072266\n",
      "10.426362991333008\n"
     ]
    }
   ],
   "source": [
    "# Try decreasing the learning rate\n",
    "lri = []\n",
    "lossi = []\n",
    "for i in range(1000):\n",
    "    # minibatch construction\n",
    "    ix = torch.randint(0, X.shape[0], (32,))\n",
    "\n",
    "    emb = C[X[ix]]\n",
    "    h = torch.tanh(emb.view(-1, emb.shape[1] * emb.shape[2]) @ W1 + b1)\n",
    "    logits = h @ W2 + b2\n",
    "    loss = F.cross_entropy(logits, Y[ix])\n",
    "    print(loss.item())\n",
    "\n",
    "    for p in parameters:\n",
    "        p.grad = None\n",
    "\n",
    "    loss.backward()\n",
    "    lr = lrs[i]\n",
    "\n",
    "    for p in parameters:\n",
    "        p.data += -lr * p.grad\n",
    "\n",
    "    # track the learning rate and loss\n",
    "    lri.append(lre[i])\n",
    "    lossi.append(loss.item())"
   ]
  },
  {
   "cell_type": "code",
   "execution_count": 513,
   "metadata": {},
   "outputs": [
    {
     "data": {
      "text/plain": [
       "[<matplotlib.lines.Line2D at 0x2a8f88250>]"
      ]
     },
     "execution_count": 513,
     "metadata": {},
     "output_type": "execute_result"
    },
    {
     "data": {
      "image/png": "[encoded data removed]",
      "text/plain": [
       "<Figure size 640x480 with 1 Axes>"
      ]
     },
     "metadata": {},
     "output_type": "display_data"
    }
   ],
   "source": [
    "plt.plot(lrs, lossi)"
   ]
  },
  {
   "cell_type": "code",
   "execution_count": 512,
   "metadata": {},
   "outputs": [
    {
     "data": {
      "text/plain": [
       "[<matplotlib.lines.Line2D at 0x2a8b20f40>]"
      ]
     },
     "execution_count": 512,
     "metadata": {},
     "output_type": "execute_result"
    },
    {
     "data": {
      "image/png": "[encoded data removed]",
      "text/plain": [
       "<Figure size 640x480 with 1 Axes>"
      ]
     },
     "metadata": {},
     "output_type": "display_data"
    }
   ],
   "source": [
    "plt.plot(lri, lossi)"
   ]
  },
  {
   "cell_type": "code",
   "execution_count": 523,
   "metadata": {},
   "outputs": [
    {
     "name": "stdout",
     "output_type": "stream",
     "text": [
      "torch.Size([182625, 3]) torch.Size([182625])\n",
      "torch.Size([22655, 3]) torch.Size([22655])\n",
      "torch.Size([22866, 3]) torch.Size([22866])\n"
     ]
    }
   ],
   "source": [
    "# build the dataset\n",
    "block_size = 3  # context length: how many characters do we take to predict the next one?\n",
    "\n",
    "\n",
    "def build_dataset(words):\n",
    "    X, Y = [], []\n",
    "    for w in words:\n",
    "        # print(w)\n",
    "        context = [0] * block_size\n",
    "        for ch in w + \".\":\n",
    "            ix = stoi[ch]\n",
    "            X.append(context)\n",
    "            Y.append(ix)\n",
    "            # print(''.join(itos[i] for i in context), '--->', itos[ix])\n",
    "            context = context[1:] + [ix]  # crop and append\n",
    "\n",
    "    X = torch.tensor(X)\n",
    "    Y = torch.tensor(Y)\n",
    "    print(X.shape, Y.shape)\n",
    "    return X, Y\n",
    "\n",
    "\n",
    "import random\n",
    "\n",
    "random.seed(42)\n",
    "random.shuffle(words)\n",
    "n1 = int(0.8 * len(words))\n",
    "n2 = int(0.9 * len(words))\n",
    "\n",
    "Xtr, Ytr = build_dataset(words[:n1])\n",
    "Xdev, Ydev = build_dataset(words[n1:n2])\n",
    "Xte, Yte = build_dataset(words[n2:])"
   ]
  },
  {
   "cell_type": "code",
   "execution_count": 1,
   "metadata": {},
   "outputs": [
    {
     "ename": "NameError",
     "evalue": "name 'torch' is not defined",
     "output_type": "error",
     "traceback": [
      "\u001b[0;31m---------------------------------------------------------------------------\u001b[0m",
      "\u001b[0;31mNameError\u001b[0m                                 Traceback (most recent call last)",
      "Cell \u001b[0;32mIn[1], line 5\u001b[0m\n\u001b[1;32m      1\u001b[0m \u001b[39m# Defining the model\u001b[39;00m\n\u001b[1;32m      2\u001b[0m \n\u001b[1;32m      3\u001b[0m \u001b[39m# HYPERPARAMS:\u001b[39;00m\n\u001b[0;32m----> 5\u001b[0m g \u001b[39m=\u001b[39m torch\u001b[39m.\u001b[39mGenerator()\u001b[39m.\u001b[39mmanual_seed(\u001b[39m2147483647\u001b[39m)\n\u001b[1;32m      6\u001b[0m C \u001b[39m=\u001b[39m torch\u001b[39m.\u001b[39mrandn((CLASS_COUNT, EMB_SIZE), generator\u001b[39m=\u001b[39mg)\n\u001b[1;32m      7\u001b[0m W1 \u001b[39m=\u001b[39m torch\u001b[39m.\u001b[39mrandn((BLOCK_SIZE \u001b[39m*\u001b[39m EMB_SIZE, \u001b[39m100\u001b[39m), generator\u001b[39m=\u001b[39mg)\n",
      "\u001b[0;31mNameError\u001b[0m: name 'torch' is not defined"
     ]
    }
   ],
   "source": [
    "# Defining the model\n",
    "\n",
    "# HYPERPARAMS:\n",
    "# EMB_SIZE\n",
    "# BLOCK_SIZE\n",
    "# batch_size\n",
    "# learning rate\n",
    "# number of epochs\n",
    "# number of hidden units\n",
    "\n",
    "\n",
    "g = torch.Generator().manual_seed(2147483647)\n",
    "C = torch.randn((CLASS_COUNT, EMB_SIZE), generator=g)\n",
    "W1 = torch.randn((BLOCK_SIZE * EMB_SIZE, 100), generator=g)\n",
    "b1 = torch.randn(100, generator=g)\n",
    "W2 = torch.randn((100, CLASS_COUNT), generator=g)\n",
    "b2 = torch.randn(CLASS_COUNT, generator=g)\n",
    "\n",
    "parameters: List[torch.tensor] = [C, W1, b1, W2, b2]\n",
    "\n",
    "# turning on gradient tracking\n",
    "for p in parameters:\n",
    "    p.requires_grad = True"
   ]
  },
  {
   "cell_type": "code",
   "execution_count": 525,
   "metadata": {},
   "outputs": [],
   "source": [
    "# Try decreasing the learning rate\n",
    "lossi = []\n",
    "for i in range(200000):\n",
    "    # minibatch construction\n",
    "    ix = torch.randint(0, Xtr.shape[0], (32,))\n",
    "\n",
    "    emb = C[Xtr[ix]]\n",
    "    h = torch.tanh(emb.view(-1, emb.shape[1] * emb.shape[2]) @ W1 + b1)\n",
    "    logits = h @ W2 + b2\n",
    "    loss = F.cross_entropy(logits, Ytr[ix])\n",
    "    # print(loss.item())\n",
    "\n",
    "    for p in parameters:\n",
    "        p.grad = None\n",
    "\n",
    "    loss.backward()\n",
    "\n",
    "    for p in parameters:\n",
    "        if i < 100000:\n",
    "            p.data -= 0.1 * p.grad\n",
    "        else:\n",
    "            p.data -= 0.01 * p.grad\n",
    "\n",
    "    # track the learning rate and loss\n",
    "    lossi.append(loss.item())"
   ]
  },
  {
   "cell_type": "code",
   "execution_count": 526,
   "metadata": {},
   "outputs": [
    {
     "data": {
      "text/plain": [
       "[<matplotlib.lines.Line2D at 0x2a6ede820>]"
      ]
     },
     "execution_count": 526,
     "metadata": {},
     "output_type": "execute_result"
    },
    {
     "data": {
      "image/png": "[encoded data removed]",
      "text/plain": [
       "<Figure size 640x480 with 1 Axes>"
      ]
     },
     "metadata": {},
     "output_type": "display_data"
    }
   ],
   "source": [
    "plt.plot(np.arange(200000), lossi)"
   ]
  },
  {
   "cell_type": "code",
   "execution_count": 530,
   "metadata": {},
   "outputs": [
    {
     "data": {
      "text/plain": [
       "tensor(2.2549, grad_fn=<NllLossBackward0>)"
      ]
     },
     "execution_count": 530,
     "metadata": {},
     "output_type": "execute_result"
    }
   ],
   "source": [
    "emb = C[Xtr]\n",
    "h = torch.tanh(emb.view(-1, emb.shape[1] * emb.shape[2]) @ W1 + b1)\n",
    "logits = h @ W2 + b2\n",
    "loss = F.cross_entropy(logits, Ytr)\n",
    "loss"
   ]
  },
  {
   "cell_type": "code",
   "execution_count": 531,
   "metadata": {},
   "outputs": [
    {
     "data": {
      "text/plain": [
       "tensor(2.2583, grad_fn=<NllLossBackward0>)"
      ]
     },
     "execution_count": 531,
     "metadata": {},
     "output_type": "execute_result"
    }
   ],
   "source": [
    "emb = C[Xdev]\n",
    "h = torch.tanh(emb.view(-1, emb.shape[1] * emb.shape[2]) @ W1 + b1)\n",
    "logits = h @ W2 + b2\n",
    "loss = F.cross_entropy(logits, Ydev)\n",
    "loss"
   ]
  },
  {
   "cell_type": "code",
   "execution_count": 532,
   "metadata": {},
   "outputs": [
    {
     "data": {
      "text/plain": [
       "tensor(2.2585, grad_fn=<NllLossBackward0>)"
      ]
     },
     "execution_count": 532,
     "metadata": {},
     "output_type": "execute_result"
    }
   ],
   "source": [
    "emb = C[Xte]\n",
    "h = torch.tanh(emb.view(-1, emb.shape[1] * emb.shape[2]) @ W1 + b1)\n",
    "logits = h @ W2 + b2\n",
    "loss = F.cross_entropy(logits, Yte)\n",
    "loss"
   ]
  },
  {
   "cell_type": "code",
   "execution_count": 534,
   "metadata": {},
   "outputs": [
    {
     "data": {
      "image/png": "[encoded data removed]",
      "text/plain": [
       "<Figure size 800x800 with 1 Axes>"
      ]
     },
     "metadata": {},
     "output_type": "display_data"
    }
   ],
   "source": [
    "# visualize dimensions 0 and 1 of the embedding matrix C for all characters\n",
    "D = torch.randn((CLASS_COUNT, EMB_SIZE), generator=g)\n",
    "plt.figure(figsize=(8, 8))\n",
    "plt.scatter(D[:, 0].data, D[:, 1].data, s=200)\n",
    "for i in range(D.shape[0]):\n",
    "    plt.text(D[i, 0].item(), D[i, 1].item(), itos[i], ha=\"center\", va=\"center\", color=\"white\")\n",
    "plt.grid(\"minor\")"
   ]
  },
  {
   "cell_type": "code",
   "execution_count": 533,
   "metadata": {},
   "outputs": [
    {
     "data": {
      "image/png": "[encoded data removed]",
      "text/plain": [
       "<Figure size 800x800 with 1 Axes>"
      ]
     },
     "metadata": {},
     "output_type": "display_data"
    }
   ],
   "source": [
    "# visualize dimensions 0 and 1 of the embedding matrix C for all characters\n",
    "plt.figure(figsize=(8, 8))\n",
    "plt.scatter(C[:, 0].data, C[:, 1].data, s=200)\n",
    "for i in range(C.shape[0]):\n",
    "    plt.text(C[i, 0].item(), C[i, 1].item(), itos[i], ha=\"center\", va=\"center\", color=\"white\")\n",
    "plt.grid(\"minor\")"
   ]
  },
  {
   "cell_type": "code",
   "execution_count": 535,
   "metadata": {},
   "outputs": [
    {
     "name": "stdout",
     "output_type": "stream",
     "text": [
      "carmahela.\n",
      "jhevi.\n",
      "kimri.\n",
      "rehty.\n",
      "sranden.\n",
      "jazhuel.\n",
      "deliah.\n",
      "jareei.\n",
      "ner.\n",
      "kia.\n",
      "chaiir.\n",
      "kaleigpu.\n",
      "bma.\n",
      "din.\n",
      "quinn.\n",
      "sroilea.\n",
      "jadiquia.\n",
      "thogisaryxix.\n",
      "kae.\n",
      "pilsan.\n"
     ]
    }
   ],
   "source": [
    "# sample from the model\n",
    "g = torch.Generator().manual_seed(2147483647 + 10)\n",
    "\n",
    "for _ in range(20):\n",
    "    out = []\n",
    "    context = [0] * block_size  # initialize with all ...\n",
    "    while True:\n",
    "        emb = C[torch.tensor([context])]  # (1,block_size,d)\n",
    "        h = torch.tanh(emb.view(1, -1) @ W1 + b1)\n",
    "        logits = h @ W2 + b2\n",
    "        probs = F.softmax(logits, dim=1)\n",
    "        ix = torch.multinomial(probs, num_samples=1, generator=g).item()\n",
    "        context = context[1:] + [ix]\n",
    "        out.append(ix)\n",
    "        if ix == 0:\n",
    "            break\n",
    "\n",
    "    print(\"\".join(itos[i] for i in out))"
   ]
  }
 ],
 "metadata": {
  "kernelspec": {
   "display_name": ".venv",
   "language": "python",
   "name": "python3"
  },
  "language_info": {
   "codemirror_mode": {
    "name": "ipython",
    "version": 3
   },
   "file_extension": ".py",
   "mimetype": "text/x-python",
   "name": "python",
   "nbconvert_exporter": "python",
   "pygments_lexer": "ipython3",
   "version": "3.9.13"
  },
  "orig_nbformat": 4,
  "vscode": {
   "interpreter": {
    "hash": "de17c4b867480f2f8bc5d2be08a00cb2e02a1ee18bda207b764c3905e0b438fb"
   }
  }
 },
 "nbformat": 4,
 "nbformat_minor": 2
}
