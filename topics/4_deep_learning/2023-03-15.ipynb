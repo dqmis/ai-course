{
 "cells": [
  {
   "attachments": {},
   "cell_type": "markdown",
   "metadata": {},
   "source": [
    "# Transfer Learning\n",
    "## 2023-03-15"
   ]
  },
  {
   "cell_type": "code",
   "execution_count": 71,
   "metadata": {},
   "outputs": [],
   "source": [
    "from abc import ABC, abstractmethod\n",
    "from typing import List, Tuple\n",
    "\n",
    "import matplotlib.pyplot as plt\n",
    "import torch\n",
    "import torch.nn.functional as F\n",
    "from sklearn.metrics import classification_report\n",
    "from sklearn.model_selection import train_test_split\n",
    "from torch.utils.data import DataLoader, Dataset\n",
    "from torchvision import transforms\n",
    "from torchvision.datasets import MNIST"
   ]
  },
  {
   "cell_type": "code",
   "execution_count": 38,
   "metadata": {},
   "outputs": [],
   "source": [
    "# --- BASE ---\n",
    "class Module(ABC):\n",
    "    @abstractmethod\n",
    "    def forward(x: torch.Tensor) -> torch.Tensor:\n",
    "        raise NotImplementedError\n",
    "\n",
    "    def __call__(self, x: torch.Tensor) -> torch.Tensor:\n",
    "        return self.forward(x)\n",
    "\n",
    "    @property\n",
    "    def out(self) -> torch.Tensor:\n",
    "        return self._out\n",
    "\n",
    "    @property\n",
    "    def parameters(self) -> List[torch.Tensor]:\n",
    "        return []\n",
    "\n",
    "\n",
    "# --- LINEAR LAYER ---\n",
    "\n",
    "\n",
    "class Linear(Module):\n",
    "    def __init__(self, fan_in: int, fan_out: int, bias: bool = True) -> None:\n",
    "        self._weight = torch.randn(fan_in, fan_out) / fan_in**0.5\n",
    "        self._bias = torch.zeros(fan_out) if bias else None\n",
    "\n",
    "    @property\n",
    "    def weight(self) -> torch.Tensor:\n",
    "        return self._weight\n",
    "\n",
    "    @weight.setter\n",
    "    def weight(self, x: torch.Tensor) -> None:\n",
    "        self._weight = x\n",
    "\n",
    "    @property\n",
    "    def bias(self) -> torch.Tensor:\n",
    "        return self._bias\n",
    "\n",
    "    def forward(self, x: torch.Tensor) -> torch.Tensor:\n",
    "        # hprebn = embcat @ W1 + b1 # hidden layer pre-activation\n",
    "        self._out = x @ self._weight\n",
    "        if self._bias is not None:\n",
    "            self._out += self.bias\n",
    "        return self._out\n",
    "\n",
    "    @property\n",
    "    def parameters(self) -> List[torch.Tensor]:\n",
    "        return [self.weight] + ([self.bias] if self.bias is not None else [])\n",
    "\n",
    "\n",
    "# --- ACTIVATION ---\n",
    "\n",
    "\n",
    "class Tanh(Module):\n",
    "    def forward(self, x: torch.Tensor) -> torch.Tensor:\n",
    "        self._out = torch.tanh(x)\n",
    "        return self._out\n",
    "\n",
    "\n",
    "class ReLU(Module):\n",
    "    def forward(self, x: torch.Tensor) -> torch.Tensor:\n",
    "        self._out = torch.relu(x)\n",
    "        return self._out\n",
    "\n",
    "\n",
    "# --- BATCH NORM ---\n",
    "\n",
    "\n",
    "class BatchNorm1d(Module):\n",
    "    def __init__(self, fan_in: int, eps: float = 1e-5, momentum: float = 1e-1) -> None:\n",
    "        self._eps = eps\n",
    "        self._momentum = momentum\n",
    "        self._training = True\n",
    "        # parameters\n",
    "        self._gamma = torch.ones(fan_in)\n",
    "        self._beta = torch.zeros(fan_in)\n",
    "        # buffers\n",
    "        self._running_mean = torch.zeros(fan_in)\n",
    "        self._running_var = torch.ones(fan_in)\n",
    "\n",
    "    @property\n",
    "    def training(self) -> bool:\n",
    "        return self._training\n",
    "\n",
    "    @training.setter\n",
    "    def training(self, value: bool) -> None:\n",
    "        self._training = value\n",
    "\n",
    "    # a.shape [B, T, C, H, W]\n",
    "\n",
    "    def forward(self, x: torch.Tensor) -> torch.Tensor:\n",
    "        if self._training:\n",
    "            if x.dim == 2:\n",
    "                dim = 0\n",
    "            elif x.dim == 3:\n",
    "                dim = (0, 1)\n",
    "            xmean = x.mean(dim=dim, keepdim=True)\n",
    "            xvar = x.var(dim=dim, keepdim=True)\n",
    "        else:\n",
    "            xmean = self._running_mean\n",
    "            xvar = self._running_var\n",
    "\n",
    "        xhat = (x - xmean) / torch.sqrt(xvar + self._eps)\n",
    "        self._out = self._gamma * xhat + self._beta\n",
    "\n",
    "        # updating buffers\n",
    "        if self._training:\n",
    "            self._running_mean = self._momentum * xmean + (1 - self._momentum) * self._running_mean\n",
    "            self._running_var = self._momentum * xvar + (1 - self._momentum) * self._running_var\n",
    "\n",
    "        return self._out\n",
    "\n",
    "    @property\n",
    "    def parameters(self) -> List[torch.Tensor]:\n",
    "        return [self._gamma, self._beta]\n",
    "\n",
    "\n",
    "# --- EMBEDDING ---\n",
    "\n",
    "\n",
    "class Embedding(Module):\n",
    "    def __init__(self, vocab_size: int, embedding_size: int) -> None:\n",
    "        self._embedding = torch.randn(vocab_size, embedding_size)\n",
    "\n",
    "    def forward(self, x: torch.Tensor) -> torch.Tensor:\n",
    "        self._out = self._embedding[x]\n",
    "        return self._out\n",
    "\n",
    "    @property\n",
    "    def parameters(self) -> List[torch.Tensor]:\n",
    "        return [self._embedding]\n",
    "\n",
    "\n",
    "# --- FLATTEN ---\n",
    "class Flatten(Module):\n",
    "    def forward(self, x: torch.Tensor) -> torch.Tensor:\n",
    "        self._out = x.view(x.shape[0], -1)\n",
    "        return self._out\n",
    "\n",
    "\n",
    "class FlattenConsecutive(Module):\n",
    "    def __init__(self, n: int = 1) -> None:\n",
    "        self._n = n\n",
    "\n",
    "    def forward(self, x: torch.Tensor) -> torch.Tensor:\n",
    "        B, T, C = x.shape\n",
    "        x = x.view(B, T // self._n, C * self._n)\n",
    "        if x.shape[1] == 1:\n",
    "            x = x.squeeze(1)\n",
    "\n",
    "        self._out = x\n",
    "        return self._out\n",
    "\n",
    "\n",
    "# --- SEQUENTIAL ---\n",
    "class Sequential(Module):\n",
    "    def __init__(self, *layers: Module) -> None:\n",
    "        self._layers = list(layers)\n",
    "\n",
    "    def forward(self, x: torch.Tensor) -> torch.Tensor:\n",
    "        for layer in self._layers:\n",
    "            x = layer(x)\n",
    "        self._out = x\n",
    "        return x\n",
    "\n",
    "    @property\n",
    "    def layers(self) -> List[Module]:\n",
    "        return self._layers\n",
    "\n",
    "    @property\n",
    "    def out_features(self) -> int:\n",
    "        return self._layers[-1].weight.shape[-1]\n",
    "\n",
    "    @property\n",
    "    def parameters(self) -> List[torch.Tensor]:\n",
    "        return [p for layer in self._layers for p in layer.parameters]"
   ]
  },
  {
   "cell_type": "code",
   "execution_count": 170,
   "metadata": {},
   "outputs": [],
   "source": [
    "def evaluate_model(\n",
    "    model: NumbersModel, test_dataloader: DataLoader, half_dataset: bool = False\n",
    ") -> None:\n",
    "    pred_labels: List[int] = []\n",
    "    true_labels: List[int] = []\n",
    "\n",
    "    with torch.no_grad():\n",
    "        for batch in test_dataloader:\n",
    "            x, y = batch\n",
    "            if half_dataset:\n",
    "                y = y // 2\n",
    "            y_pred = model(x)\n",
    "            pred_labels += y_pred.argmax(dim=-1).tolist()\n",
    "            true_labels += y.tolist()\n",
    "\n",
    "    print(classification_report(true_labels, pred_labels))"
   ]
  },
  {
   "cell_type": "code",
   "execution_count": 7,
   "metadata": {},
   "outputs": [
    {
     "name": "stdout",
     "output_type": "stream",
     "text": [
      "Downloading http://yann.lecun.com/exdb/mnist/train-images-idx3-ubyte.gz\n",
      "Downloading http://yann.lecun.com/exdb/mnist/train-images-idx3-ubyte.gz to MNIST/raw/train-images-idx3-ubyte.gz\n"
     ]
    },
    {
     "name": "stderr",
     "output_type": "stream",
     "text": [
      "100%|██████████| 9912422/9912422 [00:00<00:00, 23379561.89it/s]\n"
     ]
    },
    {
     "name": "stdout",
     "output_type": "stream",
     "text": [
      "Extracting MNIST/raw/train-images-idx3-ubyte.gz to MNIST/raw\n",
      "\n",
      "Downloading http://yann.lecun.com/exdb/mnist/train-labels-idx1-ubyte.gz\n",
      "Downloading http://yann.lecun.com/exdb/mnist/train-labels-idx1-ubyte.gz to MNIST/raw/train-labels-idx1-ubyte.gz\n"
     ]
    },
    {
     "name": "stderr",
     "output_type": "stream",
     "text": [
      "100%|██████████| 28881/28881 [00:00<00:00, 24541266.98it/s]\n"
     ]
    },
    {
     "name": "stdout",
     "output_type": "stream",
     "text": [
      "Extracting MNIST/raw/train-labels-idx1-ubyte.gz to MNIST/raw\n",
      "\n",
      "Downloading http://yann.lecun.com/exdb/mnist/t10k-images-idx3-ubyte.gz\n",
      "Downloading http://yann.lecun.com/exdb/mnist/t10k-images-idx3-ubyte.gz to MNIST/raw/t10k-images-idx3-ubyte.gz\n"
     ]
    },
    {
     "name": "stderr",
     "output_type": "stream",
     "text": [
      "100%|██████████| 1648877/1648877 [00:00<00:00, 18896291.17it/s]\n"
     ]
    },
    {
     "name": "stdout",
     "output_type": "stream",
     "text": [
      "Extracting MNIST/raw/t10k-images-idx3-ubyte.gz to MNIST/raw\n",
      "\n",
      "Downloading http://yann.lecun.com/exdb/mnist/t10k-labels-idx1-ubyte.gz\n",
      "Downloading http://yann.lecun.com/exdb/mnist/t10k-labels-idx1-ubyte.gz to MNIST/raw/t10k-labels-idx1-ubyte.gz\n"
     ]
    },
    {
     "name": "stderr",
     "output_type": "stream",
     "text": [
      "100%|██████████| 4542/4542 [00:00<00:00, 3772381.93it/s]"
     ]
    },
    {
     "name": "stdout",
     "output_type": "stream",
     "text": [
      "Extracting MNIST/raw/t10k-labels-idx1-ubyte.gz to MNIST/raw\n",
      "\n"
     ]
    },
    {
     "name": "stderr",
     "output_type": "stream",
     "text": [
      "\n"
     ]
    }
   ],
   "source": [
    "mnist_dataset = MNIST(root=\"\", download=True, train=True, transform=transforms.ToTensor())"
   ]
  },
  {
   "cell_type": "code",
   "execution_count": 24,
   "metadata": {},
   "outputs": [],
   "source": [
    "# Splitting odd and even numbers from dataset\n",
    "\n",
    "even_numbers: List[Tuple[torch.Tensor]] = []\n",
    "odd_numbers: List[Tuple[torch.Tensor]] = []\n",
    "\n",
    "for sample in mnist_dataset:\n",
    "    label = sample[1]\n",
    "    if label % 2 == 0:\n",
    "        even_numbers.append(sample)\n",
    "    else:\n",
    "        odd_numbers.append(sample)"
   ]
  },
  {
   "cell_type": "code",
   "execution_count": 28,
   "metadata": {},
   "outputs": [],
   "source": [
    "class NumbersDataset(Dataset):\n",
    "    def __init__(self, data: List[Tuple[torch.Tensor]]) -> None:\n",
    "        self._data = data\n",
    "\n",
    "    def __len__(self) -> int:\n",
    "        return len(self._data)\n",
    "\n",
    "    def __getitem__(self, idx: int) -> Tuple[torch.Tensor, torch.Tensor]:\n",
    "        return self._data[idx]"
   ]
  },
  {
   "cell_type": "code",
   "execution_count": 30,
   "metadata": {},
   "outputs": [],
   "source": [
    "train_even_numbers, test_even_numbers = train_test_split(\n",
    "    even_numbers, test_size=0.2, random_state=42\n",
    ")\n",
    "train_odd_numbers, test_odd_numbers = train_test_split(odd_numbers, test_size=0.2, random_state=42)\n",
    "train_numbers, test_numbers = train_test_split(\n",
    "    even_numbers + odd_numbers, test_size=0.2, random_state=42\n",
    ")"
   ]
  },
  {
   "cell_type": "code",
   "execution_count": 60,
   "metadata": {},
   "outputs": [],
   "source": [
    "class NumbersModel:\n",
    "    def __init__(self, encoder: Module, class_num) -> None:\n",
    "        self._encoder = encoder\n",
    "        self._classifier = Linear(encoder.out_features, class_num)\n",
    "\n",
    "    def forward(self, x: torch.Tensor) -> torch.Tensor:\n",
    "        x = x.view(x.size(0), -1)\n",
    "        x = self._encoder(x)\n",
    "        x = self._classifier(x)\n",
    "        return x\n",
    "\n",
    "    def freeze(self) -> None:\n",
    "        for p in self._encoder.parameters:\n",
    "            p.requires_grad = False\n",
    "\n",
    "    def unfreeze(self) -> None:\n",
    "        for p in self.parameters:\n",
    "            p.requires_grad = True\n",
    "\n",
    "    def __call__(self, x: torch.Tensor) -> torch.Tensor:\n",
    "        return self.forward(x)\n",
    "\n",
    "    @property\n",
    "    def parameters(self) -> List[torch.Tensor]:\n",
    "        return self._encoder.parameters + self._classifier.parameters"
   ]
  },
  {
   "cell_type": "code",
   "execution_count": 154,
   "metadata": {},
   "outputs": [],
   "source": [
    "model = NumbersModel(\n",
    "    Sequential(\n",
    "        Linear(28 * 28, 128),\n",
    "        ReLU(),\n",
    "        Linear(128, 64),\n",
    "        ReLU(),\n",
    "        Linear(64, 64),\n",
    "    ),\n",
    "    class_num=10,\n",
    ")"
   ]
  },
  {
   "cell_type": "code",
   "execution_count": 155,
   "metadata": {},
   "outputs": [],
   "source": [
    "train_dataloader = DataLoader(NumbersDataset(train_numbers), batch_size=32, shuffle=True)\n",
    "test_dataloader = DataLoader(NumbersDataset(test_numbers), batch_size=32, shuffle=False)"
   ]
  },
  {
   "cell_type": "code",
   "execution_count": 156,
   "metadata": {},
   "outputs": [
    {
     "name": "stdout",
     "output_type": "stream",
     "text": [
      "Epoch: 0, Loss: 2.130190909544627\n",
      "Epoch: 2, Loss: 0.9313966188430786\n",
      "Epoch: 4, Loss: 0.5364955896933874\n",
      "Epoch: 6, Loss: 0.4287623745203018\n",
      "Epoch: 8, Loss: 0.3772725415279468\n",
      "Epoch: 10, Loss: 0.3453031180600325\n",
      "Epoch: 12, Loss: 0.3221344890892506\n",
      "Epoch: 14, Loss: 0.3036738638704022\n"
     ]
    }
   ],
   "source": [
    "epochs = 15\n",
    "lr = 0.001\n",
    "\n",
    "lossi: List[float] = []\n",
    "\n",
    "model.unfreeze()\n",
    "\n",
    "for i in range(epochs):\n",
    "    epoch_loss: float = []\n",
    "    for batch in train_dataloader:\n",
    "        x, y = batch\n",
    "        y_pred = model(x)\n",
    "        loss = F.cross_entropy(y_pred, y)\n",
    "\n",
    "        for p in model.parameters:\n",
    "            p.grad = None\n",
    "\n",
    "        loss.backward()\n",
    "\n",
    "        for p in model.parameters:\n",
    "            p.data -= lr * p.grad\n",
    "\n",
    "        epoch_loss.append(loss.item())\n",
    "        lossi.append(loss.item())\n",
    "\n",
    "    if i % 2 == 0:\n",
    "        print(f\"Epoch: {i}, Loss: {sum(epoch_loss) / len(epoch_loss)}\")"
   ]
  },
  {
   "cell_type": "code",
   "execution_count": 157,
   "metadata": {},
   "outputs": [
    {
     "data": {
      "text/plain": [
       "[<matplotlib.lines.Line2D at 0x2be3b96d0>]"
      ]
     },
     "execution_count": 157,
     "metadata": {},
     "output_type": "execute_result"
    },
    {
     "data": {
      "image/png": "[encoded data removed]",
      "text/plain": [
       "<Figure size 640x480 with 1 Axes>"
      ]
     },
     "metadata": {},
     "output_type": "display_data"
    }
   ],
   "source": [
    "smoothing_gain = 250\n",
    "plt.plot(torch.tensor(lossi).view(-1, smoothing_gain).mean(dim=1))"
   ]
  },
  {
   "cell_type": "code",
   "execution_count": 158,
   "metadata": {},
   "outputs": [
    {
     "name": "stdout",
     "output_type": "stream",
     "text": [
      "              precision    recall  f1-score   support\n",
      "\n",
      "           0       0.96      0.95      0.96      1132\n",
      "           1       0.95      0.97      0.96      1351\n",
      "           2       0.92      0.87      0.89      1182\n",
      "           3       0.89      0.89      0.89      1235\n",
      "           4       0.90      0.92      0.91      1126\n",
      "           5       0.88      0.88      0.88      1085\n",
      "           6       0.94      0.95      0.94      1191\n",
      "           7       0.92      0.93      0.92      1266\n",
      "           8       0.89      0.87      0.88      1170\n",
      "           9       0.89      0.89      0.89      1262\n",
      "\n",
      "    accuracy                           0.91     12000\n",
      "   macro avg       0.91      0.91      0.91     12000\n",
      "weighted avg       0.91      0.91      0.91     12000\n",
      "\n"
     ]
    }
   ],
   "source": [
    "evaluate_model(model, test_dataloader)"
   ]
  },
  {
   "cell_type": "code",
   "execution_count": 144,
   "metadata": {},
   "outputs": [],
   "source": [
    "for batch in test_dataloader:\n",
    "    sample = batch[0][2]\n",
    "    break"
   ]
  },
  {
   "cell_type": "code",
   "execution_count": 145,
   "metadata": {},
   "outputs": [
    {
     "data": {
      "text/plain": [
       "<matplotlib.image.AxesImage at 0x2bf049370>"
      ]
     },
     "execution_count": 145,
     "metadata": {},
     "output_type": "execute_result"
    },
    {
     "data": {
      "image/png": "[encoded data removed]",
      "text/plain": [
       "<Figure size 640x480 with 1 Axes>"
      ]
     },
     "metadata": {},
     "output_type": "display_data"
    }
   ],
   "source": [
    "# RAW IMAGE\n",
    "plt.imshow(sample.numpy().reshape(28, 28), cmap=\"gray\")"
   ]
  },
  {
   "cell_type": "code",
   "execution_count": 148,
   "metadata": {},
   "outputs": [],
   "source": [
    "# encoding image\n",
    "with torch.no_grad():\n",
    "    encoded_image = F.relu(model._encoder.layers[0](sample.view(1, -1)))"
   ]
  },
  {
   "cell_type": "code",
   "execution_count": 149,
   "metadata": {},
   "outputs": [
    {
     "data": {
      "text/plain": [
       "torch.Size([1, 144])"
      ]
     },
     "execution_count": 149,
     "metadata": {},
     "output_type": "execute_result"
    }
   ],
   "source": [
    "encoded_image.shape"
   ]
  },
  {
   "cell_type": "code",
   "execution_count": 153,
   "metadata": {},
   "outputs": [
    {
     "data": {
      "text/plain": [
       "<matplotlib.image.AxesImage at 0x2bbc8db80>"
      ]
     },
     "execution_count": 153,
     "metadata": {},
     "output_type": "execute_result"
    },
    {
     "data": {
      "image/png": "[encoded data removed]",
      "text/plain": [
       "<Figure size 640x480 with 1 Axes>"
      ]
     },
     "metadata": {},
     "output_type": "display_data"
    }
   ],
   "source": [
    "plt.imshow(encoded_image.numpy().reshape(12, 12), cmap=\"gray\")"
   ]
  },
  {
   "cell_type": "code",
   "execution_count": 204,
   "metadata": {},
   "outputs": [],
   "source": [
    "even_model = NumbersModel(\n",
    "    Sequential(\n",
    "        Linear(28 * 28, 128),\n",
    "        ReLU(),\n",
    "        Linear(128, 64),\n",
    "        ReLU(),\n",
    "        Linear(64, 64),\n",
    "    ),\n",
    "    class_num=5,\n",
    ")"
   ]
  },
  {
   "cell_type": "code",
   "execution_count": 205,
   "metadata": {},
   "outputs": [],
   "source": [
    "train_even_dataloader = DataLoader(NumbersDataset(train_even_numbers), batch_size=32, shuffle=True)\n",
    "test_even_dataloader = DataLoader(NumbersDataset(test_even_numbers), batch_size=32, shuffle=False)"
   ]
  },
  {
   "cell_type": "code",
   "execution_count": 206,
   "metadata": {},
   "outputs": [
    {
     "name": "stdout",
     "output_type": "stream",
     "text": [
      "Epoch: 0, Loss: 1.4394016215794778\n",
      "Epoch: 2, Loss: 0.4958353877309861\n",
      "Epoch: 4, Loss: 0.25649500348501736\n",
      "Epoch: 6, Loss: 0.20054595103250125\n",
      "Epoch: 8, Loss: 0.17589470593707995\n",
      "Epoch: 10, Loss: 0.16077372159172848\n",
      "Epoch: 12, Loss: 0.15039027300802107\n",
      "Epoch: 14, Loss: 0.14227821986092543\n"
     ]
    }
   ],
   "source": [
    "epochs = 15\n",
    "lr = 0.001\n",
    "\n",
    "lossi: List[float] = []\n",
    "\n",
    "even_model.unfreeze()\n",
    "\n",
    "for i in range(epochs):\n",
    "    epoch_loss: float = []\n",
    "    for batch in train_even_dataloader:\n",
    "        x, y = batch\n",
    "        y = y // 2\n",
    "        y_pred = even_model(x)\n",
    "        loss = F.cross_entropy(y_pred, y)\n",
    "\n",
    "        for p in even_model.parameters:\n",
    "            p.grad = None\n",
    "\n",
    "        loss.backward()\n",
    "\n",
    "        for p in even_model.parameters:\n",
    "            p.data -= lr * p.grad\n",
    "\n",
    "        epoch_loss.append(loss.item())\n",
    "        lossi.append(loss.item())\n",
    "\n",
    "    if i % 2 == 0:\n",
    "        print(f\"Epoch: {i}, Loss: {sum(epoch_loss) / len(epoch_loss)}\")"
   ]
  },
  {
   "cell_type": "code",
   "execution_count": 207,
   "metadata": {},
   "outputs": [
    {
     "data": {
      "text/plain": [
       "[<matplotlib.lines.Line2D at 0x2c0a7fd00>]"
      ]
     },
     "execution_count": 207,
     "metadata": {},
     "output_type": "execute_result"
    },
    {
     "data": {
      "image/png": "[encoded data removed]",
      "text/plain": [
       "<Figure size 640x480 with 1 Axes>"
      ]
     },
     "metadata": {},
     "output_type": "display_data"
    }
   ],
   "source": [
    "smoothing_gain = 10\n",
    "plt.plot(torch.tensor(lossi).view(-1, smoothing_gain).mean(dim=1))"
   ]
  },
  {
   "cell_type": "code",
   "execution_count": 208,
   "metadata": {},
   "outputs": [
    {
     "name": "stdout",
     "output_type": "stream",
     "text": [
      "              precision    recall  f1-score   support\n",
      "\n",
      "           0       0.96      0.97      0.97      1162\n",
      "           1       0.95      0.93      0.94      1225\n",
      "           2       0.95      0.96      0.96      1126\n",
      "           3       0.94      0.96      0.95      1141\n",
      "           4       0.96      0.94      0.95      1245\n",
      "\n",
      "    accuracy                           0.95      5899\n",
      "   macro avg       0.95      0.95      0.95      5899\n",
      "weighted avg       0.95      0.95      0.95      5899\n",
      "\n"
     ]
    }
   ],
   "source": [
    "evaluate_model(even_model, test_even_dataloader, True)"
   ]
  },
  {
   "cell_type": "code",
   "execution_count": 209,
   "metadata": {},
   "outputs": [],
   "source": [
    "odd_model = NumbersModel(\n",
    "    Sequential(\n",
    "        Linear(28 * 28, 128),\n",
    "        ReLU(),\n",
    "        Linear(128, 64),\n",
    "        ReLU(),\n",
    "        Linear(64, 64),\n",
    "    ),\n",
    "    class_num=5,\n",
    ")"
   ]
  },
  {
   "cell_type": "code",
   "execution_count": 210,
   "metadata": {},
   "outputs": [],
   "source": [
    "train_odd_dataloader = DataLoader(NumbersDataset(train_odd_numbers), batch_size=32, shuffle=True)\n",
    "test_odd_dataloader = DataLoader(NumbersDataset(test_odd_numbers), batch_size=32, shuffle=False)"
   ]
  },
  {
   "cell_type": "code",
   "execution_count": 211,
   "metadata": {},
   "outputs": [
    {
     "name": "stdout",
     "output_type": "stream",
     "text": [
      "Epoch: 0, Loss: 1.446359330985993\n",
      "Epoch: 2, Loss: 0.6318914005593891\n",
      "Epoch: 4, Loss: 0.3464436091258048\n",
      "Epoch: 6, Loss: 0.2637638232889213\n",
      "Epoch: 8, Loss: 0.22887621964004531\n",
      "Epoch: 10, Loss: 0.2088287390065459\n",
      "Epoch: 12, Loss: 0.1949773573073733\n",
      "Epoch: 14, Loss: 0.18424260356313357\n"
     ]
    }
   ],
   "source": [
    "epochs = 15\n",
    "lr = 0.001\n",
    "\n",
    "lossi: List[float] = []\n",
    "\n",
    "odd_model.unfreeze()\n",
    "\n",
    "for i in range(epochs):\n",
    "    epoch_loss: float = []\n",
    "    for batch in train_odd_dataloader:\n",
    "        x, y = batch\n",
    "        y = y // 2\n",
    "        y_pred = odd_model(x)\n",
    "        loss = F.cross_entropy(y_pred, y)\n",
    "\n",
    "        for p in odd_model.parameters:\n",
    "            p.grad = None\n",
    "\n",
    "        loss.backward()\n",
    "\n",
    "        for p in odd_model.parameters:\n",
    "            p.data -= lr * p.grad\n",
    "\n",
    "        epoch_loss.append(loss.item())\n",
    "        lossi.append(loss.item())\n",
    "\n",
    "    if i % 2 == 0:\n",
    "        print(f\"Epoch: {i}, Loss: {sum(epoch_loss) / len(epoch_loss)}\")"
   ]
  },
  {
   "cell_type": "code",
   "execution_count": 213,
   "metadata": {},
   "outputs": [
    {
     "data": {
      "text/plain": [
       "[<matplotlib.lines.Line2D at 0x2c0c96970>]"
      ]
     },
     "execution_count": 213,
     "metadata": {},
     "output_type": "execute_result"
    },
    {
     "data": {
      "image/png": "[encoded data removed]",
      "text/plain": [
       "<Figure size 640x480 with 1 Axes>"
      ]
     },
     "metadata": {},
     "output_type": "display_data"
    }
   ],
   "source": [
    "smoothing_gain = 15\n",
    "plt.plot(torch.tensor(lossi).view(-1, smoothing_gain).mean(dim=1))"
   ]
  },
  {
   "cell_type": "code",
   "execution_count": 214,
   "metadata": {},
   "outputs": [
    {
     "name": "stdout",
     "output_type": "stream",
     "text": [
      "              precision    recall  f1-score   support\n",
      "\n",
      "           0       0.97      0.98      0.97      1320\n",
      "           1       0.95      0.90      0.92      1244\n",
      "           2       0.91      0.94      0.93      1069\n",
      "           3       0.94      0.94      0.94      1286\n",
      "           4       0.93      0.93      0.93      1183\n",
      "\n",
      "    accuracy                           0.94      6102\n",
      "   macro avg       0.94      0.94      0.94      6102\n",
      "weighted avg       0.94      0.94      0.94      6102\n",
      "\n"
     ]
    }
   ],
   "source": [
    "evaluate_model(odd_model, test_odd_dataloader, True)"
   ]
  },
  {
   "cell_type": "code",
   "execution_count": 215,
   "metadata": {},
   "outputs": [],
   "source": [
    "odd_model = even_model\n",
    "\n",
    "odd_model._classifier = Linear(odd_model._encoder.out_features, 5)"
   ]
  },
  {
   "cell_type": "code",
   "execution_count": 216,
   "metadata": {},
   "outputs": [
    {
     "name": "stdout",
     "output_type": "stream",
     "text": [
      "              precision    recall  f1-score   support\n",
      "\n",
      "           0       0.03      0.02      0.02      1320\n",
      "           1       0.08      0.00      0.00      1244\n",
      "           2       0.46      0.01      0.01      1069\n",
      "           3       0.35      0.93      0.51      1286\n",
      "           4       0.00      0.01      0.01      1183\n",
      "\n",
      "    accuracy                           0.20      6102\n",
      "   macro avg       0.18      0.19      0.11      6102\n",
      "weighted avg       0.18      0.20      0.11      6102\n",
      "\n"
     ]
    }
   ],
   "source": [
    "evaluate_model(odd_model, test_odd_dataloader, True)"
   ]
  },
  {
   "cell_type": "code",
   "execution_count": 217,
   "metadata": {},
   "outputs": [
    {
     "name": "stdout",
     "output_type": "stream",
     "text": [
      "Epoch: 0, Loss: 1.3185225278334411\n",
      "Epoch: 2, Loss: 0.9002613265111281\n",
      "Epoch: 4, Loss: 0.8060244348383512\n",
      "Epoch: 6, Loss: 0.7588903821936441\n",
      "Epoch: 8, Loss: 0.7291322172000555\n",
      "Epoch: 10, Loss: 0.7079535507124655\n",
      "Epoch: 12, Loss: 0.6918326449894187\n",
      "Epoch: 14, Loss: 0.6783405345123686\n"
     ]
    }
   ],
   "source": [
    "epochs = 15\n",
    "lr = 0.001\n",
    "\n",
    "lossi: List[float] = []\n",
    "\n",
    "odd_model.unfreeze()\n",
    "odd_model.freeze()\n",
    "\n",
    "for i in range(epochs):\n",
    "    epoch_loss: float = []\n",
    "    for batch in train_odd_dataloader:\n",
    "        x, y = batch\n",
    "        y = y // 2\n",
    "        y_pred = odd_model(x)\n",
    "        loss = F.cross_entropy(y_pred, y)\n",
    "\n",
    "        for p in odd_model.parameters:\n",
    "            p.grad = None\n",
    "\n",
    "        loss.backward()\n",
    "\n",
    "        for p in odd_model.parameters:\n",
    "            if p.requires_grad:\n",
    "                p.data -= lr * p.grad\n",
    "\n",
    "        epoch_loss.append(loss.item())\n",
    "        lossi.append(loss.item())\n",
    "\n",
    "    if i % 2 == 0:\n",
    "        print(f\"Epoch: {i}, Loss: {sum(epoch_loss) / len(epoch_loss)}\")"
   ]
  },
  {
   "cell_type": "code",
   "execution_count": 219,
   "metadata": {},
   "outputs": [
    {
     "data": {
      "text/plain": [
       "[<matplotlib.lines.Line2D at 0x2c0cbffa0>]"
      ]
     },
     "execution_count": 219,
     "metadata": {},
     "output_type": "execute_result"
    },
    {
     "data": {
      "image/png": "[encoded data removed]",
      "text/plain": [
       "<Figure size 640x480 with 1 Axes>"
      ]
     },
     "metadata": {},
     "output_type": "display_data"
    }
   ],
   "source": [
    "smoothing_gain = 15\n",
    "plt.plot(torch.tensor(lossi).view(-1, smoothing_gain).mean(dim=1))"
   ]
  },
  {
   "cell_type": "code",
   "execution_count": 221,
   "metadata": {},
   "outputs": [
    {
     "name": "stdout",
     "output_type": "stream",
     "text": [
      "              precision    recall  f1-score   support\n",
      "\n",
      "           0       0.83      0.97      0.90      1320\n",
      "           1       0.76      0.70      0.73      1244\n",
      "           2       0.69      0.64      0.67      1069\n",
      "           3       0.79      0.73      0.76      1286\n",
      "           4       0.77      0.80      0.78      1183\n",
      "\n",
      "    accuracy                           0.78      6102\n",
      "   macro avg       0.77      0.77      0.77      6102\n",
      "weighted avg       0.77      0.78      0.77      6102\n",
      "\n"
     ]
    }
   ],
   "source": [
    "evaluate_model(odd_model, test_odd_dataloader, True)"
   ]
  },
  {
   "cell_type": "code",
   "execution_count": 222,
   "metadata": {},
   "outputs": [
    {
     "name": "stdout",
     "output_type": "stream",
     "text": [
      "Epoch: 0, Loss: 0.647484435049297\n",
      "Epoch: 2, Loss: 0.5630445241693744\n",
      "Epoch: 4, Loss: 0.5059134375845933\n",
      "Epoch: 6, Loss: 0.464096720690496\n",
      "Epoch: 8, Loss: 0.43177942966805527\n"
     ]
    }
   ],
   "source": [
    "epochs = 10\n",
    "lr = 0.0001\n",
    "\n",
    "lossi: List[float] = []\n",
    "\n",
    "odd_model.unfreeze()\n",
    "\n",
    "for i in range(epochs):\n",
    "    epoch_loss: float = []\n",
    "    for batch in train_odd_dataloader:\n",
    "        x, y = batch\n",
    "        y = y // 2\n",
    "        y_pred = odd_model(x)\n",
    "        loss = F.cross_entropy(y_pred, y)\n",
    "\n",
    "        for p in odd_model.parameters:\n",
    "            p.grad = None\n",
    "\n",
    "        loss.backward()\n",
    "\n",
    "        for p in odd_model.parameters:\n",
    "            if p.requires_grad:\n",
    "                p.data -= lr * p.grad\n",
    "\n",
    "        epoch_loss.append(loss.item())\n",
    "        lossi.append(loss.item())\n",
    "\n",
    "    if i % 2 == 0:\n",
    "        print(f\"Epoch: {i}, Loss: {sum(epoch_loss) / len(epoch_loss)}\")"
   ]
  },
  {
   "cell_type": "code",
   "execution_count": 224,
   "metadata": {},
   "outputs": [
    {
     "data": {
      "text/plain": [
       "[<matplotlib.lines.Line2D at 0x2c0d664c0>]"
      ]
     },
     "execution_count": 224,
     "metadata": {},
     "output_type": "execute_result"
    },
    {
     "data": {
      "image/png": "[encoded data removed]",
      "text/plain": [
       "<Figure size 640x480 with 1 Axes>"
      ]
     },
     "metadata": {},
     "output_type": "display_data"
    }
   ],
   "source": [
    "smoothing_gain = 10\n",
    "plt.plot(torch.tensor(lossi).view(-1, smoothing_gain).mean(dim=1))"
   ]
  },
  {
   "cell_type": "code",
   "execution_count": 225,
   "metadata": {},
   "outputs": [
    {
     "name": "stdout",
     "output_type": "stream",
     "text": [
      "              precision    recall  f1-score   support\n",
      "\n",
      "           0       0.93      0.98      0.95      1320\n",
      "           1       0.87      0.82      0.84      1244\n",
      "           2       0.81      0.83      0.82      1069\n",
      "           3       0.90      0.88      0.89      1286\n",
      "           4       0.87      0.88      0.87      1183\n",
      "\n",
      "    accuracy                           0.88      6102\n",
      "   macro avg       0.87      0.88      0.87      6102\n",
      "weighted avg       0.88      0.88      0.88      6102\n",
      "\n"
     ]
    }
   ],
   "source": [
    "evaluate_model(odd_model, test_odd_dataloader, True)"
   ]
  }
 ],
 "metadata": {
  "kernelspec": {
   "display_name": ".venv",
   "language": "python",
   "name": "python3"
  },
  "language_info": {
   "codemirror_mode": {
    "name": "ipython",
    "version": 3
   },
   "file_extension": ".py",
   "mimetype": "text/x-python",
   "name": "python",
   "nbconvert_exporter": "python",
   "pygments_lexer": "ipython3",
   "version": "3.9.13"
  },
  "orig_nbformat": 4
 },
 "nbformat": 4,
 "nbformat_minor": 2
}
