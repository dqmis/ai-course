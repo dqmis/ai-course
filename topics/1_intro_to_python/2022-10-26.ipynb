{
 "cells": [
  {
   "attachments": {},
   "cell_type": "markdown",
   "metadata": {},
   "source": [
    "# SQL with Python\n",
    "## 2022-10-26"
   ]
  },
  {
   "cell_type": "code",
   "execution_count": null,
   "metadata": {},
   "outputs": [],
   "source": [
    "%load_ext dotenv\n",
    "%dotenv"
   ]
  },
  {
   "cell_type": "code",
   "execution_count": 27,
   "metadata": {},
   "outputs": [],
   "source": [
    "import os\n",
    "\n",
    "from mysql import connector"
   ]
  },
  {
   "cell_type": "code",
   "execution_count": 23,
   "metadata": {},
   "outputs": [],
   "source": [
    "conn = connector.connect(\n",
    "    user=os.environ.get(\"DB_USER\"),\n",
    "    password=os.environ.get(\"DB_PASSWORD\"),\n",
    "    database=os.environ.get(\"DB_DATABASE\"),\n",
    "    port=int(os.environ.get(\"DB_PORT\")),\n",
    "    host=os.environ.get(\"DB_HOST\"),\n",
    ")"
   ]
  },
  {
   "cell_type": "code",
   "execution_count": 31,
   "metadata": {},
   "outputs": [
    {
     "data": {
      "text/plain": [
       "mysql.connector.connection_cext.CMySQLConnection"
      ]
     },
     "execution_count": 31,
     "metadata": {},
     "output_type": "execute_result"
    }
   ],
   "source": [
    "type(conn)"
   ]
  },
  {
   "cell_type": "code",
   "execution_count": 28,
   "metadata": {},
   "outputs": [
    {
     "name": "stdout",
     "output_type": "stream",
     "text": [
      "1 frankenstein 280 1818-01-01 00:00:00 Frankenstein tells the story of Victor Frankenstein, a young scientist who creates a sapient creature in an unorthodox scientific experiment 1\n",
      "2 dracula 287 1897-01-01 00:00:00 „Drakula“ yra epistolinis romanas, parašytas laiškų, dienoraščių, straipsnių, užrašų forma. Grafo Drakulos prototipas yra Valakijos princas Vladas III, Vladas Drakula, pagarsėjęs savo žiaurumu. 1\n",
      "3 it 1142 1986-01-01 00:00:00 Romane „Tas“ aprašoma Deryje gyvenanti ir žudanti vaikus antgamtinė būtybė, gebanti keisti savo esybės formą ir pavidalą 1\n",
      "4 the witcher 235 1990-01-01 00:00:00 The series revolves around the eponymous witcher, Geralt of Rivia. In Sapkowski's works, witchers are beast hunters who develop supernatural abilities at a young age to battle wild beasts and monsters 2\n",
      "5 pride and prejudice 654 1813-01-01 00:00:00 The novel follows the character development of Elizabeth Bennet, the dynamic protagonist of the book who learns about the repercussions of hasty judgments and comes to appreciate the difference between superficial goodness and actual goodness. 1\n"
     ]
    }
   ],
   "source": [
    "cur = conn.cursor()\n",
    "\n",
    "cur.execute(\"select * from books\")\n",
    "\n",
    "for x in cur:\n",
    "    book_id, title, pages_num, publish_date, desctiption, publisher_id = x\n",
    "    print(book_id, title, pages_num, publish_date, desctiption, publisher_id)"
   ]
  },
  {
   "cell_type": "code",
   "execution_count": 30,
   "metadata": {},
   "outputs": [],
   "source": [
    "cur = conn.cursor()\n",
    "\n",
    "cur.execute(\"create table test (id int)\")"
   ]
  },
  {
   "cell_type": "markdown",
   "metadata": {},
   "source": []
  }
 ],
 "metadata": {
  "kernelspec": {
   "display_name": "Python 3.9.13 ('.venv': poetry)",
   "language": "python",
   "name": "python3"
  },
  "language_info": {
   "codemirror_mode": {
    "name": "ipython",
    "version": 3
   },
   "file_extension": ".py",
   "mimetype": "text/x-python",
   "name": "python",
   "nbconvert_exporter": "python",
   "pygments_lexer": "ipython3",
   "version": "3.9.13"
  },
  "orig_nbformat": 4,
  "vscode": {
   "interpreter": {
    "hash": "de17c4b867480f2f8bc5d2be08a00cb2e02a1ee18bda207b764c3905e0b438fb"
   }
  }
 },
 "nbformat": 4,
 "nbformat_minor": 2
}
