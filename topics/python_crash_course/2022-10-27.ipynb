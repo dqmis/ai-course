{
 "cells": [
  {
   "cell_type": "markdown",
   "metadata": {},
   "source": [
    "# 2022-10-27"
   ]
  },
  {
   "cell_type": "code",
   "execution_count": 1,
   "metadata": {},
   "outputs": [],
   "source": [
    "import requests\n",
    "from bs4 import BeautifulSoup\n",
    "\n",
    "from typing import List, Dict, Optional\n",
    "\n",
    "import pandas as pd"
   ]
  },
  {
   "cell_type": "code",
   "execution_count": 2,
   "metadata": {},
   "outputs": [],
   "source": [
    "page = requests.get(\"https://www.lamaistas.lt/visi-receptai\")"
   ]
  },
  {
   "cell_type": "code",
   "execution_count": 3,
   "metadata": {},
   "outputs": [
    {
     "data": {
      "text/plain": [
       "200"
      ]
     },
     "execution_count": 3,
     "metadata": {},
     "output_type": "execute_result"
    }
   ],
   "source": [
    "page.status_code"
   ]
  },
  {
   "cell_type": "code",
   "execution_count": 4,
   "metadata": {},
   "outputs": [],
   "source": [
    "soup = BeautifulSoup(page.content, 'html.parser')"
   ]
  },
  {
   "cell_type": "code",
   "execution_count": 11,
   "metadata": {},
   "outputs": [
    {
     "data": {
      "text/plain": [
       "bs4.BeautifulSoup"
      ]
     },
     "execution_count": 11,
     "metadata": {},
     "output_type": "execute_result"
    }
   ],
   "source": [
    "type(soup)"
   ]
  },
  {
   "cell_type": "code",
   "execution_count": null,
   "metadata": {},
   "outputs": [],
   "source": [
    "print(soup.prettify())"
   ]
  },
  {
   "cell_type": "code",
   "execution_count": 6,
   "metadata": {},
   "outputs": [],
   "source": [
    "all_ps = soup.find_all(\"p\")"
   ]
  },
  {
   "cell_type": "code",
   "execution_count": 7,
   "metadata": {},
   "outputs": [
    {
     "data": {
      "text/plain": [
       "[<p>Turinio klausimais rašykite:</p>,\n",
       " <p><a href=\"/cdn-cgi/l/email-protection#691a0208071c2905080408001a1d081a47051d\"><span class=\"__cf_email__\" data-cfemail=\"fa89919b948fba969b979b93898e9b89d4968e\">[email protected]</span></a></p>,\n",
       " <p>(darbo laikas nuo 8 iki 17 val.)</p>,\n",
       " <p>Reklamos klausimais rašykite</p>,\n",
       " <p><a href=\"/cdn-cgi/l/email-protection#1b697e70777a767a5b7a767f727c726f7a7735776f\"><span class=\"__cf_email__\" data-cfemail=\"285a4d43444945496849454c414f415c494406445c\">[email protected]</span></a></p>,\n",
       " <p>(darbo laikas nuo 8 iki 17 val.)</p>]"
      ]
     },
     "execution_count": 7,
     "metadata": {},
     "output_type": "execute_result"
    }
   ],
   "source": [
    "all_ps"
   ]
  },
  {
   "cell_type": "code",
   "execution_count": 9,
   "metadata": {},
   "outputs": [],
   "source": [
    "all_divs = soup.find_all(\"div\")"
   ]
  },
  {
   "cell_type": "code",
   "execution_count": 10,
   "metadata": {},
   "outputs": [
    {
     "name": "stdout",
     "output_type": "stream",
     "text": [
      "<class 'bs4.element.Tag'>\n",
      "Turinio klausimais rašykite:\n"
     ]
    }
   ],
   "source": [
    "print(type(all_ps[0]))\n",
    "print(all_ps[0].text)"
   ]
  },
  {
   "cell_type": "markdown",
   "metadata": {},
   "source": [
    "**labas**\n",
    "# h1\n",
    "## h2\n",
    "\n",
    "<h1></h1>\n",
    "<h2></h2>\n",
    "<b>labas</b>"
   ]
  },
  {
   "cell_type": "code",
   "execution_count": 48,
   "metadata": {},
   "outputs": [],
   "source": [
    "recipes_list_div = soup.find(\"div\", class_=\"recipesResultSegment\")\n",
    "all_recipes_div = recipes_list_div.find_all(\"div\", class_=\"frame\")\n",
    "\n",
    "results: List[Dict] = []\n",
    "for recipe_div in all_recipes_div:\n",
    "    title = recipe_div.find(\"div\", class_=\"title\").text\n",
    "    link_to_recipe = recipe_div.find(\"a\")[\"href\"]\n",
    "    link_to_image = recipe_div.find(\"img\")[\"src\"]\n",
    "\n",
    "    results.append({\n",
    "        \"title\": title.strip(), \n",
    "        \"link_to_recipe\": link_to_recipe,\n",
    "        \"link_to_image\": link_to_image\n",
    "    })\n",
    "\n",
    "results_df = pd.DataFrame(results)\n",
    "results_df.to_csv(\"lamaistas.csv\")"
   ]
  },
  {
   "cell_type": "code",
   "execution_count": 58,
   "metadata": {},
   "outputs": [],
   "source": [
    "def extract_recipes_info(url: str) -> Optional[List[Dict]]:\n",
    "    resp = requests.get(url)\n",
    "    if resp.status_code != 200:\n",
    "        raise Exception(\"Cannot reach page!\")\n",
    "    soup = BeautifulSoup(resp.content, 'html.parser')\n",
    "    recipes_list_div = soup.find(\"div\", class_=\"recipesResultSegment\")\n",
    "\n",
    "    if not recipes_list_div:\n",
    "        return None    \n",
    "    all_recipes_div = recipes_list_div.find_all(\"div\", class_=\"frame\")\n",
    "    results: List[Dict] = []\n",
    "    for recipe_div in all_recipes_div:\n",
    "        title = recipe_div.find(\"div\", class_=\"title\").text\n",
    "        link_to_recipe = recipe_div.find(\"a\")[\"href\"]\n",
    "        link_to_image = recipe_div.find(\"img\")[\"src\"]\n",
    "\n",
    "        results.append({\n",
    "            \"title\": title.strip(), \n",
    "            \"link_to_recipe\": link_to_recipe,\n",
    "            \"link_to_image\": link_to_image\n",
    "        })\n",
    "\n",
    "    return results"
   ]
  },
  {
   "cell_type": "code",
   "execution_count": 92,
   "metadata": {},
   "outputs": [],
   "source": [
    "recipes_links: List[Dict] = []\n",
    "\n",
    "for page in range(2, 5):\n",
    "    url = f\"https://www.lamaistas.lt/visi-receptai/{page}\"\n",
    "    recipes_links.extend(extract_recipes_info(url))\n",
    "\n",
    "pd.DataFrame(recipes_links).to_csv(\"lamaistas.csv\")"
   ]
  },
  {
   "cell_type": "code",
   "execution_count": 13,
   "metadata": {},
   "outputs": [
    {
     "ename": "KeyError",
     "evalue": "'src'",
     "output_type": "error",
     "traceback": [
      "\u001b[0;31m---------------------------------------------------------------------------\u001b[0m",
      "\u001b[0;31mKeyError\u001b[0m                                  Traceback (most recent call last)",
      "Cell \u001b[0;32mIn [13], line 1\u001b[0m\n\u001b[0;32m----> 1\u001b[0m soup\u001b[39m.\u001b[39mfind(\u001b[39m\"\u001b[39m\u001b[39mdiv\u001b[39m\u001b[39m\"\u001b[39m)[\u001b[39m'\u001b[39m\u001b[39msrc\u001b[39m\u001b[39m'\u001b[39m]\n",
      "File \u001b[0;32m~/github/code_academy_ai_course/.venv/lib/python3.9/site-packages/bs4/element.py:1519\u001b[0m, in \u001b[0;36mTag.__getitem__\u001b[0;34m(self, key)\u001b[0m\n\u001b[1;32m   1516\u001b[0m \u001b[39mdef\u001b[39;00m \u001b[39m__getitem__\u001b[39m(\u001b[39mself\u001b[39m, key):\n\u001b[1;32m   1517\u001b[0m     \u001b[39m\"\"\"tag[key] returns the value of the 'key' attribute for the Tag,\u001b[39;00m\n\u001b[1;32m   1518\u001b[0m \u001b[39m    and throws an exception if it's not there.\"\"\"\u001b[39;00m\n\u001b[0;32m-> 1519\u001b[0m     \u001b[39mreturn\u001b[39;00m \u001b[39mself\u001b[39;49m\u001b[39m.\u001b[39;49mattrs[key]\n",
      "\u001b[0;31mKeyError\u001b[0m: 'src'"
     ]
    }
   ],
   "source": [
    "soup.find(\"div\")['src']"
   ]
  },
  {
   "cell_type": "markdown",
   "metadata": {},
   "source": [
    "## Info is puslapio"
   ]
  },
  {
   "cell_type": "code",
   "execution_count": 66,
   "metadata": {},
   "outputs": [
    {
     "data": {
      "text/plain": [
       "'https://www.lamaistas.lt/uploads/modules/recipes/without-watermark/40168.jpg'"
      ]
     },
     "execution_count": 66,
     "metadata": {},
     "output_type": "execute_result"
    }
   ],
   "source": [
    "resp = requests.get(\"https://www.lamaistas.lt/receptas/naminiu-ledu-sumustiniai-su-braskemis-arba-kitomis-uogomis-81350\")\n",
    "soup = BeautifulSoup(resp.content, \"html.parser\")\n",
    "\n",
    "recipe_title = soup.find(\"div\", class_=\"recipeTitleSegment\").find(\"h1\").text\n",
    "main_recipe_image = soup.find(\"div\", class_=\"bigImg\").find(\"img\").get(\"src\")\n",
    "about_recipe = soup.find(\"div\", class_=\"authorAboutRecipeSegment\").text"
   ]
  },
  {
   "cell_type": "code",
   "execution_count": 79,
   "metadata": {},
   "outputs": [],
   "source": [
    "ingredients_div = soup.find(\"div\", class_=\"ingredients\")\n",
    "ingredients_table = ingredients_div.find(\"table\")\n",
    "tr_rows = ingredients_table.find_all(\"tr\")\n",
    "ingredients: List[Dict] = []\n",
    "for tr_row in tr_rows:\n",
    "    spans = tr_row.find_all(\"span\")\n",
    "    ingredients.append({\"ingredient\": spans[1].text.strip(), \"ammount\": spans[0].text.strip()})"
   ]
  },
  {
   "cell_type": "code",
   "execution_count": 83,
   "metadata": {},
   "outputs": [],
   "source": [
    "making_time = soup.find(\"div\", class_=\"method\").find(\"div\", class_=\"info\").text.strip().replace(\"Paruošimo laikas: \", \"\")"
   ]
  },
  {
   "cell_type": "code",
   "execution_count": 86,
   "metadata": {},
   "outputs": [],
   "source": [
    "making_steps: List[Dict] = []\n",
    "description_divs = soup.find(\"div\", class_=\"method\").find(\"div\", class_=\"infoA\").find_all(\"div\", class_=\"description\")\n",
    "for step, description_div in enumerate(description_divs):\n",
    "    making_steps.append({\"step\": step + 1, \"description\": description_div.find(\"div\", class_=\"text\").text})\n"
   ]
  },
  {
   "cell_type": "code",
   "execution_count": 94,
   "metadata": {},
   "outputs": [],
   "source": [
    "def get_recipe_info(url: str) -> Dict:\n",
    "    resp = requests.get(url)\n",
    "    soup = BeautifulSoup(resp.content, \"html.parser\")\n",
    "\n",
    "    recipe_title = soup.find(\"div\", class_=\"recipeTitleSegment\").find(\"h1\").text\n",
    "    main_recipe_image = soup.find(\"div\", class_=\"bigImg\").find(\"img\").get(\"src\")\n",
    "    about_recipe = soup.find(\"div\", class_=\"authorAboutRecipeSegment\").text\n",
    "\n",
    "    ingredients_div = soup.find(\"div\", class_=\"ingredients\")\n",
    "    ingredients_table = ingredients_div.find(\"table\")\n",
    "    tr_rows = ingredients_table.find_all(\"tr\")\n",
    "    ingredients: List[Dict] = []\n",
    "    try:\n",
    "        for tr_row in tr_rows:\n",
    "            spans = tr_row.find_all(\"span\")\n",
    "            ingredients.append({\"ingredient\": spans[1].text.strip(), \"ammount\": spans[0].text.strip()})\n",
    "    except IndexError:\n",
    "        pass\n",
    "\n",
    "    making_time = soup.find(\"div\", class_=\"method\").find(\"div\", class_=\"info\").text.strip().replace(\"Paruošimo laikas: \", \"\")\n",
    "    making_steps: List[Dict] = []\n",
    "    description_divs = soup.find(\"div\", class_=\"method\").find(\"div\", class_=\"infoA\").find_all(\"div\", class_=\"description\")\n",
    "    for step, description_div in enumerate(description_divs):\n",
    "        making_steps.append({\"step\": step + 1, \"description\": description_div.find(\"div\", class_=\"text\").text})\n",
    "\n",
    "    return {\n",
    "        \"title\": recipe_title.strip(),\n",
    "        \"image\": main_recipe_image,\n",
    "        \"about\": about_recipe.strip(),\n",
    "        \"making_time\": making_time,\n",
    "        \"ingredients\": ingredients,\n",
    "        \"making_steps\": making_steps\n",
    "    }"
   ]
  },
  {
   "cell_type": "code",
   "execution_count": 96,
   "metadata": {},
   "outputs": [
    {
     "name": "stdout",
     "output_type": "stream",
     "text": [
      "{'title': 'Obuolių pyragas „Šarlotė“', 'link_to_recipe': 'https://www.lamaistas.lt/receptas/obuoliu-pyragas-sarlote-81758', 'link_to_image': 'https://www.lamaistas.lt/uploads/modules/recipes/thumb300x224/41383.jpg'}\n",
      "{'title': 'Burokėlių ir pomidorų mišrainė žiemai', 'link_to_recipe': 'https://www.lamaistas.lt/receptas/burokeliu-ir-pomidoru-misraine-ziemai-10337', 'link_to_image': 'https://www.lamaistas.lt/uploads/modules/recipes/thumb300x224/14604.jpg'}\n",
      "{'title': 'Bulviniai lietiniai itališkai', 'link_to_recipe': 'https://www.lamaistas.lt/receptas/bulviniai-lietiniai-italiskai-81745', 'link_to_image': 'https://www.lamaistas.lt/uploads/modules/recipes/thumb300x224/41203.jpg'}\n",
      "{'title': 'Drėgnas šokoladinis moliūgų pyragas', 'link_to_recipe': 'https://www.lamaistas.lt/receptas/dregnas-sokoladinis-moliugu-pyragas-58459', 'link_to_image': 'https://www.lamaistas.lt/uploads/modules/recipes/thumb300x224/17722.jpg'}\n",
      "{'title': 'Burokėlių sriuba su mėsos kukuliukais', 'link_to_recipe': 'https://www.lamaistas.lt/receptas/burokeliu-sriuba-su-mesos-kukuliukais-64050', 'link_to_image': 'https://www.lamaistas.lt/uploads/modules/recipes/thumb300x224/29567.jpg'}\n",
      "{'title': 'Duonos pyragas su cukinijomis, kumpiu ir mocarela', 'link_to_recipe': 'https://www.lamaistas.lt/receptas/duonos-pyragas-su-cukinijomis-kumpiu-ir-mocarela-81687', 'link_to_image': 'https://www.lamaistas.lt/uploads/modules/recipes/thumb300x224/40961.jpg'}\n",
      "{'title': 'Prancūziškas obuolių pyragas - nes jis tobulas!', 'link_to_recipe': 'https://www.lamaistas.lt/receptas/prancuziskas-obuoliu-pyragas-24632', 'link_to_image': 'https://www.lamaistas.lt/uploads/modules/recipes/thumb300x224/40870.jpg'}\n",
      "{'title': 'Drėgnas varškės keksas su kriaušėmis', 'link_to_recipe': 'https://www.lamaistas.lt/receptas/keksas-su-kriausemis-ir-varske-46547', 'link_to_image': 'https://www.lamaistas.lt/uploads/modules/recipes/thumb300x224/21907.jpg'}\n",
      "{'title': 'Vasara kvepiantis keksas su baziliku ir braškėmis', 'link_to_recipe': 'https://www.lamaistas.lt/receptas/vasara-kvepiantis-keksas-su-baziliku-ir-braskemis-81652', 'link_to_image': 'https://www.lamaistas.lt/uploads/modules/recipes/thumb300x224/40896.jpg'}\n",
      "{'title': 'Virtų bulvių cepelinai su varškės ir mėsos įdarais', 'link_to_recipe': 'https://www.lamaistas.lt/receptas/virtu-bulviu-cepelinai-su-varskes-ir-mesos-idarais-15066', 'link_to_image': 'https://www.lamaistas.lt/uploads/modules/recipes/thumb300x224/14611.jpg'}\n",
      "{'title': 'Marinuoti žali pomidorai su paprikomis', 'link_to_recipe': 'https://www.lamaistas.lt/receptas/marinuoti-zali-pomidorai-su-paprikomis-81640', 'link_to_image': 'https://www.lamaistas.lt/uploads/modules/recipes/thumb300x224/40858.jpg'}\n",
      "{'title': 'Gaivios itališkos daržovių salotos su duonos gabaliukais', 'link_to_recipe': 'https://www.lamaistas.lt/receptas/gaivios-italiskos-darzoviu-salotos-su-duonos-gabaliukais-81616', 'link_to_image': 'https://www.lamaistas.lt/uploads/modules/recipes/thumb300x224/40811.jpg'}\n",
      "{'title': 'Vytintos slyvos žiemai', 'link_to_recipe': 'https://www.lamaistas.lt/receptas/vytintos-slyvos-ziemai-81633', 'link_to_image': 'https://www.lamaistas.lt/uploads/modules/recipes/thumb300x224/40846.jpg'}\n",
      "{'title': 'Purus bulvių ir cukinijų kugelis', 'link_to_recipe': 'https://www.lamaistas.lt/receptas/bulviu-ir-cukiniju-kugelis-64790', 'link_to_image': 'https://www.lamaistas.lt/uploads/modules/recipes/thumb300x224/31162.jpg'}\n",
      "{'title': 'Saldžiarūgščiai marinuotos cukinijos su pomidorų pasta', 'link_to_recipe': 'https://www.lamaistas.lt/receptas/saldziarugsciai-marinuotos-cukinijos-su-pomidoru-pasta-81609', 'link_to_image': 'https://www.lamaistas.lt/uploads/modules/recipes/thumb300x224/40790.jpg'}\n",
      "{'title': 'Greitas slyvų kompotas', 'link_to_recipe': 'https://www.lamaistas.lt/receptas/greitas-slyvu-kompotas-81626', 'link_to_image': 'https://www.lamaistas.lt/uploads/modules/recipes/thumb300x224/40834.jpg'}\n",
      "{'title': 'Obuolių ir svogūnų čatnis žiemai', 'link_to_recipe': 'https://www.lamaistas.lt/receptas/obuoliu-ir-svogunu-catnis-64757', 'link_to_image': 'https://www.lamaistas.lt/uploads/modules/recipes/thumb300x224/31114.jpg'}\n",
      "{'title': 'Obuolių pyragas su varške - prancūziško stiliaus', 'link_to_recipe': 'https://www.lamaistas.lt/receptas/obuoliu-pyragas-su-varske-prancuzisko-stiliaus-81780', 'link_to_image': 'https://www.lamaistas.lt/uploads/modules/recipes/thumb300x224/41316.jpg'}\n",
      "{'title': 'Trapios tešlos pyragėliai su grybais', 'link_to_recipe': 'https://www.lamaistas.lt/receptas/trapios-teslos-pyrageliai-su-grybais-81567', 'link_to_image': 'https://www.lamaistas.lt/uploads/modules/recipes/thumb300x224/40699.jpg'}\n",
      "{'title': 'Varškės apkepas su obuoliais', 'link_to_recipe': 'https://www.lamaistas.lt/receptas/varskes-apkepas-su-obuoliais-31662', 'link_to_image': 'https://www.lamaistas.lt/uploads/modules/recipes/thumb300x224/22412.jpg'}\n",
      "{'title': 'Obuolių žiedai tešloje', 'link_to_recipe': 'https://www.lamaistas.lt/receptas/obuoliu-ziedai-81569', 'link_to_image': 'https://www.lamaistas.lt/uploads/modules/recipes/thumb300x224/40705.jpg'}\n",
      "{'title': 'Saldžiarūgščiai marinuoti žiediniai kopūstai su ciberžole', 'link_to_recipe': 'https://www.lamaistas.lt/receptas/saldziarugsciai-marinuoti-ziediniai-kopustai-su-ciberzole-81573', 'link_to_image': 'https://www.lamaistas.lt/uploads/modules/recipes/thumb300x224/40711.jpg'}\n",
      "{'title': 'Varškės tinginys su obuoliais (be kondensuoto pieno)', 'link_to_recipe': 'https://www.lamaistas.lt/receptas/varskes-tinginys-su-obuoliais-be-kondensuoto-pieno-65354', 'link_to_image': 'https://www.lamaistas.lt/uploads/modules/recipes/thumb300x224/32269.jpg'}\n",
      "{'title': 'Šilta poliarinė duonelė su ant grilio kepta vištiena ir daržovėmis', 'link_to_recipe': 'https://www.lamaistas.lt/receptas/silta-poliarine-duonele-su-ant-grilio-kepta-vistiena-ir-darzovemis-81293', 'link_to_image': 'https://www.lamaistas.lt/uploads/modules/recipes/thumb300x224/40029.jpg'}\n",
      "{'title': 'Rauginti svogūnai žiemai', 'link_to_recipe': 'https://www.lamaistas.lt/receptas/rauginti-svogunai-ziemai-81550', 'link_to_image': 'https://www.lamaistas.lt/uploads/modules/recipes/thumb300x224/40663.jpg'}\n"
     ]
    }
   ],
   "source": [
    "full_recipes: List[Dict] = []\n",
    "\n",
    "for recipe_link in recipes_links:\n",
    "    try:\n",
    "        full_recipes.append(get_recipe_info(recipe_link[\"link_to_recipe\"]))\n",
    "    except:\n",
    "        print(recipe_link)"
   ]
  },
  {
   "cell_type": "code",
   "execution_count": 98,
   "metadata": {},
   "outputs": [
    {
     "data": {
      "text/plain": [
       "107"
      ]
     },
     "execution_count": 98,
     "metadata": {},
     "output_type": "execute_result"
    }
   ],
   "source": [
    "len(full_recipes)"
   ]
  }
 ],
 "metadata": {
  "kernelspec": {
   "display_name": "Python 3.9.13 ('.venv': poetry)",
   "language": "python",
   "name": "python3"
  },
  "language_info": {
   "codemirror_mode": {
    "name": "ipython",
    "version": 3
   },
   "file_extension": ".py",
   "mimetype": "text/x-python",
   "name": "python",
   "nbconvert_exporter": "python",
   "pygments_lexer": "ipython3",
   "version": "3.9.13"
  },
  "orig_nbformat": 4,
  "vscode": {
   "interpreter": {
    "hash": "de17c4b867480f2f8bc5d2be08a00cb2e02a1ee18bda207b764c3905e0b438fb"
   }
  }
 },
 "nbformat": 4,
 "nbformat_minor": 2
}
