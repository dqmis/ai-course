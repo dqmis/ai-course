{
 "cells": [
  {
   "cell_type": "markdown",
   "metadata": {},
   "source": [
    "# 2022-10-05"
   ]
  },
  {
   "cell_type": "code",
   "execution_count": null,
   "metadata": {},
   "outputs": [],
   "source": [
    "from typing import List\n",
    "\n",
    "import numpy as np\n",
    "\n",
    "\n",
    "def to_numpy(inp: List[int]) -> np.ndarray:\n",
    "    return np.array(inp)"
   ]
  },
  {
   "cell_type": "code",
   "execution_count": 16,
   "metadata": {},
   "outputs": [
    {
     "data": {
      "text/plain": [
       "numpy.ndarray"
      ]
     },
     "execution_count": 16,
     "metadata": {},
     "output_type": "execute_result"
    }
   ],
   "source": [
    "type(np.array([]))"
   ]
  },
  {
   "cell_type": "markdown",
   "metadata": {},
   "source": [
    "### Generators"
   ]
  },
  {
   "cell_type": "code",
   "execution_count": 21,
   "metadata": {},
   "outputs": [
    {
     "ename": "StopIteration",
     "evalue": "",
     "output_type": "error",
     "traceback": [
      "\u001b[0;31m---------------------------------------------------------------------------\u001b[0m",
      "\u001b[0;31mStopIteration\u001b[0m                             Traceback (most recent call last)",
      "Cell \u001b[0;32mIn [21], line 13\u001b[0m\n\u001b[1;32m     11\u001b[0m \u001b[38;5;28mnext\u001b[39m(g)\n\u001b[1;32m     12\u001b[0m \u001b[38;5;28mnext\u001b[39m(g)\n\u001b[0;32m---> 13\u001b[0m \u001b[38;5;28mnext\u001b[39m(g)\n",
      "\u001b[0;31mStopIteration\u001b[0m: "
     ]
    }
   ],
   "source": [
    "def gen_class() -> str:\n",
    "    yield \"Dominykas\"\n",
    "    yield \"Edgaras\"\n",
    "    yield \"Romas\"\n",
    "    yield \"Sigita\"\n",
    "\n",
    "\n",
    "g = gen_class()\n",
    "next(g)\n",
    "next(g)\n",
    "next(g)\n",
    "next(g)\n",
    "next(g)"
   ]
  },
  {
   "cell_type": "code",
   "execution_count": null,
   "metadata": {},
   "outputs": [],
   "source": []
  },
  {
   "cell_type": "code",
   "execution_count": 22,
   "metadata": {},
   "outputs": [
    {
     "data": {
      "text/plain": [
       "['Nakčia motociklais į greitkelio rūką\\n',\n",
       " 'Įjungę ilgas šviesas abudu ištrūkom.\\n',\n",
       " 'Duok Dieve pabusti, neturinčiam saiko\\n',\n",
       " 'Nėra stipresnių vaistų už meilę ir greitį.\\n',\n",
       " 'Juoda orchidėja, kaip aš mylėjau!\\n',\n",
       " 'Kadaise abu kartu pavijome vėją.\\n',\n",
       " 'Juoda orchidėja, kaip man skaudėjo!\\n',\n",
       " 'Nudegino širdį man kadais juoda orchidėja...\\n',\n",
       " 'Kad esam skirtingi, tada nerūpėjo,\\n',\n",
       " 'Buvau pakelės žolė, o tu orchidėja.\\n',\n",
       " 'Žinau prisiminsiu, po tūkstančio metų\\n',\n",
       " 'Tą svaigų ilgų juodų plaukų aromatą.\\n',\n",
       " 'Juoda orchidėja, kaip aš mylėjau!\\n',\n",
       " 'Kadaise abu kartu pavijome vėją.\\n',\n",
       " 'Juoda orchidėja, kaip man skaudėjo!\\n',\n",
       " 'Nudegino širdį man kadais juoda orchidėja...\\n',\n",
       " 'Dulkėtas garažas, kampe motociklas,\\n',\n",
       " 'Drugelio margi sparnai, sudužę ant stiklo...\\n',\n",
       " 'Juoda orchidėja, kaip aš mylėjau!\\n',\n",
       " 'Kadaise abu kartu pavijome vėją.\\n',\n",
       " 'Juoda orchidėja, kaip man skaudėjo!\\n',\n",
       " 'Nudegino širdį man kadais juoda orchidėja...\\n']"
      ]
     },
     "execution_count": 22,
     "metadata": {},
     "output_type": "execute_result"
    }
   ],
   "source": [
    "with open(\"./data.txt\", \"r\") as f:\n",
    "    lines = f.readlines()\n",
    "lines"
   ]
  },
  {
   "cell_type": "code",
   "execution_count": 24,
   "metadata": {},
   "outputs": [
    {
     "data": {
      "text/plain": [
       "['Nakčia motociklais į greitkelio rūką\\n',\n",
       " 'Įjungę ilgas šviesas abudu ištrūkom.\\n',\n",
       " 'Duok Dieve pabusti, neturinčiam saiko\\n',\n",
       " 'Nėra stipresnių vaistų už meilę ir greitį.\\n',\n",
       " 'Juoda orchidėja, kaip aš mylėjau!\\n',\n",
       " 'Kadaise abu kartu pavijome vėją.\\n',\n",
       " 'Juoda orchidėja, kaip man skaudėjo!\\n',\n",
       " 'Nudegino širdį man kadais juoda orchidėja...\\n',\n",
       " 'Kad esam skirtingi, tada nerūpėjo,\\n',\n",
       " 'Buvau pakelės žolė, o tu orchidėja.\\n',\n",
       " 'Žinau prisiminsiu, po tūkstančio metų\\n',\n",
       " 'Tą svaigų ilgų juodų plaukų aromatą.\\n',\n",
       " 'Juoda orchidėja, kaip aš mylėjau!\\n',\n",
       " 'Kadaise abu kartu pavijome vėją.\\n',\n",
       " 'Juoda orchidėja, kaip man skaudėjo!\\n',\n",
       " 'Nudegino širdį man kadais juoda orchidėja...\\n',\n",
       " 'Dulkėtas garažas, kampe motociklas,\\n',\n",
       " 'Drugelio margi sparnai, sudužę ant stiklo...\\n',\n",
       " 'Juoda orchidėja, kaip aš mylėjau!\\n',\n",
       " 'Kadaise abu kartu pavijome vėją.\\n',\n",
       " 'Juoda orchidėja, kaip man skaudėjo!\\n',\n",
       " 'Nudegino širdį man kadais juoda orchidėja...\\n']"
      ]
     },
     "execution_count": 24,
     "metadata": {},
     "output_type": "execute_result"
    }
   ],
   "source": [
    "f = open(\"data.txt\", \"r\")\n",
    "lines = f.readlines()\n",
    "f.close()\n",
    "lines"
   ]
  },
  {
   "cell_type": "code",
   "execution_count": 8,
   "metadata": {},
   "outputs": [
    {
     "data": {
      "text/plain": [
       "[b'Nak\\xc4\\x8dia motociklais \\xc4\\xaf greitkelio r\\xc5\\xabk\\xc4\\x85\\n',\n",
       " b'\\xc4\\xaejung\\xc4\\x99 ilgas \\xc5\\xa1viesas abudu i\\xc5\\xa1tr\\xc5\\xabkom.\\n',\n",
       " b'Duok Dieve pabusti, neturin\\xc4\\x8diam saiko\\n',\n",
       " b'N\\xc4\\x97ra stipresni\\xc5\\xb3 vaist\\xc5\\xb3 u\\xc5\\xbe meil\\xc4\\x99 ir greit\\xc4\\xaf.\\n',\n",
       " b'Juoda orchid\\xc4\\x97ja, kaip a\\xc5\\xa1 myl\\xc4\\x97jau!\\n',\n",
       " b'Kadaise abu kartu pavijome v\\xc4\\x97j\\xc4\\x85.\\n',\n",
       " b'Juoda orchid\\xc4\\x97ja, kaip man skaud\\xc4\\x97jo!\\n',\n",
       " b'Nudegino \\xc5\\xa1ird\\xc4\\xaf man kadais juoda orchid\\xc4\\x97ja...\\n',\n",
       " b'Kad esam skirtingi, tada ner\\xc5\\xabp\\xc4\\x97jo,\\n',\n",
       " b'Buvau pakel\\xc4\\x97s \\xc5\\xbeol\\xc4\\x97, o tu orchid\\xc4\\x97ja.\\n',\n",
       " b'\\xc5\\xbdinau prisiminsiu, po t\\xc5\\xabkstan\\xc4\\x8dio met\\xc5\\xb3\\n',\n",
       " b'T\\xc4\\x85 svaig\\xc5\\xb3 ilg\\xc5\\xb3 juod\\xc5\\xb3 plauk\\xc5\\xb3 aromat\\xc4\\x85.\\n',\n",
       " b'Juoda orchid\\xc4\\x97ja, kaip a\\xc5\\xa1 myl\\xc4\\x97jau!\\n',\n",
       " b'Kadaise abu kartu pavijome v\\xc4\\x97j\\xc4\\x85.\\n',\n",
       " b'Juoda orchid\\xc4\\x97ja, kaip man skaud\\xc4\\x97jo!\\n',\n",
       " b'Nudegino \\xc5\\xa1ird\\xc4\\xaf man kadais juoda orchid\\xc4\\x97ja...\\n',\n",
       " b'Dulk\\xc4\\x97tas gara\\xc5\\xbeas, kampe motociklas,\\n',\n",
       " b'Drugelio margi sparnai, sudu\\xc5\\xbe\\xc4\\x99 ant stiklo...\\n',\n",
       " b'Juoda orchid\\xc4\\x97ja, kaip a\\xc5\\xa1 myl\\xc4\\x97jau!\\n',\n",
       " b'Kadaise abu kartu pavijome v\\xc4\\x97j\\xc4\\x85.\\n',\n",
       " b'Juoda orchid\\xc4\\x97ja, kaip man skaud\\xc4\\x97jo!\\n',\n",
       " b'Nudegino \\xc5\\xa1ird\\xc4\\xaf man kadais juoda orchid\\xc4\\x97ja...']"
      ]
     },
     "execution_count": 8,
     "metadata": {},
     "output_type": "execute_result"
    }
   ],
   "source": [
    "f = open(\"data.txt\", \"rb\")\n",
    "lines = f.readlines()\n",
    "f.close()\n",
    "lines"
   ]
  },
  {
   "cell_type": "code",
   "execution_count": 11,
   "metadata": {},
   "outputs": [
    {
     "name": "stdout",
     "output_type": "stream",
     "text": [
      "[1 2 3 4 5]\n"
     ]
    }
   ],
   "source": [
    "import numpy as np\n",
    "\n",
    "arr = np.array([1, 2, 3, 4, 5])\n",
    "print(arr)\n",
    "with open(\"arr.npy\", \"wb\") as f:\n",
    "    np.save(f, arr)"
   ]
  },
  {
   "cell_type": "code",
   "execution_count": 25,
   "metadata": {},
   "outputs": [
    {
     "data": {
      "text/plain": [
       "array([1, 2, 3, 4, 5])"
      ]
     },
     "execution_count": 25,
     "metadata": {},
     "output_type": "execute_result"
    }
   ],
   "source": [
    "with open(\"arr.npy\", \"rb\") as f:\n",
    "    arr1 = np.load(f)\n",
    "arr1"
   ]
  },
  {
   "cell_type": "code",
   "execution_count": 13,
   "metadata": {},
   "outputs": [],
   "source": [
    "import pickle\n",
    "\n",
    "# take user input to take the amount of data\n",
    "number_of_data = int(input(\"Enter the number of data : \"))\n",
    "data = []\n",
    "\n",
    "# take input of the data\n",
    "for i in range(number_of_data):\n",
    "    raw = input(\"Enter data \" + str(i) + \" : \")\n",
    "    data.append(raw)\n",
    "\n",
    "# open a file, where you ant to store the data\n",
    "file = open(\"important\", \"wb\")\n",
    "\n",
    "# dump information to that file\n",
    "pickle.dump(data, file)\n",
    "\n",
    "# close the file\n",
    "file.close()"
   ]
  },
  {
   "cell_type": "code",
   "execution_count": 14,
   "metadata": {},
   "outputs": [
    {
     "name": "stdout",
     "output_type": "stream",
     "text": [
      "Showing the pickled data:\n",
      "The data  0  is :  1\n"
     ]
    }
   ],
   "source": [
    "import pickle\n",
    "\n",
    "# open a file, where you stored the pickled data\n",
    "file = open(\"important\", \"rb\")\n",
    "\n",
    "# dump information to that file\n",
    "data = pickle.load(file)\n",
    "\n",
    "# close the file\n",
    "file.close()\n",
    "\n",
    "print(\"Showing the pickled data:\")\n",
    "\n",
    "cnt = 0\n",
    "for item in data:\n",
    "    print(\"The data \", cnt, \" is : \", item)\n",
    "    cnt += 1"
   ]
  },
  {
   "cell_type": "code",
   "execution_count": null,
   "metadata": {},
   "outputs": [],
   "source": [
    "1, 2, 3, 4, 5\n",
    "1, 4, 6, 8, 10"
   ]
  },
  {
   "cell_type": "code",
   "execution_count": 30,
   "metadata": {},
   "outputs": [
    {
     "name": "stdout",
     "output_type": "stream",
     "text": [
      "1 3\n"
     ]
    }
   ],
   "source": [
    "inp = \"1 3\"\n",
    "inp.split()\n",
    "\n",
    "a, b = [int(j) for j in inp.split()]\n",
    "print(a, b)"
   ]
  },
  {
   "cell_type": "code",
   "execution_count": 39,
   "metadata": {},
   "outputs": [
    {
     "name": "stdout",
     "output_type": "stream",
     "text": [
      "1 0\n",
      "3 4\n",
      "4 5\n",
      "5 1\n"
     ]
    }
   ],
   "source": [
    "f = open(\"ex.txt\", \"r\")\n",
    "n = int(f.readline())\n",
    "\n",
    "sum = 1\n",
    "for i in range(n):\n",
    "    inp = [int(j) for j in f.readline().split()]\n",
    "    sum += inp[0]\n",
    "    sum -= inp[1]\n",
    "\n",
    "f.close()"
   ]
  }
 ],
 "metadata": {
  "kernelspec": {
   "display_name": "Python 3.9.13 ('.venv': poetry)",
   "language": "python",
   "name": "python3"
  },
  "language_info": {
   "codemirror_mode": {
    "name": "ipython",
    "version": 3
   },
   "file_extension": ".py",
   "mimetype": "text/x-python",
   "name": "python",
   "nbconvert_exporter": "python",
   "pygments_lexer": "ipython3",
   "version": "3.9.13"
  },
  "orig_nbformat": 4,
  "vscode": {
   "interpreter": {
    "hash": "4629e5109eac4fae59b47ffdf44e3b457a9e01ac6e60bbb940dd6bab23079ebc"
   }
  }
 },
 "nbformat": 4,
 "nbformat_minor": 2
}
